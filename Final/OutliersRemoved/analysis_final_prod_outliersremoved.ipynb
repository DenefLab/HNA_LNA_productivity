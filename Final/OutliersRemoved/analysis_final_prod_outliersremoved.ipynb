{
 "cells": [
  {
   "cell_type": "code",
   "execution_count": 1,
   "metadata": {
    "collapsed": false
   },
   "outputs": [
    {
     "name": "stderr",
     "output_type": "stream",
     "text": [
      "/home/prubbens/anaconda3/lib/python3.4/site-packages/matplotlib/__init__.py:878: UserWarning: axes.color_cycle is deprecated and replaced with axes.prop_cycle; please use the latter.\n",
      "  warnings.warn(self.msg_depr % (key, alt_key))\n",
      "/home/prubbens/.local/lib/python3.4/site-packages/sklearn/cross_validation.py:44: DeprecationWarning: This module was deprecated in version 0.18 in favor of the model_selection module into which all the refactored classes and functions are moved. Also note that the interface of the new CV iterators are different from that of this module. This module will be removed in 0.20.\n",
      "  \"This module will be removed in 0.20.\", DeprecationWarning)\n"
     ]
    }
   ],
   "source": [
    "'''Import packages'''\n",
    "'''Requires numpy, pandas, scikit-learn, and matplotlib/seaborn'''\n",
    "import numpy as np\n",
    "import pandas as pd\n",
    "from sklearn.preprocessing import StandardScaler\n",
    "\n",
    "import matplotlib.pyplot as plt\n",
    "import seaborn as sns\n",
    "sns.set_style(\"ticks\")\n",
    "\n",
    "import analysis_functions\n",
    "\n",
    "from IPython.display import display, HTML\n",
    "\n",
    "#If we want to time the implementation: \n",
    "#import time\n",
    "#start_time = time.time()"
   ]
  },
  {
   "cell_type": "code",
   "execution_count": 2,
   "metadata": {
    "collapsed": false,
    "scrolled": true
   },
   "outputs": [],
   "source": [
    "'''Import data'''\n",
    "data_abs = pd.read_csv('data/Chloroplasts_removed/nochloro_absolute_otu.tsv', sep=' ', index_col=None, header=0)\n",
    "data_rel = pd.read_csv('data/Chloroplasts_removed/nochloro_relative_otu.tsv', sep=' ', index_col=None, header=0)\n",
    "target = pd.read_csv('data/Chloroplasts_removed/nochloro_HNA_LNA.tsv', sep=' ', index_col=0, header=0)\n",
    "productivity = pd.read_csv('data/Chloroplasts_removed/productivity_data.tsv', sep=' ', index_col=0, header=0)"
   ]
  },
  {
   "cell_type": "code",
   "execution_count": 3,
   "metadata": {
    "collapsed": false
   },
   "outputs": [],
   "source": [
    "'''Set sample names as index and shuffle data'''\n",
    "data_abs.set_index(target.samples,inplace=True)\n",
    "data_rel.set_index(target.samples,inplace=True)\n",
    "data_abs = data_abs.sample(frac=1, random_state=3)\n",
    "data_rel = data_rel.sample(frac=1, random_state=3)\n",
    "target = target.sample(frac=1, random_state=3)\n",
    "productivity = productivity.sample(frac=1, random_state=3)\n",
    "\n",
    "#Create target columns of HNA-values: \n",
    "hna = target.loc[:,'HNA.cells']\n",
    "hna_rel = hna/target.loc[:,'Total.cells']\n",
    "hna = pd.Series(hna, index=hna.index)\n",
    "hna_rel = pd.Series(hna_rel, index=hna_rel.index)"
   ]
  },
  {
   "cell_type": "markdown",
   "metadata": {},
   "source": [
    "**REMOVE OUTLIERS IN PRODUCTIVITY SAMPLES**: there seem to be three outlier samples amongst the productivity samples. Therefore these are removed and not considered in the rest of the analysis. This leaves us with **20 samples**. "
   ]
  },
  {
   "cell_type": "code",
   "execution_count": 4,
   "metadata": {
    "collapsed": false
   },
   "outputs": [],
   "source": [
    "from sklearn.linear_model import LinearRegression\n",
    "from analysis_functions import get_r2\n",
    "from scipy.stats import linregress\n",
    "\n",
    "#retain only productivity samples \n",
    "productivity = productivity.dropna(subset=['tot_bacprod'])\n",
    "#remove high productivity samples (>90)\n",
    "productivity = productivity[productivity.tot_bacprod < 90]\n",
    "\n",
    "idx_prod = productivity.samples.values\n",
    "#display(idx_prod)\n",
    "prod = pd.Series(productivity.tot_bacprod.values, index=idx_prod)\n",
    "prod_error = pd.Series(productivity.SD_tot_bacprod.values, index=idx_prod)\n",
    "prod_rel_error = prod_error/prod"
   ]
  },
  {
   "cell_type": "markdown",
   "metadata": {},
   "source": [
    "**Preprocessing of data**: filter out those OTUs which have very low abundances and so give rise to (almost) zero-columns. Therefore an OTU has to have a minimal relative abundance one, defined by the parameter $abun$. However, I use a **second constraint** which states that an OTU must have a relative abundance > $abun$ in one of the **productivity** samples. In this way we're going to bias the OTU-selection towards the ones present in the productivity samples. "
   ]
  },
  {
   "cell_type": "code",
   "execution_count": 5,
   "metadata": {
    "collapsed": true
   },
   "outputs": [],
   "source": [
    "abun = 0.0075"
   ]
  },
  {
   "cell_type": "code",
   "execution_count": 6,
   "metadata": {
    "collapsed": false
   },
   "outputs": [
    {
     "name": "stdout",
     "output_type": "stream",
     "text": [
      "Number of OTUs: 95\n"
     ]
    }
   ],
   "source": [
    "from analysis_functions import preprocess_df\n",
    "data_abs_prod = data_abs.loc[idx_prod,:] \n",
    "data_abs_prod = preprocess_df(data_abs_prod,abun,True)\n",
    "otus_prod = list(data_abs_prod.columns)\n",
    "\n",
    "print('Number of OTUs: ' + str(len(otus_prod)))"
   ]
  },
  {
   "cell_type": "markdown",
   "metadata": {},
   "source": [
    "**Standardize data**: "
   ]
  },
  {
   "cell_type": "code",
   "execution_count": 7,
   "metadata": {
    "collapsed": false
   },
   "outputs": [],
   "source": [
    "scaler = StandardScaler()\n",
    "data_abs = pd.DataFrame(scaler.fit_transform(data_abs[otus_prod]),index=data_abs.index,columns=otus_prod)"
   ]
  },
  {
   "cell_type": "markdown",
   "metadata": {},
   "source": [
    "Let's see how well these OTU's relate to the HNA using a 4x5 cross-validated Lasso: "
   ]
  },
  {
   "cell_type": "code",
   "execution_count": 8,
   "metadata": {
    "collapsed": false
   },
   "outputs": [
    {
     "name": "stdout",
     "output_type": "stream",
     "text": [
      "R² based on absolute abundances after productivity filtering: 0.853602776668\n"
     ]
    }
   ],
   "source": [
    "from analysis_functions import perform_nested_lasso_cv\n",
    "from analysis_functions import get_r2\n",
    "alphas_abs, preds_abs = perform_nested_lasso_cv(data_abs[otus_prod], hna)\n",
    "\n",
    "r2_abs = get_r2(hna, preds_abs)\n",
    "\n",
    "print('R² based on absolute abundances after productivity filtering: ' + str(r2_abs))"
   ]
  },
  {
   "cell_type": "markdown",
   "metadata": {},
   "source": [
    "Note that $R^2_{prod}$ is higher than $R^2_{abs}$ for which the initial filtering was done based on the abundance across all samples. "
   ]
  },
  {
   "cell_type": "markdown",
   "metadata": {},
   "source": [
    "**-- CAN WE PREDICT THE PRODUCTIVITY BASED ON ABSOLUTE ABUNDANCES? --**"
   ]
  },
  {
   "cell_type": "markdown",
   "metadata": {},
   "source": [
    "We now wnat to relate the abundance information of the OTU's to the productivity. We can do these in two ways: \n",
    "- Either we tune the HNA-scores coming out of the randomized Lasso directly in function of the productivity. \n",
    "- We start from the selected subset of OTU's, describing the HNA-counts as best as possible, and try to again select a subset out of these in function of the productivity. \n",
    "\n",
    "Both make use of a _nested leave-one-out cross-validation scheme_ (20x19, if the productivity outlier samples are not considered). "
   ]
  },
  {
   "cell_type": "code",
   "execution_count": 9,
   "metadata": {
    "collapsed": true
   },
   "outputs": [],
   "source": [
    "from analysis_functions import perform_nested_lasso_loocv\n",
    "from analysis_functions import perform_randomizedLasso\n",
    "\n",
    "alphas, preds, corr = perform_nested_lasso_loocv(data_abs.loc[idx_prod,otus_prod],prod)\n",
    "prod_scores = perform_randomizedLasso(data_abs.loc[idx_prod,otus_prod],prod,alphas.mean()) \n",
    "prod_scores = pd.Series(prod_scores, index=otus_prod)\n",
    "prod_scores.sort_values(ascending=False, inplace=True)\n",
    "prod_scores.to_csv('Prodscores_outliersremoved_abun' + str(abun) + '.csv')"
   ]
  },
  {
   "cell_type": "code",
   "execution_count": 10,
   "metadata": {
    "collapsed": false
   },
   "outputs": [
    {
     "data": {
      "text/plain": [
       "Otu000082    0.748\n",
       "Otu000117    0.736\n",
       "Otu000075    0.686\n",
       "Otu000091    0.616\n",
       "Otu000176    0.564\n",
       "Otu000343    0.518\n",
       "Otu000094    0.436\n",
       "Otu000026    0.376\n",
       "Otu000025    0.374\n",
       "Otu000246    0.336\n",
       "dtype: float64"
      ]
     },
     "metadata": {},
     "output_type": "display_data"
    }
   ],
   "source": [
    "display(prod_scores.head(10))"
   ]
  },
  {
   "cell_type": "code",
   "execution_count": 11,
   "metadata": {
    "collapsed": false
   },
   "outputs": [],
   "source": [
    "thresholds = np.arange(0,1,0.02)\n",
    "r2_scores = np.zeros(len(thresholds))\n",
    "dummy=0\n",
    "\n",
    "#Make copy of otu_scores to be able to rerun analysis: \n",
    "scores = prod_scores\n",
    "for thr in thresholds: \n",
    "    scores = prod_scores[prod_scores.values > thr]\n",
    "#scores_nested_mean = scores_nested_mean[scores_nested_mean > 0.16]\n",
    "    features_new = scores.index\n",
    "    if(len(features_new) > 0): \n",
    "        #alphas, preds = perform_nested_ridge_cv(data_abs[features_new],hna)\n",
    "        alphas, preds, corr = perform_nested_lasso_loocv(data_abs.loc[idx_prod,features_new],prod)\n",
    "        #Check the R2 of the linear regression between the HNA-predictions and productivity \n",
    "        r2_scores[dummy] = get_r2(prod, preds)\n",
    "    dummy+=1"
   ]
  },
  {
   "cell_type": "code",
   "execution_count": 12,
   "metadata": {
    "collapsed": false
   },
   "outputs": [
    {
     "name": "stderr",
     "output_type": "stream",
     "text": [
      "/home/prubbens/anaconda3/lib/python3.4/site-packages/matplotlib/__init__.py:898: UserWarning: axes.color_cycle is deprecated and replaced with axes.prop_cycle; please use the latter.\n",
      "  warnings.warn(self.msg_depr % (key, alt_key))\n"
     ]
    },
    {
     "data": {
      "image/png": "[encoded data removed]",
      "text/plain": [
       "<matplotlib.figure.Figure at 0x7fdea6ad03c8>"
      ]
     },
     "metadata": {},
     "output_type": "display_data"
    }
   ],
   "source": [
    "plt.figure()\n",
    "sns.pointplot(thresholds,r2_scores, scatter_kws={\"s\": 0.7})\n",
    "plt.xlabel('Threshold', size=22)\n",
    "plt.xticks(size=6)\n",
    "plt.ylabel(r'$R^2$', size=22)\n",
    "plt.yticks(size=10)\n",
    "plt.show()"
   ]
  },
  {
   "cell_type": "markdown",
   "metadata": {
    "collapsed": true
   },
   "source": [
    "Again, let's select the optimal threshold for the scores: "
   ]
  },
  {
   "cell_type": "code",
   "execution_count": 13,
   "metadata": {
    "collapsed": false
   },
   "outputs": [
    {
     "name": "stdout",
     "output_type": "stream",
     "text": [
      "Number of selected OTUs: 19\n",
      "R2 max = 0.775600947482\n",
      "Optimal threshold = 0.24\n"
     ]
    }
   ],
   "source": [
    "r2_max = r2_scores.max()\n",
    "r2_max_idx = r2_scores.argmax()\n",
    "thresh_max = thresholds[r2_max_idx]\n",
    "optimal_scores = prod_scores[prod_scores.values>thresh_max]\n",
    "selected_otus = optimal_scores.index\n",
    "\n",
    "optimal_scores.to_csv('Prodscores_outliersremoved_abun' + str(abun) + '_Thr' + str(thresh_max) + '.csv')\n",
    "\n",
    "print('Number of selected OTUs: ' + str(len(selected_otus)))\n",
    "print('R2 max = ' + str(r2_max))\n",
    "print('Optimal threshold = ' + str(thresh_max))"
   ]
  },
  {
   "cell_type": "markdown",
   "metadata": {},
   "source": [
    "This gives us **19 OTU's** which result in an $R^2_{prod,final} = 0.776$ using a 20x19 cross-validated Lasso (i.e., a double leave-one-out cross-validation scheme). "
   ]
  },
  {
   "cell_type": "markdown",
   "metadata": {},
   "source": [
    "Main question of course is, which of these OTU's are also present in the OTU's selected based on the HNA-counts? Let's import the results from the previous analysis: "
   ]
  },
  {
   "cell_type": "code",
   "execution_count": 14,
   "metadata": {
    "collapsed": false,
    "scrolled": true
   },
   "outputs": [],
   "source": [
    "scores_HNA = pd.read_csv('HNAscores_abun0.0075.csv', index_col=0, header=None)\n",
    "scores_HNA_thr = pd.read_csv('HNAscores_abun0.0075_Thr0.24.csv', index_col=0, header=None)\n",
    "\n",
    "scores_HNA_prodfilt = pd.read_csv('HNAscores_prod_outliersremoved_abun0.0075.csv', index_col=0, header=None)\n",
    "scores_HNA_thr_prodfilt = pd.read_csv('HNAscores_prod_outliersremoved_abun0.0075_Thr0.63.csv', index_col=0, header=None)"
   ]
  },
  {
   "cell_type": "code",
   "execution_count": 15,
   "metadata": {
    "collapsed": false
   },
   "outputs": [
    {
     "data": {
      "text/html": [
       "<div>\n",
       "<table border=\"1\" class=\"dataframe\">\n",
       "  <thead>\n",
       "    <tr style=\"text-align: right;\">\n",
       "      <th></th>\n",
       "      <th>Score_prod</th>\n",
       "      <th>Score_HNA</th>\n",
       "      <th>Score_HNA_prodfilt</th>\n",
       "    </tr>\n",
       "  </thead>\n",
       "  <tbody>\n",
       "    <tr>\n",
       "      <th>Otu000082</th>\n",
       "      <td>0.748</td>\n",
       "      <td>0.216</td>\n",
       "      <td>0.622</td>\n",
       "    </tr>\n",
       "    <tr>\n",
       "      <th>Otu000117</th>\n",
       "      <td>0.736</td>\n",
       "      <td>0.238</td>\n",
       "      <td>0.262</td>\n",
       "    </tr>\n",
       "    <tr>\n",
       "      <th>Otu000075</th>\n",
       "      <td>0.686</td>\n",
       "      <td>0.098</td>\n",
       "      <td>0.160</td>\n",
       "    </tr>\n",
       "    <tr>\n",
       "      <th>Otu000091</th>\n",
       "      <td>0.616</td>\n",
       "      <td>0.184</td>\n",
       "      <td>0.098</td>\n",
       "    </tr>\n",
       "    <tr>\n",
       "      <th>Otu000176</th>\n",
       "      <td>0.564</td>\n",
       "      <td>0.844</td>\n",
       "      <td>0.978</td>\n",
       "    </tr>\n",
       "    <tr>\n",
       "      <th>Otu000343</th>\n",
       "      <td>0.518</td>\n",
       "      <td>0.066</td>\n",
       "      <td>0.030</td>\n",
       "    </tr>\n",
       "    <tr>\n",
       "      <th>Otu000094</th>\n",
       "      <td>0.436</td>\n",
       "      <td>0.032</td>\n",
       "      <td>0.348</td>\n",
       "    </tr>\n",
       "    <tr>\n",
       "      <th>Otu000026</th>\n",
       "      <td>0.376</td>\n",
       "      <td>0.058</td>\n",
       "      <td>0.112</td>\n",
       "    </tr>\n",
       "    <tr>\n",
       "      <th>Otu000025</th>\n",
       "      <td>0.374</td>\n",
       "      <td>0.762</td>\n",
       "      <td>0.852</td>\n",
       "    </tr>\n",
       "    <tr>\n",
       "      <th>Otu000246</th>\n",
       "      <td>0.336</td>\n",
       "      <td>0.032</td>\n",
       "      <td>0.050</td>\n",
       "    </tr>\n",
       "    <tr>\n",
       "      <th>Otu000222</th>\n",
       "      <td>0.320</td>\n",
       "      <td>0.422</td>\n",
       "      <td>0.304</td>\n",
       "    </tr>\n",
       "    <tr>\n",
       "      <th>Otu000024</th>\n",
       "      <td>0.278</td>\n",
       "      <td>0.120</td>\n",
       "      <td>0.172</td>\n",
       "    </tr>\n",
       "    <tr>\n",
       "      <th>Otu000007</th>\n",
       "      <td>0.268</td>\n",
       "      <td>0.196</td>\n",
       "      <td>0.216</td>\n",
       "    </tr>\n",
       "    <tr>\n",
       "      <th>Otu000335</th>\n",
       "      <td>0.268</td>\n",
       "      <td>0.628</td>\n",
       "      <td>0.598</td>\n",
       "    </tr>\n",
       "    <tr>\n",
       "      <th>Otu000034</th>\n",
       "      <td>0.266</td>\n",
       "      <td>0.036</td>\n",
       "      <td>0.628</td>\n",
       "    </tr>\n",
       "    <tr>\n",
       "      <th>Otu000041</th>\n",
       "      <td>0.262</td>\n",
       "      <td>0.292</td>\n",
       "      <td>0.820</td>\n",
       "    </tr>\n",
       "    <tr>\n",
       "      <th>Otu000147</th>\n",
       "      <td>0.258</td>\n",
       "      <td>0.224</td>\n",
       "      <td>0.144</td>\n",
       "    </tr>\n",
       "    <tr>\n",
       "      <th>Otu000096</th>\n",
       "      <td>0.254</td>\n",
       "      <td>0.054</td>\n",
       "      <td>0.440</td>\n",
       "    </tr>\n",
       "    <tr>\n",
       "      <th>Otu000212</th>\n",
       "      <td>0.248</td>\n",
       "      <td>0.168</td>\n",
       "      <td>0.118</td>\n",
       "    </tr>\n",
       "  </tbody>\n",
       "</table>\n",
       "</div>"
      ],
      "text/plain": [
       "           Score_prod  Score_HNA  Score_HNA_prodfilt\n",
       "Otu000082       0.748      0.216               0.622\n",
       "Otu000117       0.736      0.238               0.262\n",
       "Otu000075       0.686      0.098               0.160\n",
       "Otu000091       0.616      0.184               0.098\n",
       "Otu000176       0.564      0.844               0.978\n",
       "Otu000343       0.518      0.066               0.030\n",
       "Otu000094       0.436      0.032               0.348\n",
       "Otu000026       0.376      0.058               0.112\n",
       "Otu000025       0.374      0.762               0.852\n",
       "Otu000246       0.336      0.032               0.050\n",
       "Otu000222       0.320      0.422               0.304\n",
       "Otu000024       0.278      0.120               0.172\n",
       "Otu000007       0.268      0.196               0.216\n",
       "Otu000335       0.268      0.628               0.598\n",
       "Otu000034       0.266      0.036               0.628\n",
       "Otu000041       0.262      0.292               0.820\n",
       "Otu000147       0.258      0.224               0.144\n",
       "Otu000096       0.254      0.054               0.440\n",
       "Otu000212       0.248      0.168               0.118"
      ]
     },
     "metadata": {},
     "output_type": "display_data"
    }
   ],
   "source": [
    "final = pd.DataFrame(optimal_scores, index=selected_otus, columns=['Score_prod'])\n",
    "final['Score_HNA'] = scores_HNA.loc[selected_otus,:]\n",
    "final['Score_HNA_prodfilt'] = scores_HNA_prodfilt.loc[selected_otus,:]\n",
    "display(final)"
   ]
  },
  {
   "cell_type": "code",
   "execution_count": 16,
   "metadata": {
    "collapsed": false
   },
   "outputs": [
    {
     "data": {
      "text/html": [
       "<div>\n",
       "<table border=\"1\" class=\"dataframe\">\n",
       "  <thead>\n",
       "    <tr style=\"text-align: right;\">\n",
       "      <th></th>\n",
       "      <th>Score_prod</th>\n",
       "      <th>Score_HNA</th>\n",
       "      <th>Score_HNA_prodfilt</th>\n",
       "    </tr>\n",
       "  </thead>\n",
       "  <tbody>\n",
       "    <tr>\n",
       "      <th>Otu000176</th>\n",
       "      <td>0.564</td>\n",
       "      <td>0.844</td>\n",
       "      <td>0.978</td>\n",
       "    </tr>\n",
       "    <tr>\n",
       "      <th>Otu000025</th>\n",
       "      <td>0.374</td>\n",
       "      <td>0.762</td>\n",
       "      <td>0.852</td>\n",
       "    </tr>\n",
       "    <tr>\n",
       "      <th>Otu000041</th>\n",
       "      <td>0.262</td>\n",
       "      <td>0.292</td>\n",
       "      <td>0.820</td>\n",
       "    </tr>\n",
       "  </tbody>\n",
       "</table>\n",
       "</div>"
      ],
      "text/plain": [
       "           Score_prod  Score_HNA  Score_HNA_prodfilt\n",
       "Otu000176       0.564      0.844               0.978\n",
       "Otu000025       0.374      0.762               0.852\n",
       "Otu000041       0.262      0.292               0.820"
      ]
     },
     "metadata": {},
     "output_type": "display_data"
    }
   ],
   "source": [
    "''' Display final OTU's complying to fitted thresholds: '''\n",
    "final_thr = final[(final['Score_HNA_prodfilt'] > 0.63)]\n",
    "display(final_thr)"
   ]
  },
  {
   "cell_type": "markdown",
   "metadata": {},
   "source": [
    "Note: Threshold for Score_HNA_prodfilt is sufficient to also filter out Score_HNA. "
   ]
  }
 ],
 "metadata": {
  "anaconda-cloud": {},
  "kernelspec": {
   "display_name": "Python [conda root]",
   "language": "python",
   "name": "conda-root-py"
  },
  "language_info": {
   "codemirror_mode": {
    "name": "ipython",
    "version": 3
   },
   "file_extension": ".py",
   "mimetype": "text/x-python",
   "name": "python",
   "nbconvert_exporter": "python",
   "pygments_lexer": "ipython3",
   "version": "3.4.5"
  }
 },
 "nbformat": 4,
 "nbformat_minor": 1
}
