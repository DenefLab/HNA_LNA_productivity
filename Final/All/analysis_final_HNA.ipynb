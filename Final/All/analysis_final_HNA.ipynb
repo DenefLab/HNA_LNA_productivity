{
 "cells": [
  {
   "cell_type": "code",
   "execution_count": 1,
   "metadata": {
    "collapsed": false
   },
   "outputs": [
    {
     "name": "stderr",
     "output_type": "stream",
     "text": [
      "/home/prubbens/anaconda3/lib/python3.4/site-packages/matplotlib/__init__.py:878: UserWarning: axes.color_cycle is deprecated and replaced with axes.prop_cycle; please use the latter.\n",
      "  warnings.warn(self.msg_depr % (key, alt_key))\n",
      "/home/prubbens/.local/lib/python3.4/site-packages/sklearn/cross_validation.py:44: DeprecationWarning: This module was deprecated in version 0.18 in favor of the model_selection module into which all the refactored classes and functions are moved. Also note that the interface of the new CV iterators are different from that of this module. This module will be removed in 0.20.\n",
      "  \"This module will be removed in 0.20.\", DeprecationWarning)\n"
     ]
    }
   ],
   "source": [
    "'''Import packages'''\n",
    "'''Requires numpy, pandas, scikit-learn, and matplotlib/seaborn'''\n",
    "import numpy as np\n",
    "import pandas as pd\n",
    "from sklearn.preprocessing import StandardScaler\n",
    "from scipy.stats import linregress\n",
    "\n",
    "import matplotlib.pyplot as plt\n",
    "import seaborn as sns\n",
    "sns.set_style(\"ticks\")\n",
    "\n",
    "'''Import script which contains functions'''\n",
    "import analysis_functions\n",
    "from analysis_functions import get_r2\n",
    "\n",
    "from IPython.display import display, HTML\n",
    "\n",
    "#If we want to time the implementation: \n",
    "#import time\n",
    "#start_time = time.time()"
   ]
  },
  {
   "cell_type": "markdown",
   "metadata": {},
   "source": [
    "Import the dataframes: "
   ]
  },
  {
   "cell_type": "code",
   "execution_count": 2,
   "metadata": {
    "collapsed": false,
    "scrolled": true
   },
   "outputs": [],
   "source": [
    "'''Import data'''\n",
    "data_abs = pd.read_csv('data/Chloroplasts_removed/nochloro_absolute_otu.tsv', sep=' ', index_col=None, header=0)\n",
    "data_rel = pd.read_csv('data/Chloroplasts_removed/nochloro_relative_otu.tsv', sep=' ', index_col=None, header=0)\n",
    "target = pd.read_csv('data/Chloroplasts_removed/nochloro_HNA_LNA.tsv', sep=' ', index_col=0, header=0)\n",
    "productivity = pd.read_csv('data/Chloroplasts_removed/productivity_data.tsv', sep=' ', index_col=0, header=0)"
   ]
  },
  {
   "cell_type": "code",
   "execution_count": 3,
   "metadata": {
    "collapsed": false
   },
   "outputs": [],
   "source": [
    "'''Set sample names as index and shuffle data'''\n",
    "data_abs.set_index(target.samples,inplace=True)\n",
    "data_rel.set_index(target.samples,inplace=True)\n",
    "data_abs = data_abs.sample(frac=1, random_state=3)\n",
    "data_rel = data_rel.sample(frac=1, random_state=3)\n",
    "target = target.sample(frac=1, random_state=3)\n",
    "productivity = productivity.sample(frac=1, random_state=3)\n",
    "\n",
    "#Create target columns of HNA-values: \n",
    "hna = target.loc[:,'HNA.cells']\n",
    "hna_rel = hna/target.loc[:,'Total.cells']\n",
    "hna = pd.Series(hna, index=hna.index)\n",
    "hna_rel = pd.Series(hna_rel, index=hna_rel.index)"
   ]
  },
  {
   "cell_type": "markdown",
   "metadata": {},
   "source": [
    "**-- PREPROCESSING OF DATA --**"
   ]
  },
  {
   "cell_type": "markdown",
   "metadata": {},
   "source": [
    "**1)**: filter out those OTUs which have very low abundances and so give rise to (almost) zero-columns. Therefore an OTU has to have a minimal relative abundance one, defined by the parameter $abun$. "
   ]
  },
  {
   "cell_type": "markdown",
   "metadata": {},
   "source": [
    "However, depending on the problem set-up, I use a **second constraint** which states that an OTU must have a relative abundance > $abun$ in one of the **productivity** samples. In this way we're going to bias the OTU-selection towards the ones which are considerably present in the productivity samples. "
   ]
  },
  {
   "cell_type": "code",
   "execution_count": 4,
   "metadata": {
    "collapsed": false
   },
   "outputs": [
    {
     "data": {
      "text/plain": [
       "'Filtering based on productivity samples, not needed for first part of analysis'"
      ]
     },
     "execution_count": 4,
     "metadata": {},
     "output_type": "execute_result"
    }
   ],
   "source": [
    "'''Filtering based on productivity samples, not needed for first part of analysis'''\n",
    "#retain only productivity samples \n",
    "#productivity = productivity.dropna(subset=['tot_bacprod'])\n",
    "#remove high productivity samples (>90)\n",
    "#productivity = productivity[productivity.tot_bacprod < 90]\n",
    "\n",
    "#idx_prod = productivity.samples.values\n",
    "#display(idx_prod)\n",
    "#prod = pd.Series(productivity.tot_bacprod.values, index=idx_prod)\n",
    "#prod_error = pd.Series(productivity.SD_tot_bacprod.values, index=idx_prod)\n",
    "#prod_rel_error = prod_error/prod"
   ]
  },
  {
   "cell_type": "code",
   "execution_count": 5,
   "metadata": {
    "collapsed": true
   },
   "outputs": [],
   "source": [
    "'''Parameter abun for initial filtering of OTUs'''\n",
    "abun = 0.0075"
   ]
  },
  {
   "cell_type": "code",
   "execution_count": 6,
   "metadata": {
    "collapsed": false,
    "scrolled": true
   },
   "outputs": [
    {
     "name": "stdout",
     "output_type": "stream",
     "text": [
      "Number of OTUs: 340\n"
     ]
    }
   ],
   "source": [
    "from analysis_functions import preprocess_df\n",
    "data_abs = preprocess_df(data_abs,abun,True)\n",
    "otus = list(data_abs.columns)\n",
    "\n",
    "print('Number of OTUs: ' + str(len(otus)))"
   ]
  },
  {
   "cell_type": "markdown",
   "metadata": {},
   "source": [
    "(Note that this number is the same whether we use absolute or relative abundances, as the filtering is based on a minimal _relative_ abundance.)"
   ]
  },
  {
   "cell_type": "markdown",
   "metadata": {},
   "source": [
    "**Standardize data**: (needed for performing regression analyses)"
   ]
  },
  {
   "cell_type": "code",
   "execution_count": 7,
   "metadata": {
    "collapsed": false
   },
   "outputs": [],
   "source": [
    "scaler = StandardScaler() #Results in mean 0 and standard deviation of 1\n",
    "\n",
    "data_abs = pd.DataFrame(scaler.fit_transform(data_abs[otus]),index=data_abs.index,columns=otus)\n",
    "data_rel = pd.DataFrame(scaler.fit_transform(data_rel[otus]),index=data_rel.index,columns=otus)"
   ]
  },
  {
   "cell_type": "markdown",
   "metadata": {},
   "source": [
    "Let's see how well these initially selected OTU's perform in a **4x5 cross-validated Lasso**: "
   ]
  },
  {
   "cell_type": "code",
   "execution_count": 8,
   "metadata": {
    "collapsed": false
   },
   "outputs": [
    {
     "name": "stdout",
     "output_type": "stream",
     "text": [
      "R² based on absolute abundances: 0.768364867229\n",
      "R² based on relative abundances: 0.65603720658\n"
     ]
    }
   ],
   "source": [
    "from analysis_functions import perform_nested_lasso_cv\n",
    "\n",
    "alphas_abs, preds_abs = perform_nested_lasso_cv(data_abs[otus], hna)\n",
    "alphas_rel, preds_rel = perform_nested_lasso_cv(data_rel[otus], hna)\n",
    "\n",
    "r2_abs = get_r2(hna, preds_abs)\n",
    "r2_rel = get_r2(hna, preds_rel)\n",
    "\n",
    "print('R² based on absolute abundances: ' + str(r2_abs))\n",
    "print('R² based on relative abundances: ' + str(r2_rel))"
   ]
  },
  {
   "cell_type": "markdown",
   "metadata": {},
   "source": [
    "The $R^2$ is already quite good. Let's check the $R^2$ if we would use the total cell counts to predict the HNA-counts: "
   ]
  },
  {
   "cell_type": "code",
   "execution_count": 9,
   "metadata": {
    "collapsed": false
   },
   "outputs": [
    {
     "name": "stdout",
     "output_type": "stream",
     "text": [
      "R² based on total cell counts: 0.712452030394\n"
     ]
    }
   ],
   "source": [
    "alphas_totcells, preds_totcells = perform_nested_lasso_cv(pd.DataFrame(target['Total.cells']), hna)\n",
    "r2_totcells = get_r2(hna, preds_totcells)\n",
    "\n",
    "print('R² based on total cell counts: ' + str(r2_totcells))"
   ]
  },
  {
   "cell_type": "markdown",
   "metadata": {},
   "source": [
    "From this we already see that there already is added value in using absolute cell counts to predict the HNA-counts:\n",
    "- $R^2_{HNA(abs)} = 0.768$\n",
    "- $R^2_{HNA(Total.cells)} = 0.712$"
   ]
  },
  {
   "cell_type": "markdown",
   "metadata": {},
   "source": [
    "**First goal: ** try to pinpoint those OTU's for which we are sure they are present in the '_HNA-cloud_'. "
   ]
  },
  {
   "cell_type": "markdown",
   "metadata": {},
   "source": [
    "To do so, we use the **_Randomized Lasso_**: this method makes use of two kinds of randomization in order to select variables (i.e., OTU's) with a certain _stability_: (1) it fits a Lasso to various bootstrap subsamples and (2) it perturbs the initial weighting of certain variables. \n",
    "\n",
    "This results in a $score \\in [0,1]$ that is assigned to variables, with 0 denoting the case where a variable is never chosen by the Lasso, and 1 denoting the case where a variable always is chosen. In other words, the higher the score, the more important a variable can be considered to be. "
   ]
  },
  {
   "cell_type": "code",
   "execution_count": 10,
   "metadata": {
    "collapsed": false
   },
   "outputs": [
    {
     "data": {
      "text/plain": [
       "Otu000005    0.878\n",
       "Otu000128    0.858\n",
       "Otu000067    0.854\n",
       "Otu000176    0.844\n",
       "Otu000173    0.806\n",
       "Otu000098    0.786\n",
       "Otu000224    0.768\n",
       "Otu000025    0.762\n",
       "Otu000009    0.730\n",
       "Otu000123    0.720\n",
       "dtype: float64"
      ]
     },
     "metadata": {},
     "output_type": "display_data"
    }
   ],
   "source": [
    "from analysis_functions import perform_randomizedLasso\n",
    "\n",
    "otus_scores = pd.Series(perform_randomizedLasso(data_abs[otus], hna, alphas_abs.mean()), index=otus)\n",
    "otus_scores.sort_values(ascending=False,inplace=True)\n",
    "otus_scores.to_csv('HNAscores_abun0.0075.csv')\n",
    "\n",
    "#Display top 10 OTUs:\n",
    "display(otus_scores.head(10))"
   ]
  },
  {
   "cell_type": "markdown",
   "metadata": {},
   "source": [
    "We can use this score in order to fit a threshold $Thr$ in order to reduce the set of OTU's in function of the HNA counts: "
   ]
  },
  {
   "cell_type": "code",
   "execution_count": 11,
   "metadata": {
    "collapsed": false
   },
   "outputs": [],
   "source": [
    "from analysis_functions import perform_nested_ridge_cv\n",
    "\n",
    "thresholds = np.arange(0,1,0.01)\n",
    "r2_scores = np.zeros(len(thresholds))\n",
    "dummy=0\n",
    "\n",
    "#Make copy of otu_scores to be able to rerun analysis: \n",
    "scores = otus_scores\n",
    "for thr in thresholds: \n",
    "    scores = otus_scores[otus_scores.values > thr]\n",
    "    features_new = scores.index\n",
    "    if(len(features_new) > 0): \n",
    "        #alphas, preds = perform_nested_ridge_cv(data_abs[features_new],hna) #We could use this if we want a different evaluation model\n",
    "        alphas, preds = perform_nested_lasso_cv(data_abs[features_new],hna)\n",
    "        r2_scores[dummy] = get_r2(hna,preds)\n",
    "    dummy+=1"
   ]
  },
  {
   "cell_type": "code",
   "execution_count": 12,
   "metadata": {
    "collapsed": false,
    "scrolled": true
   },
   "outputs": [
    {
     "name": "stderr",
     "output_type": "stream",
     "text": [
      "/home/prubbens/anaconda3/lib/python3.4/site-packages/matplotlib/__init__.py:898: UserWarning: axes.color_cycle is deprecated and replaced with axes.prop_cycle; please use the latter.\n",
      "  warnings.warn(self.msg_depr % (key, alt_key))\n"
     ]
    },
    {
     "data": {
      "image/png": "[encoded data removed]",
      "text/plain": [
       "<matplotlib.figure.Figure at 0x7f2d38062208>"
      ]
     },
     "metadata": {},
     "output_type": "display_data"
    }
   ],
   "source": [
    "plt.figure()\n",
    "plt.axis([0,1,0,1])\n",
    "sns.pointplot(thresholds,r2_scores, scatter_kws={\"s\": 0.7})\n",
    "plt.xlabel('Threshold', size=22)\n",
    "plt.xticks(size=6)\n",
    "plt.ylabel(r'$R^2$', size=22)\n",
    "plt.yticks(size=10)\n",
    "plt.show()"
   ]
  },
  {
   "cell_type": "markdown",
   "metadata": {},
   "source": [
    "Choose the value for which the $R^2$ is maximal: "
   ]
  },
  {
   "cell_type": "code",
   "execution_count": 13,
   "metadata": {
    "collapsed": false
   },
   "outputs": [
    {
     "name": "stdout",
     "output_type": "stream",
     "text": [
      "Number of selected OTUs: 100\n",
      "R2 max = 0.959174348345\n",
      "Optimal threshold = 0.24\n"
     ]
    }
   ],
   "source": [
    "r2_max = r2_scores.max()\n",
    "r2_max_idx = r2_scores.argmax()\n",
    "thresh_max = thresholds[r2_max_idx]\n",
    "optimal_scores = otus_scores[otus_scores.values>thresh_max]\n",
    "selected_otus = optimal_scores.index\n",
    "\n",
    "print('Number of selected OTUs: ' + str(len(selected_otus)))\n",
    "print('R2 max = ' + str(r2_max))\n",
    "print('Optimal threshold = ' + str(thresh_max))\n",
    "\n",
    "optimal_scores.to_csv('HNAscores_abun0.0075_Thr0.24.csv')"
   ]
  },
  {
   "cell_type": "markdown",
   "metadata": {},
   "source": [
    "This leaves us with ~~340~~ **100 OTU's** resulting in an $R^2_{HNA(final)} = 0.959$. Depending on the desired amount of OTU's, $Thr$ can be varied accordingly. "
   ]
  },
  {
   "cell_type": "markdown",
   "metadata": {},
   "source": [
    "**-- WHAT IF WE ONLY CONSIDER THOSE OTU's WHICH ARE SIGNIFICANTLY PRESENT IN THE PRODUCTIVITY SAMPLES? --**"
   ]
  },
  {
   "cell_type": "code",
   "execution_count": 14,
   "metadata": {
    "collapsed": true
   },
   "outputs": [],
   "source": [
    "'''Import data'''\n",
    "data_abs = pd.read_csv('data/Chloroplasts_removed/nochloro_absolute_otu.tsv', sep=' ', index_col=None, header=0)\n",
    "data_rel = pd.read_csv('data/Chloroplasts_removed/nochloro_relative_otu.tsv', sep=' ', index_col=None, header=0)\n",
    "target = pd.read_csv('data/Chloroplasts_removed/nochloro_HNA_LNA.tsv', sep=' ', index_col=0, header=0)\n",
    "productivity = pd.read_csv('data/Chloroplasts_removed/productivity_data.tsv', sep=' ', index_col=0, header=0)"
   ]
  },
  {
   "cell_type": "code",
   "execution_count": 15,
   "metadata": {
    "collapsed": true
   },
   "outputs": [],
   "source": [
    "'''Set sample names as index and shuffle data'''\n",
    "data_abs.set_index(target.samples,inplace=True)\n",
    "data_rel.set_index(target.samples,inplace=True)\n",
    "data_abs = data_abs.sample(frac=1, random_state=3)\n",
    "data_rel = data_rel.sample(frac=1, random_state=3)\n",
    "target = target.sample(frac=1, random_state=3)\n",
    "productivity = productivity.sample(frac=1, random_state=3)\n",
    "\n",
    "#Create target columns of HNA-values: \n",
    "hna = target.loc[:,'HNA.cells']\n",
    "hna_rel = hna/target.loc[:,'Total.cells']\n",
    "hna = pd.Series(hna, index=hna.index)\n",
    "hna_rel = pd.Series(hna_rel, index=hna_rel.index)"
   ]
  },
  {
   "cell_type": "markdown",
   "metadata": {},
   "source": [
    "~~**Preprocessing: ** First filter productivity outliers (productivity > 90).~~"
   ]
  },
  {
   "cell_type": "code",
   "execution_count": 16,
   "metadata": {
    "collapsed": false
   },
   "outputs": [
    {
     "data": {
      "text/plain": [
       "array(['MINE1-715', 'MDPE1-714', 'MBRE1-914', 'MOTE2-915', 'MBRE1-715',\n",
       "       'MDPE1-914', 'MBRE1-714', 'MUSOUTE1-epi-outlet-514', 'MOTE1-714',\n",
       "       'MOTE1-715', 'MOTE1-914', 'MBRE2-915', 'MINE1-714', 'MINE1-914',\n",
       "       'MDPE2-515', 'MBRE2-515', 'MDPE1-715', 'MUSINLE1-epi-inlet-514',\n",
       "       'MOTE2-515', 'MDPE2-915', 'MUSDEPE1-epi-deep-514', 'MINE2-515',\n",
       "       'MINE2-915'], dtype=object)"
      ]
     },
     "metadata": {},
     "output_type": "display_data"
    }
   ],
   "source": [
    "#retain only productivity samples \n",
    "productivity = productivity.dropna(subset=['tot_bacprod'])\n",
    "#remove high productivity samples (>90)\n",
    "#productivity = productivity[productivity.tot_bacprod < 90]\n",
    "\n",
    "idx_prod = productivity.samples.values\n",
    "display(idx_prod)\n",
    "prod = pd.Series(productivity.tot_bacprod.values, index=idx_prod)\n",
    "#prod_error = pd.Series(productivity.SD_tot_bacprod.values, index=idx_prod)\n",
    "#prod_rel_error = prod_error/prod"
   ]
  },
  {
   "cell_type": "code",
   "execution_count": 17,
   "metadata": {
    "collapsed": true
   },
   "outputs": [],
   "source": [
    "abun = 0.0075 #Reduce the initial filtering a little bit"
   ]
  },
  {
   "cell_type": "code",
   "execution_count": 18,
   "metadata": {
    "collapsed": false
   },
   "outputs": [
    {
     "name": "stdout",
     "output_type": "stream",
     "text": [
      "Number of OTUs: 97\n"
     ]
    }
   ],
   "source": [
    "from analysis_functions import preprocess_df\n",
    "data_abs_prod = data_abs.loc[idx_prod,:] \n",
    "data_abs_prod = preprocess_df(data_abs_prod,abun,True)\n",
    "otus_prod = list(data_abs_prod.columns)\n",
    "\n",
    "print('Number of OTUs: ' + str(len(otus_prod)))"
   ]
  },
  {
   "cell_type": "code",
   "execution_count": 19,
   "metadata": {
    "collapsed": false
   },
   "outputs": [],
   "source": [
    "''' Standardize data '''\n",
    "data_abs_prod = pd.DataFrame(scaler.fit_transform(data_abs[otus_prod]),index=data_abs.index,columns=otus_prod)"
   ]
  },
  {
   "cell_type": "code",
   "execution_count": 20,
   "metadata": {
    "collapsed": false
   },
   "outputs": [
    {
     "name": "stdout",
     "output_type": "stream",
     "text": [
      "R² with productivity filtering:0.841626586502\n"
     ]
    }
   ],
   "source": [
    "alphas_abs_prod, preds_abs_prod = perform_nested_lasso_cv(data_abs_prod[otus_prod], hna)\n",
    "r2_abs_prod = get_r2(preds_abs_prod,hna)\n",
    "print('R² with productivity filtering:' + str(r2_abs_prod))"
   ]
  },
  {
   "cell_type": "code",
   "execution_count": 21,
   "metadata": {
    "collapsed": false
   },
   "outputs": [
    {
     "data": {
      "text/plain": [
       "Otu000123    0.998\n",
       "Otu000027    0.996\n",
       "Otu000043    0.986\n",
       "Otu000057    0.976\n",
       "Otu000176    0.970\n",
       "Otu000005    0.966\n",
       "Otu000048    0.962\n",
       "Otu000040    0.956\n",
       "Otu000058    0.952\n",
       "Otu000067    0.940\n",
       "dtype: float64"
      ]
     },
     "metadata": {},
     "output_type": "display_data"
    }
   ],
   "source": [
    "otus_scores_prod = pd.Series(perform_randomizedLasso(data_abs_prod[otus_prod], hna, alphas_abs_prod.mean()), index=otus_prod)\n",
    "otus_scores_prod.sort_values(ascending=False,inplace=True)\n",
    "otus_scores_prod.to_csv('HNAscores_prod_abun0.0075.csv')\n",
    "display(otus_scores_prod.head(10))"
   ]
  },
  {
   "cell_type": "code",
   "execution_count": 22,
   "metadata": {
    "collapsed": false
   },
   "outputs": [],
   "source": [
    "thresholds = np.arange(0,1,0.01)\n",
    "r2_scores = np.zeros(len(thresholds))\n",
    "dummy=0\n",
    "\n",
    "#Make copy of otu_scores to be able to rerun analysis: \n",
    "scores = otus_scores_prod\n",
    "for thr in thresholds: \n",
    "    scores = otus_scores_prod[otus_scores_prod.values > thr]\n",
    "    features_new = scores.index\n",
    "    if(len(features_new) > 0): \n",
    "        #alphas, preds = perform_nested_ridge_cv(data_abs[features_new],hna) #We could use this if we want a different evaluation model\n",
    "        alphas_prod, preds_prod = perform_nested_lasso_cv(data_abs_prod[features_new],hna)\n",
    "        r2_scores[dummy] = get_r2(hna,preds_prod)\n",
    "    dummy+=1"
   ]
  },
  {
   "cell_type": "code",
   "execution_count": 23,
   "metadata": {
    "collapsed": false
   },
   "outputs": [
    {
     "name": "stderr",
     "output_type": "stream",
     "text": [
      "/home/prubbens/anaconda3/lib/python3.4/site-packages/matplotlib/__init__.py:898: UserWarning: axes.color_cycle is deprecated and replaced with axes.prop_cycle; please use the latter.\n",
      "  warnings.warn(self.msg_depr % (key, alt_key))\n"
     ]
    },
    {
     "data": {
      "image/png": "[encoded data removed]",
      "text/plain": [
       "<matplotlib.figure.Figure at 0x7f2d02a6f128>"
      ]
     },
     "metadata": {},
     "output_type": "display_data"
    }
   ],
   "source": [
    "plt.figure()\n",
    "plt.axis([0,1,0,1])\n",
    "sns.pointplot(thresholds,r2_scores, scatter_kws={\"s\": 0.7})\n",
    "plt.xlabel('Threshold', size=22)\n",
    "plt.xticks(size=6)\n",
    "plt.ylabel(r'$R^2$', size=22)\n",
    "plt.yticks(size=10)\n",
    "plt.show()"
   ]
  },
  {
   "cell_type": "code",
   "execution_count": 24,
   "metadata": {
    "collapsed": false
   },
   "outputs": [
    {
     "name": "stdout",
     "output_type": "stream",
     "text": [
      "Number of selected OTUs: 29\n",
      "R2 max = 0.894025859274\n",
      "Optimal threshold = 0.56\n"
     ]
    }
   ],
   "source": [
    "r2_max = r2_scores.max()\n",
    "r2_max_idx = r2_scores.argmax()\n",
    "thresh_max = thresholds[r2_max_idx]\n",
    "optimal_scores_prod = otus_scores_prod[otus_scores_prod.values>thresh_max]\n",
    "selected_otus = optimal_scores_prod.index\n",
    "\n",
    "print('Number of selected OTUs: ' + str(len(selected_otus)))\n",
    "print('R2 max = ' + str(r2_max))\n",
    "print('Optimal threshold = ' + str(thresh_max))"
   ]
  },
  {
   "cell_type": "code",
   "execution_count": 26,
   "metadata": {
    "collapsed": true
   },
   "outputs": [],
   "source": [
    "optimal_scores_prod.to_csv('HNAscores_prod_abun0.0075_Thr0.56.csv')"
   ]
  },
  {
   "cell_type": "markdown",
   "metadata": {},
   "source": [
    "**-- SUMMARY --**"
   ]
  },
  {
   "cell_type": "markdown",
   "metadata": {},
   "source": [
    "- We are able to predict the changes in the HNA-cloud up to high accuracy $R^2_{HNA(final)} = 0.959$, using our pipeline; This gives us a reduced set of OTU's (340 $\\rightarrow$ 100). \n",
    "- This score is higher than using a 'standard' Lasso on all OTU's after initial filtering ($R^2_{HNA(abs)} = 0.768$). \n",
    "- Our pipeline in which we use absolute abundances gives added value, as only using the total cell counts gives us an $R^2_{HNA(Total.cells)} = 0.712$ "
   ]
  },
  {
   "cell_type": "markdown",
   "metadata": {},
   "source": [
    "**-- SUMMARY (Part 2) --**"
   ]
  },
  {
   "cell_type": "markdown",
   "metadata": {},
   "source": [
    "- If we only include those OTU's which are significantly present in the productivity samples, the results change quite a bit. \n",
    "- $R^2_{final} = 0.894$, however the reduced set of OTU's becomes 97 $\\rightarrow$ 29.\n",
    "- This means that we can narrow down our subset of OTU's to 29 if we want to consider those OTU's which are significantly present in the productivity samples and can be related to the HNA-cloud. "
   ]
  }
 ],
 "metadata": {
  "anaconda-cloud": {},
  "kernelspec": {
   "display_name": "Python [conda root]",
   "language": "python",
   "name": "conda-root-py"
  },
  "language_info": {
   "codemirror_mode": {
    "name": "ipython",
    "version": 3
   },
   "file_extension": ".py",
   "mimetype": "text/x-python",
   "name": "python",
   "nbconvert_exporter": "python",
   "pygments_lexer": "ipython3",
   "version": "3.4.5"
  }
 },
 "nbformat": 4,
 "nbformat_minor": 1
}
