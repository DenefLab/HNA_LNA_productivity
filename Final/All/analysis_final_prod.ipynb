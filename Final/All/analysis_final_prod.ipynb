{
 "cells": [
  {
   "cell_type": "code",
   "execution_count": 1,
   "metadata": {
    "collapsed": false
   },
   "outputs": [
    {
     "name": "stderr",
     "output_type": "stream",
     "text": [
      "/home/prubbens/anaconda3/lib/python3.4/site-packages/matplotlib/__init__.py:878: UserWarning: axes.color_cycle is deprecated and replaced with axes.prop_cycle; please use the latter.\n",
      "  warnings.warn(self.msg_depr % (key, alt_key))\n",
      "/home/prubbens/.local/lib/python3.4/site-packages/sklearn/cross_validation.py:44: DeprecationWarning: This module was deprecated in version 0.18 in favor of the model_selection module into which all the refactored classes and functions are moved. Also note that the interface of the new CV iterators are different from that of this module. This module will be removed in 0.20.\n",
      "  \"This module will be removed in 0.20.\", DeprecationWarning)\n"
     ]
    }
   ],
   "source": [
    "'''Import packages'''\n",
    "'''Requires numpy, pandas, scikit-learn, and matplotlib/seaborn'''\n",
    "import numpy as np\n",
    "import pandas as pd\n",
    "from sklearn.preprocessing import StandardScaler\n",
    "\n",
    "import matplotlib.pyplot as plt\n",
    "import seaborn as sns\n",
    "sns.set_style(\"ticks\")\n",
    "\n",
    "import analysis_functions\n",
    "\n",
    "from IPython.display import display, HTML\n",
    "\n",
    "#If we want to time the implementation: \n",
    "#import time\n",
    "#start_time = time.time()"
   ]
  },
  {
   "cell_type": "code",
   "execution_count": 2,
   "metadata": {
    "collapsed": false,
    "scrolled": true
   },
   "outputs": [],
   "source": [
    "'''Import data'''\n",
    "data_abs = pd.read_csv('data/Chloroplasts_removed/nochloro_absolute_otu.tsv', sep=' ', index_col=None, header=0)\n",
    "data_rel = pd.read_csv('data/Chloroplasts_removed/nochloro_relative_otu.tsv', sep=' ', index_col=None, header=0)\n",
    "target = pd.read_csv('data/Chloroplasts_removed/nochloro_HNA_LNA.tsv', sep=' ', index_col=0, header=0)\n",
    "productivity = pd.read_csv('data/Chloroplasts_removed/productivity_data.tsv', sep=' ', index_col=0, header=0)"
   ]
  },
  {
   "cell_type": "code",
   "execution_count": 3,
   "metadata": {
    "collapsed": false
   },
   "outputs": [],
   "source": [
    "'''Set sample names as index and shuffle data'''\n",
    "data_abs.set_index(target.samples,inplace=True)\n",
    "data_rel.set_index(target.samples,inplace=True)\n",
    "data_abs = data_abs.sample(frac=1, random_state=3)\n",
    "data_rel = data_rel.sample(frac=1, random_state=3)\n",
    "target = target.sample(frac=1, random_state=3)\n",
    "productivity = productivity.sample(frac=1, random_state=3)\n",
    "\n",
    "#Create target columns of HNA-values: \n",
    "hna = target.loc[:,'HNA.cells']\n",
    "hna_rel = hna/target.loc[:,'Total.cells']\n",
    "hna = pd.Series(hna, index=hna.index)\n",
    "hna_rel = pd.Series(hna_rel, index=hna_rel.index)"
   ]
  },
  {
   "cell_type": "markdown",
   "metadata": {},
   "source": [
    "**REMOVE OUTLIERS IN PRODUCTIVITY SAMPLES**: there seem to be three outlier samples amongst the productivity samples. Therefore these are removed and not considered in the rest of the analysis. This leaves us with **20 samples**. "
   ]
  },
  {
   "cell_type": "code",
   "execution_count": 4,
   "metadata": {
    "collapsed": false
   },
   "outputs": [],
   "source": [
    "from sklearn.linear_model import LinearRegression\n",
    "from analysis_functions import get_r2\n",
    "from scipy.stats import linregress\n",
    "\n",
    "#retain only productivity samples \n",
    "productivity = productivity.dropna(subset=['tot_bacprod'])\n",
    "#remove high productivity samples (>90)\n",
    "#productivity = productivity[productivity.tot_bacprod < 90]\n",
    "\n",
    "idx_prod = productivity.samples.values\n",
    "#display(idx_prod)\n",
    "prod = pd.Series(productivity.tot_bacprod.values, index=idx_prod)\n",
    "prod_error = pd.Series(productivity.SD_tot_bacprod.values, index=idx_prod)\n",
    "prod_rel_error = prod_error/prod"
   ]
  },
  {
   "cell_type": "markdown",
   "metadata": {},
   "source": [
    "**Preprocessing of data**: filter out those OTUs which have very low abundances and so give rise to (almost) zero-columns. Therefore an OTU has to have a minimal relative abundance one, defined by the parameter $abun$. However, I use a **second constraint** which states that an OTU must have a relative abundance > $abun$ in one of the **productivity** samples. In this way we're going to bias the OTU-selection towards the ones present in the productivity samples. "
   ]
  },
  {
   "cell_type": "code",
   "execution_count": 5,
   "metadata": {
    "collapsed": true
   },
   "outputs": [],
   "source": [
    "abun = 0.0075"
   ]
  },
  {
   "cell_type": "code",
   "execution_count": 6,
   "metadata": {
    "collapsed": false
   },
   "outputs": [
    {
     "name": "stdout",
     "output_type": "stream",
     "text": [
      "Number of OTUs: 97\n"
     ]
    }
   ],
   "source": [
    "from analysis_functions import preprocess_df\n",
    "data_abs_prod = data_abs.loc[idx_prod,:] \n",
    "data_abs_prod = preprocess_df(data_abs_prod,abun,True)\n",
    "otus_prod = list(data_abs_prod.columns)\n",
    "\n",
    "print('Number of OTUs: ' + str(len(otus_prod)))"
   ]
  },
  {
   "cell_type": "markdown",
   "metadata": {},
   "source": [
    "**Standardize data**: "
   ]
  },
  {
   "cell_type": "code",
   "execution_count": 7,
   "metadata": {
    "collapsed": false
   },
   "outputs": [],
   "source": [
    "scaler = StandardScaler()\n",
    "data_abs = pd.DataFrame(scaler.fit_transform(data_abs[otus_prod]),index=data_abs.index,columns=otus_prod)"
   ]
  },
  {
   "cell_type": "markdown",
   "metadata": {},
   "source": [
    "Let's see how well these OTU's relate to the HNA using a 4x5 cross-validated Lasso: "
   ]
  },
  {
   "cell_type": "code",
   "execution_count": 8,
   "metadata": {
    "collapsed": false
   },
   "outputs": [
    {
     "name": "stdout",
     "output_type": "stream",
     "text": [
      "R² based on absolute abundances after productivity filtering: 0.85223418787\n"
     ]
    }
   ],
   "source": [
    "from analysis_functions import perform_nested_lasso_cv\n",
    "from analysis_functions import get_r2\n",
    "alphas_abs, preds_abs = perform_nested_lasso_cv(data_abs[otus_prod], hna)\n",
    "\n",
    "r2_abs = get_r2(hna, preds_abs)\n",
    "\n",
    "print('R² based on absolute abundances after productivity filtering: ' + str(r2_abs))"
   ]
  },
  {
   "cell_type": "markdown",
   "metadata": {},
   "source": [
    "Note that $R^2_{prod}$ is higher than $R^2_{abs}$ for which the initial filtering was done based on the abundance across all samples. "
   ]
  },
  {
   "cell_type": "markdown",
   "metadata": {},
   "source": [
    "**-- CAN WE PREDICT THE PRODUCTIVITY BASED ON ABSOLUTE ABUNDANCES? --**"
   ]
  },
  {
   "cell_type": "markdown",
   "metadata": {},
   "source": [
    "We now wnat to relate the abundance information of the OTU's to the productivity. We can do these in two ways: \n",
    "- Either we tune the HNA-scores coming out of the randomized Lasso directly in function of the productivity. \n",
    "- We start from the selected subset of OTU's, describing the HNA-counts as best as possible, and try to again select a subset out of these in function of the productivity. \n",
    "\n",
    "Both make use of a _nested leave-one-out cross-validation scheme_ (20x19, if the productivity outlier samples are not considered). "
   ]
  },
  {
   "cell_type": "code",
   "execution_count": 9,
   "metadata": {
    "collapsed": false
   },
   "outputs": [],
   "source": [
    "from analysis_functions import perform_nested_lasso_loocv\n",
    "from analysis_functions import perform_randomizedLasso\n",
    "\n",
    "alphas, preds, corr = perform_nested_lasso_loocv(data_abs.loc[idx_prod,otus_prod],prod)\n",
    "prod_scores = perform_randomizedLasso(data_abs.loc[idx_prod,otus_prod],prod,alphas.mean()) \n",
    "prod_scores = pd.Series(prod_scores, index=otus_prod)\n",
    "prod_scores.sort_values(ascending=False, inplace=True)\n",
    "prod_scores.to_csv('Prodscores_abun0.0075.csv')"
   ]
  },
  {
   "cell_type": "code",
   "execution_count": 10,
   "metadata": {
    "collapsed": false
   },
   "outputs": [
    {
     "data": {
      "text/plain": [
       "Otu000255    0.794\n",
       "Otu000117    0.744\n",
       "Otu000060    0.638\n",
       "Otu000079    0.624\n",
       "Otu000343    0.526\n",
       "Otu000139    0.520\n",
       "Otu000075    0.406\n",
       "Otu000082    0.398\n",
       "Otu000106    0.358\n",
       "Otu000098    0.314\n",
       "dtype: float64"
      ]
     },
     "metadata": {},
     "output_type": "display_data"
    }
   ],
   "source": [
    "display(prod_scores.head(10))"
   ]
  },
  {
   "cell_type": "code",
   "execution_count": 11,
   "metadata": {
    "collapsed": false
   },
   "outputs": [],
   "source": [
    "thresholds = np.arange(0,1,0.02)\n",
    "r2_scores = np.zeros(len(thresholds))\n",
    "dummy=0\n",
    "\n",
    "#Make copy of otu_scores to be able to rerun analysis: \n",
    "scores = prod_scores\n",
    "for thr in thresholds: \n",
    "    scores = prod_scores[prod_scores.values > thr]\n",
    "#scores_nested_mean = scores_nested_mean[scores_nested_mean > 0.16]\n",
    "    features_new = scores.index\n",
    "    if(len(features_new) > 0): \n",
    "        #alphas, preds = perform_nested_ridge_cv(data_abs[features_new],hna)\n",
    "        alphas, preds, corr = perform_nested_lasso_loocv(data_abs.loc[idx_prod,features_new],prod)\n",
    "        #Check the R2 of the linear regression between the HNA-predictions and productivity \n",
    "        r2_scores[dummy] = get_r2(prod, preds)\n",
    "    dummy+=1"
   ]
  },
  {
   "cell_type": "code",
   "execution_count": 12,
   "metadata": {
    "collapsed": false
   },
   "outputs": [
    {
     "name": "stderr",
     "output_type": "stream",
     "text": [
      "/home/prubbens/anaconda3/lib/python3.4/site-packages/matplotlib/__init__.py:898: UserWarning: axes.color_cycle is deprecated and replaced with axes.prop_cycle; please use the latter.\n",
      "  warnings.warn(self.msg_depr % (key, alt_key))\n"
     ]
    },
    {
     "data": {
      "image/png": "[encoded data removed]",
      "text/plain": [
       "<matplotlib.figure.Figure at 0x7f13f6314518>"
      ]
     },
     "metadata": {},
     "output_type": "display_data"
    }
   ],
   "source": [
    "plt.figure()\n",
    "sns.pointplot(thresholds,r2_scores, scatter_kws={\"s\": 0.7})\n",
    "plt.xlabel('Threshold', size=22)\n",
    "plt.xticks(size=6)\n",
    "plt.ylabel(r'$R^2$', size=22)\n",
    "plt.yticks(size=10)\n",
    "plt.show()"
   ]
  },
  {
   "cell_type": "markdown",
   "metadata": {
    "collapsed": true
   },
   "source": [
    "Again, let's select the optimal threshold for the scores: "
   ]
  },
  {
   "cell_type": "code",
   "execution_count": 13,
   "metadata": {
    "collapsed": false
   },
   "outputs": [
    {
     "name": "stdout",
     "output_type": "stream",
     "text": [
      "Number of selected OTUs: 6\n",
      "R2 max = 0.845558402078\n",
      "Optimal threshold = 0.42\n"
     ]
    }
   ],
   "source": [
    "r2_max = r2_scores.max()\n",
    "r2_max_idx = r2_scores.argmax()\n",
    "thresh_max = thresholds[r2_max_idx]\n",
    "optimal_scores = prod_scores[prod_scores.values>thresh_max]\n",
    "selected_otus = optimal_scores.index\n",
    "\n",
    "optimal_scores.to_csv('Prodscores_abun0.0075_Thr0.24.csv')\n",
    "\n",
    "print('Number of selected OTUs: ' + str(len(selected_otus)))\n",
    "print('R2 max = ' + str(r2_max))\n",
    "print('Optimal threshold = ' + str(thresh_max))"
   ]
  },
  {
   "cell_type": "markdown",
   "metadata": {},
   "source": [
    "This gives us **19 OTU's** which result in an $R^2_{prod,final} = 0.776$ using a 20x19 cross-validated Lasso (i.e., a double leave-one-out cross-validation scheme). "
   ]
  },
  {
   "cell_type": "markdown",
   "metadata": {},
   "source": [
    "Main question of course is, which of these OTU's are also present in the OTU's selected based on the HNA-counts? Let's import the results from the previous analysis: "
   ]
  },
  {
   "cell_type": "code",
   "execution_count": 14,
   "metadata": {
    "collapsed": false,
    "scrolled": true
   },
   "outputs": [],
   "source": [
    "scores_HNA = pd.read_csv('HNAscores_abun0.0075.csv', index_col=0, header=None)\n",
    "scores_HNA_thr = pd.read_csv('HNAscores_abun0.0075_Thr0.24.csv', index_col=0, header=None)\n",
    "\n",
    "scores_HNA_prodfilt = pd.read_csv('HNAscores_prod_abun0.0075.csv', index_col=0, header=None)\n",
    "scores_HNA_thr_prodfilt = pd.read_csv('HNAscores_prod_abun0.0075_Thr0.56.csv', index_col=0, header=None)"
   ]
  },
  {
   "cell_type": "code",
   "execution_count": 15,
   "metadata": {
    "collapsed": false
   },
   "outputs": [
    {
     "data": {
      "text/html": [
       "<div>\n",
       "<table border=\"1\" class=\"dataframe\">\n",
       "  <thead>\n",
       "    <tr style=\"text-align: right;\">\n",
       "      <th></th>\n",
       "      <th>Score_prod</th>\n",
       "      <th>Score_HNA</th>\n",
       "      <th>Score_HNA_prodfilt</th>\n",
       "    </tr>\n",
       "  </thead>\n",
       "  <tbody>\n",
       "    <tr>\n",
       "      <th>Otu000255</th>\n",
       "      <td>0.794</td>\n",
       "      <td>0.424</td>\n",
       "      <td>0.558</td>\n",
       "    </tr>\n",
       "    <tr>\n",
       "      <th>Otu000117</th>\n",
       "      <td>0.744</td>\n",
       "      <td>0.238</td>\n",
       "      <td>0.300</td>\n",
       "    </tr>\n",
       "    <tr>\n",
       "      <th>Otu000060</th>\n",
       "      <td>0.638</td>\n",
       "      <td>0.252</td>\n",
       "      <td>0.224</td>\n",
       "    </tr>\n",
       "    <tr>\n",
       "      <th>Otu000079</th>\n",
       "      <td>0.624</td>\n",
       "      <td>0.468</td>\n",
       "      <td>0.138</td>\n",
       "    </tr>\n",
       "    <tr>\n",
       "      <th>Otu000343</th>\n",
       "      <td>0.526</td>\n",
       "      <td>0.066</td>\n",
       "      <td>0.024</td>\n",
       "    </tr>\n",
       "    <tr>\n",
       "      <th>Otu000139</th>\n",
       "      <td>0.520</td>\n",
       "      <td>0.378</td>\n",
       "      <td>0.180</td>\n",
       "    </tr>\n",
       "  </tbody>\n",
       "</table>\n",
       "</div>"
      ],
      "text/plain": [
       "           Score_prod  Score_HNA  Score_HNA_prodfilt\n",
       "Otu000255       0.794      0.424               0.558\n",
       "Otu000117       0.744      0.238               0.300\n",
       "Otu000060       0.638      0.252               0.224\n",
       "Otu000079       0.624      0.468               0.138\n",
       "Otu000343       0.526      0.066               0.024\n",
       "Otu000139       0.520      0.378               0.180"
      ]
     },
     "metadata": {},
     "output_type": "display_data"
    }
   ],
   "source": [
    "final = pd.DataFrame(optimal_scores, index=selected_otus, columns=['Score_prod'])\n",
    "final['Score_HNA'] = scores_HNA.loc[selected_otus,:]\n",
    "final['Score_HNA_prodfilt'] = scores_HNA_prodfilt.loc[selected_otus,:]\n",
    "display(final)"
   ]
  },
  {
   "cell_type": "code",
   "execution_count": 17,
   "metadata": {
    "collapsed": false
   },
   "outputs": [
    {
     "data": {
      "text/html": [
       "<div>\n",
       "<table border=\"1\" class=\"dataframe\">\n",
       "  <thead>\n",
       "    <tr style=\"text-align: right;\">\n",
       "      <th></th>\n",
       "      <th>Score_prod</th>\n",
       "      <th>Score_HNA</th>\n",
       "      <th>Score_HNA_prodfilt</th>\n",
       "    </tr>\n",
       "  </thead>\n",
       "  <tbody>\n",
       "  </tbody>\n",
       "</table>\n",
       "</div>"
      ],
      "text/plain": [
       "Empty DataFrame\n",
       "Columns: [Score_prod, Score_HNA, Score_HNA_prodfilt]\n",
       "Index: []"
      ]
     },
     "metadata": {},
     "output_type": "display_data"
    }
   ],
   "source": [
    "''' Display final OTU's complying to fitted thresholds: '''\n",
    "final_thr = final[(final['Score_HNA_prodfilt'] > 0.56)]\n",
    "display(final_thr)"
   ]
  },
  {
   "cell_type": "markdown",
   "metadata": {},
   "source": [
    "Note: Threshold for Score_HNA_prodfilt is sufficient to also filter out Score_HNA. "
   ]
  }
 ],
 "metadata": {
  "anaconda-cloud": {},
  "kernelspec": {
   "display_name": "Python [conda root]",
   "language": "python",
   "name": "conda-root-py"
  },
  "language_info": {
   "codemirror_mode": {
    "name": "ipython",
    "version": 3
   },
   "file_extension": ".py",
   "mimetype": "text/x-python",
   "name": "python",
   "nbconvert_exporter": "python",
   "pygments_lexer": "ipython3",
   "version": "3.4.5"
  }
 },
 "nbformat": 4,
 "nbformat_minor": 1
}
