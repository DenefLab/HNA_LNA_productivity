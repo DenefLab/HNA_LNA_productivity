{
 "cells": [
  {
   "cell_type": "code",
   "execution_count": 2,
   "metadata": {
    "collapsed": false
   },
   "outputs": [
    {
     "name": "stderr",
     "output_type": "stream",
     "text": [
      "/home/prubbens/anaconda3/lib/python3.4/site-packages/matplotlib/__init__.py:878: UserWarning: axes.color_cycle is deprecated and replaced with axes.prop_cycle; please use the latter.\n",
      "  warnings.warn(self.msg_depr % (key, alt_key))\n",
      "/home/prubbens/.local/lib/python3.4/site-packages/sklearn/cross_validation.py:44: DeprecationWarning: This module was deprecated in version 0.18 in favor of the model_selection module into which all the refactored classes and functions are moved. Also note that the interface of the new CV iterators are different from that of this module. This module will be removed in 0.20.\n",
      "  \"This module will be removed in 0.20.\", DeprecationWarning)\n"
     ]
    },
    {
     "name": "stdout",
     "output_type": "stream",
     "text": [
      "--- 0.6788554191589355 seconds ---\n"
     ]
    }
   ],
   "source": [
    "'''Import packages'''\n",
    "'''Requires numpy, pandas, scikit-learn, and matplotlib/seaborn'''\n",
    "import numpy as np\n",
    "import pandas as pd\n",
    "from sklearn.preprocessing import StandardScaler\n",
    "\n",
    "import matplotlib.pyplot as plt\n",
    "import seaborn as sns\n",
    "sns.set_style(\"ticks\")\n",
    "\n",
    "import analysis_functions\n",
    "\n",
    "from IPython.display import display, HTML\n",
    "\n",
    "#If we want to time the implementation: \n",
    "#import time\n",
    "#start_time = time.time()"
   ]
  },
  {
   "cell_type": "markdown",
   "metadata": {},
   "source": [
    "Import the dataframes: "
   ]
  },
  {
   "cell_type": "code",
   "execution_count": 3,
   "metadata": {
    "collapsed": false,
    "scrolled": true
   },
   "outputs": [],
   "source": [
    "'''Import data'''\n",
    "data_abs = pd.read_csv('data/Chloroplasts_removed/nochloro_absolute_otu.tsv', sep=' ', index_col=None, header=0)\n",
    "data_rel = pd.read_csv('data/Chloroplasts_removed/nochloro_relative_otu.tsv', sep=' ', index_col=None, header=0)\n",
    "target = pd.read_csv('data/Chloroplasts_removed/nochloro_HNA_LNA.tsv', sep=' ', index_col=0, header=0)\n",
    "productivity = pd.read_csv('data/Chloroplasts_removed/productivity_data.tsv', sep=' ', index_col=0, header=0)"
   ]
  },
  {
   "cell_type": "code",
   "execution_count": 4,
   "metadata": {
    "collapsed": false
   },
   "outputs": [],
   "source": [
    "'''Set sample names as index and shuffle data'''\n",
    "data_abs.set_index(target.samples,inplace=True)\n",
    "data_rel.set_index(target.samples,inplace=True)\n",
    "data_abs = data_abs.sample(frac=1, random_state=3)\n",
    "data_rel = data_rel.sample(frac=1, random_state=3)\n",
    "target = target.sample(frac=1, random_state=3)\n",
    "productivity = productivity.sample(frac=1, random_state=3)\n",
    "\n",
    "#Create target columns of HNA-values: \n",
    "hna = target.loc[:,'HNA.cells']\n",
    "hna_rel = hna/target.loc[:,'Total.cells']\n",
    "hna = pd.Series(hna, index=hna.index)\n",
    "hna_rel = pd.Series(hna_rel, index=hna_rel.index)"
   ]
  },
  {
   "cell_type": "markdown",
   "metadata": {},
   "source": [
    "**Preprocessing of data**: filter out those OTUs which have very low abundances and so give rise to (almost) zero-columns. Therefore an OTU has to have a minimal relative abundance one, defined by the parameter _abun_. However, I use a **second constraint** which states that an OTU must have a relative abundance > _abun_ in one of the **productivity** samples. In this way we're going to bias the OTU-selection towards the ones present in the productivity samples. "
   ]
  },
  {
   "cell_type": "code",
   "execution_count": 5,
   "metadata": {
    "collapsed": false
   },
   "outputs": [],
   "source": [
    "from sklearn.linear_model import LinearRegression\n",
    "from analysis_functions import get_r2\n",
    "from scipy.stats import linregress\n",
    "\n",
    "#retain only productivity samples \n",
    "productivity = productivity.dropna(subset=['tot_bacprod'])\n",
    "idx_prod = productivity.samples.values\n",
    "prod = pd.Series(productivity.tot_bacprod.values, index=idx_prod)\n",
    "prod_error = pd.Series(productivity.SD_tot_bacprod.values, index=idx_prod)\n",
    "prod_rel_error = prod_error/prod"
   ]
  },
  {
   "cell_type": "code",
   "execution_count": 6,
   "metadata": {
    "collapsed": true
   },
   "outputs": [],
   "source": [
    "abun = 0.0075"
   ]
  },
  {
   "cell_type": "code",
   "execution_count": 7,
   "metadata": {
    "collapsed": false
   },
   "outputs": [
    {
     "name": "stdout",
     "output_type": "stream",
     "text": [
      "Number of OTUs: 97\n"
     ]
    }
   ],
   "source": [
    "from analysis_functions import preprocess_df\n",
    "data_abs_prod = data_abs.loc[idx_prod,:] \n",
    "data_abs_prod = preprocess_df(data_abs_prod,abun,True)\n",
    "otus_prod = list(data_abs_prod.columns)\n",
    "\n",
    "print('Number of OTUs: ' + str(len(otus_prod)))"
   ]
  },
  {
   "cell_type": "markdown",
   "metadata": {},
   "source": [
    "Let's see how well these OTU's perform in a 4x5 nested Lasso: "
   ]
  },
  {
   "cell_type": "code",
   "execution_count": 8,
   "metadata": {
    "collapsed": false
   },
   "outputs": [
    {
     "name": "stdout",
     "output_type": "stream",
     "text": [
      "R2 based on absolute abundances: 0.8181522281\n",
      "R2 based on relative abundances: 0.582425497273\n"
     ]
    }
   ],
   "source": [
    "from analysis_functions import perform_nested_lasso_cv\n",
    "from analysis_functions import get_r2\n",
    "alphas_abs, preds_abs = perform_nested_lasso_cv(data_abs[otus_prod], hna)\n",
    "alphas_rel, preds_rel = perform_nested_lasso_cv(data_rel[otus_prod], hna)\n",
    "\n",
    "r2_abs = get_r2(hna, preds_abs)\n",
    "r2_rel = get_r2(hna, preds_rel)\n",
    "\n",
    "print('R2 based on absolute abundances: ' + str(r2_abs))\n",
    "print('R2 based on relative abundances: ' + str(r2_rel))"
   ]
  },
  {
   "cell_type": "markdown",
   "metadata": {},
   "source": [
    "The $R^2$ still is reasonable, especially when we use absolute abundances. Let's again determine the most important OTU's based on the randomized Lasso: "
   ]
  },
  {
   "cell_type": "code",
   "execution_count": 9,
   "metadata": {
    "collapsed": false
   },
   "outputs": [
    {
     "data": {
      "text/plain": [
       "Otu000005    1.000\n",
       "Otu000057    1.000\n",
       "Otu000004    0.998\n",
       "Otu000016    0.964\n",
       "Otu000027    0.956\n",
       "Otu000042    0.956\n",
       "Otu000010    0.932\n",
       "Otu000084    0.930\n",
       "Otu000041    0.900\n",
       "Otu000058    0.880\n",
       "Otu000047    0.834\n",
       "Otu000022    0.822\n",
       "Otu000012    0.786\n",
       "Otu000038    0.780\n",
       "Otu000009    0.764\n",
       "Otu000006    0.762\n",
       "Otu000029    0.692\n",
       "Otu000025    0.686\n",
       "Otu000001    0.678\n",
       "Otu000011    0.676\n",
       "dtype: float64"
      ]
     },
     "metadata": {},
     "output_type": "display_data"
    }
   ],
   "source": [
    "from analysis_functions import perform_randomizedLasso\n",
    "\n",
    "otus_prod_scores = pd.Series(perform_randomizedLasso(data_abs[otus_prod], hna, alphas_abs.mean()), index=otus_prod)\n",
    "otus_prod_scores.sort_values(ascending=False,inplace=True)\n",
    "\n",
    "#Display top 20 OTUs:\n",
    "display(otus_prod_scores.head(20))"
   ]
  },
  {
   "cell_type": "markdown",
   "metadata": {},
   "source": [
    "Let's see what happens if we tune the threshold value for these scores: "
   ]
  },
  {
   "cell_type": "code",
   "execution_count": 10,
   "metadata": {
    "collapsed": false
   },
   "outputs": [],
   "source": [
    "from analysis_functions import perform_nested_ridge_cv\n",
    "\n",
    "thresholds = np.arange(0,1,0.02)\n",
    "r2_scores = np.zeros(len(thresholds))\n",
    "dummy=0\n",
    "\n",
    "#Make copy of otu_scores to be able to rerun analysis: \n",
    "scores = otus_prod_scores\n",
    "for thresh in thresholds: \n",
    "    scores = otus_prod_scores[otus_prod_scores.values > thresh]\n",
    "    features_new = scores.index\n",
    "    if(len(features_new) > 0): \n",
    "        alphas, preds = perform_nested_ridge_cv(data_abs[features_new],hna)\n",
    "        #alphas, preds = perform_nested_lasso_cv(data_abs[features_new],hna)\n",
    "        r2_scores[dummy] = get_r2(hna,preds)\n",
    "    dummy+=1"
   ]
  },
  {
   "cell_type": "code",
   "execution_count": 11,
   "metadata": {
    "collapsed": false,
    "scrolled": true
   },
   "outputs": [
    {
     "name": "stderr",
     "output_type": "stream",
     "text": [
      "/home/prubbens/anaconda3/lib/python3.4/site-packages/matplotlib/__init__.py:898: UserWarning: axes.color_cycle is deprecated and replaced with axes.prop_cycle; please use the latter.\n",
      "  warnings.warn(self.msg_depr % (key, alt_key))\n"
     ]
    },
    {
     "data": {
      "image/png": "[encoded data removed]",
      "text/plain": [
       "<matplotlib.figure.Figure at 0x7f4518ec18d0>"
      ]
     },
     "metadata": {},
     "output_type": "display_data"
    }
   ],
   "source": [
    "plt.figure()\n",
    "sns.pointplot(thresholds,r2_scores, scatter_kws={\"s\": 0.7})\n",
    "plt.xlabel('Threshold', size=22)\n",
    "plt.xticks(size=6)\n",
    "plt.ylabel(r'$R^2$', size=22)\n",
    "plt.yticks(size=10)\n",
    "plt.show()"
   ]
  },
  {
   "cell_type": "markdown",
   "metadata": {},
   "source": [
    "Choose the value for which the $R^2$ is maximal: "
   ]
  },
  {
   "cell_type": "code",
   "execution_count": 12,
   "metadata": {
    "collapsed": false
   },
   "outputs": [
    {
     "name": "stdout",
     "output_type": "stream",
     "text": [
      "R2 max = 0.84048933381\n",
      "Optimal threshold = 0.84\n"
     ]
    }
   ],
   "source": [
    "r2_max = r2_scores.max()\n",
    "r2_max_idx = r2_scores.argmax()\n",
    "thresh_max = thresholds[r2_max_idx]\n",
    "print('R2 max = ' + str(r2_max))\n",
    "print('Optimal threshold = ' + str(thresh_max))"
   ]
  },
  {
   "cell_type": "code",
   "execution_count": 13,
   "metadata": {
    "collapsed": false
   },
   "outputs": [
    {
     "name": "stdout",
     "output_type": "stream",
     "text": [
      "Number of selected OTUs: 10\n",
      "r2: 0.8389423743\n",
      "r2_adj: 0.829000545553\n"
     ]
    }
   ],
   "source": [
    "optimal_scores = otus_prod_scores[otus_prod_scores.values>thresh_max]\n",
    "selected_otus = optimal_scores.index\n",
    "print('Number of selected OTUs: ' + str(len(selected_otus)))\n",
    "\n",
    "alphas_opt, preds_opt = perform_nested_lasso_cv(data_abs[selected_otus], hna)\n",
    "r2_final = get_r2(hna, preds_opt)\n",
    "print('r2: ' + str(r2_final))\n",
    "\n",
    "from analysis_functions import get_r2_adj\n",
    "r2_adj = get_r2_adj(r2_final, data_abs.shape[0], len(selected_otus))\n",
    "print('r2_adj: ' + str(r2_adj))"
   ]
  },
  {
   "cell_type": "markdown",
   "metadata": {},
   "source": [
    "This result is quite good, the $R^2$ is of course lower than using an initial filtering based on all samples, but only retaining those OTU's which are significantly present in the productivity samples results in an $R^2_{adj} = 0.829$! Moreover, we are left with **10 OTU's**. "
   ]
  },
  {
   "cell_type": "markdown",
   "metadata": {},
   "source": [
    "However, we can perform the same analysis to find the optimal threshold, but instead of using the $R^2$ between HNA and the predicted HNA, we can calculate the $R^2$ of the linear regression between the predicted HNA and the productivity, as this has an initial $R^2$ of roughly 0.6: "
   ]
  },
  {
   "cell_type": "code",
   "execution_count": 14,
   "metadata": {
    "collapsed": false
   },
   "outputs": [],
   "source": [
    "thresholds = np.arange(0,1,0.02)\n",
    "r2_scores = np.zeros(len(thresholds))\n",
    "dummy=0\n",
    "\n",
    "#Make copy of otu_scores to be able to rerun analysis: \n",
    "scores = otus_prod_scores\n",
    "for thresh in thresholds: \n",
    "    scores = otus_prod_scores[otus_prod_scores.values > thresh]\n",
    "#scores_nested_mean = scores_nested_mean[scores_nested_mean > 0.16]\n",
    "    features_new = scores.index\n",
    "    if(len(features_new) > 0): \n",
    "        #alphas, preds = perform_nested_ridge_cv(data_abs[features_new],hna)\n",
    "        alphas, preds = perform_nested_lasso_cv(data_abs[features_new],hna)\n",
    "        #Check the R2 of the linear regression between the HNA-predictions and productivity \n",
    "        r2_scores[dummy] = linregress(prod[idx_prod],preds[idx_prod])[2]**2\n",
    "    dummy+=1"
   ]
  },
  {
   "cell_type": "code",
   "execution_count": 15,
   "metadata": {
    "collapsed": false
   },
   "outputs": [
    {
     "name": "stderr",
     "output_type": "stream",
     "text": [
      "/home/prubbens/anaconda3/lib/python3.4/site-packages/matplotlib/__init__.py:898: UserWarning: axes.color_cycle is deprecated and replaced with axes.prop_cycle; please use the latter.\n",
      "  warnings.warn(self.msg_depr % (key, alt_key))\n"
     ]
    },
    {
     "data": {
      "image/png": "[encoded data removed]",
      "text/plain": [
       "<matplotlib.figure.Figure at 0x7f4519124898>"
      ]
     },
     "metadata": {},
     "output_type": "display_data"
    }
   ],
   "source": [
    "plt.figure()\n",
    "sns.pointplot(thresholds,r2_scores, scatter_kws={\"s\": 0.7})\n",
    "plt.xlabel('Threshold', size=22)\n",
    "plt.xticks(size=6)\n",
    "plt.ylabel(r'$R^2$', size=22)\n",
    "plt.yticks(size=10)\n",
    "plt.show()"
   ]
  },
  {
   "cell_type": "markdown",
   "metadata": {
    "collapsed": true
   },
   "source": [
    "Again, let's select the optimal threshold for the scores: "
   ]
  },
  {
   "cell_type": "code",
   "execution_count": 16,
   "metadata": {
    "collapsed": false
   },
   "outputs": [
    {
     "name": "stdout",
     "output_type": "stream",
     "text": [
      "R2 max = 0.512763474839\n",
      "Optimal threshold = 0.78\n"
     ]
    }
   ],
   "source": [
    "r2_max = r2_scores.max()\n",
    "r2_max_idx = r2_scores.argmax()\n",
    "thresh_max = thresholds[r2_max_idx]\n",
    "print('R2 max = ' + str(r2_max))\n",
    "print('Optimal threshold = ' + str(thresh_max))"
   ]
  },
  {
   "cell_type": "code",
   "execution_count": 17,
   "metadata": {
    "collapsed": false
   },
   "outputs": [
    {
     "name": "stdout",
     "output_type": "stream",
     "text": [
      "Number of selected OTUs: 13\n",
      "r2_adj: -0.191022617061\n"
     ]
    }
   ],
   "source": [
    "optimal_scores = otus_prod_scores[otus_prod_scores.values>thresh_max]\n",
    "selected_otus = optimal_scores.index\n",
    "print('Number of selected OTUs: ' + str(len(selected_otus)))\n",
    "\n",
    "r2_adj = get_r2_adj(r2_max, prod.shape[0], len(selected_otus))\n",
    "print('r2_adj: ' + str(r2_adj))"
   ]
  },
  {
   "cell_type": "markdown",
   "metadata": {},
   "source": [
    "This gives us **13 OTU's** which is also quite a good result; however, the $R^2_{adj}$  = -0.191, because of the low sample size. Can we use these OTU's directly to predict the productivity? For this purpose I use again a nested cross-validation scheme, however, I use a leave-one-out (loocv) approach in order to get an estimate: "
   ]
  },
  {
   "cell_type": "code",
   "execution_count": 18,
   "metadata": {
    "collapsed": false,
    "scrolled": true
   },
   "outputs": [
    {
     "name": "stdout",
     "output_type": "stream",
     "text": [
      "R2 productivity: -0.273862714703\n"
     ]
    },
    {
     "data": {
      "image/png": "[encoded data removed]",
      "text/plain": [
       "<matplotlib.figure.Figure at 0x7f45176a4a58>"
      ]
     },
     "metadata": {},
     "output_type": "display_data"
    }
   ],
   "source": [
    "from analysis_functions import perform_nested_lasso_loocv\n",
    "alphas, preds = perform_nested_lasso_loocv(data_abs.loc[idx_prod,selected_otus], prod)\n",
    "\n",
    "print('R2 productivity: ' + str(str(get_r2(prod, preds))))\n",
    "\n",
    "plt.figure()\n",
    "sns.regplot(prod, preds)\n",
    "plt.show()"
   ]
  },
  {
   "cell_type": "markdown",
   "metadata": {},
   "source": [
    "This doesn't look good; probably due to the low sample size. What we can do is look at the mutual correlation between the top-OTU's and the production: "
   ]
  },
  {
   "cell_type": "code",
   "execution_count": 20,
   "metadata": {
    "collapsed": false
   },
   "outputs": [
    {
     "data": {
      "text/html": [
       "<div>\n",
       "<table border=\"1\" class=\"dataframe\">\n",
       "  <thead>\n",
       "    <tr style=\"text-align: right;\">\n",
       "      <th></th>\n",
       "      <th>0</th>\n",
       "      <th>correlation</th>\n",
       "      <th>adj_r2</th>\n",
       "      <th>p</th>\n",
       "    </tr>\n",
       "  </thead>\n",
       "  <tbody>\n",
       "    <tr>\n",
       "      <th>Otu000005</th>\n",
       "      <td>1.000</td>\n",
       "      <td>0.140952</td>\n",
       "      <td>-0.069235</td>\n",
       "      <td>0.521197</td>\n",
       "    </tr>\n",
       "    <tr>\n",
       "      <th>Otu000057</th>\n",
       "      <td>1.000</td>\n",
       "      <td>0.386297</td>\n",
       "      <td>0.071882</td>\n",
       "      <td>0.068649</td>\n",
       "    </tr>\n",
       "    <tr>\n",
       "      <th>Otu000004</th>\n",
       "      <td>0.998</td>\n",
       "      <td>0.154997</td>\n",
       "      <td>-0.064701</td>\n",
       "      <td>0.480082</td>\n",
       "    </tr>\n",
       "    <tr>\n",
       "      <th>Otu000016</th>\n",
       "      <td>0.964</td>\n",
       "      <td>0.219749</td>\n",
       "      <td>-0.038229</td>\n",
       "      <td>0.313697</td>\n",
       "    </tr>\n",
       "    <tr>\n",
       "      <th>Otu000027</th>\n",
       "      <td>0.956</td>\n",
       "      <td>0.295225</td>\n",
       "      <td>0.004172</td>\n",
       "      <td>0.171435</td>\n",
       "    </tr>\n",
       "    <tr>\n",
       "      <th>Otu000042</th>\n",
       "      <td>0.956</td>\n",
       "      <td>0.182657</td>\n",
       "      <td>-0.054512</td>\n",
       "      <td>0.404172</td>\n",
       "    </tr>\n",
       "    <tr>\n",
       "      <th>Otu000010</th>\n",
       "      <td>0.932</td>\n",
       "      <td>0.042809</td>\n",
       "      <td>-0.088910</td>\n",
       "      <td>0.846219</td>\n",
       "    </tr>\n",
       "    <tr>\n",
       "      <th>Otu000084</th>\n",
       "      <td>0.930</td>\n",
       "      <td>0.517628</td>\n",
       "      <td>0.201388</td>\n",
       "      <td>0.011414</td>\n",
       "    </tr>\n",
       "    <tr>\n",
       "      <th>Otu000041</th>\n",
       "      <td>0.900</td>\n",
       "      <td>-0.455126</td>\n",
       "      <td>0.135062</td>\n",
       "      <td>0.029097</td>\n",
       "    </tr>\n",
       "    <tr>\n",
       "      <th>Otu000058</th>\n",
       "      <td>0.880</td>\n",
       "      <td>-0.020371</td>\n",
       "      <td>-0.090456</td>\n",
       "      <td>0.926496</td>\n",
       "    </tr>\n",
       "    <tr>\n",
       "      <th>Otu000047</th>\n",
       "      <td>0.834</td>\n",
       "      <td>-0.065584</td>\n",
       "      <td>-0.086217</td>\n",
       "      <td>0.766232</td>\n",
       "    </tr>\n",
       "    <tr>\n",
       "      <th>Otu000022</th>\n",
       "      <td>0.822</td>\n",
       "      <td>-0.556356</td>\n",
       "      <td>0.246762</td>\n",
       "      <td>0.005834</td>\n",
       "    </tr>\n",
       "    <tr>\n",
       "      <th>Otu000012</th>\n",
       "      <td>0.786</td>\n",
       "      <td>-0.205363</td>\n",
       "      <td>-0.044901</td>\n",
       "      <td>0.347198</td>\n",
       "    </tr>\n",
       "  </tbody>\n",
       "</table>\n",
       "</div>"
      ],
      "text/plain": [
       "               0  correlation    adj_r2         p\n",
       "Otu000005  1.000     0.140952 -0.069235  0.521197\n",
       "Otu000057  1.000     0.386297  0.071882  0.068649\n",
       "Otu000004  0.998     0.154997 -0.064701  0.480082\n",
       "Otu000016  0.964     0.219749 -0.038229  0.313697\n",
       "Otu000027  0.956     0.295225  0.004172  0.171435\n",
       "Otu000042  0.956     0.182657 -0.054512  0.404172\n",
       "Otu000010  0.932     0.042809 -0.088910  0.846219\n",
       "Otu000084  0.930     0.517628  0.201388  0.011414\n",
       "Otu000041  0.900    -0.455126  0.135062  0.029097\n",
       "Otu000058  0.880    -0.020371 -0.090456  0.926496\n",
       "Otu000047  0.834    -0.065584 -0.086217  0.766232\n",
       "Otu000022  0.822    -0.556356  0.246762  0.005834\n",
       "Otu000012  0.786    -0.205363 -0.044901  0.347198"
      ]
     },
     "metadata": {},
     "output_type": "display_data"
    }
   ],
   "source": [
    "optimal_scores = pd.DataFrame(optimal_scores, index=selected_otus)\n",
    "p = np.zeros(len(selected_otus))\n",
    "r = np.zeros(len(selected_otus))\n",
    "t = 0\n",
    "for otu in selected_otus: \n",
    "    output = linregress(prod,data_abs.loc[idx_prod,otu])\n",
    "    r[t] = output[2]\n",
    "    p[t] = output[3]\n",
    "    t+=1\n",
    "optimal_scores['correlation'] = r\n",
    "optimal_scores['adj_r2'] = get_r2_adj(r**2, len(selected_otus), 1)\n",
    "optimal_scores['p'] = p\n",
    "display(optimal_scores)\n",
    "    "
   ]
  },
  {
   "cell_type": "markdown",
   "metadata": {},
   "source": [
    "Let's visualize OTU000057, OTU000084, OTU000041 and OTU000022 (which have $p$-values < 0.10): "
   ]
  },
  {
   "cell_type": "code",
   "execution_count": null,
   "metadata": {
    "collapsed": false
   },
   "outputs": [],
   "source": [
    "for otu in ['Otu000057','Otu000084','Otu000041','Otu000022']: \n",
    "    plt.figure()\n",
    "    sns.regplot(data_abs.loc[idx_prod, otu], prod)\n",
    "    plt.xlabel('Absolute abundunce ' + otu, size=22)\n",
    "    plt.xticks(size=12)\n",
    "    plt.ylabel('Productivity', size=22)\n",
    "    plt.yticks(size=14)\n",
    "    plt.show()"
   ]
  },
  {
   "cell_type": "markdown",
   "metadata": {},
   "source": [
    "This doesn't show something, but still quite a bit: \n",
    "- The productivity samples contain a lot of lower values, and a few higher values. However, these higher values might have a higher (as in, by functioning as an outlier) influence. \n",
    "- Some trends are visible. Especially the trend for Otu000022 is interesting (higher abundance results in a lower productivity?)"
   ]
  },
  {
   "cell_type": "markdown",
   "metadata": {},
   "source": [
    "**MAIN CONCLUSIONS SO FAR: **"
   ]
  },
  {
   "cell_type": "markdown",
   "metadata": {},
   "source": [
    "- It's a very fruitful approach to go from sequencing data to HNA counts. \n",
    "- This means that for a number of OTU's we can predict which of them have high nucleic aicd count. \n",
    "\n",
    "\n",
    "- If I **rerun the analysis** using **only the OTU's which are present in the productivity samples**, I still get satisfying results. This means that only those OTU's are considered which are significantly present (relative abundance > 0.0075) in the productivity samples. \n",
    "- Using the randomized Lasso, this leaves us with an **optimal of 10 OTU's** to describe the HNA count. \n",
    "- However, as there is a linear trend between the HNA counts and the productivity, we can also **tune the randomized Lasso scores in function of the productivity**, by calculating the $R^2$ of the linear regression between the predicted HNA and the productivity. \n",
    "- This leaves us with **13 OTU's**. \n",
    "- 4 of them have $R^2_{adj}$ > 0 when fitting a linear regression between them. Some preliminary trends can be seen. \n",
    "- However, I do think that the productivity samples are too low to perform a full statistical analysis on them. Especially, since I've seen that the experimental error can also be quite big. "
   ]
  }
 ],
 "metadata": {
  "anaconda-cloud": {},
  "kernelspec": {
   "display_name": "Python [conda root]",
   "language": "python",
   "name": "conda-root-py"
  },
  "language_info": {
   "codemirror_mode": {
    "name": "ipython",
    "version": 3
   },
   "file_extension": ".py",
   "mimetype": "text/x-python",
   "name": "python",
   "nbconvert_exporter": "python",
   "pygments_lexer": "ipython3",
   "version": "3.4.5"
  }
 },
 "nbformat": 4,
 "nbformat_minor": 1
}
