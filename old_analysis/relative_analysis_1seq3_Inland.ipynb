{
 "cells": [
  {
   "cell_type": "code",
   "execution_count": 1,
   "metadata": {
    "scrolled": true
   },
   "outputs": [
    {
     "name": "stderr",
     "output_type": "stream",
     "text": [
      "/home/prubbens/miniconda3/lib/python3.6/site-packages/sklearn/cross_validation.py:41: DeprecationWarning: This module was deprecated in version 0.18 in favor of the model_selection module into which all the refactored classes and functions are moved. Also note that the interface of the new CV iterators are different from that of this module. This module will be removed in 0.20.\n",
      "  \"This module will be removed in 0.20.\", DeprecationWarning)\n"
     ]
    }
   ],
   "source": [
    "'''Import packages'''\n",
    "'''Requires numpy, pandas, scikit-learn, and matplotlib/seaborn'''\n",
    "import numpy as np\n",
    "import pandas as pd\n",
    "from skbio.stats import composition\n",
    "from sklearn.feature_selection import f_regression\n",
    "from sklearn.feature_selection import mutual_info_regression\n",
    "from sklearn.model_selection import KFold\n",
    "from sklearn.model_selection import cross_val_predict\n",
    "from sklearn.linear_model import Lasso\n",
    "from scipy.stats import kendalltau\n",
    "from scipy.stats import pearsonr\n",
    "\n",
    "import matplotlib.pyplot as plt\n",
    "import seaborn as sns\n",
    "sns.set_style(\"ticks\")\n",
    "\n",
    "'''Import script which contains functions'''\n",
    "import analysis_functions\n",
    "from analysis_functions import get_r2\n",
    "from analysis_functions import get_lassoCV\n",
    "from analysis_functions import perform_randomizedLasso\n",
    "\n",
    "from IPython.display import display, HTML\n",
    "\n",
    "#If we want to time the implementation: \n",
    "#import time\n",
    "#start_time = time.time()"
   ]
  },
  {
   "cell_type": "markdown",
   "metadata": {},
   "source": [
    "Import the dataframes: "
   ]
  },
  {
   "cell_type": "code",
   "execution_count": 2,
   "metadata": {
    "scrolled": true
   },
   "outputs": [],
   "source": [
    "'''Import data'''\n",
    "data_abs = pd.read_csv('data/Chloroplasts_removed/ByLake_Filtering/1in3/inland/inland_absolute_otu_1in3.tsv', sep=' ', index_col=None, header=0, float_precision='high')\n",
    "data_rel = pd.read_csv('data/Chloroplasts_removed/ByLake_Filtering/1in3/inland/inland_relative_otu_1in3.tsv', sep=' ', index_col=None, header=0, float_precision='high')\n",
    "target = pd.read_csv('data/Chloroplasts_removed/ByLake_Filtering/1in3/inland/inland_sampledata_1in3.tsv', sep= ' ', index_col=0, header=0)"
   ]
  },
  {
   "cell_type": "markdown",
   "metadata": {},
   "source": [
    "**2)**: At 01-05-'17 @marschmi found that a few samples can be seen as outliers, as they represent the bottom waters of productive inland lakes, resulting in a big difference of the HNA percentage. These samples are the following: Z14055F, Z14003F, Z14007F, Z14023F, Z14011F. A code of line is added, in order to be able to run the pipeline without these samples; "
   ]
  },
  {
   "cell_type": "code",
   "execution_count": 3,
   "metadata": {},
   "outputs": [
    {
     "name": "stdout",
     "output_type": "stream",
     "text": [
      "62\n"
     ]
    }
   ],
   "source": [
    "index = target.Lake[target.Lake == 'Inland'].index"
   ]
  },
  {
   "cell_type": "code",
   "execution_count": 4,
   "metadata": {},
   "outputs": [],
   "source": [
    "'''Set sample names as index and shuffle data'''\n",
    "\n",
    "#Remove outlier samples:\n",
    "data_abs = data_abs.loc[index,:] \n",
    "data_rel = data_rel.loc[index,:]\n",
    "target = target.loc[index,:]\n",
    "#productivity = productivity.loc[index,:]\n",
    "\n",
    "#Shuffle data: \n",
    "#data_abs = data_abs.sample(frac=1, random_state=3)\n",
    "#data_rel = data_rel.sample(frac=1, random_state=3)\n",
    "#target = target.sample(frac=1, random_state=3)\n",
    "#productivity = productivity.sample(frac=1, random_state=3) \n",
    "\n",
    "#Create target columns of HNA-values: \n",
    "hna = target.loc[:,'HNA.cells']\n",
    "hna_rel = hna/target.loc[:,'Total.cells']\n",
    "hna = pd.Series(hna, index=hna.index)\n",
    "hna_rel = pd.Series(hna_rel, index=hna.index)\n",
    "\n",
    "#Create target columns of LNA-values: \n",
    "lna = target.loc[:,'LNA.cells']\n",
    "lna_rel = lna/target.loc[:,'Total.cells']\n",
    "lna = pd.Series(lna, index=lna.index)\n",
    "lna_rel = pd.Series(lna_rel, index=lna.index)"
   ]
  },
  {
   "cell_type": "code",
   "execution_count": 5,
   "metadata": {},
   "outputs": [],
   "source": [
    "#Some variables to store information and to create inner and outer CV-folds\n",
    "otus = list(data_rel.columns)\n",
    "cv = 5"
   ]
  },
  {
   "cell_type": "code",
   "execution_count": 6,
   "metadata": {},
   "outputs": [],
   "source": [
    "''' Log-Ratio analyses '''\n",
    "#data_rel_repl = composition.multiplicative_replacement(data_rel.loc[:,otus])\n",
    "#data_rel_clr = pd.DataFrame(composition.clr(data_rel_repl), columns=otus)\n",
    "#data_rel_clr.to_csv('inland_sampledata_1in3_clr.csv')\n",
    "\n",
    "''' Standardize data '''\n",
    "from analysis_functions import standardize_df\n",
    "data_stand, scaler = standardize_df(data_rel,otus)"
   ]
  },
  {
   "cell_type": "code",
   "execution_count": 7,
   "metadata": {},
   "outputs": [
    {
     "name": "stdout",
     "output_type": "stream",
     "text": [
      "0.223280013822 0.0810848552171\n"
     ]
    }
   ],
   "source": [
    "kendal_hna_lna, p_kendall_hna_lna = pearsonr(hna,lna)\n",
    "print(kendal_hna_lna, p_kendall_hna_lna)"
   ]
  },
  {
   "cell_type": "markdown",
   "metadata": {},
   "source": [
    "To do so, we use the **_Randomized Lasso_**: this method makes use of two kinds of randomization in order to select variables (i.e., OTU's) with a certain _stability_: (1) it fits a Lasso to various bootstrap subsamples and (2) it perturbs the initial weighting of certain variables. \n",
    "\n",
    "This results in a $score \\in [0,1]$ that is assigned to variables, with 0 denoting the case where a variable is never chosen by the Lasso, and 1 denoting the case where a variable always is chosen. In other words, the higher the score, the more important a variable can be considered to be. "
   ]
  },
  {
   "cell_type": "markdown",
   "metadata": {},
   "source": [
    "**First goal: ** try to pinpoint those OTU's for which we are sure they are present in the '_HNA-cloud_'. "
   ]
  },
  {
   "cell_type": "markdown",
   "metadata": {},
   "source": [
    "**Univariate Feature Selection**: \n",
    "\n",
    "Let's compare two methods: \n",
    "- f_regression (f-score pearson correlation), \n",
    "- Mutual information,  \n",
    "- (other methods can follow as well). "
   ]
  },
  {
   "cell_type": "code",
   "execution_count": 8,
   "metadata": {},
   "outputs": [
    {
     "data": {
      "text/html": [
       "<div>\n",
       "<style scoped>\n",
       "    .dataframe tbody tr th:only-of-type {\n",
       "        vertical-align: middle;\n",
       "    }\n",
       "\n",
       "    .dataframe tbody tr th {\n",
       "        vertical-align: top;\n",
       "    }\n",
       "\n",
       "    .dataframe thead th {\n",
       "        text-align: right;\n",
       "    }\n",
       "</style>\n",
       "<table border=\"1\" class=\"dataframe\">\n",
       "  <thead>\n",
       "    <tr style=\"text-align: right;\">\n",
       "      <th></th>\n",
       "      <th>f_regr</th>\n",
       "      <th>p-value</th>\n",
       "      <th>kendall</th>\n",
       "      <th>p_kendall</th>\n",
       "    </tr>\n",
       "  </thead>\n",
       "  <tbody>\n",
       "    <tr>\n",
       "      <th>Otu000001</th>\n",
       "      <td>19.514141</td>\n",
       "      <td>0.000042</td>\n",
       "      <td>-0.368157</td>\n",
       "      <td>0.000024</td>\n",
       "    </tr>\n",
       "    <tr>\n",
       "      <th>Otu000004</th>\n",
       "      <td>3.282859</td>\n",
       "      <td>0.075012</td>\n",
       "      <td>-0.296218</td>\n",
       "      <td>0.000670</td>\n",
       "    </tr>\n",
       "    <tr>\n",
       "      <th>Otu000005</th>\n",
       "      <td>0.480143</td>\n",
       "      <td>0.491031</td>\n",
       "      <td>0.052437</td>\n",
       "      <td>0.547573</td>\n",
       "    </tr>\n",
       "    <tr>\n",
       "      <th>Otu000006</th>\n",
       "      <td>1.192268</td>\n",
       "      <td>0.279238</td>\n",
       "      <td>-0.225913</td>\n",
       "      <td>0.017077</td>\n",
       "    </tr>\n",
       "    <tr>\n",
       "      <th>Otu000007</th>\n",
       "      <td>7.367091</td>\n",
       "      <td>0.008660</td>\n",
       "      <td>-0.178401</td>\n",
       "      <td>0.040647</td>\n",
       "    </tr>\n",
       "    <tr>\n",
       "      <th>Otu000009</th>\n",
       "      <td>1.765670</td>\n",
       "      <td>0.188950</td>\n",
       "      <td>0.005826</td>\n",
       "      <td>0.946723</td>\n",
       "    </tr>\n",
       "    <tr>\n",
       "      <th>Otu000010</th>\n",
       "      <td>3.230375</td>\n",
       "      <td>0.077317</td>\n",
       "      <td>-0.020101</td>\n",
       "      <td>0.817455</td>\n",
       "    </tr>\n",
       "    <tr>\n",
       "      <th>Otu000011</th>\n",
       "      <td>6.414261</td>\n",
       "      <td>0.013954</td>\n",
       "      <td>-0.153480</td>\n",
       "      <td>0.078140</td>\n",
       "    </tr>\n",
       "    <tr>\n",
       "      <th>Otu000012</th>\n",
       "      <td>2.776145</td>\n",
       "      <td>0.100891</td>\n",
       "      <td>-0.044997</td>\n",
       "      <td>0.605620</td>\n",
       "    </tr>\n",
       "    <tr>\n",
       "      <th>Otu000016</th>\n",
       "      <td>4.692265</td>\n",
       "      <td>0.034282</td>\n",
       "      <td>-0.116495</td>\n",
       "      <td>0.181412</td>\n",
       "    </tr>\n",
       "  </tbody>\n",
       "</table>\n",
       "</div>"
      ],
      "text/plain": [
       "              f_regr   p-value   kendall  p_kendall\n",
       "Otu000001  19.514141  0.000042 -0.368157   0.000024\n",
       "Otu000004   3.282859  0.075012 -0.296218   0.000670\n",
       "Otu000005   0.480143  0.491031  0.052437   0.547573\n",
       "Otu000006   1.192268  0.279238 -0.225913   0.017077\n",
       "Otu000007   7.367091  0.008660 -0.178401   0.040647\n",
       "Otu000009   1.765670  0.188950  0.005826   0.946723\n",
       "Otu000010   3.230375  0.077317 -0.020101   0.817455\n",
       "Otu000011   6.414261  0.013954 -0.153480   0.078140\n",
       "Otu000012   2.776145  0.100891 -0.044997   0.605620\n",
       "Otu000016   4.692265  0.034282 -0.116495   0.181412"
      ]
     },
     "metadata": {},
     "output_type": "display_data"
    }
   ],
   "source": [
    "f_regr, f_regr_p = f_regression(data_stand.loc[:,otus],hna)\n",
    "kendall = np.zeros(len(otus))\n",
    "p_kendall = np.zeros(len(otus))\n",
    "for i in np.arange(0,len(otus)):\n",
    "    kendall[i], p_kendall[i] = kendalltau(data_stand.loc[:,otus[i]],hna)\n",
    "uni_fs = pd.DataFrame(f_regr, index=otus, columns = ['f_regr'])\n",
    "uni_fs['p-value'] = f_regr_p\n",
    "uni_fs['kendall'] = kendall\n",
    "uni_fs['p_kendall'] = p_kendall\n",
    "display(uni_fs.head(10))"
   ]
  },
  {
   "cell_type": "markdown",
   "metadata": {},
   "source": [
    "Select otu's based on $p < \\text{thr}$: "
   ]
  },
  {
   "cell_type": "code",
   "execution_count": 9,
   "metadata": {
    "scrolled": false
   },
   "outputs": [
    {
     "name": "stdout",
     "output_type": "stream",
     "text": [
      "Total OTUs: 1745\n",
      "Number of selected OTUs using Kendall tau with p < 0.05: 505\n",
      "Number of selected OTUs using Kendall tau with p < 0.01: 291\n"
     ]
    }
   ],
   "source": [
    "print('Total OTUs: ' + str(len(otus)))\n",
    "uni_fs_selected_f = uni_fs[uni_fs.loc[:,'p_kendall'].values < 0.05]\n",
    "print('Number of selected OTUs using Kendall tau with p < 0.05: ' + str(len(uni_fs_selected_f)))\n",
    "uni_fs_selected_f = uni_fs[uni_fs.loc[:,'p_kendall'].values < 0.01]\n",
    "print('Number of selected OTUs using Kendall tau with p < 0.01: ' + str(len(uni_fs_selected_f)))"
   ]
  },
  {
   "cell_type": "markdown",
   "metadata": {},
   "source": [
    "What happens when we tune a threshold in function of the f_score: "
   ]
  },
  {
   "cell_type": "code",
   "execution_count": 10,
   "metadata": {},
   "outputs": [
    {
     "name": "stderr",
     "output_type": "stream",
     "text": [
      "/home/prubbens/miniconda3/lib/python3.6/site-packages/sklearn/linear_model/coordinate_descent.py:491: ConvergenceWarning: Objective did not converge. You might want to increase the number of iterations. Fitting data with very small alpha may cause precision problems.\n",
      "  ConvergenceWarning)\n",
      "/home/prubbens/miniconda3/lib/python3.6/site-packages/sklearn/linear_model/coordinate_descent.py:491: ConvergenceWarning: Objective did not converge. You might want to increase the number of iterations. Fitting data with very small alpha may cause precision problems.\n",
      "  ConvergenceWarning)\n",
      "/home/prubbens/miniconda3/lib/python3.6/site-packages/sklearn/linear_model/coordinate_descent.py:491: ConvergenceWarning: Objective did not converge. You might want to increase the number of iterations. Fitting data with very small alpha may cause precision problems.\n",
      "  ConvergenceWarning)\n",
      "/home/prubbens/miniconda3/lib/python3.6/site-packages/sklearn/linear_model/coordinate_descent.py:491: ConvergenceWarning: Objective did not converge. You might want to increase the number of iterations. Fitting data with very small alpha may cause precision problems.\n",
      "  ConvergenceWarning)\n",
      "/home/prubbens/miniconda3/lib/python3.6/site-packages/sklearn/linear_model/coordinate_descent.py:491: ConvergenceWarning: Objective did not converge. You might want to increase the number of iterations. Fitting data with very small alpha may cause precision problems.\n",
      "  ConvergenceWarning)\n",
      "/home/prubbens/miniconda3/lib/python3.6/site-packages/sklearn/linear_model/coordinate_descent.py:491: ConvergenceWarning: Objective did not converge. You might want to increase the number of iterations. Fitting data with very small alpha may cause precision problems.\n",
      "  ConvergenceWarning)\n",
      "/home/prubbens/miniconda3/lib/python3.6/site-packages/sklearn/linear_model/coordinate_descent.py:491: ConvergenceWarning: Objective did not converge. You might want to increase the number of iterations. Fitting data with very small alpha may cause precision problems.\n",
      "  ConvergenceWarning)\n",
      "/home/prubbens/miniconda3/lib/python3.6/site-packages/sklearn/linear_model/coordinate_descent.py:491: ConvergenceWarning: Objective did not converge. You might want to increase the number of iterations. Fitting data with very small alpha may cause precision problems.\n",
      "  ConvergenceWarning)\n",
      "/home/prubbens/miniconda3/lib/python3.6/site-packages/sklearn/linear_model/coordinate_descent.py:491: ConvergenceWarning: Objective did not converge. You might want to increase the number of iterations. Fitting data with very small alpha may cause precision problems.\n",
      "  ConvergenceWarning)\n",
      "/home/prubbens/miniconda3/lib/python3.6/site-packages/sklearn/linear_model/coordinate_descent.py:491: ConvergenceWarning: Objective did not converge. You might want to increase the number of iterations. Fitting data with very small alpha may cause precision problems.\n",
      "  ConvergenceWarning)\n",
      "/home/prubbens/miniconda3/lib/python3.6/site-packages/sklearn/linear_model/coordinate_descent.py:491: ConvergenceWarning: Objective did not converge. You might want to increase the number of iterations. Fitting data with very small alpha may cause precision problems.\n",
      "  ConvergenceWarning)\n",
      "/home/prubbens/miniconda3/lib/python3.6/site-packages/sklearn/linear_model/coordinate_descent.py:491: ConvergenceWarning: Objective did not converge. You might want to increase the number of iterations. Fitting data with very small alpha may cause precision problems.\n",
      "  ConvergenceWarning)\n"
     ]
    }
   ],
   "source": [
    "from analysis_functions import get_r2_scores\n",
    "thr_otu_kendall_hna, r2_otu_kendall_hna = get_r2_scores(data_stand.loc[:,otus], hna, otus, np.abs(uni_fs['kendall']), cv)\n",
    "thr_otu_kendall_lna, r2_otu_kendall_lna = get_r2_scores(data_stand.loc[:,otus], lna, otus, np.abs(uni_fs['kendall']), cv)"
   ]
  },
  {
   "cell_type": "code",
   "execution_count": 11,
   "metadata": {},
   "outputs": [
    {
     "data": {
      "image/png": "[encoded data removed]",
      "text/plain": [
       "<matplotlib.figure.Figure at 0x7f44604587b8>"
      ]
     },
     "metadata": {},
     "output_type": "display_data"
    }
   ],
   "source": [
    "plt.figure()\n",
    "sns.regplot(x=thr_otu_kendall_hna,y=r2_otu_kendall_hna, fit_reg=False, label='HNA')\n",
    "sns.regplot(x=thr_otu_kendall_lna,y=r2_otu_kendall_lna, fit_reg=False, label='LNA')\n",
    "plt.xlabel('Kendall Tau score', size=22)\n",
    "plt.xticks(size=10)\n",
    "plt.ylabel(r'$R^2$', size=22)\n",
    "plt.yticks(size=10)\n",
    "#plt.title('F-test', size=24)\n",
    "plt.legend()\n",
    "plt.show()"
   ]
  },
  {
   "cell_type": "code",
   "execution_count": 12,
   "metadata": {},
   "outputs": [
    {
     "name": "stderr",
     "output_type": "stream",
     "text": [
      "/home/prubbens/miniconda3/lib/python3.6/site-packages/sklearn/utils/deprecation.py:58: DeprecationWarning: Class RandomizedLasso is deprecated; The class RandomizedLasso is deprecated in 0.19 and will be removed in 0.21.\n",
      "  warnings.warn(msg, category=DeprecationWarning)\n"
     ]
    }
   ],
   "source": [
    "from analysis_functions import get_lassoCV_alpha\n",
    "\n",
    "alpha = get_lassoCV_alpha(data_stand.loc[:,otus],hna,otus,cv)\n",
    "    \n",
    "otu_scores = pd.DataFrame(perform_randomizedLasso(data_stand.loc[:,otus], hna, alpha), index=otus, columns=['score'])\n",
    "otu_scores.sort_values(ascending=False,inplace=True, by='score')\n",
    "\n",
    "thr_otu_scores_hna, r2_otu_scores_hna = get_r2_scores(data_stand.loc[:,otus], hna, otus, otu_scores, cv)\n",
    "thr_otu_scores_lna, r2_otu_scores_lna = get_r2_scores(data_stand.loc[:,otus], lna, otus, otu_scores, cv)"
   ]
  },
  {
   "cell_type": "code",
   "execution_count": 13,
   "metadata": {},
   "outputs": [
    {
     "data": {
      "image/png": "[encoded data removed]",
      "text/plain": [
       "<matplotlib.figure.Figure at 0x7f44603dc278>"
      ]
     },
     "metadata": {},
     "output_type": "display_data"
    }
   ],
   "source": [
    "plt.figure()\n",
    "sns.regplot(x=thr_otu_scores_hna,y=r2_otu_scores_hna, fit_reg=False, label='HNA')\n",
    "sns.regplot(x=thr_otu_scores_lna,y=r2_otu_scores_lna, fit_reg=False, label='LNA')\n",
    "plt.axis([-0.005,1.005,0,1])\n",
    "plt.xlabel('Score', size=22)\n",
    "plt.xticks(size=10)\n",
    "plt.ylabel(r'$R^2$', size=22)\n",
    "plt.yticks(size=10)\n",
    "plt.legend()\n",
    "plt.title('Stability Selection HNA', size=24)\n",
    "plt.show()"
   ]
  },
  {
   "cell_type": "code",
   "execution_count": 14,
   "metadata": {},
   "outputs": [
    {
     "name": "stdout",
     "output_type": "stream",
     "text": [
      "R²_cv(hna): 0.893075777279\n",
      "Threshold score: 0.18\n"
     ]
    }
   ],
   "source": [
    "r2_final = r2_otu_scores_hna.max()\n",
    "thr = thr_otu_scores_hna[r2_otu_scores_hna.argmax()]\n",
    "print('R²_cv(hna): ' + str(r2_final) )\n",
    "print('Threshold score: ' + str(thr))"
   ]
  },
  {
   "cell_type": "code",
   "execution_count": 15,
   "metadata": {},
   "outputs": [],
   "source": [
    "otu_scores = otu_scores.assign(abun_abs_mean = data_abs.loc[:,otus].mean())\n",
    "otu_scores = otu_scores.assign(abun_abs_CV = data_abs.loc[:,otus].std()/data_abs.loc[:,otus].mean())\n",
    "otu_scores =  otu_scores.assign(abun_rel_mean = data_rel.loc[:,otus].mean())\n",
    "otu_scores = otu_scores.assign(abun_rel_CV = data_rel.loc[:,otus].std()/data_rel.loc[:,otus].mean())\n",
    "otu_scores['kendall'] = uni_fs.loc[otu_scores.index,'kendall']\n",
    "otu_scores['p_kendall'] = uni_fs.loc[otu_scores.index,'p_kendall']\n",
    "otu_scores.to_csv('Final/hnascores_otus_1seq3_rel_Inland.csv')"
   ]
  },
  {
   "cell_type": "code",
   "execution_count": 16,
   "metadata": {},
   "outputs": [
    {
     "data": {
      "text/html": [
       "<div>\n",
       "<style scoped>\n",
       "    .dataframe tbody tr th:only-of-type {\n",
       "        vertical-align: middle;\n",
       "    }\n",
       "\n",
       "    .dataframe tbody tr th {\n",
       "        vertical-align: top;\n",
       "    }\n",
       "\n",
       "    .dataframe thead th {\n",
       "        text-align: right;\n",
       "    }\n",
       "</style>\n",
       "<table border=\"1\" class=\"dataframe\">\n",
       "  <thead>\n",
       "    <tr style=\"text-align: right;\">\n",
       "      <th></th>\n",
       "      <th>score</th>\n",
       "      <th>abun_abs_mean</th>\n",
       "      <th>abun_abs_CV</th>\n",
       "      <th>abun_rel_mean</th>\n",
       "      <th>abun_rel_CV</th>\n",
       "      <th>kendall</th>\n",
       "      <th>p_kendall</th>\n",
       "    </tr>\n",
       "  </thead>\n",
       "  <tbody>\n",
       "    <tr>\n",
       "      <th>Otu000173</th>\n",
       "      <td>0.448</td>\n",
       "      <td>6329.107078</td>\n",
       "      <td>1.479620</td>\n",
       "      <td>0.000889</td>\n",
       "      <td>1.388295</td>\n",
       "      <td>0.242397</td>\n",
       "      <td>8.019362e-03</td>\n",
       "    </tr>\n",
       "    <tr>\n",
       "      <th>Otu002070</th>\n",
       "      <td>0.424</td>\n",
       "      <td>185.833811</td>\n",
       "      <td>2.313506</td>\n",
       "      <td>0.000039</td>\n",
       "      <td>2.402843</td>\n",
       "      <td>-0.369975</td>\n",
       "      <td>2.950632e-04</td>\n",
       "    </tr>\n",
       "    <tr>\n",
       "      <th>Otu000369</th>\n",
       "      <td>0.424</td>\n",
       "      <td>3236.631009</td>\n",
       "      <td>2.186051</td>\n",
       "      <td>0.000661</td>\n",
       "      <td>2.086863</td>\n",
       "      <td>-0.498981</td>\n",
       "      <td>2.264137e-07</td>\n",
       "    </tr>\n",
       "    <tr>\n",
       "      <th>Otu001087</th>\n",
       "      <td>0.410</td>\n",
       "      <td>1136.808725</td>\n",
       "      <td>1.691057</td>\n",
       "      <td>0.000282</td>\n",
       "      <td>2.271414</td>\n",
       "      <td>-0.297685</td>\n",
       "      <td>2.040162e-03</td>\n",
       "    </tr>\n",
       "    <tr>\n",
       "      <th>Otu000074</th>\n",
       "      <td>0.408</td>\n",
       "      <td>11234.630483</td>\n",
       "      <td>0.935462</td>\n",
       "      <td>0.002205</td>\n",
       "      <td>1.089695</td>\n",
       "      <td>-0.239651</td>\n",
       "      <td>6.883214e-03</td>\n",
       "    </tr>\n",
       "    <tr>\n",
       "      <th>Otu000001</th>\n",
       "      <td>0.386</td>\n",
       "      <td>327179.003506</td>\n",
       "      <td>0.668937</td>\n",
       "      <td>0.052272</td>\n",
       "      <td>0.513726</td>\n",
       "      <td>-0.368157</td>\n",
       "      <td>2.361564e-05</td>\n",
       "    </tr>\n",
       "    <tr>\n",
       "      <th>Otu000436</th>\n",
       "      <td>0.356</td>\n",
       "      <td>6973.976635</td>\n",
       "      <td>2.375965</td>\n",
       "      <td>0.001365</td>\n",
       "      <td>2.524952</td>\n",
       "      <td>-0.346927</td>\n",
       "      <td>4.177023e-04</td>\n",
       "    </tr>\n",
       "    <tr>\n",
       "      <th>Otu003011</th>\n",
       "      <td>0.346</td>\n",
       "      <td>111.799376</td>\n",
       "      <td>3.297074</td>\n",
       "      <td>0.000032</td>\n",
       "      <td>3.320887</td>\n",
       "      <td>-0.319599</td>\n",
       "      <td>1.968307e-03</td>\n",
       "    </tr>\n",
       "    <tr>\n",
       "      <th>Otu000323</th>\n",
       "      <td>0.326</td>\n",
       "      <td>1953.309344</td>\n",
       "      <td>2.886478</td>\n",
       "      <td>0.000258</td>\n",
       "      <td>2.832516</td>\n",
       "      <td>0.261992</td>\n",
       "      <td>9.249311e-03</td>\n",
       "    </tr>\n",
       "    <tr>\n",
       "      <th>Otu000321</th>\n",
       "      <td>0.312</td>\n",
       "      <td>2022.279999</td>\n",
       "      <td>3.307565</td>\n",
       "      <td>0.000624</td>\n",
       "      <td>3.348191</td>\n",
       "      <td>-0.254073</td>\n",
       "      <td>1.289673e-02</td>\n",
       "    </tr>\n",
       "  </tbody>\n",
       "</table>\n",
       "</div>"
      ],
      "text/plain": [
       "           score  abun_abs_mean  abun_abs_CV  abun_rel_mean  abun_rel_CV  \\\n",
       "Otu000173  0.448    6329.107078     1.479620       0.000889     1.388295   \n",
       "Otu002070  0.424     185.833811     2.313506       0.000039     2.402843   \n",
       "Otu000369  0.424    3236.631009     2.186051       0.000661     2.086863   \n",
       "Otu001087  0.410    1136.808725     1.691057       0.000282     2.271414   \n",
       "Otu000074  0.408   11234.630483     0.935462       0.002205     1.089695   \n",
       "Otu000001  0.386  327179.003506     0.668937       0.052272     0.513726   \n",
       "Otu000436  0.356    6973.976635     2.375965       0.001365     2.524952   \n",
       "Otu003011  0.346     111.799376     3.297074       0.000032     3.320887   \n",
       "Otu000323  0.326    1953.309344     2.886478       0.000258     2.832516   \n",
       "Otu000321  0.312    2022.279999     3.307565       0.000624     3.348191   \n",
       "\n",
       "            kendall     p_kendall  \n",
       "Otu000173  0.242397  8.019362e-03  \n",
       "Otu002070 -0.369975  2.950632e-04  \n",
       "Otu000369 -0.498981  2.264137e-07  \n",
       "Otu001087 -0.297685  2.040162e-03  \n",
       "Otu000074 -0.239651  6.883214e-03  \n",
       "Otu000001 -0.368157  2.361564e-05  \n",
       "Otu000436 -0.346927  4.177023e-04  \n",
       "Otu003011 -0.319599  1.968307e-03  \n",
       "Otu000323  0.261992  9.249311e-03  \n",
       "Otu000321 -0.254073  1.289673e-02  "
      ]
     },
     "metadata": {},
     "output_type": "display_data"
    },
    {
     "name": "stdout",
     "output_type": "stream",
     "text": [
      "Size list selected OTUs: 48\n"
     ]
    }
   ],
   "source": [
    "otu_scores_selected = otu_scores[otu_scores.score.values>thr]\n",
    "selected_otus = otu_scores_selected.index\n",
    "otu_scores_selected.to_csv('Final/hnascores_otus_tuned_thr_'+str(thr)+'_1seq3_rel_Inland.csv')\n",
    "display(otu_scores_selected.head(10))\n",
    "print('Size list selected OTUs: ' + str(len(selected_otus)))"
   ]
  },
  {
   "cell_type": "code",
   "execution_count": 17,
   "metadata": {},
   "outputs": [
    {
     "name": "stdout",
     "output_type": "stream",
     "text": [
      "R²_cv of HNA-selected OTUs in function of LNA: -0.182693162805\n"
     ]
    }
   ],
   "source": [
    "print('R²_cv of HNA-selected OTUs in function of LNA: ' + str(r2_otu_scores_lna[r2_otu_scores_hna.argmax()]) )"
   ]
  },
  {
   "cell_type": "code",
   "execution_count": 18,
   "metadata": {},
   "outputs": [
    {
     "data": {
      "image/png": "[encoded data removed]",
      "text/plain": [
       "<matplotlib.figure.Figure at 0x7f44603dc780>"
      ]
     },
     "metadata": {},
     "output_type": "display_data"
    }
   ],
   "source": [
    "plt.figure()\n",
    "sns.regplot(x='abun_rel_mean',y='abun_rel_CV', data=otu_scores_selected)\n",
    "plt.axis([-0.005,0.1,-5,5])\n",
    "plt.xlabel('Avg. Relative Abundance', size=22)\n",
    "plt.xticks(size=10)\n",
    "plt.ylabel('CV(abs)', size=22)\n",
    "plt.yticks(size=10)\n",
    "plt.title('Selected OTUs', size=24)\n",
    "plt.show()"
   ]
  },
  {
   "cell_type": "code",
   "execution_count": 19,
   "metadata": {},
   "outputs": [],
   "source": [
    "#optimal_scores.to_csv('HNA_selectedOTUs_stand_abun_remov' + str(abun)+'_R2'+str(r2_final)+'.csv')"
   ]
  },
  {
   "cell_type": "markdown",
   "metadata": {},
   "source": [
    "**Second goal**: Can we use the same pipeline to predict the _LNA_-counts? "
   ]
  },
  {
   "cell_type": "code",
   "execution_count": 20,
   "metadata": {},
   "outputs": [
    {
     "data": {
      "text/html": [
       "<div>\n",
       "<style scoped>\n",
       "    .dataframe tbody tr th:only-of-type {\n",
       "        vertical-align: middle;\n",
       "    }\n",
       "\n",
       "    .dataframe tbody tr th {\n",
       "        vertical-align: top;\n",
       "    }\n",
       "\n",
       "    .dataframe thead th {\n",
       "        text-align: right;\n",
       "    }\n",
       "</style>\n",
       "<table border=\"1\" class=\"dataframe\">\n",
       "  <thead>\n",
       "    <tr style=\"text-align: right;\">\n",
       "      <th></th>\n",
       "      <th>f_regr</th>\n",
       "      <th>p-value</th>\n",
       "      <th>kendall</th>\n",
       "      <th>p_kendall</th>\n",
       "    </tr>\n",
       "  </thead>\n",
       "  <tbody>\n",
       "    <tr>\n",
       "      <th>Otu000001</th>\n",
       "      <td>4.303166</td>\n",
       "      <td>0.000042</td>\n",
       "      <td>0.137530</td>\n",
       "      <td>0.114269</td>\n",
       "    </tr>\n",
       "    <tr>\n",
       "      <th>Otu000004</th>\n",
       "      <td>0.197107</td>\n",
       "      <td>0.075012</td>\n",
       "      <td>-0.029622</td>\n",
       "      <td>0.733740</td>\n",
       "    </tr>\n",
       "    <tr>\n",
       "      <th>Otu000005</th>\n",
       "      <td>1.260697</td>\n",
       "      <td>0.491031</td>\n",
       "      <td>0.222988</td>\n",
       "      <td>0.010544</td>\n",
       "    </tr>\n",
       "    <tr>\n",
       "      <th>Otu000006</th>\n",
       "      <td>1.229003</td>\n",
       "      <td>0.279238</td>\n",
       "      <td>-0.281465</td>\n",
       "      <td>0.002963</td>\n",
       "    </tr>\n",
       "    <tr>\n",
       "      <th>Otu000007</th>\n",
       "      <td>2.110365</td>\n",
       "      <td>0.008660</td>\n",
       "      <td>0.118052</td>\n",
       "      <td>0.175539</td>\n",
       "    </tr>\n",
       "    <tr>\n",
       "      <th>Otu000009</th>\n",
       "      <td>0.452909</td>\n",
       "      <td>0.188950</td>\n",
       "      <td>0.082098</td>\n",
       "      <td>0.346398</td>\n",
       "    </tr>\n",
       "    <tr>\n",
       "      <th>Otu000010</th>\n",
       "      <td>3.080388</td>\n",
       "      <td>0.077317</td>\n",
       "      <td>0.211584</td>\n",
       "      <td>0.015112</td>\n",
       "    </tr>\n",
       "    <tr>\n",
       "      <th>Otu000011</th>\n",
       "      <td>1.023795</td>\n",
       "      <td>0.013954</td>\n",
       "      <td>0.115374</td>\n",
       "      <td>0.185429</td>\n",
       "    </tr>\n",
       "    <tr>\n",
       "      <th>Otu000012</th>\n",
       "      <td>0.001030</td>\n",
       "      <td>0.100891</td>\n",
       "      <td>0.037586</td>\n",
       "      <td>0.666256</td>\n",
       "    </tr>\n",
       "    <tr>\n",
       "      <th>Otu000016</th>\n",
       "      <td>1.007700</td>\n",
       "      <td>0.034282</td>\n",
       "      <td>0.140853</td>\n",
       "      <td>0.106126</td>\n",
       "    </tr>\n",
       "  </tbody>\n",
       "</table>\n",
       "</div>"
      ],
      "text/plain": [
       "             f_regr   p-value   kendall  p_kendall\n",
       "Otu000001  4.303166  0.000042  0.137530   0.114269\n",
       "Otu000004  0.197107  0.075012 -0.029622   0.733740\n",
       "Otu000005  1.260697  0.491031  0.222988   0.010544\n",
       "Otu000006  1.229003  0.279238 -0.281465   0.002963\n",
       "Otu000007  2.110365  0.008660  0.118052   0.175539\n",
       "Otu000009  0.452909  0.188950  0.082098   0.346398\n",
       "Otu000010  3.080388  0.077317  0.211584   0.015112\n",
       "Otu000011  1.023795  0.013954  0.115374   0.185429\n",
       "Otu000012  0.001030  0.100891  0.037586   0.666256\n",
       "Otu000016  1.007700  0.034282  0.140853   0.106126"
      ]
     },
     "metadata": {},
     "output_type": "display_data"
    }
   ],
   "source": [
    "f_regr_lna, f_regr_p_lna = f_regression(data_stand.loc[:,otus],lna)\n",
    "uni_fs_lna = pd.DataFrame(f_regr_lna, index=otus, columns = ['f_regr'])\n",
    "uni_fs_lna['p-value'] = f_regr_p_lna\n",
    "kendall = np.zeros(len(otus))\n",
    "p_kendall = np.zeros(len(otus))\n",
    "for i in np.arange(0,len(otus)):\n",
    "    kendall[i], p_kendall[i] = kendalltau(data_stand.loc[:,otus[i]],lna)\n",
    "uni_fs_lna = pd.DataFrame(f_regr_lna, index=otus, columns = ['f_regr'])\n",
    "uni_fs_lna['p-value'] = f_regr_p\n",
    "uni_fs_lna['kendall'] = kendall\n",
    "uni_fs_lna['p_kendall'] = p_kendall\n",
    "#uni_fs_lna['mi'] = mutual_info_regression(data_stand.loc[:,otus],lna)\n",
    "#uni_fs_lna.sort_values(ascending=False,inplace=True, by='f_regr')\n",
    "display(uni_fs_lna.head(10))"
   ]
  },
  {
   "cell_type": "code",
   "execution_count": 21,
   "metadata": {},
   "outputs": [
    {
     "name": "stdout",
     "output_type": "stream",
     "text": [
      "Number of selected OTUs using kendall tau with p < 0.05: 421\n",
      "Number of selected OTUs using kendall tau with p < 0.01: 234\n"
     ]
    }
   ],
   "source": [
    "uni_fs_selected_f = uni_fs_lna[uni_fs_lna.loc[:,'p_kendall'].values < 0.05]\n",
    "print('Number of selected OTUs using kendall tau with p < 0.05: ' + str(len(uni_fs_selected_f)))\n",
    "uni_fs_selected_f = uni_fs_lna[uni_fs_lna.loc[:,'p_kendall'].values < 0.01]\n",
    "print('Number of selected OTUs using kendall tau with p < 0.01: ' + str(len(uni_fs_selected_f)))"
   ]
  },
  {
   "cell_type": "code",
   "execution_count": 22,
   "metadata": {},
   "outputs": [],
   "source": [
    "thr_otu_kendall_lna, r2_otu_kendall_lna = get_r2_scores(data_stand.loc[:,otus], lna, otus, np.absolute(uni_fs_lna['kendall']), cv)\n",
    "thr_otu_kendall_hna, r2_otu_kendall_hna = get_r2_scores(data_stand.loc[:,otus], hna, otus, np.absolute(uni_fs_lna['kendall']), cv)"
   ]
  },
  {
   "cell_type": "code",
   "execution_count": 23,
   "metadata": {},
   "outputs": [
    {
     "data": {
      "image/png": "[encoded data removed]",
      "text/plain": [
       "<matplotlib.figure.Figure at 0x7f44602f4240>"
      ]
     },
     "metadata": {},
     "output_type": "display_data"
    }
   ],
   "source": [
    "plt.figure()\n",
    "sns.regplot(x=thr_otu_kendall_hna,y=r2_otu_kendall_hna, fit_reg=False, label='HNA')\n",
    "sns.regplot(x=thr_otu_kendall_lna,y=r2_otu_kendall_lna, fit_reg=False, label='LNA')\n",
    "plt.xlabel('Kendall tau', size=22)\n",
    "plt.xticks(size=10)\n",
    "plt.ylabel(r'$R^2$', size=22)\n",
    "plt.yticks(size=10)\n",
    "#plt.title('Spearman correlation', size=24)\n",
    "plt.legend()\n",
    "plt.show()"
   ]
  },
  {
   "cell_type": "code",
   "execution_count": 24,
   "metadata": {},
   "outputs": [
    {
     "name": "stderr",
     "output_type": "stream",
     "text": [
      "/home/prubbens/miniconda3/lib/python3.6/site-packages/sklearn/utils/deprecation.py:58: DeprecationWarning: Class RandomizedLasso is deprecated; The class RandomizedLasso is deprecated in 0.19 and will be removed in 0.21.\n",
      "  warnings.warn(msg, category=DeprecationWarning)\n"
     ]
    }
   ],
   "source": [
    "#alpha = get_lassoCV_alpha(data_stand.loc[:,otus],lna,otus,cv)\n",
    "otu_scores_lna = pd.DataFrame(perform_randomizedLasso(data_stand.loc[:,otus], lna, 'bic'), index=otus, columns=['score'])\n",
    "otu_scores_lna.sort_values(ascending=False, inplace=True, by='score')\n",
    "\n",
    "thr_otu_scores_lna, r2_otu_scores_lna = get_r2_scores(data_stand.loc[:,otus], lna, otus, otu_scores_lna, cv)\n",
    "thr_otu_scores_hna, r2_otu_scores_hna = get_r2_scores(data_stand.loc[:,otus], hna, otus, otu_scores_lna, cv)"
   ]
  },
  {
   "cell_type": "code",
   "execution_count": 25,
   "metadata": {},
   "outputs": [
    {
     "data": {
      "image/png": "[encoded data removed]",
      "text/plain": [
       "<matplotlib.figure.Figure at 0x7f4460340c88>"
      ]
     },
     "metadata": {},
     "output_type": "display_data"
    }
   ],
   "source": [
    "plt.figure()\n",
    "sns.regplot(x=thr_otu_scores_hna,y=r2_otu_scores_hna, fit_reg=False, label='HNA')\n",
    "sns.regplot(x=thr_otu_scores_lna,y=r2_otu_scores_lna, fit_reg=False, label='LNA')\n",
    "plt.axis([-0.005,1.005,0,1])\n",
    "plt.xlabel('Score', size=22)\n",
    "plt.xticks(size=10)\n",
    "plt.ylabel(r'$R^2$', size=22)\n",
    "plt.yticks(size=10)\n",
    "plt.legend()\n",
    "plt.title('Stability Selection LNA', size=24)\n",
    "plt.show()"
   ]
  },
  {
   "cell_type": "code",
   "execution_count": 26,
   "metadata": {},
   "outputs": [
    {
     "name": "stdout",
     "output_type": "stream",
     "text": [
      "R²_cv(lna): 0.876713542185\n",
      "Threshold score: 0.21\n"
     ]
    }
   ],
   "source": [
    "r2_final = r2_otu_scores_lna.max()\n",
    "thr_lna = thr_otu_scores_lna[r2_otu_scores_lna.argmax()]\n",
    "print('R²_cv(lna): ' + str(r2_final) )\n",
    "print('Threshold score: ' + str(thr_lna))"
   ]
  },
  {
   "cell_type": "code",
   "execution_count": 27,
   "metadata": {},
   "outputs": [],
   "source": [
    "otu_scores_lna = otu_scores_lna.assign(abun_abs_mean = data_abs.loc[:,otus].mean())\n",
    "otu_scores_lna = otu_scores_lna.assign(abun_abs_CV = data_abs.loc[:,otus].std()/data_abs.loc[:,otus].mean())\n",
    "otu_scores_lna =  otu_scores_lna.assign(abun_rel_mean = data_rel.loc[:,otus].mean())\n",
    "otu_scores_lna = otu_scores_lna.assign(abun_rel_CV = data_rel.loc[:,otus].std()/data_rel.loc[:,otus].mean())\n",
    "otu_scores_lna['kendall'] = uni_fs_lna.loc[otu_scores.index,'kendall']\n",
    "otu_scores_lna['p_kendall'] = uni_fs_lna.loc[otu_scores.index,'p_kendall']\n",
    "otu_scores_lna.to_csv('Final/lnascores_otus_1seq3_rel_Inland.csv')"
   ]
  },
  {
   "cell_type": "code",
   "execution_count": 28,
   "metadata": {},
   "outputs": [
    {
     "name": "stdout",
     "output_type": "stream",
     "text": [
      "Size list selected OTUs: 32\n"
     ]
    },
    {
     "data": {
      "text/html": [
       "<div>\n",
       "<style scoped>\n",
       "    .dataframe tbody tr th:only-of-type {\n",
       "        vertical-align: middle;\n",
       "    }\n",
       "\n",
       "    .dataframe tbody tr th {\n",
       "        vertical-align: top;\n",
       "    }\n",
       "\n",
       "    .dataframe thead th {\n",
       "        text-align: right;\n",
       "    }\n",
       "</style>\n",
       "<table border=\"1\" class=\"dataframe\">\n",
       "  <thead>\n",
       "    <tr style=\"text-align: right;\">\n",
       "      <th></th>\n",
       "      <th>score</th>\n",
       "      <th>abun_abs_mean</th>\n",
       "      <th>abun_abs_CV</th>\n",
       "      <th>abun_rel_mean</th>\n",
       "      <th>abun_rel_CV</th>\n",
       "      <th>kendall</th>\n",
       "      <th>p_kendall</th>\n",
       "    </tr>\n",
       "  </thead>\n",
       "  <tbody>\n",
       "    <tr>\n",
       "      <th>Otu000053</th>\n",
       "      <td>0.470</td>\n",
       "      <td>44073.158209</td>\n",
       "      <td>1.151627</td>\n",
       "      <td>0.006162</td>\n",
       "      <td>0.944753</td>\n",
       "      <td>0.418204</td>\n",
       "      <td>1.780165e-06</td>\n",
       "    </tr>\n",
       "    <tr>\n",
       "      <th>Otu000169</th>\n",
       "      <td>0.462</td>\n",
       "      <td>11987.322192</td>\n",
       "      <td>1.200444</td>\n",
       "      <td>0.001626</td>\n",
       "      <td>0.994397</td>\n",
       "      <td>0.447647</td>\n",
       "      <td>4.293433e-07</td>\n",
       "    </tr>\n",
       "    <tr>\n",
       "      <th>Otu000269</th>\n",
       "      <td>0.458</td>\n",
       "      <td>3413.840977</td>\n",
       "      <td>2.531111</td>\n",
       "      <td>0.000382</td>\n",
       "      <td>2.549870</td>\n",
       "      <td>0.475469</td>\n",
       "      <td>2.105986e-06</td>\n",
       "    </tr>\n",
       "    <tr>\n",
       "      <th>Otu000346</th>\n",
       "      <td>0.422</td>\n",
       "      <td>1691.841725</td>\n",
       "      <td>2.172202</td>\n",
       "      <td>0.000340</td>\n",
       "      <td>2.009373</td>\n",
       "      <td>-0.394303</td>\n",
       "      <td>4.739057e-05</td>\n",
       "    </tr>\n",
       "    <tr>\n",
       "      <th>Otu000204</th>\n",
       "      <td>0.380</td>\n",
       "      <td>7558.139582</td>\n",
       "      <td>1.358053</td>\n",
       "      <td>0.001527</td>\n",
       "      <td>1.525221</td>\n",
       "      <td>-0.364535</td>\n",
       "      <td>4.952362e-05</td>\n",
       "    </tr>\n",
       "    <tr>\n",
       "      <th>Otu001959</th>\n",
       "      <td>0.364</td>\n",
       "      <td>121.021118</td>\n",
       "      <td>3.011498</td>\n",
       "      <td>0.000013</td>\n",
       "      <td>2.971518</td>\n",
       "      <td>0.396570</td>\n",
       "      <td>1.514651e-04</td>\n",
       "    </tr>\n",
       "    <tr>\n",
       "      <th>Otu000355</th>\n",
       "      <td>0.348</td>\n",
       "      <td>13332.860013</td>\n",
       "      <td>1.583563</td>\n",
       "      <td>0.001739</td>\n",
       "      <td>1.448491</td>\n",
       "      <td>0.412794</td>\n",
       "      <td>9.136554e-06</td>\n",
       "    </tr>\n",
       "    <tr>\n",
       "      <th>Otu000074</th>\n",
       "      <td>0.344</td>\n",
       "      <td>11234.630483</td>\n",
       "      <td>0.935462</td>\n",
       "      <td>0.002205</td>\n",
       "      <td>1.089695</td>\n",
       "      <td>-0.230995</td>\n",
       "      <td>9.191794e-03</td>\n",
       "    </tr>\n",
       "    <tr>\n",
       "      <th>Otu000860</th>\n",
       "      <td>0.336</td>\n",
       "      <td>67.131539</td>\n",
       "      <td>3.177126</td>\n",
       "      <td>0.000018</td>\n",
       "      <td>2.979722</td>\n",
       "      <td>-0.361246</td>\n",
       "      <td>5.125050e-04</td>\n",
       "    </tr>\n",
       "    <tr>\n",
       "      <th>Otu000067</th>\n",
       "      <td>0.336</td>\n",
       "      <td>10932.930626</td>\n",
       "      <td>1.552892</td>\n",
       "      <td>0.002419</td>\n",
       "      <td>1.817477</td>\n",
       "      <td>-0.234165</td>\n",
       "      <td>1.032975e-02</td>\n",
       "    </tr>\n",
       "  </tbody>\n",
       "</table>\n",
       "</div>"
      ],
      "text/plain": [
       "           score  abun_abs_mean  abun_abs_CV  abun_rel_mean  abun_rel_CV  \\\n",
       "Otu000053  0.470   44073.158209     1.151627       0.006162     0.944753   \n",
       "Otu000169  0.462   11987.322192     1.200444       0.001626     0.994397   \n",
       "Otu000269  0.458    3413.840977     2.531111       0.000382     2.549870   \n",
       "Otu000346  0.422    1691.841725     2.172202       0.000340     2.009373   \n",
       "Otu000204  0.380    7558.139582     1.358053       0.001527     1.525221   \n",
       "Otu001959  0.364     121.021118     3.011498       0.000013     2.971518   \n",
       "Otu000355  0.348   13332.860013     1.583563       0.001739     1.448491   \n",
       "Otu000074  0.344   11234.630483     0.935462       0.002205     1.089695   \n",
       "Otu000860  0.336      67.131539     3.177126       0.000018     2.979722   \n",
       "Otu000067  0.336   10932.930626     1.552892       0.002419     1.817477   \n",
       "\n",
       "            kendall     p_kendall  \n",
       "Otu000053  0.418204  1.780165e-06  \n",
       "Otu000169  0.447647  4.293433e-07  \n",
       "Otu000269  0.475469  2.105986e-06  \n",
       "Otu000346 -0.394303  4.739057e-05  \n",
       "Otu000204 -0.364535  4.952362e-05  \n",
       "Otu001959  0.396570  1.514651e-04  \n",
       "Otu000355  0.412794  9.136554e-06  \n",
       "Otu000074 -0.230995  9.191794e-03  \n",
       "Otu000860 -0.361246  5.125050e-04  \n",
       "Otu000067 -0.234165  1.032975e-02  "
      ]
     },
     "metadata": {},
     "output_type": "display_data"
    }
   ],
   "source": [
    "otu_scores_selected_lna = otu_scores_lna[otu_scores_lna.score.values>thr_lna]\n",
    "selected_otus_lna = otu_scores_selected_lna.index\n",
    "print('Size list selected OTUs: ' + str(len(selected_otus_lna)))\n",
    "otu_scores_selected_lna.to_csv('Final/lnascores_otus_tuned_thr_'+str(thr_lna)+'_1seq3_rel_Inland.csv')\n",
    "display(otu_scores_selected_lna.head(10))"
   ]
  },
  {
   "cell_type": "code",
   "execution_count": 29,
   "metadata": {},
   "outputs": [
    {
     "name": "stdout",
     "output_type": "stream",
     "text": [
      "R²_cv of LNA-selected OTUs in function of HNA: -0.0548583513231\n"
     ]
    }
   ],
   "source": [
    "print('R²_cv of LNA-selected OTUs in function of HNA: ' + str(r2_otu_scores_hna[r2_otu_scores_lna.argmax()]) )"
   ]
  },
  {
   "cell_type": "code",
   "execution_count": 30,
   "metadata": {},
   "outputs": [
    {
     "data": {
      "image/png": "[encoded data removed]",
      "text/plain": [
       "<matplotlib.figure.Figure at 0x7f44604353c8>"
      ]
     },
     "metadata": {},
     "output_type": "display_data"
    }
   ],
   "source": [
    "plt.figure()\n",
    "sns.regplot(x='abun_abs_mean',y='abun_abs_CV', data=otu_scores_selected_lna)\n",
    "plt.axis([0,400000,-5,5])\n",
    "plt.xlabel('mean(abs)', size=22)\n",
    "plt.xticks(size=10)\n",
    "plt.ylabel('CV(abs)', size=22)\n",
    "plt.yticks(size=10)\n",
    "plt.show()"
   ]
  },
  {
   "cell_type": "markdown",
   "metadata": {},
   "source": [
    "Let's compare the HNA- and LNA-lists, which OTU's are shared (_common_) and which are only part of the HNA- or LNA subset?: "
   ]
  },
  {
   "cell_type": "code",
   "execution_count": 31,
   "metadata": {},
   "outputs": [
    {
     "name": "stdout",
     "output_type": "stream",
     "text": [
      "Size subset OTUs only related to HNA: 42; opposed to total size: 48\n",
      "Size subset OTUs only related to LNA: 26; opposed to total size: 32\n",
      "Size subset OTUs related to both: 6\n"
     ]
    },
    {
     "data": {
      "text/html": [
       "<div>\n",
       "<style scoped>\n",
       "    .dataframe tbody tr th:only-of-type {\n",
       "        vertical-align: middle;\n",
       "    }\n",
       "\n",
       "    .dataframe tbody tr th {\n",
       "        vertical-align: top;\n",
       "    }\n",
       "\n",
       "    .dataframe thead th {\n",
       "        text-align: right;\n",
       "    }\n",
       "</style>\n",
       "<table border=\"1\" class=\"dataframe\">\n",
       "  <thead>\n",
       "    <tr style=\"text-align: right;\">\n",
       "      <th></th>\n",
       "      <th>score</th>\n",
       "      <th>abun_abs_mean</th>\n",
       "      <th>abun_abs_CV</th>\n",
       "      <th>abun_rel_mean</th>\n",
       "      <th>abun_rel_CV</th>\n",
       "      <th>kendall</th>\n",
       "      <th>p_kendall</th>\n",
       "    </tr>\n",
       "  </thead>\n",
       "  <tbody>\n",
       "    <tr>\n",
       "      <th>Otu001087</th>\n",
       "      <td>0.248</td>\n",
       "      <td>1136.808725</td>\n",
       "      <td>1.691057</td>\n",
       "      <td>0.000282</td>\n",
       "      <td>2.271414</td>\n",
       "      <td>-0.278015</td>\n",
       "      <td>0.003970</td>\n",
       "    </tr>\n",
       "    <tr>\n",
       "      <th>Otu000074</th>\n",
       "      <td>0.344</td>\n",
       "      <td>11234.630483</td>\n",
       "      <td>0.935462</td>\n",
       "      <td>0.002205</td>\n",
       "      <td>1.089695</td>\n",
       "      <td>-0.230995</td>\n",
       "      <td>0.009192</td>\n",
       "    </tr>\n",
       "    <tr>\n",
       "      <th>Otu003011</th>\n",
       "      <td>0.326</td>\n",
       "      <td>111.799376</td>\n",
       "      <td>3.297074</td>\n",
       "      <td>0.000032</td>\n",
       "      <td>3.320887</td>\n",
       "      <td>-0.342510</td>\n",
       "      <td>0.000910</td>\n",
       "    </tr>\n",
       "    <tr>\n",
       "      <th>Otu000204</th>\n",
       "      <td>0.380</td>\n",
       "      <td>7558.139582</td>\n",
       "      <td>1.358053</td>\n",
       "      <td>0.001527</td>\n",
       "      <td>1.525221</td>\n",
       "      <td>-0.364535</td>\n",
       "      <td>0.000050</td>\n",
       "    </tr>\n",
       "    <tr>\n",
       "      <th>Otu006399</th>\n",
       "      <td>0.214</td>\n",
       "      <td>102.172406</td>\n",
       "      <td>3.551802</td>\n",
       "      <td>0.000012</td>\n",
       "      <td>3.249315</td>\n",
       "      <td>0.143211</td>\n",
       "      <td>0.171338</td>\n",
       "    </tr>\n",
       "    <tr>\n",
       "      <th>Otu006667</th>\n",
       "      <td>0.282</td>\n",
       "      <td>124.762748</td>\n",
       "      <td>2.774436</td>\n",
       "      <td>0.000015</td>\n",
       "      <td>2.746159</td>\n",
       "      <td>0.332556</td>\n",
       "      <td>0.001485</td>\n",
       "    </tr>\n",
       "  </tbody>\n",
       "</table>\n",
       "</div>"
      ],
      "text/plain": [
       "           score  abun_abs_mean  abun_abs_CV  abun_rel_mean  abun_rel_CV  \\\n",
       "Otu001087  0.248    1136.808725     1.691057       0.000282     2.271414   \n",
       "Otu000074  0.344   11234.630483     0.935462       0.002205     1.089695   \n",
       "Otu003011  0.326     111.799376     3.297074       0.000032     3.320887   \n",
       "Otu000204  0.380    7558.139582     1.358053       0.001527     1.525221   \n",
       "Otu006399  0.214     102.172406     3.551802       0.000012     3.249315   \n",
       "Otu006667  0.282     124.762748     2.774436       0.000015     2.746159   \n",
       "\n",
       "            kendall  p_kendall  \n",
       "Otu001087 -0.278015   0.003970  \n",
       "Otu000074 -0.230995   0.009192  \n",
       "Otu003011 -0.342510   0.000910  \n",
       "Otu000204 -0.364535   0.000050  \n",
       "Otu006399  0.143211   0.171338  \n",
       "Otu006667  0.332556   0.001485  "
      ]
     },
     "metadata": {},
     "output_type": "display_data"
    }
   ],
   "source": [
    "idx_hna = otu_scores_selected.index.difference(otu_scores_selected_lna.index)\n",
    "idx_lna = otu_scores_selected_lna.index.difference(otu_scores_selected.index)\n",
    "idx_common = otu_scores_selected.drop(idx_hna).index\n",
    "pd.Series(idx_common).to_csv('commonOTU_HNALNA_rel.csv')\n",
    "print('Size subset OTUs only related to HNA: ' + str(len(idx_hna)) + '; opposed to total size: ' + str(len(otu_scores_selected)))\n",
    "print('Size subset OTUs only related to LNA: ' + str(len(idx_lna)) + '; opposed to total size: ' + str(len(otu_scores_selected_lna)))\n",
    "print('Size subset OTUs related to both: ' + str(len(idx_common)))\n",
    "\n",
    "display(otu_scores_selected_lna.loc[idx_common,:])\n",
    "#data_abs_raw = pd.read_csv('data/Chloroplasts_removed/nochloro_absolute_otu.tsv', sep=' ', index_col=None, header=0)\n",
    "#data_abs_raw = data_abs_raw.loc[index,:]\n",
    "#display(data_abs_raw.loc[:,idx_hna].sum(axis=1).values/hna.values)"
   ]
  },
  {
   "cell_type": "code",
   "execution_count": 32,
   "metadata": {},
   "outputs": [
    {
     "data": {
      "image/png": "[encoded data removed]",
      "text/plain": [
       "<matplotlib.figure.Figure at 0x7f44602c1eb8>"
      ]
     },
     "metadata": {},
     "output_type": "display_data"
    }
   ],
   "source": [
    "plt.figure()\n",
    "sns.regplot(x=otu_scores.loc[:,'score'],y=otu_scores_lna.loc[otu_scores.index,'score'])\n",
    "plt.axis([-0.005,1.005,-0.005,1.005])\n",
    "plt.xlabel('score(HNA)', size=22)\n",
    "plt.xticks(size=10)\n",
    "plt.ylabel('score(LNA)', size=22)\n",
    "plt.yticks(size=10)\n",
    "plt.axhline(y=thr, linewidth=2, linestyle='--', color = 'k')\n",
    "plt.axvline(x=thr_lna, linewidth=2, linestyle='--', color = 'k')\n",
    "plt.show()"
   ]
  },
  {
   "cell_type": "markdown",
   "metadata": {},
   "source": [
    "This figure shows 4 area's: \n",
    "- (left top corner): OTU's selected solely in function of **LNA**-dynamics, \n",
    "- (right top corner): OTU's selected in function of both **HNA**- and **LNA**-dynamics, \n",
    "- (left bottom corner): OTU's that are _not_ selected, \n",
    "- (right bottom corner): OTU's selected solely in function of **HNA**-dynamics. "
   ]
  },
  {
   "cell_type": "markdown",
   "metadata": {},
   "source": [
    "Univariate vs. Stability selection"
   ]
  },
  {
   "cell_type": "code",
   "execution_count": 33,
   "metadata": {},
   "outputs": [
    {
     "data": {
      "image/png": "[encoded data removed]",
      "text/plain": [
       "<matplotlib.figure.Figure at 0x7f44602c1e48>"
      ]
     },
     "metadata": {},
     "output_type": "display_data"
    }
   ],
   "source": [
    "plt.figure()\n",
    "sns.regplot(x=otu_scores.loc[:,'score'],y=uni_fs.loc[otu_scores.index,'kendall'])\n",
    "plt.xlabel('score(HNA)', size=22)\n",
    "plt.xticks(size=10)\n",
    "plt.ylabel('Kendall tau', size=22)\n",
    "plt.yticks(size=10)\n",
    "#plt.yscale('log')\n",
    "plt.axhline(y=0.05, linewidth=2, linestyle='--', color = 'k')\n",
    "plt.axvline(x=thr, linewidth=2, linestyle='--', color = 'k')\n",
    "#plt.axis([-0.005,1.005,0.0000000000000000000001, 1])\n",
    "plt.show()"
   ]
  },
  {
   "cell_type": "code",
   "execution_count": 34,
   "metadata": {},
   "outputs": [
    {
     "data": {
      "image/png": "[encoded data removed]",
      "text/plain": [
       "<matplotlib.figure.Figure at 0x7f4460267908>"
      ]
     },
     "metadata": {},
     "output_type": "display_data"
    }
   ],
   "source": [
    "plt.figure()\n",
    "sns.regplot(x=otu_scores_lna.loc[:,'score'],y=uni_fs_lna.loc[otu_scores.index,'kendall'])\n",
    "plt.xlabel('score(LNA)', size=22)\n",
    "plt.xticks(size=10)\n",
    "plt.ylabel('Kendall tau', size=22)\n",
    "plt.yticks(size=10)\n",
    "#plt.yscale('log')\n",
    "plt.axhline(y=0.05, linewidth=2, linestyle='--', color = 'k')\n",
    "plt.axvline(x=thr_lna, linewidth=2, linestyle='--', color = 'k')\n",
    "#plt.axis([-0.005,1.005,0.0000000000000000000001, 1])\n",
    "plt.show()"
   ]
  },
  {
   "cell_type": "markdown",
   "metadata": {},
   "source": [
    "This analysis shows that the HNA/LNA dynamics cannot solely be attributed to OTU's that are present in the respective cloud; this is also clear from the mutual correlation between HNA- and LNA-counts ( $\\rho(\\text{HNA,LNA}) = 0.75$ ). \n",
    "\n",
    "I see two reasons for this: \n",
    "- Some OTU's are simply present in the two clouds; \n",
    "- Some HNA-OTU's interact with LNA-OTU's and vice versa. "
   ]
  }
 ],
 "metadata": {
  "anaconda-cloud": {},
  "kernelspec": {
   "display_name": "Python 3",
   "language": "python",
   "name": "python3"
  },
  "language_info": {
   "codemirror_mode": {
    "name": "ipython",
    "version": 3
   },
   "file_extension": ".py",
   "mimetype": "text/x-python",
   "name": "python",
   "nbconvert_exporter": "python",
   "pygments_lexer": "ipython3",
   "version": "3.6.3"
  }
 },
 "nbformat": 4,
 "nbformat_minor": 1
}
