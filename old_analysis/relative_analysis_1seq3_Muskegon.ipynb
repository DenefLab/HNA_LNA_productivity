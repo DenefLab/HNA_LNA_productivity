{
 "cells": [
  {
   "cell_type": "code",
   "execution_count": 1,
   "metadata": {
    "scrolled": true
   },
   "outputs": [
    {
     "name": "stderr",
     "output_type": "stream",
     "text": [
      "/home/prubbens/miniconda3/lib/python3.6/site-packages/sklearn/cross_validation.py:41: DeprecationWarning: This module was deprecated in version 0.18 in favor of the model_selection module into which all the refactored classes and functions are moved. Also note that the interface of the new CV iterators are different from that of this module. This module will be removed in 0.20.\n",
      "  \"This module will be removed in 0.20.\", DeprecationWarning)\n"
     ]
    }
   ],
   "source": [
    "'''Import packages'''\n",
    "'''Requires numpy, pandas, scikit-learn, and matplotlib/seaborn'''\n",
    "import numpy as np\n",
    "import pandas as pd\n",
    "from skbio.stats import composition\n",
    "from sklearn.feature_selection import f_regression\n",
    "from sklearn.feature_selection import mutual_info_regression\n",
    "from sklearn.model_selection import KFold\n",
    "from sklearn.model_selection import cross_val_predict\n",
    "from sklearn.linear_model import Lasso\n",
    "from scipy.stats import kendalltau\n",
    "from scipy.stats import pearsonr\n",
    "\n",
    "import matplotlib.pyplot as plt\n",
    "import seaborn as sns\n",
    "sns.set_style(\"ticks\")\n",
    "\n",
    "'''Import script which contains functions'''\n",
    "import analysis_functions\n",
    "from analysis_functions import get_r2\n",
    "from analysis_functions import get_lassoCV\n",
    "from analysis_functions import perform_randomizedLasso\n",
    "\n",
    "from IPython.display import display, HTML\n",
    "\n",
    "#If we want to time the implementation: \n",
    "#import time\n",
    "#start_time = time.time()"
   ]
  },
  {
   "cell_type": "markdown",
   "metadata": {},
   "source": [
    "Import the dataframes: "
   ]
  },
  {
   "cell_type": "code",
   "execution_count": 2,
   "metadata": {
    "scrolled": true
   },
   "outputs": [],
   "source": [
    "'''Import data'''\n",
    "data_abs = pd.read_csv('data/Chloroplasts_removed/ByLake_Filtering/1in3/muskegon/muskegon_absolute_otu_1in3.tsv', sep=' ', index_col=None, header=0, float_precision='high')\n",
    "data_rel = pd.read_csv('data/Chloroplasts_removed/ByLake_Filtering/1in3/muskegon/muskegon_relative_otu_1in3.tsv', sep=' ', index_col=None, header=0, float_precision='high')\n",
    "target = pd.read_csv('data/Chloroplasts_removed/ByLake_Filtering/1in3/muskegon/muskegon_sampledata_1in3.tsv', sep= ' ', index_col=0, header=0)"
   ]
  },
  {
   "cell_type": "markdown",
   "metadata": {},
   "source": [
    "**2)**: At 01-05-'17 @marschmi found that a few samples can be seen as outliers, as they represent the bottom waters of productive inland lakes, resulting in a big difference of the HNA percentage. These samples are the following: Z14055F, Z14003F, Z14007F, Z14023F, Z14011F. A code of line is added, in order to be able to run the pipeline without these samples; "
   ]
  },
  {
   "cell_type": "code",
   "execution_count": 3,
   "metadata": {},
   "outputs": [],
   "source": [
    "index = target.Lake[target.Lake == 'Muskegon'].index"
   ]
  },
  {
   "cell_type": "code",
   "execution_count": 4,
   "metadata": {},
   "outputs": [],
   "source": [
    "'''Set sample names as index and shuffle data'''\n",
    "\n",
    "#Remove outlier samples:\n",
    "data_abs = data_abs.loc[index,:] \n",
    "data_rel = data_rel.loc[index,:]\n",
    "target = target.loc[index,:]\n",
    "#productivity = productivity.loc[index,:]\n",
    "\n",
    "#Shuffle data: \n",
    "#data_abs = data_abs.sample(frac=1, random_state=3)\n",
    "#data_rel = data_rel.sample(frac=1, random_state=3)\n",
    "#target = target.sample(frac=1, random_state=3)\n",
    "#productivity = productivity.sample(frac=1, random_state=3) \n",
    "\n",
    "#Create target columns of HNA-values: \n",
    "hna = target.loc[:,'HNA.cells']\n",
    "hna_rel = hna/target.loc[:,'Total.cells']\n",
    "hna = pd.Series(hna, index=hna.index)\n",
    "hna_rel = pd.Series(hna_rel, index=hna.index)\n",
    "\n",
    "#Create target columns of LNA-values: \n",
    "lna = target.loc[:,'LNA.cells']\n",
    "lna_rel = lna/target.loc[:,'Total.cells']\n",
    "lna = pd.Series(lna, index=lna.index)\n",
    "lna_rel = pd.Series(lna_rel, index=lna.index)"
   ]
  },
  {
   "cell_type": "code",
   "execution_count": 5,
   "metadata": {},
   "outputs": [],
   "source": [
    "#Some variables to store information and to create inner and outer CV-folds\n",
    "otus = list(data_rel.columns)\n",
    "cv = 5"
   ]
  },
  {
   "cell_type": "code",
   "execution_count": 6,
   "metadata": {},
   "outputs": [],
   "source": [
    "''' Standardize data '''\n",
    "from analysis_functions import standardize_df\n",
    "data_stand, scaler = standardize_df(data_rel,otus)"
   ]
  },
  {
   "cell_type": "code",
   "execution_count": 7,
   "metadata": {},
   "outputs": [
    {
     "name": "stdout",
     "output_type": "stream",
     "text": [
      "0.672035639459 2.22685344797e-09\n"
     ]
    }
   ],
   "source": [
    "kendal_hna_lna, p_kendall_hna_lna = pearsonr(hna,lna)\n",
    "print(kendal_hna_lna, p_kendall_hna_lna)"
   ]
  },
  {
   "cell_type": "markdown",
   "metadata": {},
   "source": [
    "To do so, we use the **_Randomized Lasso_**: this method makes use of two kinds of randomization in order to select variables (i.e., OTU's) with a certain _stability_: (1) it fits a Lasso to various bootstrap subsamples and (2) it perturbs the initial weighting of certain variables. \n",
    "\n",
    "This results in a $score \\in [0,1]$ that is assigned to variables, with 0 denoting the case where a variable is never chosen by the Lasso, and 1 denoting the case where a variable always is chosen. In other words, the higher the score, the more important a variable can be considered to be. "
   ]
  },
  {
   "cell_type": "markdown",
   "metadata": {},
   "source": [
    "**First goal: ** try to pinpoint those OTU's for which we are sure they are present in the '_HNA-cloud_'. "
   ]
  },
  {
   "cell_type": "markdown",
   "metadata": {},
   "source": [
    "**Univariate Feature Selection**: \n",
    "\n",
    "Let's compare two methods: \n",
    "- f_regression (f-score pearson correlation), \n",
    "- Mutual information,  \n",
    "- (other methods can follow as well). "
   ]
  },
  {
   "cell_type": "code",
   "execution_count": 8,
   "metadata": {},
   "outputs": [
    {
     "data": {
      "text/html": [
       "<div>\n",
       "<style scoped>\n",
       "    .dataframe tbody tr th:only-of-type {\n",
       "        vertical-align: middle;\n",
       "    }\n",
       "\n",
       "    .dataframe tbody tr th {\n",
       "        vertical-align: top;\n",
       "    }\n",
       "\n",
       "    .dataframe thead th {\n",
       "        text-align: right;\n",
       "    }\n",
       "</style>\n",
       "<table border=\"1\" class=\"dataframe\">\n",
       "  <thead>\n",
       "    <tr style=\"text-align: right;\">\n",
       "      <th></th>\n",
       "      <th>f_regr</th>\n",
       "      <th>p-value</th>\n",
       "      <th>kendall</th>\n",
       "      <th>p_kendall</th>\n",
       "    </tr>\n",
       "  </thead>\n",
       "  <tbody>\n",
       "    <tr>\n",
       "      <th>Otu000001</th>\n",
       "      <td>2.082286</td>\n",
       "      <td>0.154218</td>\n",
       "      <td>-0.130193</td>\n",
       "      <td>0.135095</td>\n",
       "    </tr>\n",
       "    <tr>\n",
       "      <th>Otu000004</th>\n",
       "      <td>0.724710</td>\n",
       "      <td>0.397988</td>\n",
       "      <td>0.048690</td>\n",
       "      <td>0.576267</td>\n",
       "    </tr>\n",
       "    <tr>\n",
       "      <th>Otu000005</th>\n",
       "      <td>13.676133</td>\n",
       "      <td>0.000473</td>\n",
       "      <td>0.249369</td>\n",
       "      <td>0.004775</td>\n",
       "    </tr>\n",
       "    <tr>\n",
       "      <th>Otu000006</th>\n",
       "      <td>0.671025</td>\n",
       "      <td>0.415937</td>\n",
       "      <td>-0.013524</td>\n",
       "      <td>0.878782</td>\n",
       "    </tr>\n",
       "    <tr>\n",
       "      <th>Otu000007</th>\n",
       "      <td>4.424732</td>\n",
       "      <td>0.039623</td>\n",
       "      <td>0.161231</td>\n",
       "      <td>0.064762</td>\n",
       "    </tr>\n",
       "    <tr>\n",
       "      <th>Otu000009</th>\n",
       "      <td>2.905960</td>\n",
       "      <td>0.093426</td>\n",
       "      <td>0.122849</td>\n",
       "      <td>0.158741</td>\n",
       "    </tr>\n",
       "    <tr>\n",
       "      <th>Otu000010</th>\n",
       "      <td>1.488929</td>\n",
       "      <td>0.227157</td>\n",
       "      <td>-0.115374</td>\n",
       "      <td>0.185429</td>\n",
       "    </tr>\n",
       "    <tr>\n",
       "      <th>Otu000011</th>\n",
       "      <td>0.450434</td>\n",
       "      <td>0.504705</td>\n",
       "      <td>0.064089</td>\n",
       "      <td>0.462312</td>\n",
       "    </tr>\n",
       "    <tr>\n",
       "      <th>Otu000012</th>\n",
       "      <td>15.808644</td>\n",
       "      <td>0.000191</td>\n",
       "      <td>-0.329804</td>\n",
       "      <td>0.000154</td>\n",
       "    </tr>\n",
       "    <tr>\n",
       "      <th>Otu000014</th>\n",
       "      <td>0.006333</td>\n",
       "      <td>0.936836</td>\n",
       "      <td>-0.018869</td>\n",
       "      <td>0.852737</td>\n",
       "    </tr>\n",
       "  </tbody>\n",
       "</table>\n",
       "</div>"
      ],
      "text/plain": [
       "              f_regr   p-value   kendall  p_kendall\n",
       "Otu000001   2.082286  0.154218 -0.130193   0.135095\n",
       "Otu000004   0.724710  0.397988  0.048690   0.576267\n",
       "Otu000005  13.676133  0.000473  0.249369   0.004775\n",
       "Otu000006   0.671025  0.415937 -0.013524   0.878782\n",
       "Otu000007   4.424732  0.039623  0.161231   0.064762\n",
       "Otu000009   2.905960  0.093426  0.122849   0.158741\n",
       "Otu000010   1.488929  0.227157 -0.115374   0.185429\n",
       "Otu000011   0.450434  0.504705  0.064089   0.462312\n",
       "Otu000012  15.808644  0.000191 -0.329804   0.000154\n",
       "Otu000014   0.006333  0.936836 -0.018869   0.852737"
      ]
     },
     "metadata": {},
     "output_type": "display_data"
    }
   ],
   "source": [
    "f_regr, f_regr_p = f_regression(data_stand.loc[:,otus],hna)\n",
    "kendall = np.zeros(len(otus))\n",
    "p_kendall = np.zeros(len(otus))\n",
    "for i in np.arange(0,len(otus)):\n",
    "    kendall[i], p_kendall[i] = kendalltau(data_stand.loc[:,otus[i]],hna)\n",
    "uni_fs = pd.DataFrame(f_regr, index=otus, columns = ['f_regr'])\n",
    "uni_fs['p-value'] = f_regr_p\n",
    "uni_fs['kendall'] = kendall\n",
    "uni_fs['p_kendall'] = p_kendall\n",
    "display(uni_fs.head(10))"
   ]
  },
  {
   "cell_type": "markdown",
   "metadata": {},
   "source": [
    "Select otu's based on $p < \\text{thr}$: "
   ]
  },
  {
   "cell_type": "code",
   "execution_count": 9,
   "metadata": {
    "scrolled": false
   },
   "outputs": [
    {
     "name": "stdout",
     "output_type": "stream",
     "text": [
      "Total OTUs: 1723\n",
      "Number of selected OTUs using Kendall tau with p < 0.05: 245\n",
      "Number of selected OTUs using Kendall tau with p < 0.01: 90\n"
     ]
    }
   ],
   "source": [
    "print('Total OTUs: ' + str(len(otus)))\n",
    "uni_fs_selected_f = uni_fs[uni_fs.loc[:,'p_kendall'].values < 0.05]\n",
    "print('Number of selected OTUs using Kendall tau with p < 0.05: ' + str(len(uni_fs_selected_f)))\n",
    "uni_fs_selected_f = uni_fs[uni_fs.loc[:,'p_kendall'].values < 0.01]\n",
    "print('Number of selected OTUs using Kendall tau with p < 0.01: ' + str(len(uni_fs_selected_f)))"
   ]
  },
  {
   "cell_type": "markdown",
   "metadata": {},
   "source": [
    "What happens when we tune a threshold in function of the f_score: "
   ]
  },
  {
   "cell_type": "code",
   "execution_count": 10,
   "metadata": {},
   "outputs": [],
   "source": [
    "from analysis_functions import get_r2_scores\n",
    "thr_otu_kendall_hna, r2_otu_kendall_hna = get_r2_scores(data_stand.loc[:,otus], hna, otus, np.abs(uni_fs['kendall']), cv)\n",
    "thr_otu_kendall_lna, r2_otu_kendall_lna = get_r2_scores(data_stand.loc[:,otus], lna, otus, np.abs(uni_fs['kendall']), cv)"
   ]
  },
  {
   "cell_type": "code",
   "execution_count": 11,
   "metadata": {},
   "outputs": [
    {
     "data": {
      "image/png": "[encoded data removed]",
      "text/plain": [
       "<matplotlib.figure.Figure at 0x7f953684a550>"
      ]
     },
     "metadata": {},
     "output_type": "display_data"
    }
   ],
   "source": [
    "plt.figure()\n",
    "sns.regplot(x=thr_otu_kendall_hna,y=r2_otu_kendall_hna, fit_reg=False, label='HNA')\n",
    "sns.regplot(x=thr_otu_kendall_lna,y=r2_otu_kendall_lna, fit_reg=False, label='LNA')\n",
    "plt.xlabel('Kendall Tau score', size=22)\n",
    "plt.xticks(size=10)\n",
    "plt.ylabel(r'$R^2$', size=22)\n",
    "plt.yticks(size=10)\n",
    "#plt.title('F-test', size=24)\n",
    "plt.legend()\n",
    "plt.show()"
   ]
  },
  {
   "cell_type": "code",
   "execution_count": 12,
   "metadata": {},
   "outputs": [
    {
     "name": "stderr",
     "output_type": "stream",
     "text": [
      "/home/prubbens/miniconda3/lib/python3.6/site-packages/sklearn/utils/deprecation.py:58: DeprecationWarning: Class RandomizedLasso is deprecated; The class RandomizedLasso is deprecated in 0.19 and will be removed in 0.21.\n",
      "  warnings.warn(msg, category=DeprecationWarning)\n"
     ]
    }
   ],
   "source": [
    "from analysis_functions import get_lassoCV_alpha\n",
    "\n",
    "alpha = get_lassoCV_alpha(data_stand.loc[:,otus],hna,otus,cv)\n",
    "    \n",
    "otu_scores = pd.DataFrame(perform_randomizedLasso(data_stand.loc[:,otus], hna, alpha), index=otus, columns=['score'])\n",
    "otu_scores.sort_values(ascending=False,inplace=True, by='score')\n",
    "\n",
    "thr_otu_scores_hna, r2_otu_scores_hna = get_r2_scores(data_stand.loc[:,otus], hna, otus, otu_scores, cv)\n",
    "thr_otu_scores_lna, r2_otu_scores_lna = get_r2_scores(data_stand.loc[:,otus], lna, otus, otu_scores, cv)"
   ]
  },
  {
   "cell_type": "code",
   "execution_count": 13,
   "metadata": {},
   "outputs": [
    {
     "data": {
      "image/png": "[encoded data removed]",
      "text/plain": [
       "<matplotlib.figure.Figure at 0x7f9536808a20>"
      ]
     },
     "metadata": {},
     "output_type": "display_data"
    }
   ],
   "source": [
    "plt.figure()\n",
    "sns.regplot(x=thr_otu_scores_hna,y=r2_otu_scores_hna, fit_reg=False, label='HNA')\n",
    "sns.regplot(x=thr_otu_scores_lna,y=r2_otu_scores_lna, fit_reg=False, label='LNA')\n",
    "plt.axis([-0.005,1.005,0,1])\n",
    "plt.xlabel('Score', size=22)\n",
    "plt.xticks(size=10)\n",
    "plt.ylabel(r'$R^2$', size=22)\n",
    "plt.yticks(size=10)\n",
    "plt.legend()\n",
    "plt.title('Stability Selection HNA', size=24)\n",
    "plt.show()"
   ]
  },
  {
   "cell_type": "code",
   "execution_count": 14,
   "metadata": {},
   "outputs": [
    {
     "name": "stdout",
     "output_type": "stream",
     "text": [
      "R²_cv(hna): 0.901340004022\n",
      "Threshold score: 0.19\n"
     ]
    }
   ],
   "source": [
    "r2_final = r2_otu_scores_hna.max()\n",
    "thr = thr_otu_scores_hna[r2_otu_scores_hna.argmax()]\n",
    "print('R²_cv(hna): ' + str(r2_final) )\n",
    "print('Threshold score: ' + str(thr))"
   ]
  },
  {
   "cell_type": "code",
   "execution_count": 15,
   "metadata": {},
   "outputs": [],
   "source": [
    "otu_scores = otu_scores.assign(abun_abs_mean = data_abs.loc[:,otus].mean())\n",
    "otu_scores = otu_scores.assign(abun_abs_CV = data_abs.loc[:,otus].std()/data_abs.loc[:,otus].mean())\n",
    "otu_scores =  otu_scores.assign(abun_rel_mean = data_rel.loc[:,otus].mean())\n",
    "otu_scores = otu_scores.assign(abun_rel_CV = data_rel.loc[:,otus].std()/data_rel.loc[:,otus].mean())\n",
    "otu_scores['kendall'] = uni_fs.loc[otu_scores.index,'kendall']\n",
    "otu_scores['p_kendall'] = uni_fs.loc[otu_scores.index,'p_kendall']\n",
    "otu_scores.to_csv('Final/hnascores_otus_1seq3_rel_Muskegon.csv')"
   ]
  },
  {
   "cell_type": "code",
   "execution_count": 16,
   "metadata": {},
   "outputs": [
    {
     "data": {
      "text/html": [
       "<div>\n",
       "<style scoped>\n",
       "    .dataframe tbody tr th:only-of-type {\n",
       "        vertical-align: middle;\n",
       "    }\n",
       "\n",
       "    .dataframe tbody tr th {\n",
       "        vertical-align: top;\n",
       "    }\n",
       "\n",
       "    .dataframe thead th {\n",
       "        text-align: right;\n",
       "    }\n",
       "</style>\n",
       "<table border=\"1\" class=\"dataframe\">\n",
       "  <thead>\n",
       "    <tr style=\"text-align: right;\">\n",
       "      <th></th>\n",
       "      <th>score</th>\n",
       "      <th>abun_abs_mean</th>\n",
       "      <th>abun_abs_CV</th>\n",
       "      <th>abun_rel_mean</th>\n",
       "      <th>abun_rel_CV</th>\n",
       "      <th>kendall</th>\n",
       "      <th>p_kendall</th>\n",
       "    </tr>\n",
       "  </thead>\n",
       "  <tbody>\n",
       "    <tr>\n",
       "      <th>Otu000173</th>\n",
       "      <td>0.496</td>\n",
       "      <td>17982.674014</td>\n",
       "      <td>1.283752</td>\n",
       "      <td>0.002493</td>\n",
       "      <td>1.133719</td>\n",
       "      <td>0.554048</td>\n",
       "      <td>4.045914e-10</td>\n",
       "    </tr>\n",
       "    <tr>\n",
       "      <th>Otu000060</th>\n",
       "      <td>0.400</td>\n",
       "      <td>42735.699821</td>\n",
       "      <td>1.064030</td>\n",
       "      <td>0.005951</td>\n",
       "      <td>0.655716</td>\n",
       "      <td>0.458155</td>\n",
       "      <td>1.933086e-07</td>\n",
       "    </tr>\n",
       "    <tr>\n",
       "      <th>Otu000005</th>\n",
       "      <td>0.378</td>\n",
       "      <td>133132.588456</td>\n",
       "      <td>1.944657</td>\n",
       "      <td>0.015391</td>\n",
       "      <td>1.685016</td>\n",
       "      <td>0.249369</td>\n",
       "      <td>4.774608e-03</td>\n",
       "    </tr>\n",
       "    <tr>\n",
       "      <th>Otu004486</th>\n",
       "      <td>0.366</td>\n",
       "      <td>4.194974</td>\n",
       "      <td>7.874008</td>\n",
       "      <td>0.000003</td>\n",
       "      <td>7.874008</td>\n",
       "      <td>-0.179605</td>\n",
       "      <td>8.831829e-02</td>\n",
       "    </tr>\n",
       "    <tr>\n",
       "      <th>Otu000905</th>\n",
       "      <td>0.366</td>\n",
       "      <td>1814.305844</td>\n",
       "      <td>1.643756</td>\n",
       "      <td>0.000255</td>\n",
       "      <td>1.338468</td>\n",
       "      <td>0.190119</td>\n",
       "      <td>4.954756e-02</td>\n",
       "    </tr>\n",
       "    <tr>\n",
       "      <th>Otu003366</th>\n",
       "      <td>0.352</td>\n",
       "      <td>254.514326</td>\n",
       "      <td>3.213090</td>\n",
       "      <td>0.000034</td>\n",
       "      <td>3.213496</td>\n",
       "      <td>0.374414</td>\n",
       "      <td>3.216754e-04</td>\n",
       "    </tr>\n",
       "    <tr>\n",
       "      <th>Otu000242</th>\n",
       "      <td>0.284</td>\n",
       "      <td>4637.702315</td>\n",
       "      <td>1.343779</td>\n",
       "      <td>0.000707</td>\n",
       "      <td>1.073955</td>\n",
       "      <td>0.145186</td>\n",
       "      <td>1.138969e-01</td>\n",
       "    </tr>\n",
       "    <tr>\n",
       "      <th>Otu000075</th>\n",
       "      <td>0.278</td>\n",
       "      <td>27990.945263</td>\n",
       "      <td>1.060735</td>\n",
       "      <td>0.005448</td>\n",
       "      <td>1.315596</td>\n",
       "      <td>-0.267036</td>\n",
       "      <td>2.369199e-03</td>\n",
       "    </tr>\n",
       "    <tr>\n",
       "      <th>Otu000696</th>\n",
       "      <td>0.272</td>\n",
       "      <td>281.956580</td>\n",
       "      <td>2.447397</td>\n",
       "      <td>0.000045</td>\n",
       "      <td>2.463390</td>\n",
       "      <td>0.279796</td>\n",
       "      <td>6.961777e-03</td>\n",
       "    </tr>\n",
       "    <tr>\n",
       "      <th>Otu000539</th>\n",
       "      <td>0.270</td>\n",
       "      <td>1412.369629</td>\n",
       "      <td>1.699653</td>\n",
       "      <td>0.000248</td>\n",
       "      <td>1.455967</td>\n",
       "      <td>-0.274033</td>\n",
       "      <td>4.887314e-03</td>\n",
       "    </tr>\n",
       "  </tbody>\n",
       "</table>\n",
       "</div>"
      ],
      "text/plain": [
       "           score  abun_abs_mean  abun_abs_CV  abun_rel_mean  abun_rel_CV  \\\n",
       "Otu000173  0.496   17982.674014     1.283752       0.002493     1.133719   \n",
       "Otu000060  0.400   42735.699821     1.064030       0.005951     0.655716   \n",
       "Otu000005  0.378  133132.588456     1.944657       0.015391     1.685016   \n",
       "Otu004486  0.366       4.194974     7.874008       0.000003     7.874008   \n",
       "Otu000905  0.366    1814.305844     1.643756       0.000255     1.338468   \n",
       "Otu003366  0.352     254.514326     3.213090       0.000034     3.213496   \n",
       "Otu000242  0.284    4637.702315     1.343779       0.000707     1.073955   \n",
       "Otu000075  0.278   27990.945263     1.060735       0.005448     1.315596   \n",
       "Otu000696  0.272     281.956580     2.447397       0.000045     2.463390   \n",
       "Otu000539  0.270    1412.369629     1.699653       0.000248     1.455967   \n",
       "\n",
       "            kendall     p_kendall  \n",
       "Otu000173  0.554048  4.045914e-10  \n",
       "Otu000060  0.458155  1.933086e-07  \n",
       "Otu000005  0.249369  4.774608e-03  \n",
       "Otu004486 -0.179605  8.831829e-02  \n",
       "Otu000905  0.190119  4.954756e-02  \n",
       "Otu003366  0.374414  3.216754e-04  \n",
       "Otu000242  0.145186  1.138969e-01  \n",
       "Otu000075 -0.267036  2.369199e-03  \n",
       "Otu000696  0.279796  6.961777e-03  \n",
       "Otu000539 -0.274033  4.887314e-03  "
      ]
     },
     "metadata": {},
     "output_type": "display_data"
    },
    {
     "name": "stdout",
     "output_type": "stream",
     "text": [
      "Size list selected OTUs: 47\n"
     ]
    }
   ],
   "source": [
    "otu_scores_selected = otu_scores[otu_scores.score.values>thr]\n",
    "selected_otus = otu_scores_selected.index\n",
    "otu_scores_selected.to_csv('Final/hnascores_otus_tuned_thr_'+str(thr)+'_1seq3_rel_Muskegon.csv')\n",
    "display(otu_scores_selected.head(10))\n",
    "print('Size list selected OTUs: ' + str(len(selected_otus)))"
   ]
  },
  {
   "cell_type": "code",
   "execution_count": 17,
   "metadata": {},
   "outputs": [
    {
     "name": "stdout",
     "output_type": "stream",
     "text": [
      "R²_cv of HNA-selected OTUs in function of LNA: 0.694390958154\n"
     ]
    }
   ],
   "source": [
    "print('R²_cv of HNA-selected OTUs in function of LNA: ' + str(r2_otu_scores_lna[r2_otu_scores_hna.argmax()]) )"
   ]
  },
  {
   "cell_type": "code",
   "execution_count": 18,
   "metadata": {},
   "outputs": [
    {
     "data": {
      "image/png": "[encoded data removed]",
      "text/plain": [
       "<matplotlib.figure.Figure at 0x7f95367def28>"
      ]
     },
     "metadata": {},
     "output_type": "display_data"
    }
   ],
   "source": [
    "plt.figure()\n",
    "sns.regplot(x='abun_rel_mean',y='abun_rel_CV', data=otu_scores_selected)\n",
    "plt.axis([-0.005,0.1,-5,5])\n",
    "plt.xlabel('Avg. Relative Abundance', size=22)\n",
    "plt.xticks(size=10)\n",
    "plt.ylabel('CV(abs)', size=22)\n",
    "plt.yticks(size=10)\n",
    "plt.title('Selected OTUs', size=24)\n",
    "plt.show()"
   ]
  },
  {
   "cell_type": "code",
   "execution_count": 19,
   "metadata": {},
   "outputs": [],
   "source": [
    "#optimal_scores.to_csv('HNA_selectedOTUs_stand_abun_remov' + str(abun)+'_R2'+str(r2_final)+'.csv')"
   ]
  },
  {
   "cell_type": "markdown",
   "metadata": {},
   "source": [
    "**Second goal**: Can we use the same pipeline to predict the _LNA_-counts? "
   ]
  },
  {
   "cell_type": "code",
   "execution_count": 20,
   "metadata": {},
   "outputs": [
    {
     "data": {
      "text/html": [
       "<div>\n",
       "<style scoped>\n",
       "    .dataframe tbody tr th:only-of-type {\n",
       "        vertical-align: middle;\n",
       "    }\n",
       "\n",
       "    .dataframe tbody tr th {\n",
       "        vertical-align: top;\n",
       "    }\n",
       "\n",
       "    .dataframe thead th {\n",
       "        text-align: right;\n",
       "    }\n",
       "</style>\n",
       "<table border=\"1\" class=\"dataframe\">\n",
       "  <thead>\n",
       "    <tr style=\"text-align: right;\">\n",
       "      <th></th>\n",
       "      <th>f_regr</th>\n",
       "      <th>p-value</th>\n",
       "      <th>kendall</th>\n",
       "      <th>p_kendall</th>\n",
       "    </tr>\n",
       "  </thead>\n",
       "  <tbody>\n",
       "    <tr>\n",
       "      <th>Otu000001</th>\n",
       "      <td>9.849648</td>\n",
       "      <td>0.154218</td>\n",
       "      <td>0.276264</td>\n",
       "      <td>1.519956e-03</td>\n",
       "    </tr>\n",
       "    <tr>\n",
       "      <th>Otu000004</th>\n",
       "      <td>3.649703</td>\n",
       "      <td>0.397988</td>\n",
       "      <td>0.168299</td>\n",
       "      <td>5.340088e-02</td>\n",
       "    </tr>\n",
       "    <tr>\n",
       "      <th>Otu000005</th>\n",
       "      <td>43.815972</td>\n",
       "      <td>0.000473</td>\n",
       "      <td>0.583296</td>\n",
       "      <td>4.095203e-11</td>\n",
       "    </tr>\n",
       "    <tr>\n",
       "      <th>Otu000006</th>\n",
       "      <td>1.125885</td>\n",
       "      <td>0.415937</td>\n",
       "      <td>0.253716</td>\n",
       "      <td>4.220978e-03</td>\n",
       "    </tr>\n",
       "    <tr>\n",
       "      <th>Otu000007</th>\n",
       "      <td>2.052679</td>\n",
       "      <td>0.039623</td>\n",
       "      <td>0.075312</td>\n",
       "      <td>3.883054e-01</td>\n",
       "    </tr>\n",
       "    <tr>\n",
       "      <th>Otu000009</th>\n",
       "      <td>1.281436</td>\n",
       "      <td>0.093426</td>\n",
       "      <td>0.076251</td>\n",
       "      <td>3.817108e-01</td>\n",
       "    </tr>\n",
       "    <tr>\n",
       "      <th>Otu000010</th>\n",
       "      <td>3.029303</td>\n",
       "      <td>0.227157</td>\n",
       "      <td>0.170416</td>\n",
       "      <td>5.046956e-02</td>\n",
       "    </tr>\n",
       "    <tr>\n",
       "      <th>Otu000011</th>\n",
       "      <td>0.012930</td>\n",
       "      <td>0.504705</td>\n",
       "      <td>0.028072</td>\n",
       "      <td>7.474815e-01</td>\n",
       "    </tr>\n",
       "    <tr>\n",
       "      <th>Otu000012</th>\n",
       "      <td>3.181612</td>\n",
       "      <td>0.000191</td>\n",
       "      <td>-0.125463</td>\n",
       "      <td>1.499626e-01</td>\n",
       "    </tr>\n",
       "    <tr>\n",
       "      <th>Otu000014</th>\n",
       "      <td>2.630039</td>\n",
       "      <td>0.936836</td>\n",
       "      <td>0.185996</td>\n",
       "      <td>6.728614e-02</td>\n",
       "    </tr>\n",
       "  </tbody>\n",
       "</table>\n",
       "</div>"
      ],
      "text/plain": [
       "              f_regr   p-value   kendall     p_kendall\n",
       "Otu000001   9.849648  0.154218  0.276264  1.519956e-03\n",
       "Otu000004   3.649703  0.397988  0.168299  5.340088e-02\n",
       "Otu000005  43.815972  0.000473  0.583296  4.095203e-11\n",
       "Otu000006   1.125885  0.415937  0.253716  4.220978e-03\n",
       "Otu000007   2.052679  0.039623  0.075312  3.883054e-01\n",
       "Otu000009   1.281436  0.093426  0.076251  3.817108e-01\n",
       "Otu000010   3.029303  0.227157  0.170416  5.046956e-02\n",
       "Otu000011   0.012930  0.504705  0.028072  7.474815e-01\n",
       "Otu000012   3.181612  0.000191 -0.125463  1.499626e-01\n",
       "Otu000014   2.630039  0.936836  0.185996  6.728614e-02"
      ]
     },
     "metadata": {},
     "output_type": "display_data"
    }
   ],
   "source": [
    "f_regr_lna, f_regr_p_lna = f_regression(data_stand.loc[:,otus],lna)\n",
    "uni_fs_lna = pd.DataFrame(f_regr_lna, index=otus, columns = ['f_regr'])\n",
    "uni_fs_lna['p-value'] = f_regr_p_lna\n",
    "kendall = np.zeros(len(otus))\n",
    "p_kendall = np.zeros(len(otus))\n",
    "for i in np.arange(0,len(otus)):\n",
    "    kendall[i], p_kendall[i] = kendalltau(data_stand.loc[:,otus[i]],lna)\n",
    "uni_fs_lna = pd.DataFrame(f_regr_lna, index=otus, columns = ['f_regr'])\n",
    "uni_fs_lna['p-value'] = f_regr_p\n",
    "uni_fs_lna['kendall'] = kendall\n",
    "uni_fs_lna['p_kendall'] = p_kendall\n",
    "#uni_fs_lna['mi'] = mutual_info_regression(data_stand.loc[:,otus],lna)\n",
    "#uni_fs_lna.sort_values(ascending=False,inplace=True, by='f_regr')\n",
    "display(uni_fs_lna.head(10))"
   ]
  },
  {
   "cell_type": "code",
   "execution_count": 21,
   "metadata": {},
   "outputs": [
    {
     "name": "stdout",
     "output_type": "stream",
     "text": [
      "Number of selected OTUs using kendall tau with p < 0.05: 440\n",
      "Number of selected OTUs using kendall tau with p < 0.01: 238\n"
     ]
    }
   ],
   "source": [
    "uni_fs_selected_f = uni_fs_lna[uni_fs_lna.loc[:,'p_kendall'].values < 0.05]\n",
    "print('Number of selected OTUs using kendall tau with p < 0.05: ' + str(len(uni_fs_selected_f)))\n",
    "uni_fs_selected_f = uni_fs_lna[uni_fs_lna.loc[:,'p_kendall'].values < 0.01]\n",
    "print('Number of selected OTUs using kendall tau with p < 0.01: ' + str(len(uni_fs_selected_f)))"
   ]
  },
  {
   "cell_type": "code",
   "execution_count": 22,
   "metadata": {},
   "outputs": [],
   "source": [
    "thr_otu_kendall_lna, r2_otu_kendall_lna = get_r2_scores(data_stand.loc[:,otus], lna, otus, np.absolute(uni_fs_lna['kendall']), cv)\n",
    "thr_otu_kendall_hna, r2_otu_kendall_hna = get_r2_scores(data_stand.loc[:,otus], hna, otus, np.absolute(uni_fs_lna['kendall']), cv)"
   ]
  },
  {
   "cell_type": "code",
   "execution_count": 23,
   "metadata": {},
   "outputs": [
    {
     "data": {
      "image/png": "[encoded data removed]",
      "text/plain": [
       "<matplotlib.figure.Figure at 0x7f9536802588>"
      ]
     },
     "metadata": {},
     "output_type": "display_data"
    }
   ],
   "source": [
    "plt.figure()\n",
    "sns.regplot(x=thr_otu_kendall_hna,y=r2_otu_kendall_hna, fit_reg=False, label='HNA')\n",
    "sns.regplot(x=thr_otu_kendall_lna,y=r2_otu_kendall_lna, fit_reg=False, label='LNA')\n",
    "plt.xlabel('Kendall tau', size=22)\n",
    "plt.xticks(size=10)\n",
    "plt.ylabel(r'$R^2$', size=22)\n",
    "plt.yticks(size=10)\n",
    "#plt.title('Spearman correlation', size=24)\n",
    "plt.legend()\n",
    "plt.show()"
   ]
  },
  {
   "cell_type": "code",
   "execution_count": 24,
   "metadata": {},
   "outputs": [
    {
     "name": "stderr",
     "output_type": "stream",
     "text": [
      "/home/prubbens/miniconda3/lib/python3.6/site-packages/sklearn/utils/deprecation.py:58: DeprecationWarning: Class RandomizedLasso is deprecated; The class RandomizedLasso is deprecated in 0.19 and will be removed in 0.21.\n",
      "  warnings.warn(msg, category=DeprecationWarning)\n"
     ]
    }
   ],
   "source": [
    "#alpha = get_lassoCV_alpha(data_stand.loc[:,otus],lna,otus,cv)\n",
    "otu_scores_lna = pd.DataFrame(perform_randomizedLasso(data_stand.loc[:,otus], lna, 'bic'), index=otus, columns=['score'])\n",
    "otu_scores_lna.sort_values(ascending=False, inplace=True, by='score')\n",
    "\n",
    "thr_otu_scores_lna, r2_otu_scores_lna = get_r2_scores(data_stand.loc[:,otus], lna, otus, otu_scores_lna, cv)\n",
    "thr_otu_scores_hna, r2_otu_scores_hna = get_r2_scores(data_stand.loc[:,otus], hna, otus, otu_scores_lna, cv)"
   ]
  },
  {
   "cell_type": "code",
   "execution_count": 25,
   "metadata": {},
   "outputs": [
    {
     "data": {
      "image/png": "[encoded data removed]",
      "text/plain": [
       "<matplotlib.figure.Figure at 0x7f95366e9128>"
      ]
     },
     "metadata": {},
     "output_type": "display_data"
    }
   ],
   "source": [
    "plt.figure()\n",
    "sns.regplot(x=thr_otu_scores_hna,y=r2_otu_scores_hna, fit_reg=False, label='HNA')\n",
    "sns.regplot(x=thr_otu_scores_lna,y=r2_otu_scores_lna, fit_reg=False, label='LNA')\n",
    "plt.axis([-0.005,1.005,0,1])\n",
    "plt.xlabel('Score', size=22)\n",
    "plt.xticks(size=10)\n",
    "plt.ylabel(r'$R^2$', size=22)\n",
    "plt.yticks(size=10)\n",
    "plt.legend()\n",
    "plt.title('Stability Selection LNA', size=24)\n",
    "plt.show()"
   ]
  },
  {
   "cell_type": "code",
   "execution_count": 26,
   "metadata": {},
   "outputs": [
    {
     "name": "stdout",
     "output_type": "stream",
     "text": [
      "R²_cv(lna): 0.876339958132\n",
      "Threshold score: 0.16\n"
     ]
    }
   ],
   "source": [
    "r2_final = r2_otu_scores_lna.max()\n",
    "thr_lna = thr_otu_scores_lna[r2_otu_scores_lna.argmax()]\n",
    "print('R²_cv(lna): ' + str(r2_final) )\n",
    "print('Threshold score: ' + str(thr_lna))"
   ]
  },
  {
   "cell_type": "code",
   "execution_count": 27,
   "metadata": {},
   "outputs": [],
   "source": [
    "otu_scores_lna = otu_scores_lna.assign(abun_abs_mean = data_abs.loc[:,otus].mean())\n",
    "otu_scores_lna = otu_scores_lna.assign(abun_abs_CV = data_abs.loc[:,otus].std()/data_abs.loc[:,otus].mean())\n",
    "otu_scores_lna =  otu_scores_lna.assign(abun_rel_mean = data_rel.loc[:,otus].mean())\n",
    "otu_scores_lna = otu_scores_lna.assign(abun_rel_CV = data_rel.loc[:,otus].std()/data_rel.loc[:,otus].mean())\n",
    "otu_scores_lna['kendall'] = uni_fs_lna.loc[otu_scores.index,'kendall']\n",
    "otu_scores_lna['p_kendall'] = uni_fs_lna.loc[otu_scores.index,'p_kendall']\n",
    "otu_scores_lna.to_csv('Final/lnascores_otus_1seq3_rel_Muskegon.csv')"
   ]
  },
  {
   "cell_type": "code",
   "execution_count": 28,
   "metadata": {},
   "outputs": [
    {
     "name": "stdout",
     "output_type": "stream",
     "text": [
      "Size list selected OTUs: 45\n"
     ]
    },
    {
     "data": {
      "text/html": [
       "<div>\n",
       "<style scoped>\n",
       "    .dataframe tbody tr th:only-of-type {\n",
       "        vertical-align: middle;\n",
       "    }\n",
       "\n",
       "    .dataframe tbody tr th {\n",
       "        vertical-align: top;\n",
       "    }\n",
       "\n",
       "    .dataframe thead th {\n",
       "        text-align: right;\n",
       "    }\n",
       "</style>\n",
       "<table border=\"1\" class=\"dataframe\">\n",
       "  <thead>\n",
       "    <tr style=\"text-align: right;\">\n",
       "      <th></th>\n",
       "      <th>score</th>\n",
       "      <th>abun_abs_mean</th>\n",
       "      <th>abun_abs_CV</th>\n",
       "      <th>abun_rel_mean</th>\n",
       "      <th>abun_rel_CV</th>\n",
       "      <th>kendall</th>\n",
       "      <th>p_kendall</th>\n",
       "    </tr>\n",
       "  </thead>\n",
       "  <tbody>\n",
       "    <tr>\n",
       "      <th>Otu000060</th>\n",
       "      <td>0.446</td>\n",
       "      <td>42735.699821</td>\n",
       "      <td>1.064030</td>\n",
       "      <td>0.005951</td>\n",
       "      <td>0.655716</td>\n",
       "      <td>0.435675</td>\n",
       "      <td>7.412132e-07</td>\n",
       "    </tr>\n",
       "    <tr>\n",
       "      <th>Otu000027</th>\n",
       "      <td>0.440</td>\n",
       "      <td>22140.214423</td>\n",
       "      <td>1.128806</td>\n",
       "      <td>0.005313</td>\n",
       "      <td>1.284170</td>\n",
       "      <td>-0.555482</td>\n",
       "      <td>2.848327e-10</td>\n",
       "    </tr>\n",
       "    <tr>\n",
       "      <th>Otu000005</th>\n",
       "      <td>0.408</td>\n",
       "      <td>133132.588456</td>\n",
       "      <td>1.944657</td>\n",
       "      <td>0.015391</td>\n",
       "      <td>1.685016</td>\n",
       "      <td>0.583296</td>\n",
       "      <td>4.095203e-11</td>\n",
       "    </tr>\n",
       "    <tr>\n",
       "      <th>Otu001358</th>\n",
       "      <td>0.398</td>\n",
       "      <td>166.127711</td>\n",
       "      <td>2.432290</td>\n",
       "      <td>0.000038</td>\n",
       "      <td>2.398742</td>\n",
       "      <td>-0.216963</td>\n",
       "      <td>3.813059e-02</td>\n",
       "    </tr>\n",
       "    <tr>\n",
       "      <th>Otu000296</th>\n",
       "      <td>0.392</td>\n",
       "      <td>6876.458863</td>\n",
       "      <td>1.303118</td>\n",
       "      <td>0.000879</td>\n",
       "      <td>1.130261</td>\n",
       "      <td>0.512239</td>\n",
       "      <td>2.580353e-08</td>\n",
       "    </tr>\n",
       "    <tr>\n",
       "      <th>Otu002584</th>\n",
       "      <td>0.368</td>\n",
       "      <td>93.680465</td>\n",
       "      <td>3.230272</td>\n",
       "      <td>0.000031</td>\n",
       "      <td>3.263941</td>\n",
       "      <td>-0.330564</td>\n",
       "      <td>1.504304e-03</td>\n",
       "    </tr>\n",
       "    <tr>\n",
       "      <th>Otu000187</th>\n",
       "      <td>0.368</td>\n",
       "      <td>12795.396391</td>\n",
       "      <td>1.063087</td>\n",
       "      <td>0.001765</td>\n",
       "      <td>0.880057</td>\n",
       "      <td>0.421829</td>\n",
       "      <td>2.315834e-06</td>\n",
       "    </tr>\n",
       "    <tr>\n",
       "      <th>Otu000108</th>\n",
       "      <td>0.354</td>\n",
       "      <td>17970.061665</td>\n",
       "      <td>1.548485</td>\n",
       "      <td>0.002317</td>\n",
       "      <td>1.113702</td>\n",
       "      <td>0.512777</td>\n",
       "      <td>1.236808e-08</td>\n",
       "    </tr>\n",
       "    <tr>\n",
       "      <th>Otu002015</th>\n",
       "      <td>0.338</td>\n",
       "      <td>128.554817</td>\n",
       "      <td>2.753168</td>\n",
       "      <td>0.000038</td>\n",
       "      <td>2.979722</td>\n",
       "      <td>-0.332487</td>\n",
       "      <td>1.394975e-03</td>\n",
       "    </tr>\n",
       "    <tr>\n",
       "      <th>Otu003520</th>\n",
       "      <td>0.332</td>\n",
       "      <td>487.205575</td>\n",
       "      <td>2.418685</td>\n",
       "      <td>0.000062</td>\n",
       "      <td>2.365679</td>\n",
       "      <td>0.307078</td>\n",
       "      <td>2.818699e-03</td>\n",
       "    </tr>\n",
       "  </tbody>\n",
       "</table>\n",
       "</div>"
      ],
      "text/plain": [
       "           score  abun_abs_mean  abun_abs_CV  abun_rel_mean  abun_rel_CV  \\\n",
       "Otu000060  0.446   42735.699821     1.064030       0.005951     0.655716   \n",
       "Otu000027  0.440   22140.214423     1.128806       0.005313     1.284170   \n",
       "Otu000005  0.408  133132.588456     1.944657       0.015391     1.685016   \n",
       "Otu001358  0.398     166.127711     2.432290       0.000038     2.398742   \n",
       "Otu000296  0.392    6876.458863     1.303118       0.000879     1.130261   \n",
       "Otu002584  0.368      93.680465     3.230272       0.000031     3.263941   \n",
       "Otu000187  0.368   12795.396391     1.063087       0.001765     0.880057   \n",
       "Otu000108  0.354   17970.061665     1.548485       0.002317     1.113702   \n",
       "Otu002015  0.338     128.554817     2.753168       0.000038     2.979722   \n",
       "Otu003520  0.332     487.205575     2.418685       0.000062     2.365679   \n",
       "\n",
       "            kendall     p_kendall  \n",
       "Otu000060  0.435675  7.412132e-07  \n",
       "Otu000027 -0.555482  2.848327e-10  \n",
       "Otu000005  0.583296  4.095203e-11  \n",
       "Otu001358 -0.216963  3.813059e-02  \n",
       "Otu000296  0.512239  2.580353e-08  \n",
       "Otu002584 -0.330564  1.504304e-03  \n",
       "Otu000187  0.421829  2.315834e-06  \n",
       "Otu000108  0.512777  1.236808e-08  \n",
       "Otu002015 -0.332487  1.394975e-03  \n",
       "Otu003520  0.307078  2.818699e-03  "
      ]
     },
     "metadata": {},
     "output_type": "display_data"
    }
   ],
   "source": [
    "otu_scores_selected_lna = otu_scores_lna[otu_scores_lna.score.values>thr_lna]\n",
    "selected_otus_lna = otu_scores_selected_lna.index\n",
    "print('Size list selected OTUs: ' + str(len(selected_otus_lna)))\n",
    "otu_scores_selected_lna.to_csv('Final/lnascores_otus_tuned_thr_'+str(thr_lna)+'_1seq3_rel_Muskegon.csv')\n",
    "display(otu_scores_selected_lna.head(10))"
   ]
  },
  {
   "cell_type": "code",
   "execution_count": 29,
   "metadata": {},
   "outputs": [
    {
     "name": "stdout",
     "output_type": "stream",
     "text": [
      "R²_cv of LNA-selected OTUs in function of HNA: 0.247001394487\n"
     ]
    }
   ],
   "source": [
    "print('R²_cv of LNA-selected OTUs in function of HNA: ' + str(r2_otu_scores_hna[r2_otu_scores_lna.argmax()]) )"
   ]
  },
  {
   "cell_type": "code",
   "execution_count": 30,
   "metadata": {},
   "outputs": [
    {
     "data": {
      "image/png": "[encoded data removed]",
      "text/plain": [
       "<matplotlib.figure.Figure at 0x7f9536727390>"
      ]
     },
     "metadata": {},
     "output_type": "display_data"
    }
   ],
   "source": [
    "plt.figure()\n",
    "sns.regplot(x='abun_abs_mean',y='abun_abs_CV', data=otu_scores_selected_lna)\n",
    "plt.axis([0,400000,-5,5])\n",
    "plt.xlabel('mean(abs)', size=22)\n",
    "plt.xticks(size=10)\n",
    "plt.ylabel('CV(abs)', size=22)\n",
    "plt.yticks(size=10)\n",
    "plt.show()"
   ]
  },
  {
   "cell_type": "markdown",
   "metadata": {},
   "source": [
    "Let's compare the HNA- and LNA-lists, which OTU's are shared (_common_) and which are only part of the HNA- or LNA subset?: "
   ]
  },
  {
   "cell_type": "code",
   "execution_count": 31,
   "metadata": {},
   "outputs": [
    {
     "name": "stdout",
     "output_type": "stream",
     "text": [
      "Size subset OTUs only related to HNA: 37; opposed to total size: 47\n",
      "Size subset OTUs only related to LNA: 35; opposed to total size: 45\n",
      "Size subset OTUs related to both: 10\n"
     ]
    },
    {
     "data": {
      "text/html": [
       "<div>\n",
       "<style scoped>\n",
       "    .dataframe tbody tr th:only-of-type {\n",
       "        vertical-align: middle;\n",
       "    }\n",
       "\n",
       "    .dataframe tbody tr th {\n",
       "        vertical-align: top;\n",
       "    }\n",
       "\n",
       "    .dataframe thead th {\n",
       "        text-align: right;\n",
       "    }\n",
       "</style>\n",
       "<table border=\"1\" class=\"dataframe\">\n",
       "  <thead>\n",
       "    <tr style=\"text-align: right;\">\n",
       "      <th></th>\n",
       "      <th>score</th>\n",
       "      <th>abun_abs_mean</th>\n",
       "      <th>abun_abs_CV</th>\n",
       "      <th>abun_rel_mean</th>\n",
       "      <th>abun_rel_CV</th>\n",
       "      <th>kendall</th>\n",
       "      <th>p_kendall</th>\n",
       "    </tr>\n",
       "  </thead>\n",
       "  <tbody>\n",
       "    <tr>\n",
       "      <th>Otu000060</th>\n",
       "      <td>0.446</td>\n",
       "      <td>42735.699821</td>\n",
       "      <td>1.064030</td>\n",
       "      <td>0.005951</td>\n",
       "      <td>0.655716</td>\n",
       "      <td>0.435675</td>\n",
       "      <td>7.412132e-07</td>\n",
       "    </tr>\n",
       "    <tr>\n",
       "      <th>Otu000005</th>\n",
       "      <td>0.408</td>\n",
       "      <td>133132.588456</td>\n",
       "      <td>1.944657</td>\n",
       "      <td>0.015391</td>\n",
       "      <td>1.685016</td>\n",
       "      <td>0.583296</td>\n",
       "      <td>4.095203e-11</td>\n",
       "    </tr>\n",
       "    <tr>\n",
       "      <th>Otu000905</th>\n",
       "      <td>0.184</td>\n",
       "      <td>1814.305844</td>\n",
       "      <td>1.643756</td>\n",
       "      <td>0.000255</td>\n",
       "      <td>1.338468</td>\n",
       "      <td>0.226273</td>\n",
       "      <td>1.942345e-02</td>\n",
       "    </tr>\n",
       "    <tr>\n",
       "      <th>Otu001358</th>\n",
       "      <td>0.398</td>\n",
       "      <td>166.127711</td>\n",
       "      <td>2.432290</td>\n",
       "      <td>0.000038</td>\n",
       "      <td>2.398742</td>\n",
       "      <td>-0.216963</td>\n",
       "      <td>3.813059e-02</td>\n",
       "    </tr>\n",
       "    <tr>\n",
       "      <th>Otu002792</th>\n",
       "      <td>0.182</td>\n",
       "      <td>111.174956</td>\n",
       "      <td>2.908098</td>\n",
       "      <td>0.000031</td>\n",
       "      <td>3.016181</td>\n",
       "      <td>-0.234883</td>\n",
       "      <td>2.420039e-02</td>\n",
       "    </tr>\n",
       "    <tr>\n",
       "      <th>Otu000030</th>\n",
       "      <td>0.332</td>\n",
       "      <td>14550.777202</td>\n",
       "      <td>2.256802</td>\n",
       "      <td>0.001658</td>\n",
       "      <td>1.973790</td>\n",
       "      <td>0.519107</td>\n",
       "      <td>1.428183e-08</td>\n",
       "    </tr>\n",
       "    <tr>\n",
       "      <th>Otu002584</th>\n",
       "      <td>0.368</td>\n",
       "      <td>93.680465</td>\n",
       "      <td>3.230272</td>\n",
       "      <td>0.000031</td>\n",
       "      <td>3.263941</td>\n",
       "      <td>-0.330564</td>\n",
       "      <td>1.504304e-03</td>\n",
       "    </tr>\n",
       "    <tr>\n",
       "      <th>Otu000297</th>\n",
       "      <td>0.238</td>\n",
       "      <td>4033.366382</td>\n",
       "      <td>1.826683</td>\n",
       "      <td>0.000507</td>\n",
       "      <td>1.321082</td>\n",
       "      <td>0.392830</td>\n",
       "      <td>2.568431e-05</td>\n",
       "    </tr>\n",
       "    <tr>\n",
       "      <th>Otu000568</th>\n",
       "      <td>0.172</td>\n",
       "      <td>626.543237</td>\n",
       "      <td>1.712211</td>\n",
       "      <td>0.000145</td>\n",
       "      <td>1.960105</td>\n",
       "      <td>-0.200375</td>\n",
       "      <td>4.508772e-02</td>\n",
       "    </tr>\n",
       "    <tr>\n",
       "      <th>Otu002972</th>\n",
       "      <td>0.232</td>\n",
       "      <td>167.626057</td>\n",
       "      <td>2.885082</td>\n",
       "      <td>0.000048</td>\n",
       "      <td>3.249315</td>\n",
       "      <td>-0.259186</td>\n",
       "      <td>1.270419e-02</td>\n",
       "    </tr>\n",
       "  </tbody>\n",
       "</table>\n",
       "</div>"
      ],
      "text/plain": [
       "           score  abun_abs_mean  abun_abs_CV  abun_rel_mean  abun_rel_CV  \\\n",
       "Otu000060  0.446   42735.699821     1.064030       0.005951     0.655716   \n",
       "Otu000005  0.408  133132.588456     1.944657       0.015391     1.685016   \n",
       "Otu000905  0.184    1814.305844     1.643756       0.000255     1.338468   \n",
       "Otu001358  0.398     166.127711     2.432290       0.000038     2.398742   \n",
       "Otu002792  0.182     111.174956     2.908098       0.000031     3.016181   \n",
       "Otu000030  0.332   14550.777202     2.256802       0.001658     1.973790   \n",
       "Otu002584  0.368      93.680465     3.230272       0.000031     3.263941   \n",
       "Otu000297  0.238    4033.366382     1.826683       0.000507     1.321082   \n",
       "Otu000568  0.172     626.543237     1.712211       0.000145     1.960105   \n",
       "Otu002972  0.232     167.626057     2.885082       0.000048     3.249315   \n",
       "\n",
       "            kendall     p_kendall  \n",
       "Otu000060  0.435675  7.412132e-07  \n",
       "Otu000005  0.583296  4.095203e-11  \n",
       "Otu000905  0.226273  1.942345e-02  \n",
       "Otu001358 -0.216963  3.813059e-02  \n",
       "Otu002792 -0.234883  2.420039e-02  \n",
       "Otu000030  0.519107  1.428183e-08  \n",
       "Otu002584 -0.330564  1.504304e-03  \n",
       "Otu000297  0.392830  2.568431e-05  \n",
       "Otu000568 -0.200375  4.508772e-02  \n",
       "Otu002972 -0.259186  1.270419e-02  "
      ]
     },
     "metadata": {},
     "output_type": "display_data"
    }
   ],
   "source": [
    "idx_hna = otu_scores_selected.index.difference(otu_scores_selected_lna.index)\n",
    "idx_lna = otu_scores_selected_lna.index.difference(otu_scores_selected.index)\n",
    "idx_common = otu_scores_selected.drop(idx_hna).index\n",
    "pd.Series(idx_common).to_csv('commonOTU_HNALNA_rel.csv')\n",
    "print('Size subset OTUs only related to HNA: ' + str(len(idx_hna)) + '; opposed to total size: ' + str(len(otu_scores_selected)))\n",
    "print('Size subset OTUs only related to LNA: ' + str(len(idx_lna)) + '; opposed to total size: ' + str(len(otu_scores_selected_lna)))\n",
    "print('Size subset OTUs related to both: ' + str(len(idx_common)))\n",
    "\n",
    "display(otu_scores_selected_lna.loc[idx_common,:])\n",
    "#data_abs_raw = pd.read_csv('data/Chloroplasts_removed/nochloro_absolute_otu.tsv', sep=' ', index_col=None, header=0)\n",
    "#data_abs_raw = data_abs_raw.loc[index,:]\n",
    "#display(data_abs_raw.loc[:,idx_hna].sum(axis=1).values/hna.values)"
   ]
  },
  {
   "cell_type": "code",
   "execution_count": 32,
   "metadata": {},
   "outputs": [
    {
     "data": {
      "image/png": "[encoded data removed]",
      "text/plain": [
       "<matplotlib.figure.Figure at 0x7f953669d748>"
      ]
     },
     "metadata": {},
     "output_type": "display_data"
    }
   ],
   "source": [
    "plt.figure()\n",
    "sns.regplot(x=otu_scores.loc[:,'score'],y=otu_scores_lna.loc[otu_scores.index,'score'])\n",
    "plt.axis([-0.005,1.005,-0.005,1.005])\n",
    "plt.xlabel('score(HNA)', size=22)\n",
    "plt.xticks(size=10)\n",
    "plt.ylabel('score(LNA)', size=22)\n",
    "plt.yticks(size=10)\n",
    "plt.axhline(y=thr, linewidth=2, linestyle='--', color = 'k')\n",
    "plt.axvline(x=thr_lna, linewidth=2, linestyle='--', color = 'k')\n",
    "plt.show()"
   ]
  },
  {
   "cell_type": "markdown",
   "metadata": {},
   "source": [
    "This figure shows 4 area's: \n",
    "- (left top corner): OTU's selected solely in function of **LNA**-dynamics, \n",
    "- (right top corner): OTU's selected in function of both **HNA**- and **LNA**-dynamics, \n",
    "- (left bottom corner): OTU's that are _not_ selected, \n",
    "- (right bottom corner): OTU's selected solely in function of **HNA**-dynamics. "
   ]
  },
  {
   "cell_type": "markdown",
   "metadata": {},
   "source": [
    "Univariate vs. Stability selection"
   ]
  },
  {
   "cell_type": "code",
   "execution_count": 33,
   "metadata": {},
   "outputs": [
    {
     "data": {
      "image/png": "[encoded data removed]",
      "text/plain": [
       "<matplotlib.figure.Figure at 0x7f9536682e48>"
      ]
     },
     "metadata": {},
     "output_type": "display_data"
    }
   ],
   "source": [
    "plt.figure()\n",
    "sns.regplot(x=otu_scores.loc[:,'score'],y=uni_fs.loc[otu_scores.index,'kendall'])\n",
    "plt.xlabel('score(HNA)', size=22)\n",
    "plt.xticks(size=10)\n",
    "plt.ylabel('Kendall tau', size=22)\n",
    "plt.yticks(size=10)\n",
    "#plt.yscale('log')\n",
    "plt.axhline(y=0.05, linewidth=2, linestyle='--', color = 'k')\n",
    "plt.axvline(x=thr, linewidth=2, linestyle='--', color = 'k')\n",
    "#plt.axis([-0.005,1.005,0.0000000000000000000001, 1])\n",
    "plt.show()"
   ]
  },
  {
   "cell_type": "code",
   "execution_count": 34,
   "metadata": {},
   "outputs": [
    {
     "data": {
      "image/png": "[encoded data removed]",
      "text/plain": [
       "<matplotlib.figure.Figure at 0x7f9536808d68>"
      ]
     },
     "metadata": {},
     "output_type": "display_data"
    }
   ],
   "source": [
    "plt.figure()\n",
    "sns.regplot(x=otu_scores_lna.loc[:,'score'],y=uni_fs_lna.loc[otu_scores.index,'kendall'])\n",
    "plt.xlabel('score(LNA)', size=22)\n",
    "plt.xticks(size=10)\n",
    "plt.ylabel('Kendall tau', size=22)\n",
    "plt.yticks(size=10)\n",
    "#plt.yscale('log')\n",
    "plt.axhline(y=0.05, linewidth=2, linestyle='--', color = 'k')\n",
    "plt.axvline(x=thr_lna, linewidth=2, linestyle='--', color = 'k')\n",
    "#plt.axis([-0.005,1.005,0.0000000000000000000001, 1])\n",
    "plt.show()"
   ]
  },
  {
   "cell_type": "markdown",
   "metadata": {},
   "source": [
    "This analysis shows that the HNA/LNA dynamics cannot solely be attributed to OTU's that are present in the respective cloud; this is also clear from the mutual correlation between HNA- and LNA-counts ( $\\rho(\\text{HNA,LNA}) = 0.75$ ). \n",
    "\n",
    "I see two reasons for this: \n",
    "- Some OTU's are simply present in the two clouds; \n",
    "- Some HNA-OTU's interact with LNA-OTU's and vice versa. "
   ]
  }
 ],
 "metadata": {
  "anaconda-cloud": {},
  "kernelspec": {
   "display_name": "Python 3",
   "language": "python",
   "name": "python3"
  },
  "language_info": {
   "codemirror_mode": {
    "name": "ipython",
    "version": 3
   },
   "file_extension": ".py",
   "mimetype": "text/x-python",
   "name": "python",
   "nbconvert_exporter": "python",
   "pygments_lexer": "ipython3",
   "version": "3.6.3"
  }
 },
 "nbformat": 4,
 "nbformat_minor": 1
}
