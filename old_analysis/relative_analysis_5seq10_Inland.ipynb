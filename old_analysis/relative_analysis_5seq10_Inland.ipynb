{
 "cells": [
  {
   "cell_type": "code",
   "execution_count": 1,
   "metadata": {
    "scrolled": true
   },
   "outputs": [
    {
     "name": "stderr",
     "output_type": "stream",
     "text": [
      "/home/prubbens/miniconda3/lib/python3.6/site-packages/sklearn/cross_validation.py:41: DeprecationWarning: This module was deprecated in version 0.18 in favor of the model_selection module into which all the refactored classes and functions are moved. Also note that the interface of the new CV iterators are different from that of this module. This module will be removed in 0.20.\n",
      "  \"This module will be removed in 0.20.\", DeprecationWarning)\n"
     ]
    }
   ],
   "source": [
    "'''Import packages'''\n",
    "'''Requires numpy, pandas, scikit-learn, and matplotlib/seaborn'''\n",
    "import numpy as np\n",
    "import pandas as pd\n",
    "from skbio.stats import composition\n",
    "from sklearn.feature_selection import f_regression\n",
    "from sklearn.feature_selection import mutual_info_regression\n",
    "from sklearn.model_selection import KFold\n",
    "from sklearn.model_selection import cross_val_predict\n",
    "from sklearn.linear_model import Lasso\n",
    "from scipy.stats import kendalltau\n",
    "\n",
    "import matplotlib.pyplot as plt\n",
    "import seaborn as sns\n",
    "sns.set_style(\"ticks\")\n",
    "\n",
    "'''Import script which contains functions'''\n",
    "import analysis_functions\n",
    "from analysis_functions import get_r2\n",
    "from analysis_functions import get_lassoCV\n",
    "from analysis_functions import perform_randomizedLasso\n",
    "\n",
    "from IPython.display import display, HTML\n",
    "\n",
    "#If we want to time the implementation: \n",
    "#import time\n",
    "#start_time = time.time()"
   ]
  },
  {
   "cell_type": "markdown",
   "metadata": {},
   "source": [
    "Import the dataframes: "
   ]
  },
  {
   "cell_type": "code",
   "execution_count": 2,
   "metadata": {
    "scrolled": true
   },
   "outputs": [],
   "source": [
    "'''Import data'''\n",
    "data_abs = pd.read_csv('data/Chloroplasts_removed/ByLake_Filtering/5in10/inland/inland_absolute_otu_5in10.tsv', sep=' ', index_col=None, header=0, float_precision='high')\n",
    "data_rel = pd.read_csv('data/Chloroplasts_removed/ByLake_Filtering/5in10/inland/inland_relative_otu_5in10.tsv', sep=' ', index_col=None, header=0, float_precision='high')\n",
    "target = pd.read_csv('data/Chloroplasts_removed/ByLake_Filtering/5in10/inland/inland_sampledata_5in10.tsv', sep= ' ', index_col=0, header=0)"
   ]
  },
  {
   "cell_type": "markdown",
   "metadata": {},
   "source": [
    "**2)**: At 01-05-'17 @marschmi found that a few samples can be seen as outliers, as they represent the bottom waters of productive inland lakes, resulting in a big difference of the HNA percentage. These samples are the following: Z14055F, Z14003F, Z14007F, Z14023F, Z14011F. A code of line is added, in order to be able to run the pipeline without these samples; "
   ]
  },
  {
   "cell_type": "code",
   "execution_count": 3,
   "metadata": {},
   "outputs": [],
   "source": [
    "index = target.Lake[target.Lake == 'Inland'].index"
   ]
  },
  {
   "cell_type": "code",
   "execution_count": 4,
   "metadata": {},
   "outputs": [],
   "source": [
    "'''Set sample names as index and shuffle data'''\n",
    "\n",
    "#Remove outlier samples:\n",
    "data_abs = data_abs.loc[index,:] \n",
    "data_rel = data_rel.loc[index,:]\n",
    "target = target.loc[index,:]\n",
    "#productivity = productivity.loc[index,:]\n",
    "\n",
    "#Shuffle data: \n",
    "#data_abs = data_abs.sample(frac=1, random_state=3)\n",
    "#data_rel = data_rel.sample(frac=1, random_state=3)\n",
    "#target = target.sample(frac=1, random_state=3)\n",
    "#productivity = productivity.sample(frac=1, random_state=3) \n",
    "\n",
    "#Create target columns of HNA-values: \n",
    "hna = target.loc[:,'HNA.cells']\n",
    "hna_rel = hna/target.loc[:,'Total.cells']\n",
    "hna = pd.Series(hna, index=hna.index)\n",
    "hna_rel = pd.Series(hna_rel, index=hna.index)\n",
    "\n",
    "#Create target columns of LNA-values: \n",
    "lna = target.loc[:,'LNA.cells']\n",
    "lna_rel = lna/target.loc[:,'Total.cells']\n",
    "lna = pd.Series(lna, index=lna.index)\n",
    "lna_rel = pd.Series(lna_rel, index=lna.index)"
   ]
  },
  {
   "cell_type": "code",
   "execution_count": 5,
   "metadata": {},
   "outputs": [],
   "source": [
    "#Some variables to store information and to create inner and outer CV-folds\n",
    "otus = list(data_rel.columns)\n",
    "cv = 5"
   ]
  },
  {
   "cell_type": "code",
   "execution_count": 6,
   "metadata": {},
   "outputs": [],
   "source": [
    "''' Log-Ratio analyses '''\n",
    "#data_rel_repl = composition.multiplicative_replacement(data_rel.loc[index,otus])\n",
    "#data_rel_clr = pd.DataFrame(composition.clr(data_rel_repl), columns=otus)\n",
    "#data_rel_clr.to_csv('inland_sampledata_5in10_clr.csv')\n",
    "\n",
    "''' Standardize data '''\n",
    "from analysis_functions import standardize_df\n",
    "data_stand, scaler = standardize_df(data_rel,otus)"
   ]
  },
  {
   "cell_type": "markdown",
   "metadata": {},
   "source": [
    "To do so, we use the **_Randomized Lasso_**: this method makes use of two kinds of randomization in order to select variables (i.e., OTU's) with a certain _stability_: (1) it fits a Lasso to various bootstrap subsamples and (2) it perturbs the initial weighting of certain variables. \n",
    "\n",
    "This results in a $score \\in [0,1]$ that is assigned to variables, with 0 denoting the case where a variable is never chosen by the Lasso, and 1 denoting the case where a variable always is chosen. In other words, the higher the score, the more important a variable can be considered to be. "
   ]
  },
  {
   "cell_type": "markdown",
   "metadata": {},
   "source": [
    "**First goal: ** try to pinpoint those OTU's for which we are sure they are present in the '_HNA-cloud_'. "
   ]
  },
  {
   "cell_type": "markdown",
   "metadata": {},
   "source": [
    "**Univariate Feature Selection**: \n",
    "\n",
    "Let's compare two methods: \n",
    "- f_regression (f-score pearson correlation), \n",
    "- Mutual information,  \n",
    "- (other methods can follow as well). "
   ]
  },
  {
   "cell_type": "code",
   "execution_count": 7,
   "metadata": {},
   "outputs": [
    {
     "data": {
      "text/html": [
       "<div>\n",
       "<style scoped>\n",
       "    .dataframe tbody tr th:only-of-type {\n",
       "        vertical-align: middle;\n",
       "    }\n",
       "\n",
       "    .dataframe tbody tr th {\n",
       "        vertical-align: top;\n",
       "    }\n",
       "\n",
       "    .dataframe thead th {\n",
       "        text-align: right;\n",
       "    }\n",
       "</style>\n",
       "<table border=\"1\" class=\"dataframe\">\n",
       "  <thead>\n",
       "    <tr style=\"text-align: right;\">\n",
       "      <th></th>\n",
       "      <th>f_regr</th>\n",
       "      <th>p-value</th>\n",
       "      <th>kendall</th>\n",
       "      <th>p_kendall</th>\n",
       "    </tr>\n",
       "  </thead>\n",
       "  <tbody>\n",
       "    <tr>\n",
       "      <th>Otu000001</th>\n",
       "      <td>18.224699</td>\n",
       "      <td>0.000071</td>\n",
       "      <td>-0.374702</td>\n",
       "      <td>0.000017</td>\n",
       "    </tr>\n",
       "    <tr>\n",
       "      <th>Otu000004</th>\n",
       "      <td>2.037701</td>\n",
       "      <td>0.158625</td>\n",
       "      <td>-0.255827</td>\n",
       "      <td>0.003345</td>\n",
       "    </tr>\n",
       "    <tr>\n",
       "      <th>Otu000005</th>\n",
       "      <td>0.411807</td>\n",
       "      <td>0.523498</td>\n",
       "      <td>0.073152</td>\n",
       "      <td>0.401821</td>\n",
       "    </tr>\n",
       "    <tr>\n",
       "      <th>Otu000006</th>\n",
       "      <td>1.361416</td>\n",
       "      <td>0.247909</td>\n",
       "      <td>-0.193823</td>\n",
       "      <td>0.038055</td>\n",
       "    </tr>\n",
       "    <tr>\n",
       "      <th>Otu000007</th>\n",
       "      <td>6.257565</td>\n",
       "      <td>0.015112</td>\n",
       "      <td>-0.184950</td>\n",
       "      <td>0.033992</td>\n",
       "    </tr>\n",
       "    <tr>\n",
       "      <th>Otu000009</th>\n",
       "      <td>0.763405</td>\n",
       "      <td>0.385749</td>\n",
       "      <td>0.062417</td>\n",
       "      <td>0.473525</td>\n",
       "    </tr>\n",
       "    <tr>\n",
       "      <th>Otu000010</th>\n",
       "      <td>2.881791</td>\n",
       "      <td>0.094768</td>\n",
       "      <td>-0.007409</td>\n",
       "      <td>0.932228</td>\n",
       "    </tr>\n",
       "    <tr>\n",
       "      <th>Otu000011</th>\n",
       "      <td>5.062610</td>\n",
       "      <td>0.028127</td>\n",
       "      <td>-0.141270</td>\n",
       "      <td>0.104838</td>\n",
       "    </tr>\n",
       "    <tr>\n",
       "      <th>Otu000012</th>\n",
       "      <td>2.337489</td>\n",
       "      <td>0.131548</td>\n",
       "      <td>-0.024868</td>\n",
       "      <td>0.775267</td>\n",
       "    </tr>\n",
       "    <tr>\n",
       "      <th>Otu000016</th>\n",
       "      <td>5.058088</td>\n",
       "      <td>0.028195</td>\n",
       "      <td>-0.114559</td>\n",
       "      <td>0.189408</td>\n",
       "    </tr>\n",
       "  </tbody>\n",
       "</table>\n",
       "</div>"
      ],
      "text/plain": [
       "              f_regr   p-value   kendall  p_kendall\n",
       "Otu000001  18.224699  0.000071 -0.374702   0.000017\n",
       "Otu000004   2.037701  0.158625 -0.255827   0.003345\n",
       "Otu000005   0.411807  0.523498  0.073152   0.401821\n",
       "Otu000006   1.361416  0.247909 -0.193823   0.038055\n",
       "Otu000007   6.257565  0.015112 -0.184950   0.033992\n",
       "Otu000009   0.763405  0.385749  0.062417   0.473525\n",
       "Otu000010   2.881791  0.094768 -0.007409   0.932228\n",
       "Otu000011   5.062610  0.028127 -0.141270   0.104838\n",
       "Otu000012   2.337489  0.131548 -0.024868   0.775267\n",
       "Otu000016   5.058088  0.028195 -0.114559   0.189408"
      ]
     },
     "metadata": {},
     "output_type": "display_data"
    }
   ],
   "source": [
    "f_regr, f_regr_p = f_regression(data_stand.loc[:,otus],hna)\n",
    "kendall = np.zeros(len(otus))\n",
    "p_kendall = np.zeros(len(otus))\n",
    "for i in np.arange(0,len(otus)):\n",
    "    kendall[i], p_kendall[i] = kendalltau(data_stand.loc[:,otus[i]],hna)\n",
    "uni_fs = pd.DataFrame(f_regr, index=otus, columns = ['f_regr'])\n",
    "uni_fs['p-value'] = f_regr_p\n",
    "uni_fs['kendall'] = kendall\n",
    "uni_fs['p_kendall'] = p_kendall\n",
    "display(uni_fs.head(10))"
   ]
  },
  {
   "cell_type": "markdown",
   "metadata": {},
   "source": [
    "Select otu's based on $p < \\text{thr}$: "
   ]
  },
  {
   "cell_type": "code",
   "execution_count": 8,
   "metadata": {
    "scrolled": false
   },
   "outputs": [
    {
     "name": "stdout",
     "output_type": "stream",
     "text": [
      "Total OTUs: 548\n",
      "Number of selected OTUs using Kendall tau with p < 0.05: 168\n",
      "Number of selected OTUs using Kendall tau with p < 0.01: 103\n"
     ]
    }
   ],
   "source": [
    "print('Total OTUs: ' + str(len(otus)))\n",
    "uni_fs_selected_f = uni_fs[uni_fs.loc[:,'p_kendall'].values < 0.05]\n",
    "print('Number of selected OTUs using Kendall tau with p < 0.05: ' + str(len(uni_fs_selected_f)))\n",
    "uni_fs_selected_f = uni_fs[uni_fs.loc[:,'p_kendall'].values < 0.01]\n",
    "print('Number of selected OTUs using Kendall tau with p < 0.01: ' + str(len(uni_fs_selected_f)))"
   ]
  },
  {
   "cell_type": "markdown",
   "metadata": {},
   "source": [
    "What happens when we tune a threshold in function of the f_score: "
   ]
  },
  {
   "cell_type": "code",
   "execution_count": 9,
   "metadata": {},
   "outputs": [
    {
     "name": "stderr",
     "output_type": "stream",
     "text": [
      "/home/prubbens/miniconda3/lib/python3.6/site-packages/sklearn/linear_model/coordinate_descent.py:491: ConvergenceWarning: Objective did not converge. You might want to increase the number of iterations. Fitting data with very small alpha may cause precision problems.\n",
      "  ConvergenceWarning)\n",
      "/home/prubbens/miniconda3/lib/python3.6/site-packages/sklearn/linear_model/coordinate_descent.py:491: ConvergenceWarning: Objective did not converge. You might want to increase the number of iterations. Fitting data with very small alpha may cause precision problems.\n",
      "  ConvergenceWarning)\n",
      "/home/prubbens/miniconda3/lib/python3.6/site-packages/sklearn/linear_model/coordinate_descent.py:491: ConvergenceWarning: Objective did not converge. You might want to increase the number of iterations. Fitting data with very small alpha may cause precision problems.\n",
      "  ConvergenceWarning)\n",
      "/home/prubbens/miniconda3/lib/python3.6/site-packages/sklearn/linear_model/coordinate_descent.py:491: ConvergenceWarning: Objective did not converge. You might want to increase the number of iterations. Fitting data with very small alpha may cause precision problems.\n",
      "  ConvergenceWarning)\n",
      "/home/prubbens/miniconda3/lib/python3.6/site-packages/sklearn/linear_model/coordinate_descent.py:491: ConvergenceWarning: Objective did not converge. You might want to increase the number of iterations. Fitting data with very small alpha may cause precision problems.\n",
      "  ConvergenceWarning)\n",
      "/home/prubbens/miniconda3/lib/python3.6/site-packages/sklearn/linear_model/coordinate_descent.py:491: ConvergenceWarning: Objective did not converge. You might want to increase the number of iterations. Fitting data with very small alpha may cause precision problems.\n",
      "  ConvergenceWarning)\n",
      "/home/prubbens/miniconda3/lib/python3.6/site-packages/sklearn/linear_model/coordinate_descent.py:491: ConvergenceWarning: Objective did not converge. You might want to increase the number of iterations. Fitting data with very small alpha may cause precision problems.\n",
      "  ConvergenceWarning)\n",
      "/home/prubbens/miniconda3/lib/python3.6/site-packages/sklearn/linear_model/coordinate_descent.py:491: ConvergenceWarning: Objective did not converge. You might want to increase the number of iterations. Fitting data with very small alpha may cause precision problems.\n",
      "  ConvergenceWarning)\n",
      "/home/prubbens/miniconda3/lib/python3.6/site-packages/sklearn/linear_model/coordinate_descent.py:491: ConvergenceWarning: Objective did not converge. You might want to increase the number of iterations. Fitting data with very small alpha may cause precision problems.\n",
      "  ConvergenceWarning)\n",
      "/home/prubbens/miniconda3/lib/python3.6/site-packages/sklearn/linear_model/coordinate_descent.py:491: ConvergenceWarning: Objective did not converge. You might want to increase the number of iterations. Fitting data with very small alpha may cause precision problems.\n",
      "  ConvergenceWarning)\n",
      "/home/prubbens/miniconda3/lib/python3.6/site-packages/sklearn/linear_model/coordinate_descent.py:491: ConvergenceWarning: Objective did not converge. You might want to increase the number of iterations. Fitting data with very small alpha may cause precision problems.\n",
      "  ConvergenceWarning)\n",
      "/home/prubbens/miniconda3/lib/python3.6/site-packages/sklearn/linear_model/coordinate_descent.py:491: ConvergenceWarning: Objective did not converge. You might want to increase the number of iterations. Fitting data with very small alpha may cause precision problems.\n",
      "  ConvergenceWarning)\n",
      "/home/prubbens/miniconda3/lib/python3.6/site-packages/sklearn/linear_model/coordinate_descent.py:491: ConvergenceWarning: Objective did not converge. You might want to increase the number of iterations. Fitting data with very small alpha may cause precision problems.\n",
      "  ConvergenceWarning)\n",
      "/home/prubbens/miniconda3/lib/python3.6/site-packages/sklearn/linear_model/coordinate_descent.py:491: ConvergenceWarning: Objective did not converge. You might want to increase the number of iterations. Fitting data with very small alpha may cause precision problems.\n",
      "  ConvergenceWarning)\n"
     ]
    }
   ],
   "source": [
    "from analysis_functions import get_r2_scores\n",
    "thr_otu_kendall_hna, r2_otu_kendall_hna = get_r2_scores(data_stand.loc[:,otus], hna, otus, np.abs(uni_fs['kendall']), cv)\n",
    "thr_otu_kendall_lna, r2_otu_kendall_lna = get_r2_scores(data_stand.loc[:,otus], lna, otus, np.abs(uni_fs['kendall']), cv)"
   ]
  },
  {
   "cell_type": "code",
   "execution_count": 10,
   "metadata": {},
   "outputs": [
    {
     "data": {
      "image/png": "[encoded data removed]",
      "text/plain": [
       "<matplotlib.figure.Figure at 0x7ff613e0e400>"
      ]
     },
     "metadata": {},
     "output_type": "display_data"
    }
   ],
   "source": [
    "plt.figure()\n",
    "sns.regplot(x=thr_otu_kendall_hna,y=r2_otu_kendall_hna, fit_reg=False, label='HNA')\n",
    "sns.regplot(x=thr_otu_kendall_lna,y=r2_otu_kendall_lna, fit_reg=False, label='LNA')\n",
    "plt.xlabel('Kendall Tau score', size=22)\n",
    "plt.xticks(size=10)\n",
    "plt.ylabel(r'$R^2$', size=22)\n",
    "plt.yticks(size=10)\n",
    "#plt.title('F-test', size=24)\n",
    "plt.legend()\n",
    "plt.show()"
   ]
  },
  {
   "cell_type": "code",
   "execution_count": 11,
   "metadata": {},
   "outputs": [
    {
     "name": "stderr",
     "output_type": "stream",
     "text": [
      "/home/prubbens/miniconda3/lib/python3.6/site-packages/sklearn/utils/deprecation.py:58: DeprecationWarning: Class RandomizedLasso is deprecated; The class RandomizedLasso is deprecated in 0.19 and will be removed in 0.21.\n",
      "  warnings.warn(msg, category=DeprecationWarning)\n"
     ]
    }
   ],
   "source": [
    "from analysis_functions import get_lassoCV_alpha\n",
    "\n",
    "alpha = get_lassoCV_alpha(data_stand.loc[:,otus],hna,otus,cv)\n",
    "    \n",
    "otu_scores = pd.DataFrame(perform_randomizedLasso(data_stand.loc[:,otus], hna, alpha), index=otus, columns=['score'])\n",
    "otu_scores.sort_values(ascending=False,inplace=True, by='score')\n",
    "\n",
    "thr_otu_scores_hna, r2_otu_scores_hna = get_r2_scores(data_stand.loc[:,otus], hna, otus, otu_scores, cv)\n",
    "thr_otu_scores_lna, r2_otu_scores_lna = get_r2_scores(data_stand.loc[:,otus], lna, otus, otu_scores, cv)"
   ]
  },
  {
   "cell_type": "code",
   "execution_count": 12,
   "metadata": {},
   "outputs": [
    {
     "data": {
      "image/png": "[encoded data removed]",
      "text/plain": [
       "<matplotlib.figure.Figure at 0x7ff613ddccc0>"
      ]
     },
     "metadata": {},
     "output_type": "display_data"
    }
   ],
   "source": [
    "plt.figure()\n",
    "sns.regplot(x=thr_otu_scores_hna,y=r2_otu_scores_hna, fit_reg=False, label='HNA')\n",
    "sns.regplot(x=thr_otu_scores_lna,y=r2_otu_scores_lna, fit_reg=False, label='LNA')\n",
    "plt.axis([-0.005,1.005,0,1])\n",
    "plt.xlabel('Score', size=22)\n",
    "plt.xticks(size=10)\n",
    "plt.ylabel(r'$R^2$', size=22)\n",
    "plt.yticks(size=10)\n",
    "plt.legend()\n",
    "plt.title('Stability Selection HNA', size=24)\n",
    "plt.show()"
   ]
  },
  {
   "cell_type": "code",
   "execution_count": 13,
   "metadata": {},
   "outputs": [
    {
     "name": "stdout",
     "output_type": "stream",
     "text": [
      "R²_cv(hna): 0.84502492988\n",
      "Threshold score: 0.33\n"
     ]
    }
   ],
   "source": [
    "r2_final = r2_otu_scores_hna.max()\n",
    "thr = thr_otu_scores_hna[r2_otu_scores_hna.argmax()]\n",
    "print('R²_cv(hna): ' + str(r2_final) )\n",
    "print('Threshold score: ' + str(thr))"
   ]
  },
  {
   "cell_type": "code",
   "execution_count": 14,
   "metadata": {},
   "outputs": [],
   "source": [
    "otu_scores = otu_scores.assign(abun_abs_mean = data_abs.loc[:,otus].mean())\n",
    "otu_scores = otu_scores.assign(abun_abs_CV = data_abs.loc[:,otus].std()/data_abs.loc[:,otus].mean())\n",
    "otu_scores =  otu_scores.assign(abun_rel_mean = data_rel.loc[:,otus].mean())\n",
    "otu_scores = otu_scores.assign(abun_rel_CV = data_rel.loc[:,otus].std()/data_rel.loc[:,otus].mean())\n",
    "otu_scores['kendall'] = uni_fs.loc[otu_scores.index,'kendall']\n",
    "otu_scores['p_kendall'] = uni_fs.loc[otu_scores.index,'p_kendall']\n",
    "otu_scores.to_csv('Final/hnascores_otus_5seq10_rel_Inland.csv')"
   ]
  },
  {
   "cell_type": "code",
   "execution_count": 15,
   "metadata": {},
   "outputs": [
    {
     "data": {
      "text/html": [
       "<div>\n",
       "<style scoped>\n",
       "    .dataframe tbody tr th:only-of-type {\n",
       "        vertical-align: middle;\n",
       "    }\n",
       "\n",
       "    .dataframe tbody tr th {\n",
       "        vertical-align: top;\n",
       "    }\n",
       "\n",
       "    .dataframe thead th {\n",
       "        text-align: right;\n",
       "    }\n",
       "</style>\n",
       "<table border=\"1\" class=\"dataframe\">\n",
       "  <thead>\n",
       "    <tr style=\"text-align: right;\">\n",
       "      <th></th>\n",
       "      <th>score</th>\n",
       "      <th>abun_abs_mean</th>\n",
       "      <th>abun_abs_CV</th>\n",
       "      <th>abun_rel_mean</th>\n",
       "      <th>abun_rel_CV</th>\n",
       "      <th>kendall</th>\n",
       "      <th>p_kendall</th>\n",
       "    </tr>\n",
       "  </thead>\n",
       "  <tbody>\n",
       "    <tr>\n",
       "      <th>Otu000173</th>\n",
       "      <td>0.636</td>\n",
       "      <td>6188.984950</td>\n",
       "      <td>1.490989</td>\n",
       "      <td>0.000873</td>\n",
       "      <td>1.389307</td>\n",
       "      <td>0.286310</td>\n",
       "      <td>1.557882e-03</td>\n",
       "    </tr>\n",
       "    <tr>\n",
       "      <th>Otu000369</th>\n",
       "      <td>0.486</td>\n",
       "      <td>3351.829403</td>\n",
       "      <td>2.025124</td>\n",
       "      <td>0.000692</td>\n",
       "      <td>1.912484</td>\n",
       "      <td>-0.496981</td>\n",
       "      <td>2.074218e-07</td>\n",
       "    </tr>\n",
       "    <tr>\n",
       "      <th>Otu001086</th>\n",
       "      <td>0.426</td>\n",
       "      <td>800.699525</td>\n",
       "      <td>3.498429</td>\n",
       "      <td>0.000093</td>\n",
       "      <td>3.394353</td>\n",
       "      <td>0.088671</td>\n",
       "      <td>3.845003e-01</td>\n",
       "    </tr>\n",
       "    <tr>\n",
       "      <th>Otu001038</th>\n",
       "      <td>0.414</td>\n",
       "      <td>701.325871</td>\n",
       "      <td>1.341814</td>\n",
       "      <td>0.000134</td>\n",
       "      <td>1.613117</td>\n",
       "      <td>-0.286408</td>\n",
       "      <td>3.581328e-03</td>\n",
       "    </tr>\n",
       "    <tr>\n",
       "      <th>Otu000001</th>\n",
       "      <td>0.412</td>\n",
       "      <td>344708.170996</td>\n",
       "      <td>0.636686</td>\n",
       "      <td>0.054941</td>\n",
       "      <td>0.479649</td>\n",
       "      <td>-0.374702</td>\n",
       "      <td>1.702687e-05</td>\n",
       "    </tr>\n",
       "    <tr>\n",
       "      <th>Otu000574</th>\n",
       "      <td>0.402</td>\n",
       "      <td>1031.825082</td>\n",
       "      <td>1.858447</td>\n",
       "      <td>0.000203</td>\n",
       "      <td>1.950236</td>\n",
       "      <td>-0.148422</td>\n",
       "      <td>1.287577e-01</td>\n",
       "    </tr>\n",
       "    <tr>\n",
       "      <th>Otu000323</th>\n",
       "      <td>0.400</td>\n",
       "      <td>1902.805704</td>\n",
       "      <td>2.869465</td>\n",
       "      <td>0.000252</td>\n",
       "      <td>2.783482</td>\n",
       "      <td>0.225742</td>\n",
       "      <td>2.415342e-02</td>\n",
       "    </tr>\n",
       "    <tr>\n",
       "      <th>Otu000075</th>\n",
       "      <td>0.394</td>\n",
       "      <td>9451.401067</td>\n",
       "      <td>1.535613</td>\n",
       "      <td>0.001838</td>\n",
       "      <td>1.730486</td>\n",
       "      <td>0.014787</td>\n",
       "      <td>8.689152e-01</td>\n",
       "    </tr>\n",
       "    <tr>\n",
       "      <th>Otu001087</th>\n",
       "      <td>0.366</td>\n",
       "      <td>1300.119159</td>\n",
       "      <td>1.894410</td>\n",
       "      <td>0.000311</td>\n",
       "      <td>2.270910</td>\n",
       "      <td>-0.273180</td>\n",
       "      <td>4.774088e-03</td>\n",
       "    </tr>\n",
       "    <tr>\n",
       "      <th>Otu000074</th>\n",
       "      <td>0.364</td>\n",
       "      <td>11041.476948</td>\n",
       "      <td>0.919916</td>\n",
       "      <td>0.002179</td>\n",
       "      <td>1.087343</td>\n",
       "      <td>-0.238517</td>\n",
       "      <td>7.057465e-03</td>\n",
       "    </tr>\n",
       "  </tbody>\n",
       "</table>\n",
       "</div>"
      ],
      "text/plain": [
       "           score  abun_abs_mean  abun_abs_CV  abun_rel_mean  abun_rel_CV  \\\n",
       "Otu000173  0.636    6188.984950     1.490989       0.000873     1.389307   \n",
       "Otu000369  0.486    3351.829403     2.025124       0.000692     1.912484   \n",
       "Otu001086  0.426     800.699525     3.498429       0.000093     3.394353   \n",
       "Otu001038  0.414     701.325871     1.341814       0.000134     1.613117   \n",
       "Otu000001  0.412  344708.170996     0.636686       0.054941     0.479649   \n",
       "Otu000574  0.402    1031.825082     1.858447       0.000203     1.950236   \n",
       "Otu000323  0.400    1902.805704     2.869465       0.000252     2.783482   \n",
       "Otu000075  0.394    9451.401067     1.535613       0.001838     1.730486   \n",
       "Otu001087  0.366    1300.119159     1.894410       0.000311     2.270910   \n",
       "Otu000074  0.364   11041.476948     0.919916       0.002179     1.087343   \n",
       "\n",
       "            kendall     p_kendall  \n",
       "Otu000173  0.286310  1.557882e-03  \n",
       "Otu000369 -0.496981  2.074218e-07  \n",
       "Otu001086  0.088671  3.845003e-01  \n",
       "Otu001038 -0.286408  3.581328e-03  \n",
       "Otu000001 -0.374702  1.702687e-05  \n",
       "Otu000574 -0.148422  1.287577e-01  \n",
       "Otu000323  0.225742  2.415342e-02  \n",
       "Otu000075  0.014787  8.689152e-01  \n",
       "Otu001087 -0.273180  4.774088e-03  \n",
       "Otu000074 -0.238517  7.057465e-03  "
      ]
     },
     "metadata": {},
     "output_type": "display_data"
    },
    {
     "name": "stdout",
     "output_type": "stream",
     "text": [
      "Size list selected OTUs: 12\n"
     ]
    }
   ],
   "source": [
    "otu_scores_selected = otu_scores[otu_scores.score.values>thr]\n",
    "selected_otus = otu_scores_selected.index\n",
    "otu_scores_selected.to_csv('Final/hnascores_otus_tuned_thr_'+str(thr)+'_5seq10_rel_Inland.csv')\n",
    "display(otu_scores_selected.head(10))\n",
    "print('Size list selected OTUs: ' + str(len(selected_otus)))"
   ]
  },
  {
   "cell_type": "code",
   "execution_count": 16,
   "metadata": {},
   "outputs": [
    {
     "name": "stdout",
     "output_type": "stream",
     "text": [
      "R²_cv of HNA-selected OTUs in function of LNA: 0.0289891762214\n"
     ]
    }
   ],
   "source": [
    "print('R²_cv of HNA-selected OTUs in function of LNA: ' + str(r2_otu_scores_lna[r2_otu_scores_hna.argmax()]) )"
   ]
  },
  {
   "cell_type": "code",
   "execution_count": 17,
   "metadata": {},
   "outputs": [
    {
     "data": {
      "image/png": "[encoded data removed]",
      "text/plain": [
       "<matplotlib.figure.Figure at 0x7ff615ebd2b0>"
      ]
     },
     "metadata": {},
     "output_type": "display_data"
    }
   ],
   "source": [
    "plt.figure()\n",
    "sns.regplot(x='abun_rel_mean',y='abun_rel_CV', data=otu_scores_selected)\n",
    "plt.axis([-0.005,0.1,-5,5])\n",
    "plt.xlabel('Avg. Relative Abundance', size=22)\n",
    "plt.xticks(size=10)\n",
    "plt.ylabel('CV(abs)', size=22)\n",
    "plt.yticks(size=10)\n",
    "plt.title('Selected OTUs', size=24)\n",
    "plt.show()"
   ]
  },
  {
   "cell_type": "code",
   "execution_count": 18,
   "metadata": {},
   "outputs": [],
   "source": [
    "#optimal_scores.to_csv('HNA_selectedOTUs_stand_abun_remov' + str(abun)+'_R2'+str(r2_final)+'.csv')"
   ]
  },
  {
   "cell_type": "markdown",
   "metadata": {},
   "source": [
    "**Second goal**: Can we use the same pipeline to predict the _LNA_-counts? "
   ]
  },
  {
   "cell_type": "code",
   "execution_count": 19,
   "metadata": {},
   "outputs": [
    {
     "data": {
      "text/html": [
       "<div>\n",
       "<style scoped>\n",
       "    .dataframe tbody tr th:only-of-type {\n",
       "        vertical-align: middle;\n",
       "    }\n",
       "\n",
       "    .dataframe tbody tr th {\n",
       "        vertical-align: top;\n",
       "    }\n",
       "\n",
       "    .dataframe thead th {\n",
       "        text-align: right;\n",
       "    }\n",
       "</style>\n",
       "<table border=\"1\" class=\"dataframe\">\n",
       "  <thead>\n",
       "    <tr style=\"text-align: right;\">\n",
       "      <th></th>\n",
       "      <th>f_regr</th>\n",
       "      <th>p-value</th>\n",
       "      <th>kendall</th>\n",
       "      <th>p_kendall</th>\n",
       "    </tr>\n",
       "  </thead>\n",
       "  <tbody>\n",
       "    <tr>\n",
       "      <th>Otu000001</th>\n",
       "      <td>4.645458</td>\n",
       "      <td>0.000071</td>\n",
       "      <td>0.132310</td>\n",
       "      <td>0.128862</td>\n",
       "    </tr>\n",
       "    <tr>\n",
       "      <th>Otu000004</th>\n",
       "      <td>0.268715</td>\n",
       "      <td>0.158625</td>\n",
       "      <td>-0.045021</td>\n",
       "      <td>0.605603</td>\n",
       "    </tr>\n",
       "    <tr>\n",
       "      <th>Otu000005</th>\n",
       "      <td>1.305700</td>\n",
       "      <td>0.523498</td>\n",
       "      <td>0.252320</td>\n",
       "      <td>0.003831</td>\n",
       "    </tr>\n",
       "    <tr>\n",
       "      <th>Otu000006</th>\n",
       "      <td>1.647351</td>\n",
       "      <td>0.247909</td>\n",
       "      <td>-0.231875</td>\n",
       "      <td>0.013084</td>\n",
       "    </tr>\n",
       "    <tr>\n",
       "      <th>Otu000007</th>\n",
       "      <td>1.561209</td>\n",
       "      <td>0.015112</td>\n",
       "      <td>0.094860</td>\n",
       "      <td>0.276851</td>\n",
       "    </tr>\n",
       "    <tr>\n",
       "      <th>Otu000009</th>\n",
       "      <td>0.135393</td>\n",
       "      <td>0.385749</td>\n",
       "      <td>0.084634</td>\n",
       "      <td>0.331115</td>\n",
       "    </tr>\n",
       "    <tr>\n",
       "      <th>Otu000010</th>\n",
       "      <td>2.955458</td>\n",
       "      <td>0.094768</td>\n",
       "      <td>0.211696</td>\n",
       "      <td>0.015109</td>\n",
       "    </tr>\n",
       "    <tr>\n",
       "      <th>Otu000011</th>\n",
       "      <td>1.147979</td>\n",
       "      <td>0.028127</td>\n",
       "      <td>0.123280</td>\n",
       "      <td>0.156977</td>\n",
       "    </tr>\n",
       "    <tr>\n",
       "      <th>Otu000012</th>\n",
       "      <td>0.000183</td>\n",
       "      <td>0.131548</td>\n",
       "      <td>0.022751</td>\n",
       "      <td>0.793942</td>\n",
       "    </tr>\n",
       "    <tr>\n",
       "      <th>Otu000016</th>\n",
       "      <td>0.873330</td>\n",
       "      <td>0.028195</td>\n",
       "      <td>0.147442</td>\n",
       "      <td>0.091215</td>\n",
       "    </tr>\n",
       "  </tbody>\n",
       "</table>\n",
       "</div>"
      ],
      "text/plain": [
       "             f_regr   p-value   kendall  p_kendall\n",
       "Otu000001  4.645458  0.000071  0.132310   0.128862\n",
       "Otu000004  0.268715  0.158625 -0.045021   0.605603\n",
       "Otu000005  1.305700  0.523498  0.252320   0.003831\n",
       "Otu000006  1.647351  0.247909 -0.231875   0.013084\n",
       "Otu000007  1.561209  0.015112  0.094860   0.276851\n",
       "Otu000009  0.135393  0.385749  0.084634   0.331115\n",
       "Otu000010  2.955458  0.094768  0.211696   0.015109\n",
       "Otu000011  1.147979  0.028127  0.123280   0.156977\n",
       "Otu000012  0.000183  0.131548  0.022751   0.793942\n",
       "Otu000016  0.873330  0.028195  0.147442   0.091215"
      ]
     },
     "metadata": {},
     "output_type": "display_data"
    }
   ],
   "source": [
    "f_regr_lna, f_regr_p_lna = f_regression(data_stand.loc[:,otus],lna)\n",
    "uni_fs_lna = pd.DataFrame(f_regr_lna, index=otus, columns = ['f_regr'])\n",
    "uni_fs_lna['p-value'] = f_regr_p_lna\n",
    "kendall = np.zeros(len(otus))\n",
    "p_kendall = np.zeros(len(otus))\n",
    "for i in np.arange(0,len(otus)):\n",
    "    kendall[i], p_kendall[i] = kendalltau(data_stand.loc[:,otus[i]],lna)\n",
    "uni_fs_lna = pd.DataFrame(f_regr_lna, index=otus, columns = ['f_regr'])\n",
    "uni_fs_lna['p-value'] = f_regr_p\n",
    "uni_fs_lna['kendall'] = kendall\n",
    "uni_fs_lna['p_kendall'] = p_kendall\n",
    "#uni_fs_lna['mi'] = mutual_info_regression(data_stand.loc[:,otus],lna)\n",
    "#uni_fs_lna.sort_values(ascending=False,inplace=True, by='f_regr')\n",
    "display(uni_fs_lna.head(10))"
   ]
  },
  {
   "cell_type": "code",
   "execution_count": 20,
   "metadata": {},
   "outputs": [
    {
     "name": "stdout",
     "output_type": "stream",
     "text": [
      "Number of selected OTUs using kendall tau with p < 0.05: 217\n",
      "Number of selected OTUs using kendall tau with p < 0.01: 144\n"
     ]
    }
   ],
   "source": [
    "uni_fs_selected_f = uni_fs_lna[uni_fs_lna.loc[:,'p_kendall'].values < 0.05]\n",
    "print('Number of selected OTUs using kendall tau with p < 0.05: ' + str(len(uni_fs_selected_f)))\n",
    "uni_fs_selected_f = uni_fs_lna[uni_fs_lna.loc[:,'p_kendall'].values < 0.01]\n",
    "print('Number of selected OTUs using kendall tau with p < 0.01: ' + str(len(uni_fs_selected_f)))"
   ]
  },
  {
   "cell_type": "code",
   "execution_count": 21,
   "metadata": {},
   "outputs": [],
   "source": [
    "thr_otu_kendall_lna, r2_otu_kendall_lna = get_r2_scores(data_stand.loc[:,otus], lna, otus, np.absolute(uni_fs_lna['kendall']), cv)\n",
    "thr_otu_kendall_hna, r2_otu_kendall_hna = get_r2_scores(data_stand.loc[:,otus], hna, otus, np.absolute(uni_fs_lna['kendall']), cv)"
   ]
  },
  {
   "cell_type": "code",
   "execution_count": 22,
   "metadata": {},
   "outputs": [
    {
     "data": {
      "image/png": "[encoded data removed]",
      "text/plain": [
       "<matplotlib.figure.Figure at 0x7ff613c8a390>"
      ]
     },
     "metadata": {},
     "output_type": "display_data"
    }
   ],
   "source": [
    "plt.figure()\n",
    "sns.regplot(x=thr_otu_kendall_hna,y=r2_otu_kendall_hna, fit_reg=False, label='HNA')\n",
    "sns.regplot(x=thr_otu_kendall_lna,y=r2_otu_kendall_lna, fit_reg=False, label='LNA')\n",
    "plt.xlabel('Kendall tau', size=22)\n",
    "plt.xticks(size=10)\n",
    "plt.ylabel(r'$R^2$', size=22)\n",
    "plt.yticks(size=10)\n",
    "#plt.title('Spearman correlation', size=24)\n",
    "plt.legend()\n",
    "plt.show()"
   ]
  },
  {
   "cell_type": "code",
   "execution_count": 23,
   "metadata": {},
   "outputs": [
    {
     "name": "stderr",
     "output_type": "stream",
     "text": [
      "/home/prubbens/miniconda3/lib/python3.6/site-packages/sklearn/utils/deprecation.py:58: DeprecationWarning: Class RandomizedLasso is deprecated; The class RandomizedLasso is deprecated in 0.19 and will be removed in 0.21.\n",
      "  warnings.warn(msg, category=DeprecationWarning)\n"
     ]
    }
   ],
   "source": [
    "alpha = get_lassoCV_alpha(data_stand.loc[:,otus],lna,otus,cv)\n",
    "otu_scores_lna = pd.DataFrame(perform_randomizedLasso(data_stand.loc[:,otus], lna, alpha), index=otus, columns=['score'])\n",
    "otu_scores_lna.sort_values(ascending=False, inplace=True, by='score')\n",
    "\n",
    "thr_otu_scores_lna, r2_otu_scores_lna = get_r2_scores(data_stand.loc[:,otus], lna, otus, otu_scores_lna, cv)\n",
    "thr_otu_scores_hna, r2_otu_scores_hna = get_r2_scores(data_stand.loc[:,otus], hna, otus, otu_scores_lna, cv)"
   ]
  },
  {
   "cell_type": "code",
   "execution_count": 24,
   "metadata": {},
   "outputs": [
    {
     "data": {
      "image/png": "[encoded data removed]",
      "text/plain": [
       "<matplotlib.figure.Figure at 0x7ff613de0198>"
      ]
     },
     "metadata": {},
     "output_type": "display_data"
    }
   ],
   "source": [
    "plt.figure()\n",
    "sns.regplot(x=thr_otu_scores_hna,y=r2_otu_scores_hna, fit_reg=False, label='HNA')\n",
    "sns.regplot(x=thr_otu_scores_lna,y=r2_otu_scores_lna, fit_reg=False, label='LNA')\n",
    "plt.axis([-0.005,1.005,0,1])\n",
    "plt.xlabel('Score', size=22)\n",
    "plt.xticks(size=10)\n",
    "plt.ylabel(r'$R^2$', size=22)\n",
    "plt.yticks(size=10)\n",
    "plt.legend()\n",
    "plt.title('Stability Selection LNA', size=24)\n",
    "plt.show()"
   ]
  },
  {
   "cell_type": "code",
   "execution_count": 25,
   "metadata": {},
   "outputs": [
    {
     "name": "stdout",
     "output_type": "stream",
     "text": [
      "R²_cv(lna): 0.806334179087\n",
      "Threshold score: 0.29\n"
     ]
    }
   ],
   "source": [
    "r2_final = r2_otu_scores_lna.max()\n",
    "thr_lna = thr_otu_scores_lna[r2_otu_scores_lna.argmax()]\n",
    "print('R²_cv(lna): ' + str(r2_final) )\n",
    "print('Threshold score: ' + str(thr_lna))"
   ]
  },
  {
   "cell_type": "code",
   "execution_count": 26,
   "metadata": {},
   "outputs": [],
   "source": [
    "otu_scores_lna = otu_scores_lna.assign(abun_abs_mean = data_abs.loc[:,otus].mean())\n",
    "otu_scores_lna = otu_scores_lna.assign(abun_abs_CV = data_abs.loc[:,otus].std()/data_abs.loc[:,otus].mean())\n",
    "otu_scores_lna =  otu_scores_lna.assign(abun_rel_mean = data_rel.loc[:,otus].mean())\n",
    "otu_scores_lna = otu_scores_lna.assign(abun_rel_CV = data_rel.loc[:,otus].std()/data_rel.loc[:,otus].mean())\n",
    "otu_scores_lna['kendall'] = uni_fs_lna.loc[otu_scores.index,'kendall']\n",
    "otu_scores_lna['p_kendall'] = uni_fs_lna.loc[otu_scores.index,'p_kendall']\n",
    "otu_scores_lna.to_csv('Final/lnascores_otus_5seq10_rel_Inland.csv')"
   ]
  },
  {
   "cell_type": "code",
   "execution_count": 27,
   "metadata": {},
   "outputs": [
    {
     "name": "stdout",
     "output_type": "stream",
     "text": [
      "Size list selected OTUs: 25\n"
     ]
    },
    {
     "data": {
      "text/html": [
       "<div>\n",
       "<style scoped>\n",
       "    .dataframe tbody tr th:only-of-type {\n",
       "        vertical-align: middle;\n",
       "    }\n",
       "\n",
       "    .dataframe tbody tr th {\n",
       "        vertical-align: top;\n",
       "    }\n",
       "\n",
       "    .dataframe thead th {\n",
       "        text-align: right;\n",
       "    }\n",
       "</style>\n",
       "<table border=\"1\" class=\"dataframe\">\n",
       "  <thead>\n",
       "    <tr style=\"text-align: right;\">\n",
       "      <th></th>\n",
       "      <th>score</th>\n",
       "      <th>abun_abs_mean</th>\n",
       "      <th>abun_abs_CV</th>\n",
       "      <th>abun_rel_mean</th>\n",
       "      <th>abun_rel_CV</th>\n",
       "      <th>kendall</th>\n",
       "      <th>p_kendall</th>\n",
       "    </tr>\n",
       "  </thead>\n",
       "  <tbody>\n",
       "    <tr>\n",
       "      <th>Otu000269</th>\n",
       "      <td>0.486</td>\n",
       "      <td>3967.332607</td>\n",
       "      <td>2.502934</td>\n",
       "      <td>0.000448</td>\n",
       "      <td>2.508065</td>\n",
       "      <td>0.438566</td>\n",
       "      <td>1.029536e-05</td>\n",
       "    </tr>\n",
       "    <tr>\n",
       "      <th>Otu000179</th>\n",
       "      <td>0.478</td>\n",
       "      <td>17108.715676</td>\n",
       "      <td>3.035751</td>\n",
       "      <td>0.001879</td>\n",
       "      <td>2.827507</td>\n",
       "      <td>0.247924</td>\n",
       "      <td>1.101585e-02</td>\n",
       "    </tr>\n",
       "    <tr>\n",
       "      <th>Otu000053</th>\n",
       "      <td>0.458</td>\n",
       "      <td>47205.415128</td>\n",
       "      <td>1.160526</td>\n",
       "      <td>0.006604</td>\n",
       "      <td>0.955585</td>\n",
       "      <td>0.435363</td>\n",
       "      <td>6.286958e-07</td>\n",
       "    </tr>\n",
       "    <tr>\n",
       "      <th>Otu000893</th>\n",
       "      <td>0.450</td>\n",
       "      <td>1270.561845</td>\n",
       "      <td>1.831113</td>\n",
       "      <td>0.000157</td>\n",
       "      <td>1.718919</td>\n",
       "      <td>0.385170</td>\n",
       "      <td>8.717214e-05</td>\n",
       "    </tr>\n",
       "    <tr>\n",
       "      <th>Otu000346</th>\n",
       "      <td>0.440</td>\n",
       "      <td>2008.754634</td>\n",
       "      <td>2.245665</td>\n",
       "      <td>0.000421</td>\n",
       "      <td>2.056438</td>\n",
       "      <td>-0.366446</td>\n",
       "      <td>1.328251e-04</td>\n",
       "    </tr>\n",
       "    <tr>\n",
       "      <th>Otu000067</th>\n",
       "      <td>0.438</td>\n",
       "      <td>11175.142682</td>\n",
       "      <td>1.620398</td>\n",
       "      <td>0.002490</td>\n",
       "      <td>1.874349</td>\n",
       "      <td>-0.259225</td>\n",
       "      <td>4.300273e-03</td>\n",
       "    </tr>\n",
       "    <tr>\n",
       "      <th>Otu000169</th>\n",
       "      <td>0.420</td>\n",
       "      <td>12307.767508</td>\n",
       "      <td>1.153023</td>\n",
       "      <td>0.001701</td>\n",
       "      <td>0.957471</td>\n",
       "      <td>0.398918</td>\n",
       "      <td>6.919175e-06</td>\n",
       "    </tr>\n",
       "    <tr>\n",
       "      <th>Otu000355</th>\n",
       "      <td>0.414</td>\n",
       "      <td>13276.094100</td>\n",
       "      <td>1.520699</td>\n",
       "      <td>0.001758</td>\n",
       "      <td>1.395988</td>\n",
       "      <td>0.393024</td>\n",
       "      <td>2.150289e-05</td>\n",
       "    </tr>\n",
       "    <tr>\n",
       "      <th>Otu000204</th>\n",
       "      <td>0.394</td>\n",
       "      <td>8146.407766</td>\n",
       "      <td>1.370542</td>\n",
       "      <td>0.001601</td>\n",
       "      <td>1.549841</td>\n",
       "      <td>-0.323972</td>\n",
       "      <td>3.137444e-04</td>\n",
       "    </tr>\n",
       "    <tr>\n",
       "      <th>Otu000162</th>\n",
       "      <td>0.390</td>\n",
       "      <td>2336.952576</td>\n",
       "      <td>0.820628</td>\n",
       "      <td>0.000418</td>\n",
       "      <td>0.883882</td>\n",
       "      <td>-0.179779</td>\n",
       "      <td>4.792870e-02</td>\n",
       "    </tr>\n",
       "  </tbody>\n",
       "</table>\n",
       "</div>"
      ],
      "text/plain": [
       "           score  abun_abs_mean  abun_abs_CV  abun_rel_mean  abun_rel_CV  \\\n",
       "Otu000269  0.486    3967.332607     2.502934       0.000448     2.508065   \n",
       "Otu000179  0.478   17108.715676     3.035751       0.001879     2.827507   \n",
       "Otu000053  0.458   47205.415128     1.160526       0.006604     0.955585   \n",
       "Otu000893  0.450    1270.561845     1.831113       0.000157     1.718919   \n",
       "Otu000346  0.440    2008.754634     2.245665       0.000421     2.056438   \n",
       "Otu000067  0.438   11175.142682     1.620398       0.002490     1.874349   \n",
       "Otu000169  0.420   12307.767508     1.153023       0.001701     0.957471   \n",
       "Otu000355  0.414   13276.094100     1.520699       0.001758     1.395988   \n",
       "Otu000204  0.394    8146.407766     1.370542       0.001601     1.549841   \n",
       "Otu000162  0.390    2336.952576     0.820628       0.000418     0.883882   \n",
       "\n",
       "            kendall     p_kendall  \n",
       "Otu000269  0.438566  1.029536e-05  \n",
       "Otu000179  0.247924  1.101585e-02  \n",
       "Otu000053  0.435363  6.286958e-07  \n",
       "Otu000893  0.385170  8.717214e-05  \n",
       "Otu000346 -0.366446  1.328251e-04  \n",
       "Otu000067 -0.259225  4.300273e-03  \n",
       "Otu000169  0.398918  6.919175e-06  \n",
       "Otu000355  0.393024  2.150289e-05  \n",
       "Otu000204 -0.323972  3.137444e-04  \n",
       "Otu000162 -0.179779  4.792870e-02  "
      ]
     },
     "metadata": {},
     "output_type": "display_data"
    }
   ],
   "source": [
    "otu_scores_selected_lna = otu_scores_lna[otu_scores_lna.score.values>thr_lna]\n",
    "selected_otus_lna = otu_scores_selected_lna.index\n",
    "print('Size list selected OTUs: ' + str(len(selected_otus_lna)))\n",
    "otu_scores_selected_lna.to_csv('Final/lnascores_otus_tuned_thr_'+str(thr_lna)+'_5seq10_rel_Inland.csv')\n",
    "display(otu_scores_selected_lna.head(10))"
   ]
  },
  {
   "cell_type": "code",
   "execution_count": 28,
   "metadata": {},
   "outputs": [
    {
     "name": "stdout",
     "output_type": "stream",
     "text": [
      "R²_cv of LNA-selected OTUs in function of HNA: 0.464899473758\n"
     ]
    }
   ],
   "source": [
    "print('R²_cv of LNA-selected OTUs in function of HNA: ' + str(r2_otu_scores_hna[r2_otu_scores_lna.argmax()]) )"
   ]
  },
  {
   "cell_type": "code",
   "execution_count": 29,
   "metadata": {},
   "outputs": [
    {
     "data": {
      "image/png": "[encoded data removed]",
      "text/plain": [
       "<matplotlib.figure.Figure at 0x7ff613d83b70>"
      ]
     },
     "metadata": {},
     "output_type": "display_data"
    }
   ],
   "source": [
    "plt.figure()\n",
    "sns.regplot(x='abun_abs_mean',y='abun_abs_CV', data=otu_scores_selected_lna)\n",
    "plt.axis([0,400000,-5,5])\n",
    "plt.xlabel('mean(abs)', size=22)\n",
    "plt.xticks(size=10)\n",
    "plt.ylabel('CV(abs)', size=22)\n",
    "plt.yticks(size=10)\n",
    "plt.show()"
   ]
  },
  {
   "cell_type": "markdown",
   "metadata": {},
   "source": [
    "Let's compare the HNA- and LNA-lists, which OTU's are shared (_common_) and which are only part of the HNA- or LNA subset?: "
   ]
  },
  {
   "cell_type": "code",
   "execution_count": 30,
   "metadata": {},
   "outputs": [
    {
     "name": "stdout",
     "output_type": "stream",
     "text": [
      "Size subset OTUs only related to HNA: 10; opposed to total size: 12\n",
      "Size subset OTUs only related to LNA: 23; opposed to total size: 25\n",
      "Size subset OTUs related to both: 2\n"
     ]
    },
    {
     "data": {
      "text/html": [
       "<div>\n",
       "<style scoped>\n",
       "    .dataframe tbody tr th:only-of-type {\n",
       "        vertical-align: middle;\n",
       "    }\n",
       "\n",
       "    .dataframe tbody tr th {\n",
       "        vertical-align: top;\n",
       "    }\n",
       "\n",
       "    .dataframe thead th {\n",
       "        text-align: right;\n",
       "    }\n",
       "</style>\n",
       "<table border=\"1\" class=\"dataframe\">\n",
       "  <thead>\n",
       "    <tr style=\"text-align: right;\">\n",
       "      <th></th>\n",
       "      <th>score</th>\n",
       "      <th>abun_abs_mean</th>\n",
       "      <th>abun_abs_CV</th>\n",
       "      <th>abun_rel_mean</th>\n",
       "      <th>abun_rel_CV</th>\n",
       "      <th>kendall</th>\n",
       "      <th>p_kendall</th>\n",
       "    </tr>\n",
       "  </thead>\n",
       "  <tbody>\n",
       "    <tr>\n",
       "      <th>Otu001086</th>\n",
       "      <td>0.298</td>\n",
       "      <td>800.699525</td>\n",
       "      <td>3.498429</td>\n",
       "      <td>0.000093</td>\n",
       "      <td>3.394353</td>\n",
       "      <td>0.322017</td>\n",
       "      <td>0.001588</td>\n",
       "    </tr>\n",
       "    <tr>\n",
       "      <th>Otu001087</th>\n",
       "      <td>0.356</td>\n",
       "      <td>1300.119159</td>\n",
       "      <td>1.894410</td>\n",
       "      <td>0.000311</td>\n",
       "      <td>2.270910</td>\n",
       "      <td>-0.251911</td>\n",
       "      <td>0.009263</td>\n",
       "    </tr>\n",
       "  </tbody>\n",
       "</table>\n",
       "</div>"
      ],
      "text/plain": [
       "           score  abun_abs_mean  abun_abs_CV  abun_rel_mean  abun_rel_CV  \\\n",
       "Otu001086  0.298     800.699525     3.498429       0.000093     3.394353   \n",
       "Otu001087  0.356    1300.119159     1.894410       0.000311     2.270910   \n",
       "\n",
       "            kendall  p_kendall  \n",
       "Otu001086  0.322017   0.001588  \n",
       "Otu001087 -0.251911   0.009263  "
      ]
     },
     "metadata": {},
     "output_type": "display_data"
    }
   ],
   "source": [
    "idx_hna = otu_scores_selected.index.difference(otu_scores_selected_lna.index)\n",
    "idx_lna = otu_scores_selected_lna.index.difference(otu_scores_selected.index)\n",
    "idx_common = otu_scores_selected.drop(idx_hna).index\n",
    "pd.Series(idx_common).to_csv('commonOTU_HNALNA_rel.csv')\n",
    "print('Size subset OTUs only related to HNA: ' + str(len(idx_hna)) + '; opposed to total size: ' + str(len(otu_scores_selected)))\n",
    "print('Size subset OTUs only related to LNA: ' + str(len(idx_lna)) + '; opposed to total size: ' + str(len(otu_scores_selected_lna)))\n",
    "print('Size subset OTUs related to both: ' + str(len(idx_common)))\n",
    "\n",
    "display(otu_scores_selected_lna.loc[idx_common,:])\n",
    "#data_abs_raw = pd.read_csv('data/Chloroplasts_removed/nochloro_absolute_otu.tsv', sep=' ', index_col=None, header=0)\n",
    "#data_abs_raw = data_abs_raw.loc[index,:]\n",
    "#display(data_abs_raw.loc[:,idx_hna].sum(axis=1).values/hna.values)"
   ]
  },
  {
   "cell_type": "code",
   "execution_count": 31,
   "metadata": {},
   "outputs": [
    {
     "data": {
      "image/png": "[encoded data removed]",
      "text/plain": [
       "<matplotlib.figure.Figure at 0x7ff613c9a550>"
      ]
     },
     "metadata": {},
     "output_type": "display_data"
    }
   ],
   "source": [
    "plt.figure()\n",
    "sns.regplot(x=otu_scores.loc[:,'score'],y=otu_scores_lna.loc[otu_scores.index,'score'])\n",
    "plt.axis([-0.005,1.005,-0.005,1.005])\n",
    "plt.xlabel('score(HNA)', size=22)\n",
    "plt.xticks(size=10)\n",
    "plt.ylabel('score(LNA)', size=22)\n",
    "plt.yticks(size=10)\n",
    "plt.axhline(y=thr, linewidth=2, linestyle='--', color = 'k')\n",
    "plt.axvline(x=thr_lna, linewidth=2, linestyle='--', color = 'k')\n",
    "plt.show()"
   ]
  },
  {
   "cell_type": "markdown",
   "metadata": {},
   "source": [
    "This figure shows 4 area's: \n",
    "- (left top corner): OTU's selected solely in function of **LNA**-dynamics, \n",
    "- (right top corner): OTU's selected in function of both **HNA**- and **LNA**-dynamics, \n",
    "- (left bottom corner): OTU's that are _not_ selected, \n",
    "- (right bottom corner): OTU's selected solely in function of **HNA**-dynamics. "
   ]
  },
  {
   "cell_type": "markdown",
   "metadata": {},
   "source": [
    "Univariate vs. Stability selection"
   ]
  },
  {
   "cell_type": "code",
   "execution_count": 32,
   "metadata": {},
   "outputs": [
    {
     "data": {
      "image/png": "[encoded data removed]",
      "text/plain": [
       "<matplotlib.figure.Figure at 0x7ff613c1bba8>"
      ]
     },
     "metadata": {},
     "output_type": "display_data"
    }
   ],
   "source": [
    "plt.figure()\n",
    "sns.regplot(x=otu_scores.loc[:,'score'],y=uni_fs.loc[otu_scores.index,'kendall'])\n",
    "plt.xlabel('score(HNA)', size=22)\n",
    "plt.xticks(size=10)\n",
    "plt.ylabel('Kendall tau', size=22)\n",
    "plt.yticks(size=10)\n",
    "#plt.yscale('log')\n",
    "plt.axhline(y=0.05, linewidth=2, linestyle='--', color = 'k')\n",
    "plt.axvline(x=thr, linewidth=2, linestyle='--', color = 'k')\n",
    "#plt.axis([-0.005,1.005,0.0000000000000000000001, 1])\n",
    "plt.show()"
   ]
  },
  {
   "cell_type": "code",
   "execution_count": 33,
   "metadata": {},
   "outputs": [
    {
     "data": {
      "image/png": "[encoded data removed]",
      "text/plain": [
       "<matplotlib.figure.Figure at 0x7ff613bcbf28>"
      ]
     },
     "metadata": {},
     "output_type": "display_data"
    }
   ],
   "source": [
    "plt.figure()\n",
    "sns.regplot(x=otu_scores_lna.loc[:,'score'],y=uni_fs_lna.loc[otu_scores.index,'kendall'])\n",
    "plt.xlabel('score(LNA)', size=22)\n",
    "plt.xticks(size=10)\n",
    "plt.ylabel('Kendall tau', size=22)\n",
    "plt.yticks(size=10)\n",
    "#plt.yscale('log')\n",
    "plt.axhline(y=0.05, linewidth=2, linestyle='--', color = 'k')\n",
    "plt.axvline(x=thr_lna, linewidth=2, linestyle='--', color = 'k')\n",
    "#plt.axis([-0.005,1.005,0.0000000000000000000001, 1])\n",
    "plt.show()"
   ]
  },
  {
   "cell_type": "markdown",
   "metadata": {},
   "source": [
    "This analysis shows that the HNA/LNA dynamics cannot solely be attributed to OTU's that are present in the respective cloud; this is also clear from the mutual correlation between HNA- and LNA-counts ( $\\rho(\\text{HNA,LNA}) = 0.75$ ). \n",
    "\n",
    "I see two reasons for this: \n",
    "- Some OTU's are simply present in the two clouds; \n",
    "- Some HNA-OTU's interact with LNA-OTU's and vice versa. "
   ]
  }
 ],
 "metadata": {
  "anaconda-cloud": {},
  "kernelspec": {
   "display_name": "Python 3",
   "language": "python",
   "name": "python3"
  },
  "language_info": {
   "codemirror_mode": {
    "name": "ipython",
    "version": 3
   },
   "file_extension": ".py",
   "mimetype": "text/x-python",
   "name": "python",
   "nbconvert_exporter": "python",
   "pygments_lexer": "ipython3",
   "version": "3.6.3"
  }
 },
 "nbformat": 4,
 "nbformat_minor": 1
}
