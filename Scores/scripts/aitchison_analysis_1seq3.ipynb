{
 "cells": [
  {
   "cell_type": "code",
   "execution_count": 21,
   "metadata": {
    "scrolled": true
   },
   "outputs": [],
   "source": [
    "'''Import packages'''\n",
    "'''Requires numpy, pandas, scikit-learn, and matplotlib/seaborn'''\n",
    "import numpy as np\n",
    "import pandas as pd\n",
    "from skbio.stats import composition\n",
    "from sklearn.feature_selection import f_regression\n",
    "from sklearn.feature_selection import mutual_info_regression\n",
    "from sklearn.model_selection import KFold\n",
    "from sklearn.model_selection import cross_val_predict\n",
    "from sklearn.linear_model import Lasso\n",
    "from scipy.stats import spearmanr\n",
    "\n",
    "import matplotlib.pyplot as plt\n",
    "import seaborn as sns\n",
    "sns.set_style(\"ticks\")\n",
    "\n",
    "'''Import script which contains functions'''\n",
    "import analysis_functions\n",
    "from analysis_functions import get_r2\n",
    "from analysis_functions import get_lassoCV\n",
    "from analysis_functions import perform_randomizedLasso\n",
    "\n",
    "from IPython.display import display, HTML\n",
    "\n",
    "#If we want to time the implementation: \n",
    "#import time\n",
    "#start_time = time.time()"
   ]
  },
  {
   "cell_type": "markdown",
   "metadata": {},
   "source": [
    "Import the dataframes: "
   ]
  },
  {
   "cell_type": "code",
   "execution_count": 22,
   "metadata": {
    "scrolled": true
   },
   "outputs": [],
   "source": [
    "'''Import data'''\n",
    "data_abs = pd.read_csv('data/Chloroplasts_removed/Nov2017_Filtering/1seq_in_3samples/nochloro_absolute_otu_1seqin3samps.tsv', sep=' ', index_col=None, header=0, float_precision='high')\n",
    "data_rel = pd.read_csv('data/Chloroplasts_removed/Nov2017_Filtering/1seq_in_3samples/nochloro_relative_1seqin3samps.tsv', sep=' ', index_col=None, header=0, float_precision='high')\n",
    "target = pd.read_csv('data/Chloroplasts_removed/Nov2017_Filtering/1seq_in_3samples/nochloro_HNA_LNA_1seqin3samps.tsv', sep= ' ', index_col=0, header=0)"
   ]
  },
  {
   "cell_type": "markdown",
   "metadata": {},
   "source": [
    "**2)**: At 01-05-'17 @marschmi found that a few samples can be seen as outliers, as they represent the bottom waters of productive inland lakes, resulting in a big difference of the HNA percentage. These samples are the following: Z14055F, Z14003F, Z14007F, Z14023F, Z14011F. A code of line is added, in order to be able to run the pipeline without these samples; "
   ]
  },
  {
   "cell_type": "code",
   "execution_count": 23,
   "metadata": {},
   "outputs": [],
   "source": [
    "#samples_to_drop = ['Z14055F', 'Z14003F', 'Z14007F', 'Z14023F', 'Z14011F']\n",
    "#index = target.index.drop(samples_to_drop)"
   ]
  },
  {
   "cell_type": "code",
   "execution_count": 24,
   "metadata": {},
   "outputs": [],
   "source": [
    "'''Set sample names as index and shuffle data'''\n",
    "index = data_rel.index\n",
    "\n",
    "#Remove outlier samples:\n",
    "data_abs = data_abs.loc[index,:] \n",
    "data_rel = data_rel.loc[index,:]\n",
    "target = target.loc[index,:]\n",
    "#productivity = productivity.loc[index,:]\n",
    "\n",
    "#Shuffle data: \n",
    "data_abs = data_abs.sample(frac=1, random_state=3)\n",
    "data_rel = data_rel.sample(frac=1, random_state=3)\n",
    "target = target.sample(frac=1, random_state=3)\n",
    "#productivity = productivity.sample(frac=1, random_state=3) \n",
    "\n",
    "#Create target columns of HNA-values: \n",
    "hna = target.loc[:,'HNA.cells']\n",
    "hna_rel = hna/target.loc[:,'Total.cells']\n",
    "hna = pd.Series(hna, index=hna.index)\n",
    "hna_rel = pd.Series(hna_rel, index=hna.index)\n",
    "\n",
    "#Create target columns of LNA-values: \n",
    "lna = target.loc[:,'LNA.cells']\n",
    "lna_rel = lna/target.loc[:,'Total.cells']\n",
    "lna = pd.Series(lna, index=lna.index)\n",
    "lna_rel = pd.Series(lna_rel, index=lna.index)"
   ]
  },
  {
   "cell_type": "code",
   "execution_count": 25,
   "metadata": {},
   "outputs": [],
   "source": [
    "#Some variables to store information and to create inner and outer CV-folds\n",
    "\n",
    "data_rel = data_rel.loc[:, (data_rel != 0).any(axis=0)]\n",
    "otus = list(data_rel.columns)\n",
    "\n",
    "#cv_out = 10\n",
    "cv = 5\n",
    "#outer_cv = KFold(n_splits=cv_out, shuffle=False)\n",
    "\n",
    "#otu_scores_cv = pd.DataFrame(columns=otus)\n",
    "#r2_cv = np.zeros(cv_out)\n",
    "#thresholds_cv = np.zeros(cv_out)\n",
    "\n",
    "#pred = pd.Series(index=data_abs.index)\n",
    "#final_scores = pd.DataFrame(columns=otus)\n",
    "\n",
    "#thresholds = np.arange(0,1,0.01)\n",
    "#t = 0"
   ]
  },
  {
   "cell_type": "code",
   "execution_count": 26,
   "metadata": {},
   "outputs": [],
   "source": [
    "''' Log-Ratio analyses '''\n",
    "min_bact = data_rel.loc[:,otus].min()[data_rel.loc[:,otus].min() > 0]\n",
    "min_bact = min_bact.min()\n",
    "data_rel.replace(0,min_bact,inplace=True)\n",
    "data_rel_clr = pd.DataFrame(composition.clr(data_rel.loc[:,otus]), columns=otus)\n",
    "\n",
    "''' Standardize data '''\n",
    "from analysis_functions import standardize_df\n",
    "data_stand, scaler = standardize_df(data_rel_clr,otus)"
   ]
  },
  {
   "cell_type": "markdown",
   "metadata": {},
   "source": [
    "To do so, we use the **_Randomized Lasso_**: this method makes use of two kinds of randomization in order to select variables (i.e., OTU's) with a certain _stability_: (1) it fits a Lasso to various bootstrap subsamples and (2) it perturbs the initial weighting of certain variables. \n",
    "\n",
    "This results in a $score \\in [0,1]$ that is assigned to variables, with 0 denoting the case where a variable is never chosen by the Lasso, and 1 denoting the case where a variable always is chosen. In other words, the higher the score, the more important a variable can be considered to be. "
   ]
  },
  {
   "cell_type": "markdown",
   "metadata": {},
   "source": [
    "**First goal: ** try to pinpoint those OTU's for which we are sure they are present in the '_HNA-cloud_'. "
   ]
  },
  {
   "cell_type": "markdown",
   "metadata": {},
   "source": [
    "**Univariate Feature Selection**: \n",
    "\n",
    "Let's compare two methods: \n",
    "- f_regression (f-score pearson correlation), \n",
    "- Mutual information,  \n",
    "- (other methods can follow as well). "
   ]
  },
  {
   "cell_type": "code",
   "execution_count": 27,
   "metadata": {},
   "outputs": [
    {
     "data": {
      "text/html": [
       "<div>\n",
       "<style scoped>\n",
       "    .dataframe tbody tr th:only-of-type {\n",
       "        vertical-align: middle;\n",
       "    }\n",
       "\n",
       "    .dataframe tbody tr th {\n",
       "        vertical-align: top;\n",
       "    }\n",
       "\n",
       "    .dataframe thead th {\n",
       "        text-align: right;\n",
       "    }\n",
       "</style>\n",
       "<table border=\"1\" class=\"dataframe\">\n",
       "  <thead>\n",
       "    <tr style=\"text-align: right;\">\n",
       "      <th></th>\n",
       "      <th>f_regr</th>\n",
       "      <th>p-value</th>\n",
       "      <th>r_spearman</th>\n",
       "      <th>p_spearman</th>\n",
       "    </tr>\n",
       "  </thead>\n",
       "  <tbody>\n",
       "    <tr>\n",
       "      <th>Otu000001</th>\n",
       "      <td>68.655384</td>\n",
       "      <td>3.761016e-14</td>\n",
       "      <td>-0.617921</td>\n",
       "      <td>4.554200e-19</td>\n",
       "    </tr>\n",
       "    <tr>\n",
       "      <th>Otu000004</th>\n",
       "      <td>0.482054</td>\n",
       "      <td>4.884641e-01</td>\n",
       "      <td>-0.114107</td>\n",
       "      <td>1.408152e-01</td>\n",
       "    </tr>\n",
       "    <tr>\n",
       "      <th>Otu000005</th>\n",
       "      <td>7.657785</td>\n",
       "      <td>6.294591e-03</td>\n",
       "      <td>0.236633</td>\n",
       "      <td>2.013734e-03</td>\n",
       "    </tr>\n",
       "    <tr>\n",
       "      <th>Otu000006</th>\n",
       "      <td>6.932621</td>\n",
       "      <td>9.262960e-03</td>\n",
       "      <td>-0.272270</td>\n",
       "      <td>3.564744e-04</td>\n",
       "    </tr>\n",
       "    <tr>\n",
       "      <th>Otu000007</th>\n",
       "      <td>1.825478</td>\n",
       "      <td>1.785012e-01</td>\n",
       "      <td>-0.127472</td>\n",
       "      <td>9.963722e-02</td>\n",
       "    </tr>\n",
       "    <tr>\n",
       "      <th>Otu000009</th>\n",
       "      <td>1.586476</td>\n",
       "      <td>2.095984e-01</td>\n",
       "      <td>0.085153</td>\n",
       "      <td>2.724364e-01</td>\n",
       "    </tr>\n",
       "    <tr>\n",
       "      <th>Otu000010</th>\n",
       "      <td>4.168932</td>\n",
       "      <td>4.275442e-02</td>\n",
       "      <td>0.187162</td>\n",
       "      <td>1.512812e-02</td>\n",
       "    </tr>\n",
       "    <tr>\n",
       "      <th>Otu000011</th>\n",
       "      <td>0.868124</td>\n",
       "      <td>3.528283e-01</td>\n",
       "      <td>0.049418</td>\n",
       "      <td>5.246900e-01</td>\n",
       "    </tr>\n",
       "    <tr>\n",
       "      <th>Otu000012</th>\n",
       "      <td>0.100972</td>\n",
       "      <td>7.510657e-01</td>\n",
       "      <td>-0.007380</td>\n",
       "      <td>9.243602e-01</td>\n",
       "    </tr>\n",
       "    <tr>\n",
       "      <th>Otu000014</th>\n",
       "      <td>0.484458</td>\n",
       "      <td>4.873831e-01</td>\n",
       "      <td>-0.436961</td>\n",
       "      <td>3.184659e-09</td>\n",
       "    </tr>\n",
       "  </tbody>\n",
       "</table>\n",
       "</div>"
      ],
      "text/plain": [
       "              f_regr       p-value  r_spearman    p_spearman\n",
       "Otu000001  68.655384  3.761016e-14   -0.617921  4.554200e-19\n",
       "Otu000004   0.482054  4.884641e-01   -0.114107  1.408152e-01\n",
       "Otu000005   7.657785  6.294591e-03    0.236633  2.013734e-03\n",
       "Otu000006   6.932621  9.262960e-03   -0.272270  3.564744e-04\n",
       "Otu000007   1.825478  1.785012e-01   -0.127472  9.963722e-02\n",
       "Otu000009   1.586476  2.095984e-01    0.085153  2.724364e-01\n",
       "Otu000010   4.168932  4.275442e-02    0.187162  1.512812e-02\n",
       "Otu000011   0.868124  3.528283e-01    0.049418  5.246900e-01\n",
       "Otu000012   0.100972  7.510657e-01   -0.007380  9.243602e-01\n",
       "Otu000014   0.484458  4.873831e-01   -0.436961  3.184659e-09"
      ]
     },
     "metadata": {},
     "output_type": "display_data"
    }
   ],
   "source": [
    "f_regr, f_regr_p = f_regression(data_stand.loc[:,otus],hna)\n",
    "r_spearman = np.zeros(len(otus))\n",
    "p_spearman = np.zeros(len(otus))\n",
    "for i in np.arange(0,len(otus)):\n",
    "    r_spearman[i], p_spearman[i] = spearmanr(data_stand.loc[:,otus[i]],hna, axis=0)\n",
    "uni_fs = pd.DataFrame(f_regr, index=otus, columns = ['f_regr'])\n",
    "uni_fs['p-value'] = f_regr_p\n",
    "uni_fs['r_spearman'] = r_spearman\n",
    "uni_fs['p_spearman'] = p_spearman\n",
    "#uni_fs['mi'] = mutual_info_regression(data_stand.loc[:,otus],hna)\n",
    "#uni_fs.sort_values(ascending=False,inplace=True, by='f_regr')\n",
    "display(uni_fs.head(10))"
   ]
  },
  {
   "cell_type": "code",
   "execution_count": 28,
   "metadata": {},
   "outputs": [],
   "source": [
    "#uni_fs.to_csv('F_test_spearman_hna_1seq3.csv')"
   ]
  },
  {
   "cell_type": "markdown",
   "metadata": {},
   "source": [
    "Select otu's based on $p < \\text{thr}$: "
   ]
  },
  {
   "cell_type": "code",
   "execution_count": 29,
   "metadata": {
    "scrolled": false
   },
   "outputs": [
    {
     "name": "stdout",
     "output_type": "stream",
     "text": [
      "Number of selected OTUs using F-test with p < 0.05: 1436\n",
      "Number of selected OTUs using F-test with p < 0.01: 1114\n",
      "Number of selected OTUs using spearman correlation with p < 0.05: 2852\n",
      "Number of selected OTUs using spearman correlation with p < 0.01: 2825\n"
     ]
    }
   ],
   "source": [
    "uni_fs_selected_f = uni_fs[uni_fs.loc[:,'p-value'].values < 0.05]\n",
    "print('Number of selected OTUs using F-test with p < 0.05: ' + str(len(uni_fs_selected_f)))\n",
    "uni_fs_selected_f = uni_fs[uni_fs.loc[:,'p-value'].values < 0.01]\n",
    "print('Number of selected OTUs using F-test with p < 0.01: ' + str(len(uni_fs_selected_f)))\n",
    "uni_fs_selected_f = uni_fs[uni_fs.loc[:,'p_spearman'].values < 0.05]\n",
    "print('Number of selected OTUs using spearman correlation with p < 0.05: ' + str(len(uni_fs_selected_f)))\n",
    "uni_fs_selected_f = uni_fs[uni_fs.loc[:,'p_spearman'].values < 0.01]\n",
    "print('Number of selected OTUs using spearman correlation with p < 0.01: ' + str(len(uni_fs_selected_f)))"
   ]
  },
  {
   "cell_type": "markdown",
   "metadata": {},
   "source": [
    "What happens when we tune a threshold in function of the f_score: "
   ]
  },
  {
   "cell_type": "code",
   "execution_count": 30,
   "metadata": {},
   "outputs": [],
   "source": [
    "from analysis_functions import get_r2_scores\n",
    "#thr_otu_f_regr_hna, r2_otu_f_regr_hna = get_r2_scores(data_stand.loc[:,otus], hna, otus, uni_fs['f_regr'], cv)\n",
    "#thr_otu_f_regr_lna, r2_otu_f_regr_lna = get_r2_scores(data_stand.loc[:,otus], lna, otus, uni_fs['f_regr'], cv)"
   ]
  },
  {
   "cell_type": "code",
   "execution_count": 31,
   "metadata": {},
   "outputs": [],
   "source": [
    "#plt.figure()\n",
    "#sns.regplot(x=thr_otu_f_regr_hna,y=r2_otu_f_regr_hna, fit_reg=False, label='HNA')\n",
    "#sns.regplot(x=thr_otu_f_regr_lna,y=r2_otu_f_regr_lna, fit_reg=False, label='LNA')\n",
    "#plt.xlabel('F-score', size=22)\n",
    "#plt.xticks(size=10)\n",
    "#plt.ylabel(r'$R^2$', size=22)\n",
    "#plt.yticks(size=10)\n",
    "#plt.title('F-test', size=24)\n",
    "#plt.legend()\n",
    "#plt.show()"
   ]
  },
  {
   "cell_type": "code",
   "execution_count": 32,
   "metadata": {},
   "outputs": [],
   "source": [
    "thr_otu_sp_hna, r2_otu_sp_hna = get_r2_scores(data_stand.loc[:,otus], hna, otus, np.absolute(uni_fs['r_spearman']), cv)\n",
    "thr_otu_sp_lna, r2_otu_sp_lna = get_r2_scores(data_stand.loc[:,otus], lna, otus, np.absolute(uni_fs['r_spearman']), cv)"
   ]
  },
  {
   "cell_type": "code",
   "execution_count": 33,
   "metadata": {},
   "outputs": [
    {
     "data": {
      "image/png": "[encoded data removed]",
      "text/plain": [
       "<matplotlib.figure.Figure at 0x7fe1105aed30>"
      ]
     },
     "metadata": {},
     "output_type": "display_data"
    }
   ],
   "source": [
    "plt.figure()\n",
    "sns.regplot(x=thr_otu_sp_hna,y=r2_otu_sp_hna, fit_reg=False, label='HNA')\n",
    "sns.regplot(x=thr_otu_sp_lna,y=r2_otu_sp_lna, fit_reg=False, label='LNA')\n",
    "plt.xlabel('Spearman correlation', size=22)\n",
    "plt.xticks(size=10)\n",
    "plt.ylabel(r'$R^2$', size=22)\n",
    "plt.yticks(size=10)\n",
    "plt.title('Spearman Correlation', size=24)\n",
    "plt.legend()\n",
    "plt.show()"
   ]
  },
  {
   "cell_type": "code",
   "execution_count": 34,
   "metadata": {},
   "outputs": [],
   "source": [
    "#uni_fs.sort_values(ascending=False,inplace=True, by='mi')\n",
    "#display(uni_fs.head(10))\n",
    "#thr_otu_mi_hna, r2_otu_mi_hna = get_r2_scores(data_stand.loc[:,otus], hna, otus, uni_fs['mi'], cv)\n",
    "#thr_otu_mi_lna, r2_otu_mi_lna = get_r2_scores(data_stand.loc[:,otus], lna, otus, uni_fs['mi'], cv)"
   ]
  },
  {
   "cell_type": "code",
   "execution_count": 35,
   "metadata": {},
   "outputs": [],
   "source": [
    "#plt.figure()\n",
    "#sns.regplot(x=thr_otu_mi_hna,y=r2_otu_mi_hna, fit_reg=False, label='HNA')\n",
    "#sns.regplot(x=thr_otu_mi_lna,y=r2_otu_mi_lna, fit_reg=False, label='LNA')\n",
    "#plt.xlabel('MI', size=22)\n",
    "#plt.xticks(size=10)\n",
    "#plt.ylabel(r'$R^2$', size=22)\n",
    "#plt.yticks(size=10)\n",
    "#plt.title('Mutual Information', size=24)\n",
    "#plt.legend()\n",
    "#plt.show()"
   ]
  },
  {
   "cell_type": "code",
   "execution_count": 36,
   "metadata": {},
   "outputs": [
    {
     "name": "stderr",
     "output_type": "stream",
     "text": [
      "/home/prubbens/miniconda3/lib/python3.6/site-packages/sklearn/utils/deprecation.py:58: DeprecationWarning: Class RandomizedLasso is deprecated; The class RandomizedLasso is deprecated in 0.19 and will be removed in 0.21.\n",
      "  warnings.warn(msg, category=DeprecationWarning)\n"
     ]
    }
   ],
   "source": [
    "from analysis_functions import get_lassoCV_alpha\n",
    "\n",
    "alpha = get_lassoCV_alpha(data_stand.loc[:,otus],hna,otus,cv)\n",
    "    \n",
    "otu_scores = pd.DataFrame(perform_randomizedLasso(data_stand.loc[:,otus], hna, alpha), index=otus, columns=['score'])\n",
    "otu_scores.sort_values(ascending=False,inplace=True, by='score')\n",
    "\n",
    "thr_otu_scores_hna, r2_otu_scores_hna = get_r2_scores(data_stand.loc[:,otus], hna, otus, otu_scores, cv)\n",
    "thr_otu_scores_lna, r2_otu_scores_lna = get_r2_scores(data_stand.loc[:,otus], lna, otus, otu_scores, cv)"
   ]
  },
  {
   "cell_type": "code",
   "execution_count": 37,
   "metadata": {},
   "outputs": [
    {
     "data": {
      "image/png": "[encoded data removed]",
      "text/plain": [
       "<matplotlib.figure.Figure at 0x7fe11025e7b8>"
      ]
     },
     "metadata": {},
     "output_type": "display_data"
    }
   ],
   "source": [
    "plt.figure()\n",
    "sns.regplot(x=thr_otu_scores_hna,y=r2_otu_scores_hna, fit_reg=False, label='HNA')\n",
    "sns.regplot(x=thr_otu_scores_lna,y=r2_otu_scores_lna, fit_reg=False, label='LNA')\n",
    "plt.axis([-0.005,1.005,0,1])\n",
    "plt.xlabel('Score', size=22)\n",
    "plt.xticks(size=10)\n",
    "plt.ylabel(r'$R^2$', size=22)\n",
    "plt.yticks(size=10)\n",
    "plt.legend()\n",
    "plt.title('Stability Selection HNA', size=24)\n",
    "plt.show()"
   ]
  },
  {
   "cell_type": "code",
   "execution_count": 38,
   "metadata": {},
   "outputs": [
    {
     "name": "stdout",
     "output_type": "stream",
     "text": [
      "R²_cv(hna): 0.90174868086\n",
      "Threshold score: 0.15\n"
     ]
    }
   ],
   "source": [
    "r2_final = r2_otu_scores_hna.max()\n",
    "thr = thr_otu_scores_hna[r2_otu_scores_hna.argmax()]\n",
    "print('R²_cv(hna): ' + str(r2_final) )\n",
    "print('Threshold score: ' + str(thr))"
   ]
  },
  {
   "cell_type": "code",
   "execution_count": 39,
   "metadata": {},
   "outputs": [],
   "source": [
    "otu_scores = otu_scores.assign(abun_abs_mean = data_abs.loc[:,otus].mean())\n",
    "otu_scores = otu_scores.assign(abun_abs_CV = data_abs.loc[:,otus].std()/data_abs.loc[:,otus].mean())\n",
    "otu_scores =  otu_scores.assign(abun_rel_mean = data_rel.loc[:,otus].mean())\n",
    "otu_scores = otu_scores.assign(abun_rel_CV = data_rel.loc[:,otus].std()/data_rel.loc[:,otus].mean())\n",
    "otu_scores['r_spearman'] = uni_fs.loc[otu_scores.index,'r_spearman']\n",
    "otu_scores['p_spearman'] = uni_fs.loc[otu_scores.index,'p_spearman']\n",
    "otu_scores.to_csv('Final/hnascores_otus_1seq3_aitch.csv')"
   ]
  },
  {
   "cell_type": "code",
   "execution_count": 40,
   "metadata": {},
   "outputs": [
    {
     "data": {
      "text/html": [
       "<div>\n",
       "<style scoped>\n",
       "    .dataframe tbody tr th:only-of-type {\n",
       "        vertical-align: middle;\n",
       "    }\n",
       "\n",
       "    .dataframe tbody tr th {\n",
       "        vertical-align: top;\n",
       "    }\n",
       "\n",
       "    .dataframe thead th {\n",
       "        text-align: right;\n",
       "    }\n",
       "</style>\n",
       "<table border=\"1\" class=\"dataframe\">\n",
       "  <thead>\n",
       "    <tr style=\"text-align: right;\">\n",
       "      <th></th>\n",
       "      <th>score</th>\n",
       "      <th>abun_abs_mean</th>\n",
       "      <th>abun_abs_CV</th>\n",
       "      <th>abun_rel_mean</th>\n",
       "      <th>abun_rel_CV</th>\n",
       "      <th>r_spearman</th>\n",
       "      <th>p_spearman</th>\n",
       "    </tr>\n",
       "  </thead>\n",
       "  <tbody>\n",
       "    <tr>\n",
       "      <th>Otu000173</th>\n",
       "      <td>0.933333</td>\n",
       "      <td>8892.157986</td>\n",
       "      <td>1.953307</td>\n",
       "      <td>0.001341</td>\n",
       "      <td>1.608728</td>\n",
       "      <td>0.584326</td>\n",
       "      <td>9.190074e-17</td>\n",
       "    </tr>\n",
       "    <tr>\n",
       "      <th>Otu000060</th>\n",
       "      <td>0.530000</td>\n",
       "      <td>26355.897534</td>\n",
       "      <td>1.500728</td>\n",
       "      <td>0.003868</td>\n",
       "      <td>1.065044</td>\n",
       "      <td>0.645105</td>\n",
       "      <td>3.805779e-21</td>\n",
       "    </tr>\n",
       "    <tr>\n",
       "      <th>Otu000001</th>\n",
       "      <td>0.473333</td>\n",
       "      <td>371601.089939</td>\n",
       "      <td>0.720490</td>\n",
       "      <td>0.095239</td>\n",
       "      <td>0.631085</td>\n",
       "      <td>-0.617921</td>\n",
       "      <td>4.554200e-19</td>\n",
       "    </tr>\n",
       "    <tr>\n",
       "      <th>Otu000137</th>\n",
       "      <td>0.470000</td>\n",
       "      <td>3084.664828</td>\n",
       "      <td>1.846876</td>\n",
       "      <td>0.001571</td>\n",
       "      <td>2.438489</td>\n",
       "      <td>-0.550541</td>\n",
       "      <td>1.066727e-14</td>\n",
       "    </tr>\n",
       "    <tr>\n",
       "      <th>Otu000271</th>\n",
       "      <td>0.463333</td>\n",
       "      <td>8243.279639</td>\n",
       "      <td>2.237866</td>\n",
       "      <td>0.001160</td>\n",
       "      <td>1.795649</td>\n",
       "      <td>0.423302</td>\n",
       "      <td>1.085970e-08</td>\n",
       "    </tr>\n",
       "    <tr>\n",
       "      <th>Otu000335</th>\n",
       "      <td>0.456667</td>\n",
       "      <td>6250.999417</td>\n",
       "      <td>2.165661</td>\n",
       "      <td>0.000998</td>\n",
       "      <td>1.586541</td>\n",
       "      <td>0.345536</td>\n",
       "      <td>4.489698e-06</td>\n",
       "    </tr>\n",
       "    <tr>\n",
       "      <th>Otu000917</th>\n",
       "      <td>0.450000</td>\n",
       "      <td>1381.202341</td>\n",
       "      <td>4.344537</td>\n",
       "      <td>0.000339</td>\n",
       "      <td>1.546553</td>\n",
       "      <td>-0.206518</td>\n",
       "      <td>7.235268e-03</td>\n",
       "    </tr>\n",
       "    <tr>\n",
       "      <th>Otu000169</th>\n",
       "      <td>0.436667</td>\n",
       "      <td>14088.743045</td>\n",
       "      <td>1.751057</td>\n",
       "      <td>0.002264</td>\n",
       "      <td>1.641773</td>\n",
       "      <td>0.494748</td>\n",
       "      <td>9.321643e-12</td>\n",
       "    </tr>\n",
       "    <tr>\n",
       "      <th>Otu000242</th>\n",
       "      <td>0.430000</td>\n",
       "      <td>5280.016814</td>\n",
       "      <td>3.481944</td>\n",
       "      <td>0.000844</td>\n",
       "      <td>2.282544</td>\n",
       "      <td>0.036561</td>\n",
       "      <td>6.379963e-01</td>\n",
       "    </tr>\n",
       "    <tr>\n",
       "      <th>Otu000981</th>\n",
       "      <td>0.426667</td>\n",
       "      <td>631.164361</td>\n",
       "      <td>4.614274</td>\n",
       "      <td>0.000289</td>\n",
       "      <td>1.513578</td>\n",
       "      <td>-0.385111</td>\n",
       "      <td>2.542244e-07</td>\n",
       "    </tr>\n",
       "  </tbody>\n",
       "</table>\n",
       "</div>"
      ],
      "text/plain": [
       "              score  abun_abs_mean  abun_abs_CV  abun_rel_mean  abun_rel_CV  \\\n",
       "Otu000173  0.933333    8892.157986     1.953307       0.001341     1.608728   \n",
       "Otu000060  0.530000   26355.897534     1.500728       0.003868     1.065044   \n",
       "Otu000001  0.473333  371601.089939     0.720490       0.095239     0.631085   \n",
       "Otu000137  0.470000    3084.664828     1.846876       0.001571     2.438489   \n",
       "Otu000271  0.463333    8243.279639     2.237866       0.001160     1.795649   \n",
       "Otu000335  0.456667    6250.999417     2.165661       0.000998     1.586541   \n",
       "Otu000917  0.450000    1381.202341     4.344537       0.000339     1.546553   \n",
       "Otu000169  0.436667   14088.743045     1.751057       0.002264     1.641773   \n",
       "Otu000242  0.430000    5280.016814     3.481944       0.000844     2.282544   \n",
       "Otu000981  0.426667     631.164361     4.614274       0.000289     1.513578   \n",
       "\n",
       "           r_spearman    p_spearman  \n",
       "Otu000173    0.584326  9.190074e-17  \n",
       "Otu000060    0.645105  3.805779e-21  \n",
       "Otu000001   -0.617921  4.554200e-19  \n",
       "Otu000137   -0.550541  1.066727e-14  \n",
       "Otu000271    0.423302  1.085970e-08  \n",
       "Otu000335    0.345536  4.489698e-06  \n",
       "Otu000917   -0.206518  7.235268e-03  \n",
       "Otu000169    0.494748  9.321643e-12  \n",
       "Otu000242    0.036561  6.379963e-01  \n",
       "Otu000981   -0.385111  2.542244e-07  "
      ]
     },
     "metadata": {},
     "output_type": "display_data"
    },
    {
     "name": "stdout",
     "output_type": "stream",
     "text": [
      "Size list selected OTUs: 122\n"
     ]
    }
   ],
   "source": [
    "otu_scores_selected = otu_scores[otu_scores.score.values>thr]\n",
    "selected_otus = otu_scores_selected.index\n",
    "otu_scores_selected.to_csv('Final/hnascores_otus_tuned_thr_'+str(thr)+'_1seq3_aitch.csv')\n",
    "display(otu_scores_selected.head(10))\n",
    "print('Size list selected OTUs: ' + str(len(selected_otus)))"
   ]
  },
  {
   "cell_type": "code",
   "execution_count": 41,
   "metadata": {},
   "outputs": [
    {
     "name": "stdout",
     "output_type": "stream",
     "text": [
      "R²_cv of HNA-selected OTUs in function of LNA: 0.795649637823\n"
     ]
    }
   ],
   "source": [
    "print('R²_cv of HNA-selected OTUs in function of LNA: ' + str(r2_otu_scores_lna[r2_otu_scores_hna.argmax()]) )"
   ]
  },
  {
   "cell_type": "code",
   "execution_count": 42,
   "metadata": {},
   "outputs": [
    {
     "data": {
      "image/png": "[encoded data removed]",
      "text/plain": [
       "<matplotlib.figure.Figure at 0x7fe1102fc128>"
      ]
     },
     "metadata": {},
     "output_type": "display_data"
    }
   ],
   "source": [
    "plt.figure()\n",
    "sns.regplot(x='abun_rel_mean',y='abun_rel_CV', data=otu_scores_selected)\n",
    "plt.axis([-0.005,0.1,-5,5])\n",
    "plt.xlabel('Avg. Relative Abundance', size=22)\n",
    "plt.xticks(size=10)\n",
    "plt.ylabel('CV(abs)', size=22)\n",
    "plt.yticks(size=10)\n",
    "plt.title('Selected OTUs', size=24)\n",
    "plt.show()"
   ]
  },
  {
   "cell_type": "code",
   "execution_count": 43,
   "metadata": {},
   "outputs": [],
   "source": [
    "#optimal_scores.to_csv('HNA_selectedOTUs_stand_abun_remov' + str(abun)+'_R2'+str(r2_final)+'.csv')"
   ]
  },
  {
   "cell_type": "markdown",
   "metadata": {},
   "source": [
    "**Second goal**: Can we use the same pipeline to predict the _LNA_-counts? "
   ]
  },
  {
   "cell_type": "code",
   "execution_count": 44,
   "metadata": {},
   "outputs": [
    {
     "data": {
      "text/html": [
       "<div>\n",
       "<style scoped>\n",
       "    .dataframe tbody tr th:only-of-type {\n",
       "        vertical-align: middle;\n",
       "    }\n",
       "\n",
       "    .dataframe tbody tr th {\n",
       "        vertical-align: top;\n",
       "    }\n",
       "\n",
       "    .dataframe thead th {\n",
       "        text-align: right;\n",
       "    }\n",
       "</style>\n",
       "<table border=\"1\" class=\"dataframe\">\n",
       "  <thead>\n",
       "    <tr style=\"text-align: right;\">\n",
       "      <th></th>\n",
       "      <th>f_regr</th>\n",
       "      <th>p-value</th>\n",
       "      <th>r_spearman</th>\n",
       "      <th>p_spearman</th>\n",
       "    </tr>\n",
       "  </thead>\n",
       "  <tbody>\n",
       "    <tr>\n",
       "      <th>Otu000001</th>\n",
       "      <td>10.444085</td>\n",
       "      <td>3.761016e-14</td>\n",
       "      <td>-0.401486</td>\n",
       "      <td>6.903038e-08</td>\n",
       "    </tr>\n",
       "    <tr>\n",
       "      <th>Otu000004</th>\n",
       "      <td>1.169080</td>\n",
       "      <td>4.884641e-01</td>\n",
       "      <td>-0.078609</td>\n",
       "      <td>3.111340e-01</td>\n",
       "    </tr>\n",
       "    <tr>\n",
       "      <th>Otu000005</th>\n",
       "      <td>52.000984</td>\n",
       "      <td>6.294591e-03</td>\n",
       "      <td>0.486564</td>\n",
       "      <td>2.278979e-11</td>\n",
       "    </tr>\n",
       "    <tr>\n",
       "      <th>Otu000006</th>\n",
       "      <td>4.264646</td>\n",
       "      <td>9.262960e-03</td>\n",
       "      <td>-0.192703</td>\n",
       "      <td>1.232977e-02</td>\n",
       "    </tr>\n",
       "    <tr>\n",
       "      <th>Otu000007</th>\n",
       "      <td>1.623283</td>\n",
       "      <td>1.785012e-01</td>\n",
       "      <td>-0.095069</td>\n",
       "      <td>2.202670e-01</td>\n",
       "    </tr>\n",
       "    <tr>\n",
       "      <th>Otu000009</th>\n",
       "      <td>0.020666</td>\n",
       "      <td>2.095984e-01</td>\n",
       "      <td>-0.006965</td>\n",
       "      <td>9.286027e-01</td>\n",
       "    </tr>\n",
       "    <tr>\n",
       "      <th>Otu000010</th>\n",
       "      <td>22.200575</td>\n",
       "      <td>4.275442e-02</td>\n",
       "      <td>0.355751</td>\n",
       "      <td>2.219062e-06</td>\n",
       "    </tr>\n",
       "    <tr>\n",
       "      <th>Otu000011</th>\n",
       "      <td>0.148582</td>\n",
       "      <td>3.528283e-01</td>\n",
       "      <td>-0.008635</td>\n",
       "      <td>9.115428e-01</td>\n",
       "    </tr>\n",
       "    <tr>\n",
       "      <th>Otu000012</th>\n",
       "      <td>1.937502</td>\n",
       "      <td>7.510657e-01</td>\n",
       "      <td>0.088266</td>\n",
       "      <td>2.552274e-01</td>\n",
       "    </tr>\n",
       "    <tr>\n",
       "      <th>Otu000014</th>\n",
       "      <td>2.632151</td>\n",
       "      <td>4.873831e-01</td>\n",
       "      <td>-0.409853</td>\n",
       "      <td>3.449363e-08</td>\n",
       "    </tr>\n",
       "  </tbody>\n",
       "</table>\n",
       "</div>"
      ],
      "text/plain": [
       "              f_regr       p-value  r_spearman    p_spearman\n",
       "Otu000001  10.444085  3.761016e-14   -0.401486  6.903038e-08\n",
       "Otu000004   1.169080  4.884641e-01   -0.078609  3.111340e-01\n",
       "Otu000005  52.000984  6.294591e-03    0.486564  2.278979e-11\n",
       "Otu000006   4.264646  9.262960e-03   -0.192703  1.232977e-02\n",
       "Otu000007   1.623283  1.785012e-01   -0.095069  2.202670e-01\n",
       "Otu000009   0.020666  2.095984e-01   -0.006965  9.286027e-01\n",
       "Otu000010  22.200575  4.275442e-02    0.355751  2.219062e-06\n",
       "Otu000011   0.148582  3.528283e-01   -0.008635  9.115428e-01\n",
       "Otu000012   1.937502  7.510657e-01    0.088266  2.552274e-01\n",
       "Otu000014   2.632151  4.873831e-01   -0.409853  3.449363e-08"
      ]
     },
     "metadata": {},
     "output_type": "display_data"
    }
   ],
   "source": [
    "f_regr_lna, f_regr_p_lna = f_regression(data_stand.loc[:,otus],lna)\n",
    "uni_fs_lna = pd.DataFrame(f_regr_lna, index=otus, columns = ['f_regr'])\n",
    "uni_fs_lna['p-value'] = f_regr_p_lna\n",
    "r_spearman = np.zeros(len(otus))\n",
    "p_spearman = np.zeros(len(otus))\n",
    "for i in np.arange(0,len(otus)):\n",
    "    r_spearman[i], p_spearman[i] = spearmanr(data_stand.loc[:,otus[i]],lna, axis=0)\n",
    "uni_fs_lna = pd.DataFrame(f_regr_lna, index=otus, columns = ['f_regr'])\n",
    "uni_fs_lna['p-value'] = f_regr_p\n",
    "uni_fs_lna['r_spearman'] = r_spearman\n",
    "uni_fs_lna['p_spearman'] = p_spearman\n",
    "#uni_fs_lna['mi'] = mutual_info_regression(data_stand.loc[:,otus],lna)\n",
    "#uni_fs_lna.sort_values(ascending=False,inplace=True, by='f_regr')\n",
    "display(uni_fs_lna.head(10))"
   ]
  },
  {
   "cell_type": "code",
   "execution_count": 45,
   "metadata": {},
   "outputs": [
    {
     "name": "stdout",
     "output_type": "stream",
     "text": [
      "Number of selected OTUs with p < 0.05: 1436\n",
      "Number of selected OTUs with p < 0.01: 1114\n",
      "Number of selected OTUs using spearman correlation with p < 0.05: 2843\n",
      "Number of selected OTUs using spearman correlation with p < 0.01: 2808\n"
     ]
    }
   ],
   "source": [
    "uni_fs_selected_f_lna = uni_fs_lna[uni_fs_lna.loc[:,'p-value'].values < 0.05]\n",
    "print('Number of selected OTUs with p < 0.05: ' + str(len(uni_fs_selected_f_lna)))\n",
    "uni_fs_selected_f_lna = uni_fs_lna[uni_fs_lna.loc[:,'p-value'].values < 0.01]\n",
    "print('Number of selected OTUs with p < 0.01: ' + str(len(uni_fs_selected_f_lna)))\n",
    "uni_fs_selected_f = uni_fs_lna[uni_fs_lna.loc[:,'p_spearman'].values < 0.05]\n",
    "print('Number of selected OTUs using spearman correlation with p < 0.05: ' + str(len(uni_fs_selected_f)))\n",
    "uni_fs_selected_f = uni_fs_lna[uni_fs_lna.loc[:,'p_spearman'].values < 0.01]\n",
    "print('Number of selected OTUs using spearman correlation with p < 0.01: ' + str(len(uni_fs_selected_f)))"
   ]
  },
  {
   "cell_type": "code",
   "execution_count": 46,
   "metadata": {},
   "outputs": [],
   "source": [
    "#uni_fs.to_csv('F_test_spearman_lna_1seq3.csv')"
   ]
  },
  {
   "cell_type": "code",
   "execution_count": 47,
   "metadata": {},
   "outputs": [],
   "source": [
    "#thr_otu_f_regr_lna, r2_otu_f_regr_lna = get_r2_scores(data_stand.loc[:,otus], lna, otus, uni_fs_lna['f_regr'], cv)\n",
    "#thr_otu_f_regr_hna, r2_otu_f_regr_hna = get_r2_scores(data_stand.loc[:,otus], hna, otus, uni_fs_lna['f_regr'], cv)"
   ]
  },
  {
   "cell_type": "code",
   "execution_count": 48,
   "metadata": {},
   "outputs": [],
   "source": [
    "#plt.figure()\n",
    "#sns.regplot(x=thr_otu_f_regr_hna,y=r2_otu_f_regr_hna, fit_reg=False, label='HNA')\n",
    "#sns.regplot(x=thr_otu_f_regr_lna,y=r2_otu_f_regr_lna, fit_reg=False, label='LNA')\n",
    "#plt.axis([-0.005,1.005,0,1])\n",
    "#plt.xlabel('F-score', size=22)\n",
    "#plt.xticks(size=10)\n",
    "#plt.ylabel(r'$R^2$', size=22)\n",
    "#plt.yticks(size=10)\n",
    "#plt.title('F-test', size=24)\n",
    "#plt.legend()\n",
    "#plt.show()"
   ]
  },
  {
   "cell_type": "code",
   "execution_count": 49,
   "metadata": {},
   "outputs": [],
   "source": [
    "thr_otu_sp_lna, r2_otu_sp_lna = get_r2_scores(data_stand.loc[:,otus], lna, otus, np.absolute(uni_fs_lna['r_spearman']), cv)\n",
    "thr_otu_sp_hna, r2_otu_sp_hna = get_r2_scores(data_stand.loc[:,otus], hna, otus, np.absolute(uni_fs_lna['r_spearman']), cv)"
   ]
  },
  {
   "cell_type": "code",
   "execution_count": 50,
   "metadata": {},
   "outputs": [
    {
     "data": {
      "image/png": "[encoded data removed]",
      "text/plain": [
       "<matplotlib.figure.Figure at 0x7fe10ff974a8>"
      ]
     },
     "metadata": {},
     "output_type": "display_data"
    }
   ],
   "source": [
    "plt.figure()\n",
    "sns.regplot(x=thr_otu_sp_hna,y=r2_otu_sp_hna, fit_reg=False, label='HNA')\n",
    "sns.regplot(x=thr_otu_sp_lna,y=r2_otu_sp_lna, fit_reg=False, label='LNA')\n",
    "plt.xlabel('Spearman correlation', size=22)\n",
    "plt.xticks(size=10)\n",
    "plt.ylabel(r'$R^2$', size=22)\n",
    "plt.yticks(size=10)\n",
    "plt.title('Spearman correlation', size=24)\n",
    "plt.legend()\n",
    "plt.show()"
   ]
  },
  {
   "cell_type": "code",
   "execution_count": 51,
   "metadata": {},
   "outputs": [
    {
     "name": "stderr",
     "output_type": "stream",
     "text": [
      "/home/prubbens/miniconda3/lib/python3.6/site-packages/sklearn/utils/deprecation.py:58: DeprecationWarning: Class RandomizedLasso is deprecated; The class RandomizedLasso is deprecated in 0.19 and will be removed in 0.21.\n",
      "  warnings.warn(msg, category=DeprecationWarning)\n"
     ]
    }
   ],
   "source": [
    "alpha = get_lassoCV_alpha(data_stand.loc[:,otus],lna,otus,cv)\n",
    "otu_scores_lna = pd.DataFrame(perform_randomizedLasso(data_stand.loc[:,otus], lna, alpha), index=otus, columns=['score'])\n",
    "otu_scores_lna.sort_values(ascending=False, inplace=True, by='score')\n",
    "\n",
    "thr_otu_scores_lna, r2_otu_scores_lna = get_r2_scores(data_stand.loc[:,otus], lna, otus, otu_scores_lna, cv)\n",
    "thr_otu_scores_hna, r2_otu_scores_hna = get_r2_scores(data_stand.loc[:,otus], hna, otus, otu_scores_lna, cv)"
   ]
  },
  {
   "cell_type": "code",
   "execution_count": 52,
   "metadata": {},
   "outputs": [
    {
     "data": {
      "image/png": "[encoded data removed]",
      "text/plain": [
       "<matplotlib.figure.Figure at 0x7fe10ffa2e10>"
      ]
     },
     "metadata": {},
     "output_type": "display_data"
    }
   ],
   "source": [
    "plt.figure()\n",
    "sns.regplot(x=thr_otu_scores_hna,y=r2_otu_scores_hna, fit_reg=False, label='HNA')\n",
    "sns.regplot(x=thr_otu_scores_lna,y=r2_otu_scores_lna, fit_reg=False, label='LNA')\n",
    "plt.axis([-0.005,1.005,0,1])\n",
    "plt.xlabel('Score', size=22)\n",
    "plt.xticks(size=10)\n",
    "plt.ylabel(r'$R^2$', size=22)\n",
    "plt.yticks(size=10)\n",
    "plt.legend()\n",
    "plt.title('Stability Selection LNA', size=24)\n",
    "plt.show()"
   ]
  },
  {
   "cell_type": "code",
   "execution_count": 53,
   "metadata": {},
   "outputs": [
    {
     "name": "stdout",
     "output_type": "stream",
     "text": [
      "R²_cv(lna): 0.941913772943\n",
      "Threshold score: 0.25\n"
     ]
    }
   ],
   "source": [
    "r2_final = r2_otu_scores_lna.max()\n",
    "thr_lna = thr_otu_scores_lna[r2_otu_scores_lna.argmax()]\n",
    "print('R²_cv(lna): ' + str(r2_final) )\n",
    "print('Threshold score: ' + str(thr_lna))"
   ]
  },
  {
   "cell_type": "code",
   "execution_count": 54,
   "metadata": {},
   "outputs": [],
   "source": [
    "otu_scores_lna = otu_scores_lna.assign(abun_abs_mean = data_abs.loc[:,otus].mean())\n",
    "otu_scores_lna = otu_scores_lna.assign(abun_abs_CV = data_abs.loc[:,otus].std()/data_abs.loc[:,otus].mean())\n",
    "otu_scores_lna =  otu_scores_lna.assign(abun_rel_mean = data_rel.loc[:,otus].mean())\n",
    "otu_scores_lna = otu_scores_lna.assign(abun_rel_CV = data_rel.loc[:,otus].std()/data_rel.loc[:,otus].mean())\n",
    "otu_scores_lna['r_spearman'] = uni_fs_lna.loc[otu_scores.index,'r_spearman']\n",
    "otu_scores_lna['p_spearman'] = uni_fs_lna.loc[otu_scores.index,'p_spearman']\n",
    "otu_scores_lna.to_csv('Final/lnascores_otus_abun_1seq3_aitch.csv')\n"
   ]
  },
  {
   "cell_type": "code",
   "execution_count": 55,
   "metadata": {},
   "outputs": [
    {
     "name": "stdout",
     "output_type": "stream",
     "text": [
      "Size list selected OTUs: 72\n"
     ]
    },
    {
     "data": {
      "text/html": [
       "<div>\n",
       "<style scoped>\n",
       "    .dataframe tbody tr th:only-of-type {\n",
       "        vertical-align: middle;\n",
       "    }\n",
       "\n",
       "    .dataframe tbody tr th {\n",
       "        vertical-align: top;\n",
       "    }\n",
       "\n",
       "    .dataframe thead th {\n",
       "        text-align: right;\n",
       "    }\n",
       "</style>\n",
       "<table border=\"1\" class=\"dataframe\">\n",
       "  <thead>\n",
       "    <tr style=\"text-align: right;\">\n",
       "      <th></th>\n",
       "      <th>score</th>\n",
       "      <th>abun_abs_mean</th>\n",
       "      <th>abun_abs_CV</th>\n",
       "      <th>abun_rel_mean</th>\n",
       "      <th>abun_rel_CV</th>\n",
       "      <th>r_spearman</th>\n",
       "      <th>p_spearman</th>\n",
       "    </tr>\n",
       "  </thead>\n",
       "  <tbody>\n",
       "    <tr>\n",
       "      <th>Otu000060</th>\n",
       "      <td>0.533333</td>\n",
       "      <td>26355.897534</td>\n",
       "      <td>1.500728</td>\n",
       "      <td>0.003868</td>\n",
       "      <td>1.065044</td>\n",
       "      <td>0.662208</td>\n",
       "      <td>1.451306e-22</td>\n",
       "    </tr>\n",
       "    <tr>\n",
       "      <th>Otu000173</th>\n",
       "      <td>0.520000</td>\n",
       "      <td>8892.157986</td>\n",
       "      <td>1.953307</td>\n",
       "      <td>0.001341</td>\n",
       "      <td>1.608728</td>\n",
       "      <td>0.423953</td>\n",
       "      <td>1.025607e-08</td>\n",
       "    </tr>\n",
       "    <tr>\n",
       "      <th>Otu000392</th>\n",
       "      <td>0.500000</td>\n",
       "      <td>4464.972546</td>\n",
       "      <td>2.231505</td>\n",
       "      <td>0.000769</td>\n",
       "      <td>1.678326</td>\n",
       "      <td>0.181493</td>\n",
       "      <td>1.855029e-02</td>\n",
       "    </tr>\n",
       "    <tr>\n",
       "      <th>Otu000108</th>\n",
       "      <td>0.496667</td>\n",
       "      <td>16074.992429</td>\n",
       "      <td>2.334943</td>\n",
       "      <td>0.002182</td>\n",
       "      <td>1.913854</td>\n",
       "      <td>0.524084</td>\n",
       "      <td>3.090445e-13</td>\n",
       "    </tr>\n",
       "    <tr>\n",
       "      <th>Otu000027</th>\n",
       "      <td>0.473333</td>\n",
       "      <td>24746.384748</td>\n",
       "      <td>1.224870</td>\n",
       "      <td>0.008914</td>\n",
       "      <td>1.135761</td>\n",
       "      <td>-0.747658</td>\n",
       "      <td>2.538449e-31</td>\n",
       "    </tr>\n",
       "    <tr>\n",
       "      <th>Otu000749</th>\n",
       "      <td>0.430000</td>\n",
       "      <td>697.785592</td>\n",
       "      <td>3.755242</td>\n",
       "      <td>0.000267</td>\n",
       "      <td>0.866951</td>\n",
       "      <td>-0.230668</td>\n",
       "      <td>2.628427e-03</td>\n",
       "    </tr>\n",
       "    <tr>\n",
       "      <th>Otu000056</th>\n",
       "      <td>0.420000</td>\n",
       "      <td>3439.903832</td>\n",
       "      <td>3.855871</td>\n",
       "      <td>0.004029</td>\n",
       "      <td>4.548170</td>\n",
       "      <td>-0.596935</td>\n",
       "      <td>1.348193e-17</td>\n",
       "    </tr>\n",
       "    <tr>\n",
       "      <th>Otu000523</th>\n",
       "      <td>0.416667</td>\n",
       "      <td>2411.089795</td>\n",
       "      <td>3.440686</td>\n",
       "      <td>0.000433</td>\n",
       "      <td>1.954305</td>\n",
       "      <td>0.060090</td>\n",
       "      <td>4.390823e-01</td>\n",
       "    </tr>\n",
       "    <tr>\n",
       "      <th>Otu000597</th>\n",
       "      <td>0.416667</td>\n",
       "      <td>2065.701352</td>\n",
       "      <td>2.297885</td>\n",
       "      <td>0.000450</td>\n",
       "      <td>1.296047</td>\n",
       "      <td>0.047188</td>\n",
       "      <td>5.435869e-01</td>\n",
       "    </tr>\n",
       "    <tr>\n",
       "      <th>Otu000175</th>\n",
       "      <td>0.413333</td>\n",
       "      <td>23301.415981</td>\n",
       "      <td>2.040045</td>\n",
       "      <td>0.003293</td>\n",
       "      <td>1.881811</td>\n",
       "      <td>0.396698</td>\n",
       "      <td>1.018083e-07</td>\n",
       "    </tr>\n",
       "  </tbody>\n",
       "</table>\n",
       "</div>"
      ],
      "text/plain": [
       "              score  abun_abs_mean  abun_abs_CV  abun_rel_mean  abun_rel_CV  \\\n",
       "Otu000060  0.533333   26355.897534     1.500728       0.003868     1.065044   \n",
       "Otu000173  0.520000    8892.157986     1.953307       0.001341     1.608728   \n",
       "Otu000392  0.500000    4464.972546     2.231505       0.000769     1.678326   \n",
       "Otu000108  0.496667   16074.992429     2.334943       0.002182     1.913854   \n",
       "Otu000027  0.473333   24746.384748     1.224870       0.008914     1.135761   \n",
       "Otu000749  0.430000     697.785592     3.755242       0.000267     0.866951   \n",
       "Otu000056  0.420000    3439.903832     3.855871       0.004029     4.548170   \n",
       "Otu000523  0.416667    2411.089795     3.440686       0.000433     1.954305   \n",
       "Otu000597  0.416667    2065.701352     2.297885       0.000450     1.296047   \n",
       "Otu000175  0.413333   23301.415981     2.040045       0.003293     1.881811   \n",
       "\n",
       "           r_spearman    p_spearman  \n",
       "Otu000060    0.662208  1.451306e-22  \n",
       "Otu000173    0.423953  1.025607e-08  \n",
       "Otu000392    0.181493  1.855029e-02  \n",
       "Otu000108    0.524084  3.090445e-13  \n",
       "Otu000027   -0.747658  2.538449e-31  \n",
       "Otu000749   -0.230668  2.628427e-03  \n",
       "Otu000056   -0.596935  1.348193e-17  \n",
       "Otu000523    0.060090  4.390823e-01  \n",
       "Otu000597    0.047188  5.435869e-01  \n",
       "Otu000175    0.396698  1.018083e-07  "
      ]
     },
     "metadata": {},
     "output_type": "display_data"
    }
   ],
   "source": [
    "otu_scores_selected_lna = otu_scores_lna[otu_scores_lna.score.values>thr_lna]\n",
    "selected_otus_lna = otu_scores_selected_lna.index\n",
    "print('Size list selected OTUs: ' + str(len(selected_otus_lna)))\n",
    "otu_scores_selected_lna.to_csv('Final/lnascores_otus_tuned_thr_'+str(thr_lna)+'_1seq3_aitch.csv')\n",
    "display(otu_scores_selected_lna.head(10))"
   ]
  },
  {
   "cell_type": "code",
   "execution_count": 56,
   "metadata": {},
   "outputs": [
    {
     "name": "stdout",
     "output_type": "stream",
     "text": [
      "R²_cv of LNA-selected OTUs in function of HNA: 0.791858603329\n"
     ]
    }
   ],
   "source": [
    "print('R²_cv of LNA-selected OTUs in function of HNA: ' + str(r2_otu_scores_hna[r2_otu_scores_lna.argmax()]) )"
   ]
  },
  {
   "cell_type": "code",
   "execution_count": 57,
   "metadata": {},
   "outputs": [
    {
     "data": {
      "image/png": "[encoded data removed]",
      "text/plain": [
       "<matplotlib.figure.Figure at 0x7fe110055860>"
      ]
     },
     "metadata": {},
     "output_type": "display_data"
    }
   ],
   "source": [
    "plt.figure()\n",
    "sns.regplot(x='abun_abs_mean',y='abun_abs_CV', data=otu_scores_selected_lna)\n",
    "plt.axis([0,400000,-5,5])\n",
    "plt.xlabel('mean(abs)', size=22)\n",
    "plt.xticks(size=10)\n",
    "plt.ylabel('CV(abs)', size=22)\n",
    "plt.yticks(size=10)\n",
    "plt.show()"
   ]
  },
  {
   "cell_type": "markdown",
   "metadata": {},
   "source": [
    "Let's compare the HNA- and LNA-lists, which OTU's are shared (_common_) and which are only part of the HNA- or LNA subset?: "
   ]
  },
  {
   "cell_type": "code",
   "execution_count": 58,
   "metadata": {},
   "outputs": [
    {
     "name": "stdout",
     "output_type": "stream",
     "text": [
      "Size subset OTUs only related to HNA: 93; opposed to total size: 122\n",
      "Size subset OTUs only related to LNA: 43; opposed to total size: 72\n",
      "Size subset OTUs related to both: 29\n"
     ]
    },
    {
     "data": {
      "text/html": [
       "<div>\n",
       "<style scoped>\n",
       "    .dataframe tbody tr th:only-of-type {\n",
       "        vertical-align: middle;\n",
       "    }\n",
       "\n",
       "    .dataframe tbody tr th {\n",
       "        vertical-align: top;\n",
       "    }\n",
       "\n",
       "    .dataframe thead th {\n",
       "        text-align: right;\n",
       "    }\n",
       "</style>\n",
       "<table border=\"1\" class=\"dataframe\">\n",
       "  <thead>\n",
       "    <tr style=\"text-align: right;\">\n",
       "      <th></th>\n",
       "      <th>score</th>\n",
       "      <th>abun_abs_mean</th>\n",
       "      <th>abun_abs_CV</th>\n",
       "      <th>abun_rel_mean</th>\n",
       "      <th>abun_rel_CV</th>\n",
       "      <th>r_spearman</th>\n",
       "      <th>p_spearman</th>\n",
       "    </tr>\n",
       "  </thead>\n",
       "  <tbody>\n",
       "    <tr>\n",
       "      <th>Otu000173</th>\n",
       "      <td>0.520000</td>\n",
       "      <td>8892.157986</td>\n",
       "      <td>1.953307</td>\n",
       "      <td>0.001341</td>\n",
       "      <td>1.608728</td>\n",
       "      <td>0.423953</td>\n",
       "      <td>1.025607e-08</td>\n",
       "    </tr>\n",
       "    <tr>\n",
       "      <th>Otu000060</th>\n",
       "      <td>0.533333</td>\n",
       "      <td>26355.897534</td>\n",
       "      <td>1.500728</td>\n",
       "      <td>0.003868</td>\n",
       "      <td>1.065044</td>\n",
       "      <td>0.662208</td>\n",
       "      <td>1.451306e-22</td>\n",
       "    </tr>\n",
       "    <tr>\n",
       "      <th>Otu000169</th>\n",
       "      <td>0.370000</td>\n",
       "      <td>14088.743045</td>\n",
       "      <td>1.751057</td>\n",
       "      <td>0.002264</td>\n",
       "      <td>1.641773</td>\n",
       "      <td>0.451650</td>\n",
       "      <td>8.001820e-10</td>\n",
       "    </tr>\n",
       "    <tr>\n",
       "      <th>Otu000682</th>\n",
       "      <td>0.296667</td>\n",
       "      <td>1290.985248</td>\n",
       "      <td>4.090973</td>\n",
       "      <td>0.000336</td>\n",
       "      <td>1.543052</td>\n",
       "      <td>-0.291786</td>\n",
       "      <td>1.242474e-04</td>\n",
       "    </tr>\n",
       "    <tr>\n",
       "      <th>Otu000088</th>\n",
       "      <td>0.380000</td>\n",
       "      <td>5087.595794</td>\n",
       "      <td>1.342708</td>\n",
       "      <td>0.001895</td>\n",
       "      <td>1.484309</td>\n",
       "      <td>-0.504019</td>\n",
       "      <td>3.289425e-12</td>\n",
       "    </tr>\n",
       "    <tr>\n",
       "      <th>Otu000027</th>\n",
       "      <td>0.473333</td>\n",
       "      <td>24746.384748</td>\n",
       "      <td>1.224870</td>\n",
       "      <td>0.008914</td>\n",
       "      <td>1.135761</td>\n",
       "      <td>-0.747658</td>\n",
       "      <td>2.538449e-31</td>\n",
       "    </tr>\n",
       "    <tr>\n",
       "      <th>Otu000292</th>\n",
       "      <td>0.270000</td>\n",
       "      <td>1016.626011</td>\n",
       "      <td>2.612459</td>\n",
       "      <td>0.000537</td>\n",
       "      <td>1.896467</td>\n",
       "      <td>-0.503485</td>\n",
       "      <td>3.495821e-12</td>\n",
       "    </tr>\n",
       "    <tr>\n",
       "      <th>Otu003885</th>\n",
       "      <td>0.296667</td>\n",
       "      <td>18.391432</td>\n",
       "      <td>5.867267</td>\n",
       "      <td>0.000214</td>\n",
       "      <td>0.076695</td>\n",
       "      <td>-0.536161</td>\n",
       "      <td>6.894136e-14</td>\n",
       "    </tr>\n",
       "    <tr>\n",
       "      <th>Otu000313</th>\n",
       "      <td>0.260000</td>\n",
       "      <td>2492.843861</td>\n",
       "      <td>2.222905</td>\n",
       "      <td>0.000470</td>\n",
       "      <td>1.223782</td>\n",
       "      <td>0.183270</td>\n",
       "      <td>1.741195e-02</td>\n",
       "    </tr>\n",
       "    <tr>\n",
       "      <th>Otu000056</th>\n",
       "      <td>0.420000</td>\n",
       "      <td>3439.903832</td>\n",
       "      <td>3.855871</td>\n",
       "      <td>0.004029</td>\n",
       "      <td>4.548170</td>\n",
       "      <td>-0.596935</td>\n",
       "      <td>1.348193e-17</td>\n",
       "    </tr>\n",
       "  </tbody>\n",
       "</table>\n",
       "</div>"
      ],
      "text/plain": [
       "              score  abun_abs_mean  abun_abs_CV  abun_rel_mean  abun_rel_CV  \\\n",
       "Otu000173  0.520000    8892.157986     1.953307       0.001341     1.608728   \n",
       "Otu000060  0.533333   26355.897534     1.500728       0.003868     1.065044   \n",
       "Otu000169  0.370000   14088.743045     1.751057       0.002264     1.641773   \n",
       "Otu000682  0.296667    1290.985248     4.090973       0.000336     1.543052   \n",
       "Otu000088  0.380000    5087.595794     1.342708       0.001895     1.484309   \n",
       "Otu000027  0.473333   24746.384748     1.224870       0.008914     1.135761   \n",
       "Otu000292  0.270000    1016.626011     2.612459       0.000537     1.896467   \n",
       "Otu003885  0.296667      18.391432     5.867267       0.000214     0.076695   \n",
       "Otu000313  0.260000    2492.843861     2.222905       0.000470     1.223782   \n",
       "Otu000056  0.420000    3439.903832     3.855871       0.004029     4.548170   \n",
       "\n",
       "           r_spearman    p_spearman  \n",
       "Otu000173    0.423953  1.025607e-08  \n",
       "Otu000060    0.662208  1.451306e-22  \n",
       "Otu000169    0.451650  8.001820e-10  \n",
       "Otu000682   -0.291786  1.242474e-04  \n",
       "Otu000088   -0.504019  3.289425e-12  \n",
       "Otu000027   -0.747658  2.538449e-31  \n",
       "Otu000292   -0.503485  3.495821e-12  \n",
       "Otu003885   -0.536161  6.894136e-14  \n",
       "Otu000313    0.183270  1.741195e-02  \n",
       "Otu000056   -0.596935  1.348193e-17  "
      ]
     },
     "metadata": {},
     "output_type": "display_data"
    }
   ],
   "source": [
    "idx_hna = otu_scores_selected.index.difference(otu_scores_selected_lna.index)\n",
    "idx_lna = otu_scores_selected_lna.index.difference(otu_scores_selected.index)\n",
    "idx_common = otu_scores_selected.drop(idx_hna).index\n",
    "pd.Series(idx_common).to_csv('commonOTU_HNALNA_abun.001_rel.csv')\n",
    "print('Size subset OTUs only related to HNA: ' + str(len(idx_hna)) + '; opposed to total size: ' + str(len(otu_scores_selected)))\n",
    "print('Size subset OTUs only related to LNA: ' + str(len(idx_lna)) + '; opposed to total size: ' + str(len(otu_scores_selected_lna)))\n",
    "print('Size subset OTUs related to both: ' + str(len(idx_common)))\n",
    "\n",
    "display(otu_scores_selected_lna.loc[idx_common,:].head(10))\n",
    "#data_abs_raw = pd.read_csv('data/Chloroplasts_removed/nochloro_absolute_otu.tsv', sep=' ', index_col=None, header=0)\n",
    "#data_abs_raw = data_abs_raw.loc[index,:]\n",
    "#display(data_abs_raw.loc[:,idx_hna].sum(axis=1).values/hna.values)"
   ]
  },
  {
   "cell_type": "code",
   "execution_count": 59,
   "metadata": {},
   "outputs": [
    {
     "data": {
      "image/png": "[encoded data removed]",
      "text/plain": [
       "<matplotlib.figure.Figure at 0x7fe110027c18>"
      ]
     },
     "metadata": {},
     "output_type": "display_data"
    }
   ],
   "source": [
    "plt.figure()\n",
    "sns.regplot(x=otu_scores.loc[:,'score'],y=otu_scores_lna.loc[otu_scores.index,'score'])\n",
    "plt.axis([-0.005,1.005,-0.005,1.005])\n",
    "plt.xlabel('score(HNA)', size=22)\n",
    "plt.xticks(size=10)\n",
    "plt.ylabel('score(LNA)', size=22)\n",
    "plt.yticks(size=10)\n",
    "plt.axhline(y=thr, linewidth=2, linestyle='--', color = 'k')\n",
    "plt.axvline(x=thr_lna, linewidth=2, linestyle='--', color = 'k')\n",
    "plt.show()"
   ]
  },
  {
   "cell_type": "markdown",
   "metadata": {},
   "source": [
    "This figure shows 4 area's: \n",
    "- (left top corner): OTU's selected solely in function of **LNA**-dynamics, \n",
    "- (right top corner): OTU's selected in function of both **HNA**- and **LNA**-dynamics, \n",
    "- (left bottom corner): OTU's that are _not_ selected, \n",
    "- (right bottom corner): OTU's selected solely in function of **HNA**-dynamics. "
   ]
  },
  {
   "cell_type": "markdown",
   "metadata": {},
   "source": [
    "Univariate vs. Stability selection"
   ]
  },
  {
   "cell_type": "code",
   "execution_count": 60,
   "metadata": {},
   "outputs": [
    {
     "data": {
      "image/png": "[encoded data removed]",
      "text/plain": [
       "<matplotlib.figure.Figure at 0x7fe110597048>"
      ]
     },
     "metadata": {},
     "output_type": "display_data"
    }
   ],
   "source": [
    "plt.figure()\n",
    "sns.regplot(x=otu_scores.loc[:,'score'],y=uni_fs.loc[otu_scores.index,'r_spearman'])\n",
    "plt.xlabel('score(HNA)', size=22)\n",
    "plt.xticks(size=10)\n",
    "plt.ylabel('Spearman correlation', size=22)\n",
    "plt.yticks(size=10)\n",
    "#plt.yscale('log')\n",
    "plt.axhline(y=0.05, linewidth=2, linestyle='--', color = 'k')\n",
    "plt.axvline(x=thr, linewidth=2, linestyle='--', color = 'k')\n",
    "#plt.axis([-0.005,1.005,0.0000000000000000000001, 1])\n",
    "plt.show()"
   ]
  },
  {
   "cell_type": "code",
   "execution_count": 61,
   "metadata": {},
   "outputs": [
    {
     "data": {
      "image/png": "[encoded data removed]",
      "text/plain": [
       "<matplotlib.figure.Figure at 0x7fe10ff08a90>"
      ]
     },
     "metadata": {},
     "output_type": "display_data"
    }
   ],
   "source": [
    "plt.figure()\n",
    "sns.regplot(x=otu_scores_lna.loc[:,'score'],y=uni_fs_lna.loc[otu_scores.index,'r_spearman'])\n",
    "plt.xlabel('score(LNA)', size=22)\n",
    "plt.xticks(size=10)\n",
    "plt.ylabel('Spearman correlation', size=22)\n",
    "plt.yticks(size=10)\n",
    "#plt.yscale('log')\n",
    "plt.axhline(y=0.05, linewidth=2, linestyle='--', color = 'k')\n",
    "plt.axvline(x=thr_lna, linewidth=2, linestyle='--', color = 'k')\n",
    "#plt.axis([-0.005,1.005,0.0000000000000000000001, 1])\n",
    "plt.show()"
   ]
  },
  {
   "cell_type": "markdown",
   "metadata": {},
   "source": [
    "This analysis shows that the HNA/LNA dynamics cannot solely be attributed to OTU's that are present in the respective cloud; this is also clear from the mutual correlation between HNA- and LNA-counts ( $\\rho(\\text{HNA,LNA}) = 0.75$ ). \n",
    "\n",
    "I see two reasons for this: \n",
    "- Some OTU's are simply present in the two clouds; \n",
    "- Some HNA-OTU's interact with LNA-OTU's and vice versa. "
   ]
  }
 ],
 "metadata": {
  "anaconda-cloud": {},
  "kernelspec": {
   "display_name": "Python 3",
   "language": "python",
   "name": "python3"
  },
  "language_info": {
   "codemirror_mode": {
    "name": "ipython",
    "version": 3
   },
   "file_extension": ".py",
   "mimetype": "text/x-python",
   "name": "python",
   "nbconvert_exporter": "python",
   "pygments_lexer": "ipython3",
   "version": "3.6.3"
  }
 },
 "nbformat": 4,
 "nbformat_minor": 1
}
