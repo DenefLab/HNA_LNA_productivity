{
 "cells": [
  {
   "cell_type": "code",
   "execution_count": 11,
   "metadata": {
    "collapsed": false
   },
   "outputs": [],
   "source": [
    "'''Import packages'''\n",
    "'''Requires numpy, pandas, scikit-learn, and matplotlib/seaborn'''\n",
    "import numpy as np\n",
    "import pandas as pd\n",
    "from sklearn.model_selection import KFold\n",
    "from sklearn.preprocessing import StandardScaler\n",
    "from sklearn.model_selection import cross_val_predict\n",
    "from sklearn.linear_model import Lasso\n",
    "\n",
    "\n",
    "import matplotlib.pyplot as plt\n",
    "import seaborn as sns\n",
    "sns.set_style(\"ticks\")\n",
    "\n",
    "import analysis_functions\n",
    "from analysis_functions import get_lassoCV\n",
    "from analysis_functions import perform_randomizedLasso\n",
    "\n",
    "from IPython.display import display, HTML\n",
    "\n",
    "#If we want to time the implementation: \n",
    "#import time\n",
    "#start_time = time.time()"
   ]
  },
  {
   "cell_type": "code",
   "execution_count": 12,
   "metadata": {
    "collapsed": false,
    "scrolled": true
   },
   "outputs": [],
   "source": [
    "'''Import data'''\n",
    "data_abs = pd.read_csv('data/Chloroplasts_removed/nochloro_absolute_otu.tsv', sep=' ', index_col=None, header=0)\n",
    "data_rel = pd.read_csv('data/Chloroplasts_removed/nochloro_relative_otu.tsv', sep=' ', index_col=None, header=0)\n",
    "target = pd.read_csv('data/Chloroplasts_removed/nochloro_HNA_LNA.tsv', sep=' ', index_col=0, header=0)\n",
    "productivity = pd.read_csv('data/Chloroplasts_removed/productivity_data.tsv', sep=' ', index_col=0, header=0)"
   ]
  },
  {
   "cell_type": "code",
   "execution_count": 13,
   "metadata": {
    "collapsed": false
   },
   "outputs": [],
   "source": [
    "'''Set sample names as index and shuffle data'''\n",
    "data_abs.set_index(target.samples,inplace=True)\n",
    "data_rel.set_index(target.samples,inplace=True)\n",
    "data_abs = data_abs.sample(frac=1, random_state=3)\n",
    "data_rel = data_rel.sample(frac=1, random_state=3)\n",
    "target = target.sample(frac=1, random_state=3)\n",
    "productivity = productivity.sample(frac=1, random_state=3)\n",
    "\n",
    "#Create target columns of HNA-values: \n",
    "hna = target.loc[:,'HNA.cells']\n",
    "hna_rel = hna/target.loc[:,'Total.cells']\n",
    "hna = pd.Series(hna, index=hna.index)\n",
    "hna_rel = pd.Series(hna_rel, index=hna_rel.index)"
   ]
  },
  {
   "cell_type": "markdown",
   "metadata": {},
   "source": [
    "**REMOVE OUTLIERS IN PRODUCTIVITY SAMPLES**: there seem to be three outlier samples amongst the productivity samples. Therefore these are removed and not considered in the rest of the analysis. This leaves us with **20 samples**. "
   ]
  },
  {
   "cell_type": "code",
   "execution_count": 14,
   "metadata": {
    "collapsed": false
   },
   "outputs": [],
   "source": [
    "from sklearn.linear_model import LinearRegression\n",
    "from analysis_functions import get_r2\n",
    "from scipy.stats import linregress\n",
    "\n",
    "#retain only productivity samples \n",
    "productivity = productivity.dropna(subset=['tot_bacprod'])\n",
    "#remove high productivity samples (>90)\n",
    "productivity = productivity[productivity.tot_bacprod < 90]\n",
    "\n",
    "idx_prod = productivity.samples.values\n",
    "#display(idx_prod)\n",
    "prod = pd.Series(productivity.tot_bacprod.values, index=idx_prod)\n",
    "prod_error = pd.Series(productivity.SD_tot_bacprod.values, index=idx_prod)\n",
    "prod_rel_error = prod_error/prod"
   ]
  },
  {
   "cell_type": "markdown",
   "metadata": {},
   "source": [
    "**Preprocessing of data**: filter out those OTUs which have very low abundances and so give rise to (almost) zero-columns. Therefore an OTU has to have a minimal relative abundance one, defined by the parameter $abun$. However, I use a **second constraint** which states that an OTU must have a relative abundance > $abun$ in one of the **productivity** samples. In this way we're going to bias the OTU-selection towards the ones present in the productivity samples. "
   ]
  },
  {
   "cell_type": "code",
   "execution_count": 15,
   "metadata": {
    "collapsed": true
   },
   "outputs": [],
   "source": [
    "abun = 0.005"
   ]
  },
  {
   "cell_type": "code",
   "execution_count": 16,
   "metadata": {
    "collapsed": false
   },
   "outputs": [
    {
     "name": "stdout",
     "output_type": "stream",
     "text": [
      "Number of OTUs: 121\n"
     ]
    }
   ],
   "source": [
    "from analysis_functions import preprocess_df\n",
    "data_abs_prod = data_abs.loc[idx_prod,:] \n",
    "data_abs_prod = preprocess_df(data_abs_prod,abun,True)\n",
    "otus_prod = list(data_abs_prod.columns)\n",
    "\n",
    "print('Number of OTUs: ' + str(len(otus_prod)))"
   ]
  },
  {
   "cell_type": "markdown",
   "metadata": {},
   "source": [
    "**Standardize data**: "
   ]
  },
  {
   "cell_type": "code",
   "execution_count": 17,
   "metadata": {
    "collapsed": false
   },
   "outputs": [],
   "source": [
    "#scaler = StandardScaler()\n",
    "#data_abs_prod = pd.DataFrame(scaler.fit_transform(data_abs_prod[otus_prod]),index=data_abs_prod.index,columns=otus_prod)\n",
    "#'''Let's normalize instead of standardizing: '''\n",
    "#data_abs_prod = (data_abs_prod - data_abs_prod.mean()) / (data_abs_prod.max() - data_abs_prod.min())"
   ]
  },
  {
   "cell_type": "markdown",
   "metadata": {},
   "source": [
    "Let's see how well these OTU's relate to the HNA using a 4x5 cross-validated Lasso: "
   ]
  },
  {
   "cell_type": "code",
   "execution_count": 18,
   "metadata": {
    "collapsed": false,
    "scrolled": false
   },
   "outputs": [
    {
     "name": "stdout",
     "output_type": "stream",
     "text": [
      "0.756831359318\n",
      "12\n",
      "0.715053275904\n",
      "14\n",
      "0.769486927084\n",
      "9\n",
      "0.630902168218\n",
      "11\n",
      "0.690764528603\n",
      "21\n",
      "0.818374990387\n",
      "11\n",
      "0.857785792986\n",
      "7\n",
      "0.819489204715\n",
      "19\n",
      "0.815390408241\n",
      "8\n",
      "0.70929330084\n",
      "10\n",
      "0.664378587693\n",
      "9\n",
      "0.818572153668\n",
      "11\n",
      "0.726989999888\n",
      "11\n",
      "0.675289088253\n",
      "10\n",
      "0.877879668059\n",
      "18\n",
      "0.913636744885\n",
      "10\n",
      "0.844615957214\n",
      "10\n",
      "0.739531452052\n",
      "17\n",
      "0.778037356739\n",
      "21\n",
      "0.908257212853\n",
      "16\n"
     ]
    }
   ],
   "source": [
    "cv_out = 20\n",
    "otu_scores_cv = pd.DataFrame(columns=otus_prod)\n",
    "r2_cv = np.zeros(cv_out)\n",
    "thresholds_cv = np.zeros(cv_out)\n",
    "\n",
    "outer_cv = KFold(n_splits=cv_out, shuffle=False)\n",
    "\n",
    "t = 0\n",
    "\n",
    "final_scores = pd.DataFrame(columns=otus_prod)\n",
    "\n",
    "thresholds = np.arange(0,1,0.02)\n",
    "pred = pd.Series(index=data_abs_prod.loc[idx_prod,:].index)\n",
    "\n",
    "for idx_train, idx_test in outer_cv.split(data_abs_prod.loc[idx_prod,:],prod):\n",
    "    lassoCV = get_lassoCV(19)\n",
    "    scaler = StandardScaler()\n",
    "    scaler.fit(data_abs_prod.iloc[idx_train,:])\n",
    "    data_abs_prod = pd.DataFrame(scaler.transform(data_abs_prod[otus_prod]),index=data_abs_prod.index,columns=otus_prod)    \n",
    "    lassoCV.fit(data_abs_prod.iloc[idx_train,:], prod[idx_train])\n",
    "    mse = np.sum(lassoCV.mse_path_, axis=1)\n",
    "    mse_min = np.min(mse)\n",
    "    alpha = lassoCV.alpha_\n",
    "    \n",
    "    otu_scores = pd.Series(perform_randomizedLasso(data_abs_prod.iloc[idx_train,:], prod[idx_train], alpha), index=otus_prod)\n",
    "    otu_scores_cv.loc[t] = otu_scores    \n",
    "    otu_scores.sort_values(ascending=False,inplace=True)\n",
    "        \n",
    "    mse_scores = np.zeros(len(thresholds))\n",
    "    dummy=0\n",
    "        \n",
    "    scores = otu_scores\n",
    "    \n",
    "    for thr in thresholds: \n",
    "        scores = otu_scores[otu_scores.values > thr]\n",
    "        features_new = scores.index\n",
    "        if(len(features_new) > 0): \n",
    "            lassoCV = get_lassoCV(19)\n",
    "            lassoCV.fit(data_abs_prod.ix[idx_train,features_new],prod[idx_train])\n",
    "            #alphas, preds = perform_nested_ridge_cv(data_abs[features_new],hna) #We could use this if we want a different evaluation model\n",
    "            mse = np.sum(lassoCV.mse_path_, axis=1)\n",
    "            mse_scores[dummy] = np.min(mse)\n",
    "        dummy+=1\n",
    "    \n",
    "    mse_scores = mse_scores[np.nonzero(mse_scores)]\n",
    "    #mse_min = mse_scores.min()\n",
    "    mse_min_idx = mse_scores.argmin()\n",
    "    thresh_max = thresholds[mse_min_idx]\n",
    "    thresholds_cv[t] = thresh_max\n",
    "    optimal_scores = otu_scores[otu_scores.values>thresh_max]\n",
    "    selected_otus = optimal_scores.index\n",
    "\n",
    "    lassoCV = get_lassoCV(19)\n",
    "    lassoCV.fit(data_abs_prod.ix[idx_train, selected_otus], prod[idx_train])\n",
    "    alpha = lassoCV.alpha_\n",
    "    lasso = Lasso(alpha,max_iter=20000,normalize=False)\n",
    "    pred_cv_final = cross_val_predict(lasso, data_abs_prod.ix[idx_train, selected_otus], prod[idx_train], cv=19)\n",
    "    r2_cv[t] = get_r2(pred_cv_final, prod[idx_train])\n",
    "    print(r2_cv[t])\n",
    "    print(len(selected_otus))\n",
    "    pred.iloc[idx_test] = lassoCV.predict(data_abs_prod.ix[idx_test,selected_otus])\n",
    "    t+=1"
   ]
  },
  {
   "cell_type": "code",
   "execution_count": 19,
   "metadata": {
    "collapsed": false
   },
   "outputs": [
    {
     "name": "stdout",
     "output_type": "stream",
     "text": [
      "-0.070736043399\n"
     ]
    }
   ],
   "source": [
    "r2_final = get_r2(pred,prod)   \n",
    "print(r2_final)"
   ]
  },
  {
   "cell_type": "code",
   "execution_count": 20,
   "metadata": {
    "collapsed": false
   },
   "outputs": [
    {
     "name": "stdout",
     "output_type": "stream",
     "text": [
      "0.0364828726939\n"
     ]
    },
    {
     "data": {
      "text/plain": [
       "Otu000117    0.608667\n",
       "Otu000071    0.508833\n",
       "Otu000058    0.378333\n",
       "Otu000041    0.372500\n",
       "Otu000060    0.371333\n",
       "Otu000454    0.364000\n",
       "Otu000034    0.325000\n",
       "Otu000082    0.312167\n",
       "Otu000025    0.276000\n",
       "Otu000176    0.271667\n",
       "dtype: float64"
      ]
     },
     "metadata": {},
     "output_type": "display_data"
    }
   ],
   "source": [
    "mean_otu_scores = otu_scores_cv.mean()\n",
    "std_otu_scores = otu_scores_cv.std()\n",
    "mean_otu_scores.sort_values(ascending=False,inplace=True)\n",
    "avg_thresh = thresholds_cv.mean()\n",
    "std_thresh = thresholds_cv.std()\n",
    "print(std_thresh)\n",
    "otus_final = mean_otu_scores[mean_otu_scores > avg_thresh]\n",
    "display(otus_final)"
   ]
  },
  {
   "cell_type": "markdown",
   "metadata": {},
   "source": [
    "Old Table: "
   ]
  },
  {
   "cell_type": "code",
   "execution_count": 15,
   "metadata": {
    "collapsed": false
   },
   "outputs": [
    {
     "data": {
      "text/html": [
       "<div>\n",
       "<table border=\"1\" class=\"dataframe\">\n",
       "  <thead>\n",
       "    <tr style=\"text-align: right;\">\n",
       "      <th></th>\n",
       "      <th>Score_prod</th>\n",
       "      <th>Score_HNA</th>\n",
       "      <th>Score_HNA_prodfilt</th>\n",
       "    </tr>\n",
       "  </thead>\n",
       "  <tbody>\n",
       "    <tr>\n",
       "      <th>Otu000082</th>\n",
       "      <td>0.748</td>\n",
       "      <td>0.216</td>\n",
       "      <td>0.622</td>\n",
       "    </tr>\n",
       "    <tr>\n",
       "      <th>Otu000117</th>\n",
       "      <td>0.736</td>\n",
       "      <td>0.238</td>\n",
       "      <td>0.262</td>\n",
       "    </tr>\n",
       "    <tr>\n",
       "      <th>Otu000075</th>\n",
       "      <td>0.686</td>\n",
       "      <td>0.098</td>\n",
       "      <td>0.160</td>\n",
       "    </tr>\n",
       "    <tr>\n",
       "      <th>Otu000091</th>\n",
       "      <td>0.616</td>\n",
       "      <td>0.184</td>\n",
       "      <td>0.098</td>\n",
       "    </tr>\n",
       "    <tr>\n",
       "      <th>Otu000176</th>\n",
       "      <td>0.564</td>\n",
       "      <td>0.844</td>\n",
       "      <td>0.978</td>\n",
       "    </tr>\n",
       "    <tr>\n",
       "      <th>Otu000343</th>\n",
       "      <td>0.518</td>\n",
       "      <td>0.066</td>\n",
       "      <td>0.030</td>\n",
       "    </tr>\n",
       "    <tr>\n",
       "      <th>Otu000094</th>\n",
       "      <td>0.436</td>\n",
       "      <td>0.032</td>\n",
       "      <td>0.348</td>\n",
       "    </tr>\n",
       "    <tr>\n",
       "      <th>Otu000026</th>\n",
       "      <td>0.376</td>\n",
       "      <td>0.058</td>\n",
       "      <td>0.112</td>\n",
       "    </tr>\n",
       "    <tr>\n",
       "      <th>Otu000025</th>\n",
       "      <td>0.374</td>\n",
       "      <td>0.762</td>\n",
       "      <td>0.852</td>\n",
       "    </tr>\n",
       "    <tr>\n",
       "      <th>Otu000246</th>\n",
       "      <td>0.336</td>\n",
       "      <td>0.032</td>\n",
       "      <td>0.050</td>\n",
       "    </tr>\n",
       "    <tr>\n",
       "      <th>Otu000222</th>\n",
       "      <td>0.320</td>\n",
       "      <td>0.422</td>\n",
       "      <td>0.304</td>\n",
       "    </tr>\n",
       "    <tr>\n",
       "      <th>Otu000024</th>\n",
       "      <td>0.278</td>\n",
       "      <td>0.120</td>\n",
       "      <td>0.172</td>\n",
       "    </tr>\n",
       "    <tr>\n",
       "      <th>Otu000007</th>\n",
       "      <td>0.268</td>\n",
       "      <td>0.196</td>\n",
       "      <td>0.216</td>\n",
       "    </tr>\n",
       "    <tr>\n",
       "      <th>Otu000335</th>\n",
       "      <td>0.268</td>\n",
       "      <td>0.628</td>\n",
       "      <td>0.598</td>\n",
       "    </tr>\n",
       "    <tr>\n",
       "      <th>Otu000034</th>\n",
       "      <td>0.266</td>\n",
       "      <td>0.036</td>\n",
       "      <td>0.628</td>\n",
       "    </tr>\n",
       "    <tr>\n",
       "      <th>Otu000041</th>\n",
       "      <td>0.262</td>\n",
       "      <td>0.292</td>\n",
       "      <td>0.820</td>\n",
       "    </tr>\n",
       "    <tr>\n",
       "      <th>Otu000147</th>\n",
       "      <td>0.258</td>\n",
       "      <td>0.224</td>\n",
       "      <td>0.144</td>\n",
       "    </tr>\n",
       "    <tr>\n",
       "      <th>Otu000096</th>\n",
       "      <td>0.254</td>\n",
       "      <td>0.054</td>\n",
       "      <td>0.440</td>\n",
       "    </tr>\n",
       "    <tr>\n",
       "      <th>Otu000212</th>\n",
       "      <td>0.248</td>\n",
       "      <td>0.168</td>\n",
       "      <td>0.118</td>\n",
       "    </tr>\n",
       "  </tbody>\n",
       "</table>\n",
       "</div>"
      ],
      "text/plain": [
       "           Score_prod  Score_HNA  Score_HNA_prodfilt\n",
       "Otu000082       0.748      0.216               0.622\n",
       "Otu000117       0.736      0.238               0.262\n",
       "Otu000075       0.686      0.098               0.160\n",
       "Otu000091       0.616      0.184               0.098\n",
       "Otu000176       0.564      0.844               0.978\n",
       "Otu000343       0.518      0.066               0.030\n",
       "Otu000094       0.436      0.032               0.348\n",
       "Otu000026       0.376      0.058               0.112\n",
       "Otu000025       0.374      0.762               0.852\n",
       "Otu000246       0.336      0.032               0.050\n",
       "Otu000222       0.320      0.422               0.304\n",
       "Otu000024       0.278      0.120               0.172\n",
       "Otu000007       0.268      0.196               0.216\n",
       "Otu000335       0.268      0.628               0.598\n",
       "Otu000034       0.266      0.036               0.628\n",
       "Otu000041       0.262      0.292               0.820\n",
       "Otu000147       0.258      0.224               0.144\n",
       "Otu000096       0.254      0.054               0.440\n",
       "Otu000212       0.248      0.168               0.118"
      ]
     },
     "metadata": {},
     "output_type": "display_data"
    }
   ],
   "source": [
    "final = pd.DataFrame(optimal_scores, index=selected_otus, columns=['Score_prod'])\n",
    "final['Score_HNA'] = scores_HNA.loc[selected_otus,:]\n",
    "final['Score_HNA_prodfilt'] = scores_HNA_prodfilt.loc[selected_otus,:]\n",
    "display(final)"
   ]
  },
  {
   "cell_type": "code",
   "execution_count": 16,
   "metadata": {
    "collapsed": false
   },
   "outputs": [
    {
     "data": {
      "text/html": [
       "<div>\n",
       "<table border=\"1\" class=\"dataframe\">\n",
       "  <thead>\n",
       "    <tr style=\"text-align: right;\">\n",
       "      <th></th>\n",
       "      <th>Score_prod</th>\n",
       "      <th>Score_HNA</th>\n",
       "      <th>Score_HNA_prodfilt</th>\n",
       "    </tr>\n",
       "  </thead>\n",
       "  <tbody>\n",
       "    <tr>\n",
       "      <th>Otu000176</th>\n",
       "      <td>0.564</td>\n",
       "      <td>0.844</td>\n",
       "      <td>0.978</td>\n",
       "    </tr>\n",
       "    <tr>\n",
       "      <th>Otu000025</th>\n",
       "      <td>0.374</td>\n",
       "      <td>0.762</td>\n",
       "      <td>0.852</td>\n",
       "    </tr>\n",
       "    <tr>\n",
       "      <th>Otu000041</th>\n",
       "      <td>0.262</td>\n",
       "      <td>0.292</td>\n",
       "      <td>0.820</td>\n",
       "    </tr>\n",
       "  </tbody>\n",
       "</table>\n",
       "</div>"
      ],
      "text/plain": [
       "           Score_prod  Score_HNA  Score_HNA_prodfilt\n",
       "Otu000176       0.564      0.844               0.978\n",
       "Otu000025       0.374      0.762               0.852\n",
       "Otu000041       0.262      0.292               0.820"
      ]
     },
     "metadata": {},
     "output_type": "display_data"
    }
   ],
   "source": [
    "''' Display final OTU's complying to fitted thresholds: '''\n",
    "final_thr = final[(final['Score_HNA_prodfilt'] > 0.63)]\n",
    "display(final_thr)"
   ]
  },
  {
   "cell_type": "markdown",
   "metadata": {},
   "source": [
    "Note: Threshold for Score_HNA_prodfilt is sufficient to also filter out Score_HNA. "
   ]
  }
 ],
 "metadata": {
  "anaconda-cloud": {},
  "kernelspec": {
   "display_name": "Python [conda root]",
   "language": "python",
   "name": "conda-root-py"
  },
  "language_info": {
   "codemirror_mode": {
    "name": "ipython",
    "version": 3
   },
   "file_extension": ".py",
   "mimetype": "text/x-python",
   "name": "python",
   "nbconvert_exporter": "python",
   "pygments_lexer": "ipython3",
   "version": "3.4.5"
  }
 },
 "nbformat": 4,
 "nbformat_minor": 1
}
