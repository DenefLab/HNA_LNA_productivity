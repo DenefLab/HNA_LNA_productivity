{
 "cells": [
  {
   "cell_type": "code",
   "execution_count": 1,
   "metadata": {
    "collapsed": false,
    "scrolled": true
   },
   "outputs": [
    {
     "name": "stderr",
     "output_type": "stream",
     "text": [
      "/home/prubbens/anaconda3/lib/python3.4/site-packages/matplotlib/__init__.py:913: UserWarning: axes.color_cycle is deprecated and replaced with axes.prop_cycle; please use the latter.\n",
      "  warnings.warn(self.msg_depr % (key, alt_key))\n",
      "/home/prubbens/.local/lib/python3.4/site-packages/sklearn/cross_validation.py:44: DeprecationWarning: This module was deprecated in version 0.18 in favor of the model_selection module into which all the refactored classes and functions are moved. Also note that the interface of the new CV iterators are different from that of this module. This module will be removed in 0.20.\n",
      "  \"This module will be removed in 0.20.\", DeprecationWarning)\n"
     ]
    }
   ],
   "source": [
    "'''Import packages'''\n",
    "'''Requires numpy, pandas, scikit-learn, and matplotlib/seaborn'''\n",
    "import numpy as np\n",
    "import pandas as pd\n",
    "from sklearn.feature_selection import f_regression\n",
    "from sklearn.feature_selection import mutual_info_regression\n",
    "from sklearn.model_selection import KFold\n",
    "from sklearn.model_selection import cross_val_predict\n",
    "from sklearn.linear_model import Lasso\n",
    "from scipy.stats import linregress\n",
    "\n",
    "import matplotlib.pyplot as plt\n",
    "import seaborn as sns\n",
    "sns.set_style(\"ticks\")\n",
    "\n",
    "'''Import script which contains functions'''\n",
    "import analysis_functions\n",
    "from analysis_functions import get_r2\n",
    "from analysis_functions import get_lassoCV\n",
    "from analysis_functions import perform_randomizedLasso\n",
    "\n",
    "from IPython.display import display, HTML\n",
    "\n",
    "#If we want to time the implementation: \n",
    "#import time\n",
    "#start_time = time.time()"
   ]
  },
  {
   "cell_type": "markdown",
   "metadata": {},
   "source": [
    "Import the dataframes: "
   ]
  },
  {
   "cell_type": "code",
   "execution_count": 2,
   "metadata": {
    "collapsed": false,
    "scrolled": true
   },
   "outputs": [],
   "source": [
    "'''Import data'''\n",
    "data_abs = pd.read_csv('data/Chloroplasts_removed/Nov2017_Filtering/1seq_in_3samples/nochloro_absolute_otu_1seqin3samps.tsv', sep=' ', index_col=None, header=0, float_precision='high')\n",
    "data_rel = pd.read_csv('data/Chloroplasts_removed/Nov2017_Filtering/1seq_in_3samples/nochloro_relative_1seqin3samps.tsv', sep=' ', index_col=None, header=0, float_precision='high')\n",
    "target = pd.read_csv('data/Chloroplasts_removed/Nov2017_Filtering/1seq_in_3samples/nochloro_HNA_LNA_1seqin3samps.tsv', sep= ' ', index_col=0, header=0)"
   ]
  },
  {
   "cell_type": "markdown",
   "metadata": {},
   "source": [
    "**2)**: At 01-05-'17 @marschmi found that a few samples can be seen as outliers, as they represent the bottom waters of productive inland lakes, resulting in a big difference of the HNA percentage. These samples are the following: Z14055F, Z14003F, Z14007F, Z14023F, Z14011F. A code of line is added, in order to be able to run the pipeline without these samples; "
   ]
  },
  {
   "cell_type": "code",
   "execution_count": 3,
   "metadata": {
    "collapsed": false
   },
   "outputs": [],
   "source": [
    "#samples_to_drop = ['Z14055F', 'Z14003F', 'Z14007F', 'Z14023F', 'Z14011F']\n",
    "#index = target.index.drop(samples_to_drop)"
   ]
  },
  {
   "cell_type": "code",
   "execution_count": 4,
   "metadata": {
    "collapsed": false
   },
   "outputs": [],
   "source": [
    "'''Set sample names as index and shuffle data'''\n",
    "index = data_rel.index\n",
    "\n",
    "#Remove outlier samples:\n",
    "data_abs = data_abs.loc[index,:] \n",
    "data_rel = data_rel.loc[index,:]\n",
    "target = target.loc[index,:]\n",
    "#productivity = productivity.loc[index,:]\n",
    "\n",
    "#Shuffle data: \n",
    "data_abs = data_abs.sample(frac=1, random_state=3)\n",
    "data_rel = data_rel.sample(frac=1, random_state=3)\n",
    "target = target.sample(frac=1, random_state=3)\n",
    "#productivity = productivity.sample(frac=1, random_state=3) \n",
    "\n",
    "#Create target columns of HNA-values: \n",
    "hna = target.loc[:,'HNA.cells']\n",
    "hna_rel = hna/target.loc[:,'Total.cells']\n",
    "hna = pd.Series(hna, index=hna.index)\n",
    "hna_rel = pd.Series(hna_rel, index=hna.index)\n",
    "\n",
    "#Create target columns of LNA-values: \n",
    "lna = target.loc[:,'LNA.cells']\n",
    "lna_rel = lna/target.loc[:,'Total.cells']\n",
    "lna = pd.Series(lna, index=lna.index)\n",
    "lna_rel = pd.Series(lna_rel, index=lna.index)"
   ]
  },
  {
   "cell_type": "code",
   "execution_count": 5,
   "metadata": {
    "collapsed": false
   },
   "outputs": [],
   "source": [
    "#Some variables to store information and to create inner and outer CV-folds\n",
    "\n",
    "data_rel = data_rel.loc[:, (data_rel != 0).any(axis=0)]\n",
    "otus = list(data_rel.columns)\n",
    "\n",
    "#cv_out = 10\n",
    "cv = 5\n",
    "#outer_cv = KFold(n_splits=cv_out, shuffle=False)\n",
    "\n",
    "#otu_scores_cv = pd.DataFrame(columns=otus)\n",
    "#r2_cv = np.zeros(cv_out)\n",
    "#thresholds_cv = np.zeros(cv_out)\n",
    "\n",
    "#pred = pd.Series(index=data_abs.index)\n",
    "#final_scores = pd.DataFrame(columns=otus)\n",
    "\n",
    "#thresholds = np.arange(0,1,0.01)\n",
    "#t = 0"
   ]
  },
  {
   "cell_type": "code",
   "execution_count": 6,
   "metadata": {
    "collapsed": false
   },
   "outputs": [],
   "source": [
    "''' Standardize data '''\n",
    "from analysis_functions import standardize_df\n",
    "data_stand, scaler = standardize_df(data_rel,otus)"
   ]
  },
  {
   "cell_type": "markdown",
   "metadata": {},
   "source": [
    "To do so, we use the **_Randomized Lasso_**: this method makes use of two kinds of randomization in order to select variables (i.e., OTU's) with a certain _stability_: (1) it fits a Lasso to various bootstrap subsamples and (2) it perturbs the initial weighting of certain variables. \n",
    "\n",
    "This results in a $score \\in [0,1]$ that is assigned to variables, with 0 denoting the case where a variable is never chosen by the Lasso, and 1 denoting the case where a variable always is chosen. In other words, the higher the score, the more important a variable can be considered to be. "
   ]
  },
  {
   "cell_type": "markdown",
   "metadata": {},
   "source": [
    "**First goal: ** try to pinpoint those OTU's for which we are sure they are present in the '_HNA-cloud_'. "
   ]
  },
  {
   "cell_type": "markdown",
   "metadata": {},
   "source": [
    "**Univariate Feature Selection**: \n",
    "\n",
    "Let's compare two methods: \n",
    "- f_regression (f-score pearson correlation), \n",
    "- Mutual information,  \n",
    "- (other methods can follow as well). "
   ]
  },
  {
   "cell_type": "code",
   "execution_count": 7,
   "metadata": {
    "collapsed": false
   },
   "outputs": [
    {
     "data": {
      "text/html": [
       "<div>\n",
       "<table border=\"1\" class=\"dataframe\">\n",
       "  <thead>\n",
       "    <tr style=\"text-align: right;\">\n",
       "      <th></th>\n",
       "      <th>f_regr</th>\n",
       "      <th>p-value</th>\n",
       "      <th>mi</th>\n",
       "    </tr>\n",
       "  </thead>\n",
       "  <tbody>\n",
       "    <tr>\n",
       "      <th>Otu000060</th>\n",
       "      <td>113.782688</td>\n",
       "      <td>1.464712e-20</td>\n",
       "      <td>0.305275</td>\n",
       "    </tr>\n",
       "    <tr>\n",
       "      <th>Otu000173</th>\n",
       "      <td>101.698447</td>\n",
       "      <td>5.910719e-19</td>\n",
       "      <td>0.347162</td>\n",
       "    </tr>\n",
       "    <tr>\n",
       "      <th>Otu000001</th>\n",
       "      <td>92.593481</td>\n",
       "      <td>1.075090e-17</td>\n",
       "      <td>0.347498</td>\n",
       "    </tr>\n",
       "    <tr>\n",
       "      <th>Otu000187</th>\n",
       "      <td>60.546033</td>\n",
       "      <td>7.276621e-13</td>\n",
       "      <td>0.200173</td>\n",
       "    </tr>\n",
       "    <tr>\n",
       "      <th>Otu000335</th>\n",
       "      <td>51.622804</td>\n",
       "      <td>2.163799e-11</td>\n",
       "      <td>0.266137</td>\n",
       "    </tr>\n",
       "    <tr>\n",
       "      <th>Otu000222</th>\n",
       "      <td>50.335527</td>\n",
       "      <td>3.573317e-11</td>\n",
       "      <td>0.185724</td>\n",
       "    </tr>\n",
       "    <tr>\n",
       "      <th>Otu000027</th>\n",
       "      <td>47.982644</td>\n",
       "      <td>9.013674e-11</td>\n",
       "      <td>0.186330</td>\n",
       "    </tr>\n",
       "    <tr>\n",
       "      <th>Otu000271</th>\n",
       "      <td>40.766557</td>\n",
       "      <td>1.651833e-09</td>\n",
       "      <td>0.377648</td>\n",
       "    </tr>\n",
       "    <tr>\n",
       "      <th>Otu000326</th>\n",
       "      <td>40.752667</td>\n",
       "      <td>1.661284e-09</td>\n",
       "      <td>0.334526</td>\n",
       "    </tr>\n",
       "    <tr>\n",
       "      <th>Otu000038</th>\n",
       "      <td>39.756370</td>\n",
       "      <td>2.504108e-09</td>\n",
       "      <td>0.297200</td>\n",
       "    </tr>\n",
       "  </tbody>\n",
       "</table>\n",
       "</div>"
      ],
      "text/plain": [
       "               f_regr       p-value        mi\n",
       "Otu000060  113.782688  1.464712e-20  0.305275\n",
       "Otu000173  101.698447  5.910719e-19  0.347162\n",
       "Otu000001   92.593481  1.075090e-17  0.347498\n",
       "Otu000187   60.546033  7.276621e-13  0.200173\n",
       "Otu000335   51.622804  2.163799e-11  0.266137\n",
       "Otu000222   50.335527  3.573317e-11  0.185724\n",
       "Otu000027   47.982644  9.013674e-11  0.186330\n",
       "Otu000271   40.766557  1.651833e-09  0.377648\n",
       "Otu000326   40.752667  1.661284e-09  0.334526\n",
       "Otu000038   39.756370  2.504108e-09  0.297200"
      ]
     },
     "metadata": {},
     "output_type": "display_data"
    }
   ],
   "source": [
    "f_regr, f_regr_p = f_regression(data_stand.loc[:,otus],hna)\n",
    "uni_fs = pd.DataFrame(f_regr, index=otus, columns = ['f_regr'])\n",
    "uni_fs['p-value'] = f_regr_p\n",
    "uni_fs['mi'] = mutual_info_regression(data_stand.loc[:,otus],hna)\n",
    "uni_fs.sort_values(ascending=False,inplace=True, by='f_regr')\n",
    "display(uni_fs.head(10))"
   ]
  },
  {
   "cell_type": "markdown",
   "metadata": {},
   "source": [
    "Select otu's based on $p < \\text{thr}$: "
   ]
  },
  {
   "cell_type": "code",
   "execution_count": 8,
   "metadata": {
    "collapsed": false,
    "scrolled": true
   },
   "outputs": [
    {
     "name": "stdout",
     "output_type": "stream",
     "text": [
      "Number of selected OTUs with p < 0.05: 690\n",
      "Number of selected OTUs with p < 0.01: 361\n"
     ]
    }
   ],
   "source": [
    "uni_fs_selected_f = uni_fs[uni_fs.loc[:,'p-value'].values < 0.05]\n",
    "print('Number of selected OTUs with p < 0.05: ' + str(len(uni_fs_selected_f)))\n",
    "uni_fs_selected_f = uni_fs[uni_fs.loc[:,'p-value'].values < 0.01]\n",
    "print('Number of selected OTUs with p < 0.01: ' + str(len(uni_fs_selected_f)))"
   ]
  },
  {
   "cell_type": "markdown",
   "metadata": {},
   "source": [
    "What happens when we tune a threshold in function of the f_score: "
   ]
  },
  {
   "cell_type": "code",
   "execution_count": 9,
   "metadata": {
    "collapsed": false
   },
   "outputs": [],
   "source": [
    "from analysis_functions import get_r2_scores\n",
    "thr_otu_f_regr_hna, r2_otu_f_regr_hna = get_r2_scores(data_stand.loc[:,otus], hna, otus, uni_fs['f_regr'], cv)\n",
    "thr_otu_f_regr_lna, r2_otu_f_regr_lna = get_r2_scores(data_stand.loc[:,otus], lna, otus, uni_fs['f_regr'], cv)"
   ]
  },
  {
   "cell_type": "code",
   "execution_count": 10,
   "metadata": {
    "collapsed": false
   },
   "outputs": [
    {
     "data": {
      "image/png": "[encoded data removed]",
      "text/plain": [
       "<matplotlib.figure.Figure at 0x7fa7faac20f0>"
      ]
     },
     "metadata": {},
     "output_type": "display_data"
    }
   ],
   "source": [
    "plt.figure()\n",
    "sns.regplot(x=thr_otu_f_regr_hna,y=r2_otu_f_regr_hna, fit_reg=False, label='HNA')\n",
    "sns.regplot(x=thr_otu_f_regr_lna,y=r2_otu_f_regr_lna, fit_reg=False, label='LNA')\n",
    "plt.xlabel('F-score', size=22)\n",
    "plt.xticks(size=10)\n",
    "plt.ylabel(r'$R^2$', size=22)\n",
    "plt.yticks(size=10)\n",
    "plt.title('F-test', size=24)\n",
    "plt.legend()\n",
    "plt.show()"
   ]
  },
  {
   "cell_type": "code",
   "execution_count": 11,
   "metadata": {
    "collapsed": false
   },
   "outputs": [],
   "source": [
    "#uni_fs.sort_values(ascending=False,inplace=True, by='mi')\n",
    "#display(uni_fs.head(10))\n",
    "#thr_otu_mi_hna, r2_otu_mi_hna = get_r2_scores(data_stand.loc[:,otus], hna, otus, uni_fs['mi'], cv)\n",
    "#thr_otu_mi_lna, r2_otu_mi_lna = get_r2_scores(data_stand.loc[:,otus], lna, otus, uni_fs['mi'], cv)"
   ]
  },
  {
   "cell_type": "code",
   "execution_count": 12,
   "metadata": {
    "collapsed": false
   },
   "outputs": [],
   "source": [
    "#plt.figure()\n",
    "#sns.regplot(x=thr_otu_mi_hna,y=r2_otu_mi_hna, fit_reg=False, label='HNA')\n",
    "#sns.regplot(x=thr_otu_mi_lna,y=r2_otu_mi_lna, fit_reg=False, label='LNA')\n",
    "#plt.xlabel('MI', size=22)\n",
    "#plt.xticks(size=10)\n",
    "#plt.ylabel(r'$R^2$', size=22)\n",
    "#plt.yticks(size=10)\n",
    "#plt.title('Mutual Information', size=24)\n",
    "#plt.legend()\n",
    "#plt.show()"
   ]
  },
  {
   "cell_type": "code",
   "execution_count": 13,
   "metadata": {
    "collapsed": false
   },
   "outputs": [
    {
     "name": "stderr",
     "output_type": "stream",
     "text": [
      "/home/prubbens/.local/lib/python3.4/site-packages/sklearn/linear_model/least_angle.py:377: RuntimeWarning: overflow encountered in true_divide\n",
      "  g1 = arrayfuncs.min_pos((C - Cov) / (AA - corr_eq_dir + tiny))\n",
      "/home/prubbens/.local/lib/python3.4/site-packages/sklearn/linear_model/least_angle.py:377: RuntimeWarning: overflow encountered in true_divide\n",
      "  g1 = arrayfuncs.min_pos((C - Cov) / (AA - corr_eq_dir + tiny))\n",
      "/home/prubbens/.local/lib/python3.4/site-packages/sklearn/linear_model/least_angle.py:381: RuntimeWarning: overflow encountered in true_divide\n",
      "  g2 = arrayfuncs.min_pos((C + Cov) / (AA + corr_eq_dir + tiny))\n",
      "/home/prubbens/.local/lib/python3.4/site-packages/sklearn/linear_model/least_angle.py:377: RuntimeWarning: overflow encountered in true_divide\n",
      "  g1 = arrayfuncs.min_pos((C - Cov) / (AA - corr_eq_dir + tiny))\n",
      "/home/prubbens/.local/lib/python3.4/site-packages/sklearn/linear_model/least_angle.py:381: RuntimeWarning: overflow encountered in true_divide\n",
      "  g2 = arrayfuncs.min_pos((C + Cov) / (AA + corr_eq_dir + tiny))\n",
      "/home/prubbens/.local/lib/python3.4/site-packages/sklearn/linear_model/least_angle.py:381: RuntimeWarning: overflow encountered in true_divide\n",
      "  g2 = arrayfuncs.min_pos((C + Cov) / (AA + corr_eq_dir + tiny))\n",
      "/home/prubbens/.local/lib/python3.4/site-packages/sklearn/linear_model/least_angle.py:377: RuntimeWarning: overflow encountered in true_divide\n",
      "  g1 = arrayfuncs.min_pos((C - Cov) / (AA - corr_eq_dir + tiny))\n",
      "/home/prubbens/.local/lib/python3.4/site-packages/sklearn/linear_model/least_angle.py:377: RuntimeWarning: overflow encountered in true_divide\n",
      "  g1 = arrayfuncs.min_pos((C - Cov) / (AA - corr_eq_dir + tiny))\n",
      "/home/prubbens/.local/lib/python3.4/site-packages/sklearn/linear_model/least_angle.py:381: RuntimeWarning: overflow encountered in true_divide\n",
      "  g2 = arrayfuncs.min_pos((C + Cov) / (AA + corr_eq_dir + tiny))\n",
      "/home/prubbens/.local/lib/python3.4/site-packages/sklearn/linear_model/least_angle.py:377: RuntimeWarning: overflow encountered in true_divide\n",
      "  g1 = arrayfuncs.min_pos((C - Cov) / (AA - corr_eq_dir + tiny))\n",
      "/home/prubbens/.local/lib/python3.4/site-packages/sklearn/linear_model/least_angle.py:381: RuntimeWarning: overflow encountered in true_divide\n",
      "  g2 = arrayfuncs.min_pos((C + Cov) / (AA + corr_eq_dir + tiny))\n",
      "/home/prubbens/.local/lib/python3.4/site-packages/sklearn/linear_model/least_angle.py:377: RuntimeWarning: overflow encountered in true_divide\n",
      "  g1 = arrayfuncs.min_pos((C - Cov) / (AA - corr_eq_dir + tiny))\n",
      "/home/prubbens/.local/lib/python3.4/site-packages/sklearn/linear_model/least_angle.py:381: RuntimeWarning: overflow encountered in true_divide\n",
      "  g2 = arrayfuncs.min_pos((C + Cov) / (AA + corr_eq_dir + tiny))\n",
      "/home/prubbens/.local/lib/python3.4/site-packages/sklearn/linear_model/least_angle.py:381: RuntimeWarning: overflow encountered in true_divide\n",
      "  g2 = arrayfuncs.min_pos((C + Cov) / (AA + corr_eq_dir + tiny))\n",
      "/home/prubbens/.local/lib/python3.4/site-packages/sklearn/linear_model/least_angle.py:377: RuntimeWarning: overflow encountered in true_divide\n",
      "  g1 = arrayfuncs.min_pos((C - Cov) / (AA - corr_eq_dir + tiny))\n",
      "/home/prubbens/.local/lib/python3.4/site-packages/sklearn/linear_model/least_angle.py:377: RuntimeWarning: overflow encountered in true_divide\n",
      "  g1 = arrayfuncs.min_pos((C - Cov) / (AA - corr_eq_dir + tiny))\n",
      "/home/prubbens/.local/lib/python3.4/site-packages/sklearn/linear_model/least_angle.py:381: RuntimeWarning: overflow encountered in true_divide\n",
      "  g2 = arrayfuncs.min_pos((C + Cov) / (AA + corr_eq_dir + tiny))\n",
      "/home/prubbens/.local/lib/python3.4/site-packages/sklearn/linear_model/least_angle.py:381: RuntimeWarning: overflow encountered in true_divide\n",
      "  g2 = arrayfuncs.min_pos((C + Cov) / (AA + corr_eq_dir + tiny))\n",
      "/home/prubbens/.local/lib/python3.4/site-packages/sklearn/linear_model/least_angle.py:377: RuntimeWarning: overflow encountered in true_divide\n",
      "  g1 = arrayfuncs.min_pos((C - Cov) / (AA - corr_eq_dir + tiny))\n",
      "/home/prubbens/.local/lib/python3.4/site-packages/sklearn/linear_model/least_angle.py:381: RuntimeWarning: overflow encountered in true_divide\n",
      "  g2 = arrayfuncs.min_pos((C + Cov) / (AA + corr_eq_dir + tiny))\n",
      "/home/prubbens/.local/lib/python3.4/site-packages/sklearn/linear_model/least_angle.py:377: RuntimeWarning: overflow encountered in true_divide\n",
      "  g1 = arrayfuncs.min_pos((C - Cov) / (AA - corr_eq_dir + tiny))\n",
      "/home/prubbens/.local/lib/python3.4/site-packages/sklearn/linear_model/least_angle.py:381: RuntimeWarning: overflow encountered in true_divide\n",
      "  g2 = arrayfuncs.min_pos((C + Cov) / (AA + corr_eq_dir + tiny))\n",
      "/home/prubbens/.local/lib/python3.4/site-packages/sklearn/linear_model/least_angle.py:377: RuntimeWarning: overflow encountered in true_divide\n",
      "  g1 = arrayfuncs.min_pos((C - Cov) / (AA - corr_eq_dir + tiny))\n",
      "/home/prubbens/.local/lib/python3.4/site-packages/sklearn/linear_model/least_angle.py:377: RuntimeWarning: overflow encountered in true_divide\n",
      "  g1 = arrayfuncs.min_pos((C - Cov) / (AA - corr_eq_dir + tiny))\n",
      "/home/prubbens/.local/lib/python3.4/site-packages/sklearn/linear_model/least_angle.py:377: RuntimeWarning: overflow encountered in true_divide\n",
      "  g1 = arrayfuncs.min_pos((C - Cov) / (AA - corr_eq_dir + tiny))\n",
      "/home/prubbens/.local/lib/python3.4/site-packages/sklearn/linear_model/least_angle.py:381: RuntimeWarning: overflow encountered in true_divide\n",
      "  g2 = arrayfuncs.min_pos((C + Cov) / (AA + corr_eq_dir + tiny))\n",
      "/home/prubbens/.local/lib/python3.4/site-packages/sklearn/linear_model/least_angle.py:377: RuntimeWarning: overflow encountered in true_divide\n",
      "  g1 = arrayfuncs.min_pos((C - Cov) / (AA - corr_eq_dir + tiny))\n",
      "/home/prubbens/.local/lib/python3.4/site-packages/sklearn/linear_model/least_angle.py:377: RuntimeWarning: overflow encountered in true_divide\n",
      "  g1 = arrayfuncs.min_pos((C - Cov) / (AA - corr_eq_dir + tiny))\n",
      "/home/prubbens/.local/lib/python3.4/site-packages/sklearn/linear_model/least_angle.py:377: RuntimeWarning: overflow encountered in true_divide\n",
      "  g1 = arrayfuncs.min_pos((C - Cov) / (AA - corr_eq_dir + tiny))\n",
      "/home/prubbens/.local/lib/python3.4/site-packages/sklearn/linear_model/least_angle.py:381: RuntimeWarning: overflow encountered in true_divide\n",
      "  g2 = arrayfuncs.min_pos((C + Cov) / (AA + corr_eq_dir + tiny))\n",
      "/home/prubbens/.local/lib/python3.4/site-packages/sklearn/linear_model/least_angle.py:377: RuntimeWarning: overflow encountered in true_divide\n",
      "  g1 = arrayfuncs.min_pos((C - Cov) / (AA - corr_eq_dir + tiny))\n",
      "/home/prubbens/.local/lib/python3.4/site-packages/sklearn/linear_model/least_angle.py:377: RuntimeWarning: overflow encountered in true_divide\n",
      "  g1 = arrayfuncs.min_pos((C - Cov) / (AA - corr_eq_dir + tiny))\n",
      "/home/prubbens/.local/lib/python3.4/site-packages/sklearn/linear_model/least_angle.py:377: RuntimeWarning: overflow encountered in true_divide\n",
      "  g1 = arrayfuncs.min_pos((C - Cov) / (AA - corr_eq_dir + tiny))\n",
      "/home/prubbens/.local/lib/python3.4/site-packages/sklearn/linear_model/least_angle.py:381: RuntimeWarning: overflow encountered in true_divide\n",
      "  g2 = arrayfuncs.min_pos((C + Cov) / (AA + corr_eq_dir + tiny))\n",
      "/home/prubbens/.local/lib/python3.4/site-packages/sklearn/linear_model/least_angle.py:381: RuntimeWarning: overflow encountered in true_divide\n",
      "  g2 = arrayfuncs.min_pos((C + Cov) / (AA + corr_eq_dir + tiny))\n",
      "/home/prubbens/.local/lib/python3.4/site-packages/sklearn/linear_model/least_angle.py:381: RuntimeWarning: overflow encountered in true_divide\n",
      "  g2 = arrayfuncs.min_pos((C + Cov) / (AA + corr_eq_dir + tiny))\n",
      "/home/prubbens/.local/lib/python3.4/site-packages/sklearn/linear_model/least_angle.py:381: RuntimeWarning: overflow encountered in true_divide\n",
      "  g2 = arrayfuncs.min_pos((C + Cov) / (AA + corr_eq_dir + tiny))\n",
      "/home/prubbens/.local/lib/python3.4/site-packages/sklearn/linear_model/least_angle.py:377: RuntimeWarning: overflow encountered in true_divide\n",
      "  g1 = arrayfuncs.min_pos((C - Cov) / (AA - corr_eq_dir + tiny))\n",
      "/home/prubbens/.local/lib/python3.4/site-packages/sklearn/linear_model/least_angle.py:377: RuntimeWarning: overflow encountered in true_divide\n",
      "  g1 = arrayfuncs.min_pos((C - Cov) / (AA - corr_eq_dir + tiny))\n",
      "/home/prubbens/.local/lib/python3.4/site-packages/sklearn/linear_model/least_angle.py:377: RuntimeWarning: overflow encountered in true_divide\n",
      "  g1 = arrayfuncs.min_pos((C - Cov) / (AA - corr_eq_dir + tiny))\n",
      "/home/prubbens/.local/lib/python3.4/site-packages/sklearn/linear_model/least_angle.py:377: RuntimeWarning: overflow encountered in true_divide\n",
      "  g1 = arrayfuncs.min_pos((C - Cov) / (AA - corr_eq_dir + tiny))\n",
      "/home/prubbens/.local/lib/python3.4/site-packages/sklearn/linear_model/least_angle.py:381: RuntimeWarning: overflow encountered in true_divide\n",
      "  g2 = arrayfuncs.min_pos((C + Cov) / (AA + corr_eq_dir + tiny))\n",
      "/home/prubbens/.local/lib/python3.4/site-packages/sklearn/linear_model/least_angle.py:377: RuntimeWarning: overflow encountered in true_divide\n",
      "  g1 = arrayfuncs.min_pos((C - Cov) / (AA - corr_eq_dir + tiny))\n",
      "/home/prubbens/.local/lib/python3.4/site-packages/sklearn/linear_model/least_angle.py:381: RuntimeWarning: overflow encountered in true_divide\n",
      "  g2 = arrayfuncs.min_pos((C + Cov) / (AA + corr_eq_dir + tiny))\n",
      "/home/prubbens/.local/lib/python3.4/site-packages/sklearn/linear_model/least_angle.py:381: RuntimeWarning: overflow encountered in true_divide\n",
      "  g2 = arrayfuncs.min_pos((C + Cov) / (AA + corr_eq_dir + tiny))\n",
      "/home/prubbens/.local/lib/python3.4/site-packages/sklearn/linear_model/least_angle.py:381: RuntimeWarning: overflow encountered in true_divide\n",
      "  g2 = arrayfuncs.min_pos((C + Cov) / (AA + corr_eq_dir + tiny))\n",
      "/home/prubbens/.local/lib/python3.4/site-packages/sklearn/linear_model/least_angle.py:377: RuntimeWarning: overflow encountered in true_divide\n",
      "  g1 = arrayfuncs.min_pos((C - Cov) / (AA - corr_eq_dir + tiny))\n",
      "/home/prubbens/.local/lib/python3.4/site-packages/sklearn/linear_model/least_angle.py:377: RuntimeWarning: overflow encountered in true_divide\n",
      "  g1 = arrayfuncs.min_pos((C - Cov) / (AA - corr_eq_dir + tiny))\n"
     ]
    }
   ],
   "source": [
    "from analysis_functions import get_lassoCV_alpha\n",
    "\n",
    "alpha = get_lassoCV_alpha(data_stand.loc[:,otus],hna,otus,cv)\n",
    "    \n",
    "otu_scores = pd.DataFrame(perform_randomizedLasso(data_stand.loc[:,otus], hna, alpha), index=otus, columns=['score'])\n",
    "otu_scores.sort_values(ascending=False,inplace=True, by='score')\n",
    "\n",
    "thr_otu_scores_hna, r2_otu_scores_hna = get_r2_scores(data_stand.loc[:,otus], hna, otus, otu_scores, cv)\n",
    "thr_otu_scores_lna, r2_otu_scores_lna = get_r2_scores(data_stand.loc[:,otus], lna, otus, otu_scores, cv)"
   ]
  },
  {
   "cell_type": "code",
   "execution_count": 14,
   "metadata": {
    "collapsed": false
   },
   "outputs": [
    {
     "data": {
      "image/png": "[encoded data removed]",
      "text/plain": [
       "<matplotlib.figure.Figure at 0x7fa7faa485f8>"
      ]
     },
     "metadata": {},
     "output_type": "display_data"
    }
   ],
   "source": [
    "plt.figure()\n",
    "sns.regplot(x=thr_otu_scores_hna,y=r2_otu_scores_hna, fit_reg=False, label='HNA')\n",
    "sns.regplot(x=thr_otu_scores_lna,y=r2_otu_scores_lna, fit_reg=False, label='LNA')\n",
    "plt.axis([-0.005,1.005,0,1])\n",
    "plt.xlabel('Score', size=22)\n",
    "plt.xticks(size=10)\n",
    "plt.ylabel(r'$R^2$', size=22)\n",
    "plt.yticks(size=10)\n",
    "plt.legend()\n",
    "plt.title('Stability Selection HNA', size=24)\n",
    "plt.show()"
   ]
  },
  {
   "cell_type": "code",
   "execution_count": 15,
   "metadata": {
    "collapsed": false
   },
   "outputs": [
    {
     "name": "stdout",
     "output_type": "stream",
     "text": [
      "R²_cv(hna): 0.888922996542\n",
      "Threshold score: 0.15\n"
     ]
    }
   ],
   "source": [
    "r2_final = r2_otu_scores_hna.max()\n",
    "thr = thr_otu_scores_hna[r2_otu_scores_hna.argmax()]\n",
    "print('R²_cv(hna): ' + str(r2_final) )\n",
    "print('Threshold score: ' + str(thr))"
   ]
  },
  {
   "cell_type": "code",
   "execution_count": 16,
   "metadata": {
    "collapsed": false
   },
   "outputs": [],
   "source": [
    "otu_scores = otu_scores.assign(abun_abs_mean = data_abs.loc[:,otus].mean())\n",
    "otu_scores = otu_scores.assign(abun_abs_CV = data_abs.loc[:,otus].std()/data_abs.loc[:,otus].mean())\n",
    "otu_scores =  otu_scores.assign(abun_rel_mean = data_rel.loc[:,otus].mean())\n",
    "otu_scores = otu_scores.assign(abun_rel_CV = data_rel.loc[:,otus].std()/data_rel.loc[:,otus].mean())\n",
    "otu_scores.to_csv('Final/hnascores_otus_1seq3_rel.csv')"
   ]
  },
  {
   "cell_type": "code",
   "execution_count": 18,
   "metadata": {
    "collapsed": false
   },
   "outputs": [
    {
     "data": {
      "text/html": [
       "<div>\n",
       "<table border=\"1\" class=\"dataframe\">\n",
       "  <thead>\n",
       "    <tr style=\"text-align: right;\">\n",
       "      <th></th>\n",
       "      <th>score</th>\n",
       "      <th>abun_abs_mean</th>\n",
       "      <th>abun_abs_CV</th>\n",
       "      <th>abun_rel_mean</th>\n",
       "      <th>abun_rel_CV</th>\n",
       "    </tr>\n",
       "  </thead>\n",
       "  <tbody>\n",
       "    <tr>\n",
       "      <th>Otu000001</th>\n",
       "      <td>0.720000</td>\n",
       "      <td>371601.089939</td>\n",
       "      <td>0.720490</td>\n",
       "      <td>0.095239</td>\n",
       "      <td>0.631085</td>\n",
       "    </tr>\n",
       "    <tr>\n",
       "      <th>Otu000173</th>\n",
       "      <td>0.653333</td>\n",
       "      <td>8892.157986</td>\n",
       "      <td>1.953307</td>\n",
       "      <td>0.001270</td>\n",
       "      <td>1.729254</td>\n",
       "    </tr>\n",
       "    <tr>\n",
       "      <th>Otu000060</th>\n",
       "      <td>0.653333</td>\n",
       "      <td>26355.897534</td>\n",
       "      <td>1.500728</td>\n",
       "      <td>0.003828</td>\n",
       "      <td>1.085250</td>\n",
       "    </tr>\n",
       "    <tr>\n",
       "      <th>Otu000335</th>\n",
       "      <td>0.500000</td>\n",
       "      <td>6250.999417</td>\n",
       "      <td>2.165661</td>\n",
       "      <td>0.000927</td>\n",
       "      <td>1.748611</td>\n",
       "    </tr>\n",
       "    <tr>\n",
       "      <th>Otu000074</th>\n",
       "      <td>0.483333</td>\n",
       "      <td>12612.177451</td>\n",
       "      <td>0.802366</td>\n",
       "      <td>0.003443</td>\n",
       "      <td>0.878576</td>\n",
       "    </tr>\n",
       "    <tr>\n",
       "      <th>Otu000025</th>\n",
       "      <td>0.476667</td>\n",
       "      <td>78679.771581</td>\n",
       "      <td>1.040659</td>\n",
       "      <td>0.015052</td>\n",
       "      <td>0.771797</td>\n",
       "    </tr>\n",
       "    <tr>\n",
       "      <th>Otu000160</th>\n",
       "      <td>0.463333</td>\n",
       "      <td>18969.044325</td>\n",
       "      <td>3.110295</td>\n",
       "      <td>0.002236</td>\n",
       "      <td>2.822739</td>\n",
       "    </tr>\n",
       "    <tr>\n",
       "      <th>Otu000088</th>\n",
       "      <td>0.460000</td>\n",
       "      <td>5087.595794</td>\n",
       "      <td>1.342708</td>\n",
       "      <td>0.001828</td>\n",
       "      <td>1.561502</td>\n",
       "    </tr>\n",
       "    <tr>\n",
       "      <th>Otu000075</th>\n",
       "      <td>0.460000</td>\n",
       "      <td>18236.076497</td>\n",
       "      <td>1.294892</td>\n",
       "      <td>0.006315</td>\n",
       "      <td>1.554322</td>\n",
       "    </tr>\n",
       "    <tr>\n",
       "      <th>Otu000981</th>\n",
       "      <td>0.453333</td>\n",
       "      <td>631.164361</td>\n",
       "      <td>4.614274</td>\n",
       "      <td>0.000101</td>\n",
       "      <td>4.698286</td>\n",
       "    </tr>\n",
       "  </tbody>\n",
       "</table>\n",
       "</div>"
      ],
      "text/plain": [
       "              score  abun_abs_mean  abun_abs_CV  abun_rel_mean  abun_rel_CV\n",
       "Otu000001  0.720000  371601.089939     0.720490       0.095239     0.631085\n",
       "Otu000173  0.653333    8892.157986     1.953307       0.001270     1.729254\n",
       "Otu000060  0.653333   26355.897534     1.500728       0.003828     1.085250\n",
       "Otu000335  0.500000    6250.999417     2.165661       0.000927     1.748611\n",
       "Otu000074  0.483333   12612.177451     0.802366       0.003443     0.878576\n",
       "Otu000025  0.476667   78679.771581     1.040659       0.015052     0.771797\n",
       "Otu000160  0.463333   18969.044325     3.110295       0.002236     2.822739\n",
       "Otu000088  0.460000    5087.595794     1.342708       0.001828     1.561502\n",
       "Otu000075  0.460000   18236.076497     1.294892       0.006315     1.554322\n",
       "Otu000981  0.453333     631.164361     4.614274       0.000101     4.698286"
      ]
     },
     "metadata": {},
     "output_type": "display_data"
    },
    {
     "name": "stdout",
     "output_type": "stream",
     "text": [
      "Size list selected OTUs: 187\n"
     ]
    }
   ],
   "source": [
    "otu_scores_selected = otu_scores[otu_scores.score.values>thr]\n",
    "selected_otus = otu_scores_selected.index\n",
    "otu_scores_selected.to_csv('Final/hnascores_otus_tuned_thr_'+str(thr)+'_1seq3_rel.csv')\n",
    "display(otu_scores_selected.head(10))\n",
    "print('Size list selected OTUs: ' + str(len(selected_otus)))"
   ]
  },
  {
   "cell_type": "code",
   "execution_count": 19,
   "metadata": {
    "collapsed": false
   },
   "outputs": [
    {
     "name": "stdout",
     "output_type": "stream",
     "text": [
      "R²_cv of HNA-selected OTUs in function of LNA: 0.773445754928\n"
     ]
    }
   ],
   "source": [
    "print('R²_cv of HNA-selected OTUs in function of LNA: ' + str(r2_otu_scores_lna[r2_otu_scores_hna.argmax()]) )"
   ]
  },
  {
   "cell_type": "code",
   "execution_count": 20,
   "metadata": {
    "collapsed": false
   },
   "outputs": [
    {
     "data": {
      "image/png": "[encoded data removed]",
      "text/plain": [
       "<matplotlib.figure.Figure at 0x7fa7fab62c50>"
      ]
     },
     "metadata": {},
     "output_type": "display_data"
    }
   ],
   "source": [
    "plt.figure()\n",
    "sns.regplot(x='abun_rel_mean',y='abun_rel_CV', data=otu_scores_selected)\n",
    "plt.axis([-0.005,0.1,-5,5])\n",
    "plt.xlabel('Avg. Relative Abundance', size=22)\n",
    "plt.xticks(size=10)\n",
    "plt.ylabel('CV(abs)', size=22)\n",
    "plt.yticks(size=10)\n",
    "plt.title('Selected OTUs', size=24)\n",
    "plt.show()"
   ]
  },
  {
   "cell_type": "code",
   "execution_count": null,
   "metadata": {
    "collapsed": true
   },
   "outputs": [],
   "source": [
    "#optimal_scores.to_csv('HNA_selectedOTUs_stand_abun_remov' + str(abun)+'_R2'+str(r2_final)+'.csv')"
   ]
  },
  {
   "cell_type": "markdown",
   "metadata": {},
   "source": [
    "**Second goal**: Can we use the same pipeline to predict the _LNA_-counts? "
   ]
  },
  {
   "cell_type": "code",
   "execution_count": 21,
   "metadata": {
    "collapsed": false
   },
   "outputs": [
    {
     "data": {
      "text/html": [
       "<div>\n",
       "<table border=\"1\" class=\"dataframe\">\n",
       "  <thead>\n",
       "    <tr style=\"text-align: right;\">\n",
       "      <th></th>\n",
       "      <th>f_regr</th>\n",
       "      <th>p-value</th>\n",
       "      <th>mi</th>\n",
       "    </tr>\n",
       "  </thead>\n",
       "  <tbody>\n",
       "    <tr>\n",
       "      <th>Otu000060</th>\n",
       "      <td>125.918078</td>\n",
       "      <td>4.195494e-22</td>\n",
       "      <td>0.419967</td>\n",
       "    </tr>\n",
       "    <tr>\n",
       "      <th>Otu000027</th>\n",
       "      <td>114.672122</td>\n",
       "      <td>1.122970e-20</td>\n",
       "      <td>0.586643</td>\n",
       "    </tr>\n",
       "    <tr>\n",
       "      <th>Otu000043</th>\n",
       "      <td>69.272216</td>\n",
       "      <td>3.015470e-14</td>\n",
       "      <td>0.438985</td>\n",
       "    </tr>\n",
       "    <tr>\n",
       "      <th>Otu000108</th>\n",
       "      <td>66.336430</td>\n",
       "      <td>8.677649e-14</td>\n",
       "      <td>0.359080</td>\n",
       "    </tr>\n",
       "    <tr>\n",
       "      <th>Otu000017</th>\n",
       "      <td>62.500856</td>\n",
       "      <td>3.526935e-13</td>\n",
       "      <td>0.278839</td>\n",
       "    </tr>\n",
       "    <tr>\n",
       "      <th>Otu000187</th>\n",
       "      <td>61.625072</td>\n",
       "      <td>4.874827e-13</td>\n",
       "      <td>0.192222</td>\n",
       "    </tr>\n",
       "    <tr>\n",
       "      <th>Otu000271</th>\n",
       "      <td>61.193653</td>\n",
       "      <td>5.720198e-13</td>\n",
       "      <td>0.277001</td>\n",
       "    </tr>\n",
       "    <tr>\n",
       "      <th>Otu000317</th>\n",
       "      <td>57.045340</td>\n",
       "      <td>2.706653e-12</td>\n",
       "      <td>0.191489</td>\n",
       "    </tr>\n",
       "    <tr>\n",
       "      <th>Otu000078</th>\n",
       "      <td>56.572494</td>\n",
       "      <td>3.237570e-12</td>\n",
       "      <td>0.368802</td>\n",
       "    </tr>\n",
       "    <tr>\n",
       "      <th>Otu000313</th>\n",
       "      <td>54.600811</td>\n",
       "      <td>6.862489e-12</td>\n",
       "      <td>0.163488</td>\n",
       "    </tr>\n",
       "  </tbody>\n",
       "</table>\n",
       "</div>"
      ],
      "text/plain": [
       "               f_regr       p-value        mi\n",
       "Otu000060  125.918078  4.195494e-22  0.419967\n",
       "Otu000027  114.672122  1.122970e-20  0.586643\n",
       "Otu000043   69.272216  3.015470e-14  0.438985\n",
       "Otu000108   66.336430  8.677649e-14  0.359080\n",
       "Otu000017   62.500856  3.526935e-13  0.278839\n",
       "Otu000187   61.625072  4.874827e-13  0.192222\n",
       "Otu000271   61.193653  5.720198e-13  0.277001\n",
       "Otu000317   57.045340  2.706653e-12  0.191489\n",
       "Otu000078   56.572494  3.237570e-12  0.368802\n",
       "Otu000313   54.600811  6.862489e-12  0.163488"
      ]
     },
     "metadata": {},
     "output_type": "display_data"
    }
   ],
   "source": [
    "f_regr_lna, f_regr_p_lna = f_regression(data_stand.loc[:,otus],lna)\n",
    "uni_fs_lna = pd.DataFrame(f_regr_lna, index=otus, columns = ['f_regr'])\n",
    "uni_fs_lna['p-value'] = f_regr_p_lna\n",
    "uni_fs_lna['mi'] = mutual_info_regression(data_stand.loc[:,otus],lna)\n",
    "uni_fs_lna.sort_values(ascending=False,inplace=True, by='f_regr')\n",
    "display(uni_fs_lna.head(10))"
   ]
  },
  {
   "cell_type": "code",
   "execution_count": 22,
   "metadata": {
    "collapsed": false
   },
   "outputs": [
    {
     "name": "stdout",
     "output_type": "stream",
     "text": [
      "Number of selected OTUs with p < 0.05: 684\n",
      "Number of selected OTUs with p < 0.01: 413\n"
     ]
    }
   ],
   "source": [
    "uni_fs_selected_f_lna = uni_fs_lna[uni_fs_lna.loc[:,'p-value'].values < 0.05]\n",
    "print('Number of selected OTUs with p < 0.05: ' + str(len(uni_fs_selected_f_lna)))\n",
    "uni_fs_selected_f_lna = uni_fs_lna[uni_fs_lna.loc[:,'p-value'].values < 0.01]\n",
    "print('Number of selected OTUs with p < 0.01: ' + str(len(uni_fs_selected_f_lna)))"
   ]
  },
  {
   "cell_type": "code",
   "execution_count": 23,
   "metadata": {
    "collapsed": false
   },
   "outputs": [],
   "source": [
    "thr_otu_f_regr_lna, r2_otu_f_regr_lna = get_r2_scores(data_stand.loc[:,otus], lna, otus, uni_fs_lna['f_regr'], cv)\n",
    "thr_otu_f_regr_hna, r2_otu_f_regr_hna = get_r2_scores(data_stand.loc[:,otus], hna, otus, uni_fs_lna['f_regr'], cv)"
   ]
  },
  {
   "cell_type": "code",
   "execution_count": 24,
   "metadata": {
    "collapsed": false
   },
   "outputs": [
    {
     "data": {
      "image/png": "[encoded data removed]",
      "text/plain": [
       "<matplotlib.figure.Figure at 0x7fa7faa40668>"
      ]
     },
     "metadata": {},
     "output_type": "display_data"
    }
   ],
   "source": [
    "plt.figure()\n",
    "sns.regplot(x=thr_otu_f_regr_hna,y=r2_otu_f_regr_hna, fit_reg=False, label='HNA')\n",
    "sns.regplot(x=thr_otu_f_regr_lna,y=r2_otu_f_regr_lna, fit_reg=False, label='LNA')\n",
    "plt.axis([-0.5,140,0,1])\n",
    "plt.xlabel('F-score', size=22)\n",
    "plt.xticks(size=10)\n",
    "plt.ylabel(r'$R^2$', size=22)\n",
    "plt.yticks(size=10)\n",
    "plt.title('F-test', size=24)\n",
    "plt.legend()\n",
    "plt.show()"
   ]
  },
  {
   "cell_type": "code",
   "execution_count": 25,
   "metadata": {
    "collapsed": false
   },
   "outputs": [
    {
     "name": "stderr",
     "output_type": "stream",
     "text": [
      "/home/prubbens/.local/lib/python3.4/site-packages/sklearn/linear_model/least_angle.py:377: RuntimeWarning: overflow encountered in true_divide\n",
      "  g1 = arrayfuncs.min_pos((C - Cov) / (AA - corr_eq_dir + tiny))\n",
      "/home/prubbens/.local/lib/python3.4/site-packages/sklearn/linear_model/least_angle.py:377: RuntimeWarning: overflow encountered in true_divide\n",
      "  g1 = arrayfuncs.min_pos((C - Cov) / (AA - corr_eq_dir + tiny))\n",
      "/home/prubbens/.local/lib/python3.4/site-packages/sklearn/linear_model/least_angle.py:377: RuntimeWarning: overflow encountered in true_divide\n",
      "  g1 = arrayfuncs.min_pos((C - Cov) / (AA - corr_eq_dir + tiny))\n",
      "/home/prubbens/.local/lib/python3.4/site-packages/sklearn/linear_model/least_angle.py:381: RuntimeWarning: overflow encountered in true_divide\n",
      "  g2 = arrayfuncs.min_pos((C + Cov) / (AA + corr_eq_dir + tiny))\n",
      "/home/prubbens/.local/lib/python3.4/site-packages/sklearn/linear_model/least_angle.py:377: RuntimeWarning: overflow encountered in true_divide\n",
      "  g1 = arrayfuncs.min_pos((C - Cov) / (AA - corr_eq_dir + tiny))\n",
      "/home/prubbens/.local/lib/python3.4/site-packages/sklearn/linear_model/least_angle.py:377: RuntimeWarning: overflow encountered in true_divide\n",
      "  g1 = arrayfuncs.min_pos((C - Cov) / (AA - corr_eq_dir + tiny))\n",
      "/home/prubbens/.local/lib/python3.4/site-packages/sklearn/linear_model/least_angle.py:377: RuntimeWarning: overflow encountered in true_divide\n",
      "  g1 = arrayfuncs.min_pos((C - Cov) / (AA - corr_eq_dir + tiny))\n",
      "/home/prubbens/.local/lib/python3.4/site-packages/sklearn/linear_model/least_angle.py:381: RuntimeWarning: overflow encountered in true_divide\n",
      "  g2 = arrayfuncs.min_pos((C + Cov) / (AA + corr_eq_dir + tiny))\n",
      "/home/prubbens/.local/lib/python3.4/site-packages/sklearn/linear_model/least_angle.py:381: RuntimeWarning: overflow encountered in true_divide\n",
      "  g2 = arrayfuncs.min_pos((C + Cov) / (AA + corr_eq_dir + tiny))\n",
      "/home/prubbens/.local/lib/python3.4/site-packages/sklearn/linear_model/least_angle.py:377: RuntimeWarning: overflow encountered in true_divide\n",
      "  g1 = arrayfuncs.min_pos((C - Cov) / (AA - corr_eq_dir + tiny))\n",
      "/home/prubbens/.local/lib/python3.4/site-packages/sklearn/linear_model/least_angle.py:377: RuntimeWarning: overflow encountered in true_divide\n",
      "  g1 = arrayfuncs.min_pos((C - Cov) / (AA - corr_eq_dir + tiny))\n",
      "/home/prubbens/.local/lib/python3.4/site-packages/sklearn/linear_model/least_angle.py:381: RuntimeWarning: overflow encountered in true_divide\n",
      "  g2 = arrayfuncs.min_pos((C + Cov) / (AA + corr_eq_dir + tiny))\n",
      "/home/prubbens/.local/lib/python3.4/site-packages/sklearn/linear_model/least_angle.py:377: RuntimeWarning: overflow encountered in true_divide\n",
      "  g1 = arrayfuncs.min_pos((C - Cov) / (AA - corr_eq_dir + tiny))\n",
      "/home/prubbens/.local/lib/python3.4/site-packages/sklearn/linear_model/least_angle.py:377: RuntimeWarning: overflow encountered in true_divide\n",
      "  g1 = arrayfuncs.min_pos((C - Cov) / (AA - corr_eq_dir + tiny))\n",
      "/home/prubbens/.local/lib/python3.4/site-packages/sklearn/linear_model/least_angle.py:377: RuntimeWarning: overflow encountered in true_divide\n",
      "  g1 = arrayfuncs.min_pos((C - Cov) / (AA - corr_eq_dir + tiny))\n",
      "/home/prubbens/.local/lib/python3.4/site-packages/sklearn/linear_model/least_angle.py:381: RuntimeWarning: overflow encountered in true_divide\n",
      "  g2 = arrayfuncs.min_pos((C + Cov) / (AA + corr_eq_dir + tiny))\n",
      "/home/prubbens/.local/lib/python3.4/site-packages/sklearn/linear_model/least_angle.py:377: RuntimeWarning: overflow encountered in true_divide\n",
      "  g1 = arrayfuncs.min_pos((C - Cov) / (AA - corr_eq_dir + tiny))\n",
      "/home/prubbens/.local/lib/python3.4/site-packages/sklearn/linear_model/least_angle.py:377: RuntimeWarning: overflow encountered in true_divide\n",
      "  g1 = arrayfuncs.min_pos((C - Cov) / (AA - corr_eq_dir + tiny))\n",
      "/home/prubbens/.local/lib/python3.4/site-packages/sklearn/linear_model/least_angle.py:377: RuntimeWarning: overflow encountered in true_divide\n",
      "  g1 = arrayfuncs.min_pos((C - Cov) / (AA - corr_eq_dir + tiny))\n",
      "/home/prubbens/.local/lib/python3.4/site-packages/sklearn/linear_model/least_angle.py:381: RuntimeWarning: overflow encountered in true_divide\n",
      "  g2 = arrayfuncs.min_pos((C + Cov) / (AA + corr_eq_dir + tiny))\n",
      "/home/prubbens/.local/lib/python3.4/site-packages/sklearn/linear_model/least_angle.py:381: RuntimeWarning: overflow encountered in true_divide\n",
      "  g2 = arrayfuncs.min_pos((C + Cov) / (AA + corr_eq_dir + tiny))\n",
      "/home/prubbens/.local/lib/python3.4/site-packages/sklearn/linear_model/least_angle.py:377: RuntimeWarning: overflow encountered in true_divide\n",
      "  g1 = arrayfuncs.min_pos((C - Cov) / (AA - corr_eq_dir + tiny))\n",
      "/home/prubbens/.local/lib/python3.4/site-packages/sklearn/linear_model/least_angle.py:381: RuntimeWarning: overflow encountered in true_divide\n",
      "  g2 = arrayfuncs.min_pos((C + Cov) / (AA + corr_eq_dir + tiny))\n",
      "/home/prubbens/.local/lib/python3.4/site-packages/sklearn/linear_model/least_angle.py:377: RuntimeWarning: overflow encountered in true_divide\n",
      "  g1 = arrayfuncs.min_pos((C - Cov) / (AA - corr_eq_dir + tiny))\n",
      "/home/prubbens/.local/lib/python3.4/site-packages/sklearn/linear_model/least_angle.py:381: RuntimeWarning: overflow encountered in true_divide\n",
      "  g2 = arrayfuncs.min_pos((C + Cov) / (AA + corr_eq_dir + tiny))\n",
      "/home/prubbens/.local/lib/python3.4/site-packages/sklearn/linear_model/least_angle.py:381: RuntimeWarning: overflow encountered in true_divide\n",
      "  g2 = arrayfuncs.min_pos((C + Cov) / (AA + corr_eq_dir + tiny))\n",
      "/home/prubbens/.local/lib/python3.4/site-packages/sklearn/linear_model/least_angle.py:377: RuntimeWarning: overflow encountered in true_divide\n",
      "  g1 = arrayfuncs.min_pos((C - Cov) / (AA - corr_eq_dir + tiny))\n",
      "/home/prubbens/.local/lib/python3.4/site-packages/sklearn/linear_model/least_angle.py:381: RuntimeWarning: overflow encountered in true_divide\n",
      "  g2 = arrayfuncs.min_pos((C + Cov) / (AA + corr_eq_dir + tiny))\n",
      "/home/prubbens/.local/lib/python3.4/site-packages/sklearn/linear_model/least_angle.py:377: RuntimeWarning: overflow encountered in true_divide\n",
      "  g1 = arrayfuncs.min_pos((C - Cov) / (AA - corr_eq_dir + tiny))\n",
      "/home/prubbens/.local/lib/python3.4/site-packages/sklearn/linear_model/least_angle.py:377: RuntimeWarning: overflow encountered in true_divide\n",
      "  g1 = arrayfuncs.min_pos((C - Cov) / (AA - corr_eq_dir + tiny))\n",
      "/home/prubbens/.local/lib/python3.4/site-packages/sklearn/linear_model/least_angle.py:377: RuntimeWarning: overflow encountered in true_divide\n",
      "  g1 = arrayfuncs.min_pos((C - Cov) / (AA - corr_eq_dir + tiny))\n",
      "/home/prubbens/.local/lib/python3.4/site-packages/sklearn/linear_model/least_angle.py:377: RuntimeWarning: overflow encountered in true_divide\n",
      "  g1 = arrayfuncs.min_pos((C - Cov) / (AA - corr_eq_dir + tiny))\n",
      "/home/prubbens/.local/lib/python3.4/site-packages/sklearn/linear_model/least_angle.py:381: RuntimeWarning: overflow encountered in true_divide\n",
      "  g2 = arrayfuncs.min_pos((C + Cov) / (AA + corr_eq_dir + tiny))\n",
      "/home/prubbens/.local/lib/python3.4/site-packages/sklearn/linear_model/least_angle.py:377: RuntimeWarning: overflow encountered in true_divide\n",
      "  g1 = arrayfuncs.min_pos((C - Cov) / (AA - corr_eq_dir + tiny))\n",
      "/home/prubbens/.local/lib/python3.4/site-packages/sklearn/linear_model/least_angle.py:377: RuntimeWarning: overflow encountered in true_divide\n",
      "  g1 = arrayfuncs.min_pos((C - Cov) / (AA - corr_eq_dir + tiny))\n",
      "/home/prubbens/.local/lib/python3.4/site-packages/sklearn/linear_model/least_angle.py:377: RuntimeWarning: overflow encountered in true_divide\n",
      "  g1 = arrayfuncs.min_pos((C - Cov) / (AA - corr_eq_dir + tiny))\n",
      "/home/prubbens/.local/lib/python3.4/site-packages/sklearn/linear_model/least_angle.py:377: RuntimeWarning: overflow encountered in true_divide\n",
      "  g1 = arrayfuncs.min_pos((C - Cov) / (AA - corr_eq_dir + tiny))\n",
      "/home/prubbens/.local/lib/python3.4/site-packages/sklearn/linear_model/least_angle.py:377: RuntimeWarning: overflow encountered in true_divide\n",
      "  g1 = arrayfuncs.min_pos((C - Cov) / (AA - corr_eq_dir + tiny))\n",
      "/home/prubbens/.local/lib/python3.4/site-packages/sklearn/linear_model/least_angle.py:377: RuntimeWarning: overflow encountered in true_divide\n",
      "  g1 = arrayfuncs.min_pos((C - Cov) / (AA - corr_eq_dir + tiny))\n",
      "/home/prubbens/.local/lib/python3.4/site-packages/sklearn/linear_model/least_angle.py:377: RuntimeWarning: overflow encountered in true_divide\n",
      "  g1 = arrayfuncs.min_pos((C - Cov) / (AA - corr_eq_dir + tiny))\n",
      "/home/prubbens/.local/lib/python3.4/site-packages/sklearn/linear_model/least_angle.py:377: RuntimeWarning: overflow encountered in true_divide\n",
      "  g1 = arrayfuncs.min_pos((C - Cov) / (AA - corr_eq_dir + tiny))\n",
      "/home/prubbens/.local/lib/python3.4/site-packages/sklearn/linear_model/least_angle.py:377: RuntimeWarning: overflow encountered in true_divide\n",
      "  g1 = arrayfuncs.min_pos((C - Cov) / (AA - corr_eq_dir + tiny))\n",
      "/home/prubbens/.local/lib/python3.4/site-packages/sklearn/linear_model/least_angle.py:377: RuntimeWarning: overflow encountered in true_divide\n",
      "  g1 = arrayfuncs.min_pos((C - Cov) / (AA - corr_eq_dir + tiny))\n",
      "/home/prubbens/.local/lib/python3.4/site-packages/sklearn/linear_model/least_angle.py:377: RuntimeWarning: overflow encountered in true_divide\n",
      "  g1 = arrayfuncs.min_pos((C - Cov) / (AA - corr_eq_dir + tiny))\n",
      "/home/prubbens/.local/lib/python3.4/site-packages/sklearn/linear_model/least_angle.py:377: RuntimeWarning: overflow encountered in true_divide\n",
      "  g1 = arrayfuncs.min_pos((C - Cov) / (AA - corr_eq_dir + tiny))\n",
      "/home/prubbens/.local/lib/python3.4/site-packages/sklearn/linear_model/least_angle.py:381: RuntimeWarning: overflow encountered in true_divide\n",
      "  g2 = arrayfuncs.min_pos((C + Cov) / (AA + corr_eq_dir + tiny))\n",
      "/home/prubbens/.local/lib/python3.4/site-packages/sklearn/linear_model/least_angle.py:381: RuntimeWarning: overflow encountered in true_divide\n",
      "  g2 = arrayfuncs.min_pos((C + Cov) / (AA + corr_eq_dir + tiny))\n",
      "/home/prubbens/.local/lib/python3.4/site-packages/sklearn/linear_model/least_angle.py:377: RuntimeWarning: overflow encountered in true_divide\n",
      "  g1 = arrayfuncs.min_pos((C - Cov) / (AA - corr_eq_dir + tiny))\n",
      "/home/prubbens/.local/lib/python3.4/site-packages/sklearn/linear_model/least_angle.py:377: RuntimeWarning: overflow encountered in true_divide\n",
      "  g1 = arrayfuncs.min_pos((C - Cov) / (AA - corr_eq_dir + tiny))\n",
      "/home/prubbens/.local/lib/python3.4/site-packages/sklearn/linear_model/least_angle.py:377: RuntimeWarning: overflow encountered in true_divide\n",
      "  g1 = arrayfuncs.min_pos((C - Cov) / (AA - corr_eq_dir + tiny))\n",
      "/home/prubbens/.local/lib/python3.4/site-packages/sklearn/linear_model/least_angle.py:377: RuntimeWarning: overflow encountered in true_divide\n",
      "  g1 = arrayfuncs.min_pos((C - Cov) / (AA - corr_eq_dir + tiny))\n",
      "/home/prubbens/.local/lib/python3.4/site-packages/sklearn/linear_model/least_angle.py:381: RuntimeWarning: overflow encountered in true_divide\n",
      "  g2 = arrayfuncs.min_pos((C + Cov) / (AA + corr_eq_dir + tiny))\n",
      "/home/prubbens/.local/lib/python3.4/site-packages/sklearn/linear_model/least_angle.py:377: RuntimeWarning: overflow encountered in true_divide\n",
      "  g1 = arrayfuncs.min_pos((C - Cov) / (AA - corr_eq_dir + tiny))\n",
      "/home/prubbens/.local/lib/python3.4/site-packages/sklearn/linear_model/least_angle.py:377: RuntimeWarning: overflow encountered in true_divide\n",
      "  g1 = arrayfuncs.min_pos((C - Cov) / (AA - corr_eq_dir + tiny))\n",
      "/home/prubbens/.local/lib/python3.4/site-packages/sklearn/linear_model/least_angle.py:377: RuntimeWarning: overflow encountered in true_divide\n",
      "  g1 = arrayfuncs.min_pos((C - Cov) / (AA - corr_eq_dir + tiny))\n",
      "/home/prubbens/.local/lib/python3.4/site-packages/sklearn/linear_model/least_angle.py:381: RuntimeWarning: overflow encountered in true_divide\n",
      "  g2 = arrayfuncs.min_pos((C + Cov) / (AA + corr_eq_dir + tiny))\n",
      "/home/prubbens/.local/lib/python3.4/site-packages/sklearn/linear_model/least_angle.py:377: RuntimeWarning: overflow encountered in true_divide\n",
      "  g1 = arrayfuncs.min_pos((C - Cov) / (AA - corr_eq_dir + tiny))\n",
      "/home/prubbens/.local/lib/python3.4/site-packages/sklearn/linear_model/least_angle.py:377: RuntimeWarning: overflow encountered in true_divide\n",
      "  g1 = arrayfuncs.min_pos((C - Cov) / (AA - corr_eq_dir + tiny))\n"
     ]
    }
   ],
   "source": [
    "alpha = get_lassoCV_alpha(data_stand.loc[:,otus],lna,otus,cv)\n",
    "otu_scores_lna = pd.DataFrame(perform_randomizedLasso(data_stand.loc[:,otus], lna, alpha), index=otus, columns=['score'])\n",
    "otu_scores_lna.sort_values(ascending=False, inplace=True, by='score')\n",
    "\n",
    "thr_otu_scores_lna, r2_otu_scores_lna = get_r2_scores(data_stand.loc[:,otus], lna, otus, otu_scores_lna, cv)\n",
    "thr_otu_scores_hna, r2_otu_scores_hna = get_r2_scores(data_stand.loc[:,otus], hna, otus, otu_scores_lna, cv)"
   ]
  },
  {
   "cell_type": "code",
   "execution_count": 26,
   "metadata": {
    "collapsed": false
   },
   "outputs": [
    {
     "data": {
      "image/png": "[encoded data removed]",
      "text/plain": [
       "<matplotlib.figure.Figure at 0x7fa7fa214668>"
      ]
     },
     "metadata": {},
     "output_type": "display_data"
    }
   ],
   "source": [
    "plt.figure()\n",
    "sns.regplot(x=thr_otu_scores_hna,y=r2_otu_scores_hna, fit_reg=False, label='HNA')\n",
    "sns.regplot(x=thr_otu_scores_lna,y=r2_otu_scores_lna, fit_reg=False, label='LNA')\n",
    "plt.axis([-0.005,1.005,0,1])\n",
    "plt.xlabel('Score', size=22)\n",
    "plt.xticks(size=10)\n",
    "plt.ylabel(r'$R^2$', size=22)\n",
    "plt.yticks(size=10)\n",
    "plt.legend()\n",
    "plt.title('Stability Selection LNA', size=24)\n",
    "plt.show()"
   ]
  },
  {
   "cell_type": "code",
   "execution_count": 27,
   "metadata": {
    "collapsed": false
   },
   "outputs": [
    {
     "name": "stdout",
     "output_type": "stream",
     "text": [
      "R²_cv(lna): 0.934639051702\n",
      "Threshold score: 0.18\n"
     ]
    }
   ],
   "source": [
    "r2_final = r2_otu_scores_lna.max()\n",
    "thr_lna = thr_otu_scores_lna[r2_otu_scores_lna.argmax()]\n",
    "print('R²_cv(lna): ' + str(r2_final) )\n",
    "print('Threshold score: ' + str(thr_lna))"
   ]
  },
  {
   "cell_type": "code",
   "execution_count": 28,
   "metadata": {
    "collapsed": true
   },
   "outputs": [],
   "source": [
    "otu_scores_lna = otu_scores_lna.assign(abun_abs_mean = data_abs.loc[:,otus].mean())\n",
    "otu_scores_lna = otu_scores_lna.assign(abun_abs_CV = data_abs.loc[:,otus].std()/data_abs.loc[:,otus].mean())\n",
    "otu_scores_lna =  otu_scores_lna.assign(abun_rel_mean = data_rel.loc[:,otus].mean())\n",
    "otu_scores_lna = otu_scores_lna.assign(abun_rel_CV = data_rel.loc[:,otus].std()/data_rel.loc[:,otus].mean())\n",
    "otu_scores_lna.to_csv('Final/lnascores_otus_abun_1seq3_rel.csv')\n"
   ]
  },
  {
   "cell_type": "code",
   "execution_count": 29,
   "metadata": {
    "collapsed": false
   },
   "outputs": [
    {
     "name": "stdout",
     "output_type": "stream",
     "text": [
      "Size list selected OTUs: 153\n"
     ]
    },
    {
     "data": {
      "text/html": [
       "<div>\n",
       "<table border=\"1\" class=\"dataframe\">\n",
       "  <thead>\n",
       "    <tr style=\"text-align: right;\">\n",
       "      <th></th>\n",
       "      <th>score</th>\n",
       "      <th>abun_abs_mean</th>\n",
       "      <th>abun_abs_CV</th>\n",
       "      <th>abun_rel_mean</th>\n",
       "      <th>abun_rel_CV</th>\n",
       "    </tr>\n",
       "  </thead>\n",
       "  <tbody>\n",
       "    <tr>\n",
       "      <th>Otu000060</th>\n",
       "      <td>0.650000</td>\n",
       "      <td>26355.897534</td>\n",
       "      <td>1.500728</td>\n",
       "      <td>0.003828</td>\n",
       "      <td>1.085250</td>\n",
       "    </tr>\n",
       "    <tr>\n",
       "      <th>Otu000075</th>\n",
       "      <td>0.510000</td>\n",
       "      <td>18236.076497</td>\n",
       "      <td>1.294892</td>\n",
       "      <td>0.006315</td>\n",
       "      <td>1.554322</td>\n",
       "    </tr>\n",
       "    <tr>\n",
       "      <th>Otu000053</th>\n",
       "      <td>0.473333</td>\n",
       "      <td>27862.529944</td>\n",
       "      <td>1.460392</td>\n",
       "      <td>0.004684</td>\n",
       "      <td>0.981394</td>\n",
       "    </tr>\n",
       "    <tr>\n",
       "      <th>Otu000017</th>\n",
       "      <td>0.460000</td>\n",
       "      <td>46181.687512</td>\n",
       "      <td>1.174592</td>\n",
       "      <td>0.015009</td>\n",
       "      <td>1.172510</td>\n",
       "    </tr>\n",
       "    <tr>\n",
       "      <th>Otu001152</th>\n",
       "      <td>0.440000</td>\n",
       "      <td>107.638432</td>\n",
       "      <td>3.828249</td>\n",
       "      <td>0.000057</td>\n",
       "      <td>3.755027</td>\n",
       "    </tr>\n",
       "    <tr>\n",
       "      <th>Otu000108</th>\n",
       "      <td>0.436667</td>\n",
       "      <td>16074.992429</td>\n",
       "      <td>2.334943</td>\n",
       "      <td>0.002090</td>\n",
       "      <td>2.019788</td>\n",
       "    </tr>\n",
       "    <tr>\n",
       "      <th>Otu000113</th>\n",
       "      <td>0.436667</td>\n",
       "      <td>5888.695140</td>\n",
       "      <td>2.532970</td>\n",
       "      <td>0.000743</td>\n",
       "      <td>2.430206</td>\n",
       "    </tr>\n",
       "    <tr>\n",
       "      <th>Otu000074</th>\n",
       "      <td>0.433333</td>\n",
       "      <td>12612.177451</td>\n",
       "      <td>0.802366</td>\n",
       "      <td>0.003443</td>\n",
       "      <td>0.878576</td>\n",
       "    </tr>\n",
       "    <tr>\n",
       "      <th>Otu000597</th>\n",
       "      <td>0.430000</td>\n",
       "      <td>2065.701352</td>\n",
       "      <td>2.297885</td>\n",
       "      <td>0.000313</td>\n",
       "      <td>2.057057</td>\n",
       "    </tr>\n",
       "    <tr>\n",
       "      <th>Otu000103</th>\n",
       "      <td>0.426667</td>\n",
       "      <td>10533.594120</td>\n",
       "      <td>1.946357</td>\n",
       "      <td>0.003395</td>\n",
       "      <td>1.618194</td>\n",
       "    </tr>\n",
       "  </tbody>\n",
       "</table>\n",
       "</div>"
      ],
      "text/plain": [
       "              score  abun_abs_mean  abun_abs_CV  abun_rel_mean  abun_rel_CV\n",
       "Otu000060  0.650000   26355.897534     1.500728       0.003828     1.085250\n",
       "Otu000075  0.510000   18236.076497     1.294892       0.006315     1.554322\n",
       "Otu000053  0.473333   27862.529944     1.460392       0.004684     0.981394\n",
       "Otu000017  0.460000   46181.687512     1.174592       0.015009     1.172510\n",
       "Otu001152  0.440000     107.638432     3.828249       0.000057     3.755027\n",
       "Otu000108  0.436667   16074.992429     2.334943       0.002090     2.019788\n",
       "Otu000113  0.436667    5888.695140     2.532970       0.000743     2.430206\n",
       "Otu000074  0.433333   12612.177451     0.802366       0.003443     0.878576\n",
       "Otu000597  0.430000    2065.701352     2.297885       0.000313     2.057057\n",
       "Otu000103  0.426667   10533.594120     1.946357       0.003395     1.618194"
      ]
     },
     "metadata": {},
     "output_type": "display_data"
    }
   ],
   "source": [
    "otu_scores_selected_lna = otu_scores_lna[otu_scores_lna.score.values>thr_lna]\n",
    "selected_otus_lna = otu_scores_selected_lna.index\n",
    "print('Size list selected OTUs: ' + str(len(selected_otus_lna)))\n",
    "otu_scores_selected_lna.to_csv('Final/lnascores_otus_tuned_thr_'+str(thr_lna)+'_1seq3_rel.csv')\n",
    "display(otu_scores_selected_lna.head(10))"
   ]
  },
  {
   "cell_type": "code",
   "execution_count": 30,
   "metadata": {
    "collapsed": false
   },
   "outputs": [
    {
     "name": "stdout",
     "output_type": "stream",
     "text": [
      "R²_cv of LNA-selected OTUs in function of HNA: 0.759070950399\n"
     ]
    }
   ],
   "source": [
    "print('R²_cv of LNA-selected OTUs in function of HNA: ' + str(r2_otu_scores_hna[r2_otu_scores_lna.argmax()]) )"
   ]
  },
  {
   "cell_type": "code",
   "execution_count": 31,
   "metadata": {
    "collapsed": false
   },
   "outputs": [
    {
     "data": {
      "image/png": "[encoded data removed]",
      "text/plain": [
       "<matplotlib.figure.Figure at 0x7fa7faaa7dd8>"
      ]
     },
     "metadata": {},
     "output_type": "display_data"
    }
   ],
   "source": [
    "plt.figure()\n",
    "sns.regplot(x='abun_abs_mean',y='abun_abs_CV', data=otu_scores_selected_lna)\n",
    "plt.axis([0,400000,-5,5])\n",
    "plt.xlabel('mean(abs)', size=22)\n",
    "plt.xticks(size=10)\n",
    "plt.ylabel('CV(abs)', size=22)\n",
    "plt.yticks(size=10)\n",
    "plt.show()"
   ]
  },
  {
   "cell_type": "markdown",
   "metadata": {},
   "source": [
    "Let's compare the HNA- and LNA-lists, which OTU's are shared (_common_) and which are only part of the HNA- or LNA subset?: "
   ]
  },
  {
   "cell_type": "code",
   "execution_count": 32,
   "metadata": {
    "collapsed": false
   },
   "outputs": [
    {
     "name": "stdout",
     "output_type": "stream",
     "text": [
      "Size subset OTUs only related to HNA: 113; opposed to total size: 187\n",
      "Size subset OTUs only related to LNA: 79; opposed to total size: 153\n",
      "Size subset OTUs related to both: 74\n"
     ]
    },
    {
     "data": {
      "text/html": [
       "<div>\n",
       "<table border=\"1\" class=\"dataframe\">\n",
       "  <thead>\n",
       "    <tr style=\"text-align: right;\">\n",
       "      <th></th>\n",
       "      <th>score</th>\n",
       "      <th>abun_abs_mean</th>\n",
       "      <th>abun_abs_CV</th>\n",
       "      <th>abun_rel_mean</th>\n",
       "      <th>abun_rel_CV</th>\n",
       "    </tr>\n",
       "  </thead>\n",
       "  <tbody>\n",
       "    <tr>\n",
       "      <th>Otu000001</th>\n",
       "      <td>0.420000</td>\n",
       "      <td>371601.089939</td>\n",
       "      <td>0.720490</td>\n",
       "      <td>0.095239</td>\n",
       "      <td>0.631085</td>\n",
       "    </tr>\n",
       "    <tr>\n",
       "      <th>Otu000173</th>\n",
       "      <td>0.416667</td>\n",
       "      <td>8892.157986</td>\n",
       "      <td>1.953307</td>\n",
       "      <td>0.001270</td>\n",
       "      <td>1.729254</td>\n",
       "    </tr>\n",
       "    <tr>\n",
       "      <th>Otu000060</th>\n",
       "      <td>0.650000</td>\n",
       "      <td>26355.897534</td>\n",
       "      <td>1.500728</td>\n",
       "      <td>0.003828</td>\n",
       "      <td>1.085250</td>\n",
       "    </tr>\n",
       "    <tr>\n",
       "      <th>Otu000335</th>\n",
       "      <td>0.406667</td>\n",
       "      <td>6250.999417</td>\n",
       "      <td>2.165661</td>\n",
       "      <td>0.000927</td>\n",
       "      <td>1.748611</td>\n",
       "    </tr>\n",
       "    <tr>\n",
       "      <th>Otu000074</th>\n",
       "      <td>0.433333</td>\n",
       "      <td>12612.177451</td>\n",
       "      <td>0.802366</td>\n",
       "      <td>0.003443</td>\n",
       "      <td>0.878576</td>\n",
       "    </tr>\n",
       "    <tr>\n",
       "      <th>Otu000160</th>\n",
       "      <td>0.396667</td>\n",
       "      <td>18969.044325</td>\n",
       "      <td>3.110295</td>\n",
       "      <td>0.002236</td>\n",
       "      <td>2.822739</td>\n",
       "    </tr>\n",
       "    <tr>\n",
       "      <th>Otu000088</th>\n",
       "      <td>0.336667</td>\n",
       "      <td>5087.595794</td>\n",
       "      <td>1.342708</td>\n",
       "      <td>0.001828</td>\n",
       "      <td>1.561502</td>\n",
       "    </tr>\n",
       "    <tr>\n",
       "      <th>Otu000075</th>\n",
       "      <td>0.510000</td>\n",
       "      <td>18236.076497</td>\n",
       "      <td>1.294892</td>\n",
       "      <td>0.006315</td>\n",
       "      <td>1.554322</td>\n",
       "    </tr>\n",
       "    <tr>\n",
       "      <th>Otu000981</th>\n",
       "      <td>0.283333</td>\n",
       "      <td>631.164361</td>\n",
       "      <td>4.614274</td>\n",
       "      <td>0.000101</td>\n",
       "      <td>4.698286</td>\n",
       "    </tr>\n",
       "    <tr>\n",
       "      <th>Otu000313</th>\n",
       "      <td>0.373333</td>\n",
       "      <td>2492.843861</td>\n",
       "      <td>2.222905</td>\n",
       "      <td>0.000331</td>\n",
       "      <td>1.941756</td>\n",
       "    </tr>\n",
       "    <tr>\n",
       "      <th>Otu000187</th>\n",
       "      <td>0.393333</td>\n",
       "      <td>6849.888881</td>\n",
       "      <td>1.799853</td>\n",
       "      <td>0.000959</td>\n",
       "      <td>1.528528</td>\n",
       "    </tr>\n",
       "    <tr>\n",
       "      <th>Otu000042</th>\n",
       "      <td>0.183333</td>\n",
       "      <td>38310.373020</td>\n",
       "      <td>1.964874</td>\n",
       "      <td>0.005542</td>\n",
       "      <td>1.784818</td>\n",
       "    </tr>\n",
       "    <tr>\n",
       "      <th>Otu000126</th>\n",
       "      <td>0.250000</td>\n",
       "      <td>12196.487358</td>\n",
       "      <td>1.866373</td>\n",
       "      <td>0.001811</td>\n",
       "      <td>1.575556</td>\n",
       "    </tr>\n",
       "    <tr>\n",
       "      <th>Otu002067</th>\n",
       "      <td>0.326667</td>\n",
       "      <td>16.240357</td>\n",
       "      <td>12.961481</td>\n",
       "      <td>0.000003</td>\n",
       "      <td>12.961481</td>\n",
       "    </tr>\n",
       "    <tr>\n",
       "      <th>Otu000137</th>\n",
       "      <td>0.423333</td>\n",
       "      <td>3084.664828</td>\n",
       "      <td>1.846876</td>\n",
       "      <td>0.001490</td>\n",
       "      <td>2.591083</td>\n",
       "    </tr>\n",
       "    <tr>\n",
       "      <th>Otu000017</th>\n",
       "      <td>0.460000</td>\n",
       "      <td>46181.687512</td>\n",
       "      <td>1.174592</td>\n",
       "      <td>0.015009</td>\n",
       "      <td>1.172510</td>\n",
       "    </tr>\n",
       "    <tr>\n",
       "      <th>Otu000711</th>\n",
       "      <td>0.183333</td>\n",
       "      <td>713.321100</td>\n",
       "      <td>3.029886</td>\n",
       "      <td>0.000091</td>\n",
       "      <td>2.861403</td>\n",
       "    </tr>\n",
       "    <tr>\n",
       "      <th>Otu000175</th>\n",
       "      <td>0.303333</td>\n",
       "      <td>23301.415981</td>\n",
       "      <td>2.040045</td>\n",
       "      <td>0.003188</td>\n",
       "      <td>1.960386</td>\n",
       "    </tr>\n",
       "    <tr>\n",
       "      <th>Otu001141</th>\n",
       "      <td>0.326667</td>\n",
       "      <td>383.200101</td>\n",
       "      <td>3.331593</td>\n",
       "      <td>0.000048</td>\n",
       "      <td>3.198416</td>\n",
       "    </tr>\n",
       "    <tr>\n",
       "      <th>Otu008922</th>\n",
       "      <td>0.233333</td>\n",
       "      <td>26.309477</td>\n",
       "      <td>9.140759</td>\n",
       "      <td>0.000003</td>\n",
       "      <td>9.137670</td>\n",
       "    </tr>\n",
       "    <tr>\n",
       "      <th>Otu002760</th>\n",
       "      <td>0.300000</td>\n",
       "      <td>88.899941</td>\n",
       "      <td>6.740221</td>\n",
       "      <td>0.000010</td>\n",
       "      <td>6.422267</td>\n",
       "    </tr>\n",
       "    <tr>\n",
       "      <th>Otu000168</th>\n",
       "      <td>0.403333</td>\n",
       "      <td>2483.666959</td>\n",
       "      <td>1.475471</td>\n",
       "      <td>0.000384</td>\n",
       "      <td>1.329060</td>\n",
       "    </tr>\n",
       "    <tr>\n",
       "      <th>Otu000149</th>\n",
       "      <td>0.346667</td>\n",
       "      <td>5084.410695</td>\n",
       "      <td>1.644948</td>\n",
       "      <td>0.001495</td>\n",
       "      <td>1.530884</td>\n",
       "    </tr>\n",
       "    <tr>\n",
       "      <th>Otu004876</th>\n",
       "      <td>0.260000</td>\n",
       "      <td>138.320156</td>\n",
       "      <td>8.675553</td>\n",
       "      <td>0.000013</td>\n",
       "      <td>7.950867</td>\n",
       "    </tr>\n",
       "    <tr>\n",
       "      <th>Otu000464</th>\n",
       "      <td>0.220000</td>\n",
       "      <td>61.933464</td>\n",
       "      <td>4.342279</td>\n",
       "      <td>0.000053</td>\n",
       "      <td>4.123832</td>\n",
       "    </tr>\n",
       "    <tr>\n",
       "      <th>Otu000810</th>\n",
       "      <td>0.226667</td>\n",
       "      <td>568.653003</td>\n",
       "      <td>2.772149</td>\n",
       "      <td>0.000100</td>\n",
       "      <td>2.406466</td>\n",
       "    </tr>\n",
       "    <tr>\n",
       "      <th>Otu000087</th>\n",
       "      <td>0.420000</td>\n",
       "      <td>1975.364582</td>\n",
       "      <td>2.045939</td>\n",
       "      <td>0.000862</td>\n",
       "      <td>2.224405</td>\n",
       "    </tr>\n",
       "    <tr>\n",
       "      <th>Otu001126</th>\n",
       "      <td>0.196667</td>\n",
       "      <td>217.218052</td>\n",
       "      <td>4.217284</td>\n",
       "      <td>0.000051</td>\n",
       "      <td>4.781852</td>\n",
       "    </tr>\n",
       "    <tr>\n",
       "      <th>Otu000059</th>\n",
       "      <td>0.376667</td>\n",
       "      <td>18784.550740</td>\n",
       "      <td>0.834357</td>\n",
       "      <td>0.005029</td>\n",
       "      <td>0.939255</td>\n",
       "    </tr>\n",
       "    <tr>\n",
       "      <th>Otu001958</th>\n",
       "      <td>0.226667</td>\n",
       "      <td>193.102546</td>\n",
       "      <td>4.399532</td>\n",
       "      <td>0.000027</td>\n",
       "      <td>4.215739</td>\n",
       "    </tr>\n",
       "    <tr>\n",
       "      <th>...</th>\n",
       "      <td>...</td>\n",
       "      <td>...</td>\n",
       "      <td>...</td>\n",
       "      <td>...</td>\n",
       "      <td>...</td>\n",
       "    </tr>\n",
       "    <tr>\n",
       "      <th>Otu002061</th>\n",
       "      <td>0.266667</td>\n",
       "      <td>322.217471</td>\n",
       "      <td>3.963467</td>\n",
       "      <td>0.000037</td>\n",
       "      <td>3.586104</td>\n",
       "    </tr>\n",
       "    <tr>\n",
       "      <th>Otu000038</th>\n",
       "      <td>0.226667</td>\n",
       "      <td>37810.518723</td>\n",
       "      <td>1.724817</td>\n",
       "      <td>0.005621</td>\n",
       "      <td>1.406071</td>\n",
       "    </tr>\n",
       "    <tr>\n",
       "      <th>Otu000816</th>\n",
       "      <td>0.363333</td>\n",
       "      <td>254.241104</td>\n",
       "      <td>3.397193</td>\n",
       "      <td>0.000219</td>\n",
       "      <td>3.493151</td>\n",
       "    </tr>\n",
       "    <tr>\n",
       "      <th>Otu004249</th>\n",
       "      <td>0.263333</td>\n",
       "      <td>76.934262</td>\n",
       "      <td>4.894147</td>\n",
       "      <td>0.000009</td>\n",
       "      <td>4.810169</td>\n",
       "    </tr>\n",
       "    <tr>\n",
       "      <th>Otu000570</th>\n",
       "      <td>0.300000</td>\n",
       "      <td>469.203899</td>\n",
       "      <td>2.835603</td>\n",
       "      <td>0.000263</td>\n",
       "      <td>3.013355</td>\n",
       "    </tr>\n",
       "    <tr>\n",
       "      <th>Otu003481</th>\n",
       "      <td>0.183333</td>\n",
       "      <td>122.819842</td>\n",
       "      <td>5.644146</td>\n",
       "      <td>0.000019</td>\n",
       "      <td>5.594009</td>\n",
       "    </tr>\n",
       "    <tr>\n",
       "      <th>Otu001683</th>\n",
       "      <td>0.326667</td>\n",
       "      <td>96.237355</td>\n",
       "      <td>4.162080</td>\n",
       "      <td>0.000028</td>\n",
       "      <td>4.466001</td>\n",
       "    </tr>\n",
       "    <tr>\n",
       "      <th>Otu002317</th>\n",
       "      <td>0.213333</td>\n",
       "      <td>34.891122</td>\n",
       "      <td>3.955038</td>\n",
       "      <td>0.000030</td>\n",
       "      <td>4.550449</td>\n",
       "    </tr>\n",
       "    <tr>\n",
       "      <th>Otu001912</th>\n",
       "      <td>0.243333</td>\n",
       "      <td>39.170113</td>\n",
       "      <td>4.125895</td>\n",
       "      <td>0.000020</td>\n",
       "      <td>4.335828</td>\n",
       "    </tr>\n",
       "    <tr>\n",
       "      <th>Otu002867</th>\n",
       "      <td>0.233333</td>\n",
       "      <td>23.529782</td>\n",
       "      <td>7.087783</td>\n",
       "      <td>0.000006</td>\n",
       "      <td>6.805563</td>\n",
       "    </tr>\n",
       "    <tr>\n",
       "      <th>Otu001602</th>\n",
       "      <td>0.343333</td>\n",
       "      <td>393.765280</td>\n",
       "      <td>3.076433</td>\n",
       "      <td>0.000049</td>\n",
       "      <td>2.904960</td>\n",
       "    </tr>\n",
       "    <tr>\n",
       "      <th>Otu001450</th>\n",
       "      <td>0.260000</td>\n",
       "      <td>76.281435</td>\n",
       "      <td>8.992599</td>\n",
       "      <td>0.000008</td>\n",
       "      <td>7.438370</td>\n",
       "    </tr>\n",
       "    <tr>\n",
       "      <th>Otu007432</th>\n",
       "      <td>0.210000</td>\n",
       "      <td>30.762576</td>\n",
       "      <td>7.558660</td>\n",
       "      <td>0.000004</td>\n",
       "      <td>7.438370</td>\n",
       "    </tr>\n",
       "    <tr>\n",
       "      <th>Otu000477</th>\n",
       "      <td>0.276667</td>\n",
       "      <td>57.385720</td>\n",
       "      <td>4.463185</td>\n",
       "      <td>0.000062</td>\n",
       "      <td>4.250842</td>\n",
       "    </tr>\n",
       "    <tr>\n",
       "      <th>Otu004335</th>\n",
       "      <td>0.246667</td>\n",
       "      <td>15.686003</td>\n",
       "      <td>6.778730</td>\n",
       "      <td>0.000008</td>\n",
       "      <td>7.438370</td>\n",
       "    </tr>\n",
       "    <tr>\n",
       "      <th>Otu007484</th>\n",
       "      <td>0.200000</td>\n",
       "      <td>4.455422</td>\n",
       "      <td>9.571495</td>\n",
       "      <td>0.000003</td>\n",
       "      <td>9.137670</td>\n",
       "    </tr>\n",
       "    <tr>\n",
       "      <th>Otu001942</th>\n",
       "      <td>0.336667</td>\n",
       "      <td>91.859492</td>\n",
       "      <td>5.262880</td>\n",
       "      <td>0.000011</td>\n",
       "      <td>4.684596</td>\n",
       "    </tr>\n",
       "    <tr>\n",
       "      <th>Otu000682</th>\n",
       "      <td>0.190000</td>\n",
       "      <td>1290.985248</td>\n",
       "      <td>4.090973</td>\n",
       "      <td>0.000148</td>\n",
       "      <td>3.828999</td>\n",
       "    </tr>\n",
       "    <tr>\n",
       "      <th>Otu002708</th>\n",
       "      <td>0.183333</td>\n",
       "      <td>243.715281</td>\n",
       "      <td>8.231278</td>\n",
       "      <td>0.000025</td>\n",
       "      <td>6.356137</td>\n",
       "    </tr>\n",
       "    <tr>\n",
       "      <th>Otu000423</th>\n",
       "      <td>0.400000</td>\n",
       "      <td>3807.892251</td>\n",
       "      <td>1.899313</td>\n",
       "      <td>0.000591</td>\n",
       "      <td>1.653282</td>\n",
       "    </tr>\n",
       "    <tr>\n",
       "      <th>Otu004969</th>\n",
       "      <td>0.276667</td>\n",
       "      <td>19.122619</td>\n",
       "      <td>5.223195</td>\n",
       "      <td>0.000016</td>\n",
       "      <td>4.242014</td>\n",
       "    </tr>\n",
       "    <tr>\n",
       "      <th>Otu000154</th>\n",
       "      <td>0.200000</td>\n",
       "      <td>4571.522455</td>\n",
       "      <td>1.463458</td>\n",
       "      <td>0.001526</td>\n",
       "      <td>2.546154</td>\n",
       "    </tr>\n",
       "    <tr>\n",
       "      <th>Otu005676</th>\n",
       "      <td>0.316667</td>\n",
       "      <td>92.201087</td>\n",
       "      <td>5.625288</td>\n",
       "      <td>0.000011</td>\n",
       "      <td>5.110619</td>\n",
       "    </tr>\n",
       "    <tr>\n",
       "      <th>Otu001219</th>\n",
       "      <td>0.273333</td>\n",
       "      <td>289.036803</td>\n",
       "      <td>2.664527</td>\n",
       "      <td>0.000095</td>\n",
       "      <td>3.078944</td>\n",
       "    </tr>\n",
       "    <tr>\n",
       "      <th>Otu000755</th>\n",
       "      <td>0.253333</td>\n",
       "      <td>516.127365</td>\n",
       "      <td>4.181755</td>\n",
       "      <td>0.000239</td>\n",
       "      <td>3.920327</td>\n",
       "    </tr>\n",
       "    <tr>\n",
       "      <th>Otu002349</th>\n",
       "      <td>0.203333</td>\n",
       "      <td>24.115120</td>\n",
       "      <td>7.456499</td>\n",
       "      <td>0.000004</td>\n",
       "      <td>7.438370</td>\n",
       "    </tr>\n",
       "    <tr>\n",
       "      <th>Otu000256</th>\n",
       "      <td>0.216667</td>\n",
       "      <td>793.365002</td>\n",
       "      <td>3.588845</td>\n",
       "      <td>0.000647</td>\n",
       "      <td>3.961628</td>\n",
       "    </tr>\n",
       "    <tr>\n",
       "      <th>Otu000215</th>\n",
       "      <td>0.300000</td>\n",
       "      <td>1060.314860</td>\n",
       "      <td>3.001021</td>\n",
       "      <td>0.000757</td>\n",
       "      <td>2.974472</td>\n",
       "    </tr>\n",
       "    <tr>\n",
       "      <th>Otu000099</th>\n",
       "      <td>0.206667</td>\n",
       "      <td>1464.998375</td>\n",
       "      <td>2.143717</td>\n",
       "      <td>0.000773</td>\n",
       "      <td>2.676060</td>\n",
       "    </tr>\n",
       "    <tr>\n",
       "      <th>Otu001215</th>\n",
       "      <td>0.193333</td>\n",
       "      <td>1029.366604</td>\n",
       "      <td>2.891003</td>\n",
       "      <td>0.000149</td>\n",
       "      <td>3.063319</td>\n",
       "    </tr>\n",
       "  </tbody>\n",
       "</table>\n",
       "<p>74 rows × 5 columns</p>\n",
       "</div>"
      ],
      "text/plain": [
       "              score  abun_abs_mean  abun_abs_CV  abun_rel_mean  abun_rel_CV\n",
       "Otu000001  0.420000  371601.089939     0.720490       0.095239     0.631085\n",
       "Otu000173  0.416667    8892.157986     1.953307       0.001270     1.729254\n",
       "Otu000060  0.650000   26355.897534     1.500728       0.003828     1.085250\n",
       "Otu000335  0.406667    6250.999417     2.165661       0.000927     1.748611\n",
       "Otu000074  0.433333   12612.177451     0.802366       0.003443     0.878576\n",
       "Otu000160  0.396667   18969.044325     3.110295       0.002236     2.822739\n",
       "Otu000088  0.336667    5087.595794     1.342708       0.001828     1.561502\n",
       "Otu000075  0.510000   18236.076497     1.294892       0.006315     1.554322\n",
       "Otu000981  0.283333     631.164361     4.614274       0.000101     4.698286\n",
       "Otu000313  0.373333    2492.843861     2.222905       0.000331     1.941756\n",
       "Otu000187  0.393333    6849.888881     1.799853       0.000959     1.528528\n",
       "Otu000042  0.183333   38310.373020     1.964874       0.005542     1.784818\n",
       "Otu000126  0.250000   12196.487358     1.866373       0.001811     1.575556\n",
       "Otu002067  0.326667      16.240357    12.961481       0.000003    12.961481\n",
       "Otu000137  0.423333    3084.664828     1.846876       0.001490     2.591083\n",
       "Otu000017  0.460000   46181.687512     1.174592       0.015009     1.172510\n",
       "Otu000711  0.183333     713.321100     3.029886       0.000091     2.861403\n",
       "Otu000175  0.303333   23301.415981     2.040045       0.003188     1.960386\n",
       "Otu001141  0.326667     383.200101     3.331593       0.000048     3.198416\n",
       "Otu008922  0.233333      26.309477     9.140759       0.000003     9.137670\n",
       "Otu002760  0.300000      88.899941     6.740221       0.000010     6.422267\n",
       "Otu000168  0.403333    2483.666959     1.475471       0.000384     1.329060\n",
       "Otu000149  0.346667    5084.410695     1.644948       0.001495     1.530884\n",
       "Otu004876  0.260000     138.320156     8.675553       0.000013     7.950867\n",
       "Otu000464  0.220000      61.933464     4.342279       0.000053     4.123832\n",
       "Otu000810  0.226667     568.653003     2.772149       0.000100     2.406466\n",
       "Otu000087  0.420000    1975.364582     2.045939       0.000862     2.224405\n",
       "Otu001126  0.196667     217.218052     4.217284       0.000051     4.781852\n",
       "Otu000059  0.376667   18784.550740     0.834357       0.005029     0.939255\n",
       "Otu001958  0.226667     193.102546     4.399532       0.000027     4.215739\n",
       "...             ...            ...          ...            ...          ...\n",
       "Otu002061  0.266667     322.217471     3.963467       0.000037     3.586104\n",
       "Otu000038  0.226667   37810.518723     1.724817       0.005621     1.406071\n",
       "Otu000816  0.363333     254.241104     3.397193       0.000219     3.493151\n",
       "Otu004249  0.263333      76.934262     4.894147       0.000009     4.810169\n",
       "Otu000570  0.300000     469.203899     2.835603       0.000263     3.013355\n",
       "Otu003481  0.183333     122.819842     5.644146       0.000019     5.594009\n",
       "Otu001683  0.326667      96.237355     4.162080       0.000028     4.466001\n",
       "Otu002317  0.213333      34.891122     3.955038       0.000030     4.550449\n",
       "Otu001912  0.243333      39.170113     4.125895       0.000020     4.335828\n",
       "Otu002867  0.233333      23.529782     7.087783       0.000006     6.805563\n",
       "Otu001602  0.343333     393.765280     3.076433       0.000049     2.904960\n",
       "Otu001450  0.260000      76.281435     8.992599       0.000008     7.438370\n",
       "Otu007432  0.210000      30.762576     7.558660       0.000004     7.438370\n",
       "Otu000477  0.276667      57.385720     4.463185       0.000062     4.250842\n",
       "Otu004335  0.246667      15.686003     6.778730       0.000008     7.438370\n",
       "Otu007484  0.200000       4.455422     9.571495       0.000003     9.137670\n",
       "Otu001942  0.336667      91.859492     5.262880       0.000011     4.684596\n",
       "Otu000682  0.190000    1290.985248     4.090973       0.000148     3.828999\n",
       "Otu002708  0.183333     243.715281     8.231278       0.000025     6.356137\n",
       "Otu000423  0.400000    3807.892251     1.899313       0.000591     1.653282\n",
       "Otu004969  0.276667      19.122619     5.223195       0.000016     4.242014\n",
       "Otu000154  0.200000    4571.522455     1.463458       0.001526     2.546154\n",
       "Otu005676  0.316667      92.201087     5.625288       0.000011     5.110619\n",
       "Otu001219  0.273333     289.036803     2.664527       0.000095     3.078944\n",
       "Otu000755  0.253333     516.127365     4.181755       0.000239     3.920327\n",
       "Otu002349  0.203333      24.115120     7.456499       0.000004     7.438370\n",
       "Otu000256  0.216667     793.365002     3.588845       0.000647     3.961628\n",
       "Otu000215  0.300000    1060.314860     3.001021       0.000757     2.974472\n",
       "Otu000099  0.206667    1464.998375     2.143717       0.000773     2.676060\n",
       "Otu001215  0.193333    1029.366604     2.891003       0.000149     3.063319\n",
       "\n",
       "[74 rows x 5 columns]"
      ]
     },
     "metadata": {},
     "output_type": "display_data"
    }
   ],
   "source": [
    "idx_hna = otu_scores_selected.index.difference(otu_scores_selected_lna.index)\n",
    "idx_lna = otu_scores_selected_lna.index.difference(otu_scores_selected.index)\n",
    "idx_common = otu_scores_selected.drop(idx_hna).index\n",
    "pd.Series(idx_common).to_csv('commonOTU_HNALNA_abun.001_rel.csv')\n",
    "print('Size subset OTUs only related to HNA: ' + str(len(idx_hna)) + '; opposed to total size: ' + str(len(otu_scores_selected)))\n",
    "print('Size subset OTUs only related to LNA: ' + str(len(idx_lna)) + '; opposed to total size: ' + str(len(otu_scores_selected_lna)))\n",
    "print('Size subset OTUs related to both: ' + str(len(idx_common)))\n",
    "\n",
    "display(otu_scores_selected_lna.loc[idx_common,:])\n",
    "#data_abs_raw = pd.read_csv('data/Chloroplasts_removed/nochloro_absolute_otu.tsv', sep=' ', index_col=None, header=0)\n",
    "#data_abs_raw = data_abs_raw.loc[index,:]\n",
    "#display(data_abs_raw.loc[:,idx_hna].sum(axis=1).values/hna.values)"
   ]
  },
  {
   "cell_type": "code",
   "execution_count": 33,
   "metadata": {
    "collapsed": false
   },
   "outputs": [
    {
     "data": {
      "image/png": "[encoded data removed]",
      "text/plain": [
       "<matplotlib.figure.Figure at 0x7fa7fab1a860>"
      ]
     },
     "metadata": {},
     "output_type": "display_data"
    }
   ],
   "source": [
    "plt.figure()\n",
    "sns.regplot(x=otu_scores.loc[:,'score'],y=otu_scores_lna.loc[otu_scores.index,'score'])\n",
    "plt.axis([-0.005,1.005,-0.005,1.005])\n",
    "plt.xlabel('score(HNA)', size=22)\n",
    "plt.xticks(size=10)\n",
    "plt.ylabel('score(LNA)', size=22)\n",
    "plt.yticks(size=10)\n",
    "plt.axhline(y=thr, linewidth=2, linestyle='--', color = 'k')\n",
    "plt.axvline(x=thr_lna, linewidth=2, linestyle='--', color = 'k')\n",
    "plt.show()"
   ]
  },
  {
   "cell_type": "markdown",
   "metadata": {},
   "source": [
    "This figure shows 4 area's: \n",
    "- (left top corner): OTU's selected solely in function of **LNA**-dynamics, \n",
    "- (right top corner): OTU's selected in function of both **HNA**- and **LNA**-dynamics, \n",
    "- (left bottom corner): OTU's that are _not_ selected, \n",
    "- (right bottom corner): OTU's selected solely in function of **HNA**-dynamics. "
   ]
  },
  {
   "cell_type": "markdown",
   "metadata": {},
   "source": [
    "Univariate vs. Stability selection"
   ]
  },
  {
   "cell_type": "code",
   "execution_count": 34,
   "metadata": {
    "collapsed": false
   },
   "outputs": [
    {
     "data": {
      "image/png": "[encoded data removed]",
      "text/plain": [
       "<matplotlib.figure.Figure at 0x7fa7fa8be3c8>"
      ]
     },
     "metadata": {},
     "output_type": "display_data"
    }
   ],
   "source": [
    "plt.figure()\n",
    "sns.regplot(x=otu_scores.loc[:,'score'],y=uni_fs.loc[otu_scores.index,'p-value'])\n",
    "plt.xlabel('score(HNA)', size=22)\n",
    "plt.xticks(size=10)\n",
    "plt.ylabel('p-value F-anova (HNA)', size=22)\n",
    "plt.yticks(size=10)\n",
    "plt.yscale('log')\n",
    "plt.axhline(y=0.05, linewidth=2, linestyle='--', color = 'k')\n",
    "plt.axvline(x=thr, linewidth=2, linestyle='--', color = 'k')\n",
    "plt.axis([-0.005,1.005,0.0000000000000000000001, 1])\n",
    "plt.show()"
   ]
  },
  {
   "cell_type": "code",
   "execution_count": 35,
   "metadata": {
    "collapsed": false
   },
   "outputs": [
    {
     "data": {
      "image/png": "[encoded data removed]",
      "text/plain": [
       "<matplotlib.figure.Figure at 0x7fa7fa8adc18>"
      ]
     },
     "metadata": {},
     "output_type": "display_data"
    }
   ],
   "source": [
    "plt.figure()\n",
    "sns.regplot(x=otu_scores_lna.loc[:,'score'],y=uni_fs_lna.loc[otu_scores.index,'p-value'])\n",
    "plt.xlabel('score(LNA)', size=22)\n",
    "plt.xticks(size=10)\n",
    "plt.ylabel('p-value F-anova (LNA)', size=22)\n",
    "plt.yticks(size=10)\n",
    "plt.yscale('log')\n",
    "plt.axhline(y=0.05, linewidth=2, linestyle='--', color = 'k')\n",
    "plt.axvline(x=thr_lna, linewidth=2, linestyle='--', color = 'k')\n",
    "plt.axis([-0.005,1.005,0.0000000000000000000001, 1])\n",
    "plt.show()"
   ]
  },
  {
   "cell_type": "markdown",
   "metadata": {},
   "source": [
    "This analysis shows that the HNA/LNA dynamics cannot solely be attributed to OTU's that are present in the respective cloud; this is also clear from the mutual correlation between HNA- and LNA-counts ( $\\rho(\\text{HNA,LNA}) = 0.75$ ). \n",
    "\n",
    "I see two reasons for this: \n",
    "- Some OTU's are simply present in the two clouds; \n",
    "- Some HNA-OTU's interact with LNA-OTU's and vice versa. "
   ]
  }
 ],
 "metadata": {
  "anaconda-cloud": {},
  "kernelspec": {
   "display_name": "Python [conda root]",
   "language": "python",
   "name": "conda-root-py"
  },
  "language_info": {
   "codemirror_mode": {
    "name": "ipython",
    "version": 3
   },
   "file_extension": ".py",
   "mimetype": "text/x-python",
   "name": "python",
   "nbconvert_exporter": "python",
   "pygments_lexer": "ipython3",
   "version": "3.4.5"
  }
 },
 "nbformat": 4,
 "nbformat_minor": 1
}
