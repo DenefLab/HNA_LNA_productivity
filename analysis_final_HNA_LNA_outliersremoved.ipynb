{
 "cells": [
  {
   "cell_type": "code",
   "execution_count": 104,
   "metadata": {
    "collapsed": false,
    "scrolled": true
   },
   "outputs": [],
   "source": [
    "'''Import packages'''\n",
    "'''Requires numpy, pandas, scikit-learn, and matplotlib/seaborn'''\n",
    "import numpy as np\n",
    "import pandas as pd\n",
    "from sklearn.model_selection import KFold\n",
    "from sklearn.preprocessing import StandardScaler\n",
    "from sklearn.model_selection import cross_val_predict\n",
    "from sklearn.linear_model import Lasso\n",
    "from scipy.stats import linregress\n",
    "\n",
    "import matplotlib.pyplot as plt\n",
    "import seaborn as sns\n",
    "sns.set_style(\"ticks\")\n",
    "\n",
    "'''Import script which contains functions'''\n",
    "import analysis_functions\n",
    "from analysis_functions import get_r2\n",
    "from analysis_functions import get_lassoCV\n",
    "from analysis_functions import perform_randomizedLasso\n",
    "\n",
    "from IPython.display import display, HTML\n",
    "\n",
    "#If we want to time the implementation: \n",
    "#import time\n",
    "#start_time = time.time()"
   ]
  },
  {
   "cell_type": "markdown",
   "metadata": {},
   "source": [
    "Import the dataframes: "
   ]
  },
  {
   "cell_type": "code",
   "execution_count": 105,
   "metadata": {
    "collapsed": false,
    "scrolled": true
   },
   "outputs": [],
   "source": [
    "'''Import data'''\n",
    "data_abs = pd.read_csv('data/Chloroplasts_removed/nochloro_absolute_otu.tsv', sep=' ', index_col=None, header=0)\n",
    "data_rel = pd.read_csv('data/Chloroplasts_removed/nochloro_relative_otu.tsv', sep=' ', index_col=None, header=0)\n",
    "target = pd.read_csv('data/Chloroplasts_removed/nochloro_HNA_LNA.tsv', sep=' ', index_col=0, header=0)\n",
    "productivity = pd.read_csv('data/Chloroplasts_removed/productivity_data.tsv', sep=' ', index_col=0, header=0)\n",
    "productivity.index = productivity.samples"
   ]
  },
  {
   "cell_type": "markdown",
   "metadata": {},
   "source": [
    "**2)**: At 01-05-'17 @marschmi found that a few samples can be seen as outliers, as they represent the bottom waters of productive inland lakes, resulting in a big difference of the HNA percentage. These samples are the following: Z14055F, Z14003F, Z14007F, Z14023F, Z14011F. A code of line is added, in order to be able to run the pipeline without these samples; "
   ]
  },
  {
   "cell_type": "code",
   "execution_count": 106,
   "metadata": {
    "collapsed": false
   },
   "outputs": [],
   "source": [
    "samples_to_drop = ['Z14055F', 'Z14003F', 'Z14007F', 'Z14023F', 'Z14011F']\n",
    "index = target.index.drop(samples_to_drop)"
   ]
  },
  {
   "cell_type": "code",
   "execution_count": 107,
   "metadata": {
    "collapsed": false
   },
   "outputs": [],
   "source": [
    "'''Set sample names as index and shuffle data'''\n",
    "productivity = productivity.loc[target.samples.values,:]\n",
    "productivity.index= target.index\n",
    "\n",
    "#Remove outlier samples:\n",
    "data_abs = data_abs.loc[index,:] \n",
    "data_rel = data_rel.loc[index,:]\n",
    "target = target.loc[index,:]\n",
    "productivity = productivity.loc[index,:]\n",
    "\n",
    "#Shuffle data: \n",
    "data_abs = data_abs.sample(frac=1, random_state=3)\n",
    "data_rel = data_rel.sample(frac=1, random_state=3)\n",
    "target = target.sample(frac=1, random_state=3)\n",
    "productivity = productivity.sample(frac=1, random_state=3) \n",
    "\n",
    "#Create target columns of HNA-values: \n",
    "hna = target.loc[:,'HNA.cells']\n",
    "hna_rel = hna/target.loc[:,'Total.cells']\n",
    "hna = pd.Series(hna, index=hna.index)\n",
    "hna_rel = pd.Series(hna_rel, index=hna.index)\n",
    "\n",
    "#Create target columns of LNA-values: \n",
    "lna = target.loc[:,'LNA.cells']\n",
    "lna_rel = lna/target.loc[:,'Total.cells']\n",
    "lna = pd.Series(lna, index=hna.index)\n",
    "lna_rel = pd.Series(lna_rel, index=hna.index)"
   ]
  },
  {
   "cell_type": "markdown",
   "metadata": {},
   "source": [
    "**-- PREPROCESSING OF DATA --**"
   ]
  },
  {
   "cell_type": "markdown",
   "metadata": {},
   "source": [
    "**1)**: filter out those OTUs which have very low abundances and so give rise to (almost) zero-columns. Therefore an OTU has to have a minimal relative abundance one, defined by the parameter $abun$. "
   ]
  },
  {
   "cell_type": "code",
   "execution_count": 108,
   "metadata": {
    "collapsed": false
   },
   "outputs": [
    {
     "data": {
      "text/plain": [
       "'Filtering based on productivity samples, not needed for first part of analysis'"
      ]
     },
     "execution_count": 108,
     "metadata": {},
     "output_type": "execute_result"
    }
   ],
   "source": [
    "'''Filtering based on productivity samples, not needed for first part of analysis'''\n",
    "#retain only productivity samples \n",
    "#productivity = productivity.dropna(subset=['tot_bacprod'])\n",
    "#remove high productivity samples (>90)\n",
    "#productivity = productivity[productivity.tot_bacprod < 90]\n",
    "\n",
    "#idx_prod = productivity.samples.values\n",
    "#display(idx_prod)\n",
    "#prod = pd.Series(productivity.tot_bacprod.values, index=idx_prod)\n",
    "#prod_error = pd.Series(productivity.SD_tot_bacprod.values, index=idx_prod)\n",
    "#prod_rel_error = prod_error/prod"
   ]
  },
  {
   "cell_type": "code",
   "execution_count": 109,
   "metadata": {
    "collapsed": true
   },
   "outputs": [],
   "source": [
    "'''Parameter abun for initial filtering of OTUs'''\n",
    "abun = 0.001"
   ]
  },
  {
   "cell_type": "code",
   "execution_count": 110,
   "metadata": {
    "collapsed": false,
    "scrolled": true
   },
   "outputs": [
    {
     "name": "stdout",
     "output_type": "stream",
     "text": [
      "Number of OTUs: 1245\n"
     ]
    }
   ],
   "source": [
    "from analysis_functions import preprocess_df\n",
    "data_abs = preprocess_df(data_abs,abun,True)\n",
    "otus = list(data_abs.columns)\n",
    "\n",
    "print('Number of OTUs: ' + str(len(otus)))"
   ]
  },
  {
   "cell_type": "markdown",
   "metadata": {},
   "source": [
    "(Note that this number is the same whether we use absolute or relative abundances, as the filtering is based on a minimal _relative_ abundance.)"
   ]
  },
  {
   "cell_type": "code",
   "execution_count": 111,
   "metadata": {
    "collapsed": true
   },
   "outputs": [],
   "source": [
    "#Some variables to store information and to create inner and outer CV-folds\n",
    "\n",
    "#cv_out = 10\n",
    "cv = 5\n",
    "#outer_cv = KFold(n_splits=cv_out, shuffle=False)\n",
    "\n",
    "#otu_scores_cv = pd.DataFrame(columns=otus)\n",
    "#r2_cv = np.zeros(cv_out)\n",
    "#thresholds_cv = np.zeros(cv_out)\n",
    "\n",
    "#pred = pd.Series(index=data_abs.index)\n",
    "#final_scores = pd.DataFrame(columns=otus)\n",
    "\n",
    "thresholds = np.arange(0,1,0.01)\n",
    "t = 0"
   ]
  },
  {
   "cell_type": "markdown",
   "metadata": {},
   "source": [
    "To do so, we use the **_Randomized Lasso_**: this method makes use of two kinds of randomization in order to select variables (i.e., OTU's) with a certain _stability_: (1) it fits a Lasso to various bootstrap subsamples and (2) it perturbs the initial weighting of certain variables. \n",
    "\n",
    "This results in a $score \\in [0,1]$ that is assigned to variables, with 0 denoting the case where a variable is never chosen by the Lasso, and 1 denoting the case where a variable always is chosen. In other words, the higher the score, the more important a variable can be considered to be. "
   ]
  },
  {
   "cell_type": "markdown",
   "metadata": {},
   "source": [
    "**First goal: ** try to pinpoint those OTU's for which we are sure they are present in the '_HNA-cloud_'. "
   ]
  },
  {
   "cell_type": "code",
   "execution_count": 112,
   "metadata": {
    "collapsed": false
   },
   "outputs": [],
   "source": [
    "lassoCV = get_lassoCV(cv)\n",
    "scaler = StandardScaler()\n",
    "scaler.fit(data_abs.loc[:,otus])\n",
    "data_stand = pd.DataFrame(scaler.transform(data_abs[otus]),index=data_abs.index,columns=otus)    \n",
    "lassoCV.fit(data_stand.loc[:,otus], hna)\n",
    "mse = np.sum(lassoCV.mse_path_, axis=1)\n",
    "mse_min = np.min(mse)\n",
    "alpha = lassoCV.alpha_\n",
    "    \n",
    "otu_scores = pd.DataFrame(perform_randomizedLasso(data_stand.loc[:,otus], hna, alpha), index=otus, columns=['score'])\n",
    "otu_scores.sort_values(ascending=False,inplace=True, by='score')\n",
    "        \n",
    "mse_scores = np.zeros(len(thresholds))\n",
    "dummy=0\n",
    "scores = otu_scores\n",
    "    \n",
    "for thr in thresholds: \n",
    "    scores = otu_scores[otu_scores.values > thr]\n",
    "    features_new = scores.index\n",
    "    if(len(features_new) > 0): \n",
    "        lassoCV = get_lassoCV(cv)\n",
    "        lassoCV.fit(data_stand.loc[:,features_new],hna)\n",
    "        #alphas, preds = perform_nested_ridge_cv(data_abs[features_new],hna) #We could use this if we want a different evaluation model\n",
    "        mse = np.sum(lassoCV.mse_path_, axis=1)\n",
    "        mse_scores[dummy] = np.min(mse)\n",
    "    dummy+=1\n",
    "        \n",
    "mse_scores = mse_scores[np.nonzero(mse_scores)]\n",
    "mse_min_idx = mse_scores.argmin()\n",
    "thresh_max = thresholds[mse_min_idx]\n",
    "optimal_scores = otu_scores[otu_scores.values>thresh_max]\n",
    "selected_otus = optimal_scores.index\n",
    "    \n",
    "lassoCV = get_lassoCV(cv)\n",
    "lassoCV.fit(data_stand.loc[:, selected_otus], hna)\n",
    "alpha = lassoCV.alpha_\n",
    "lasso = Lasso(alpha,max_iter=20000,normalize=False)\n",
    "pred = cross_val_predict(lasso, data_stand.loc[:, selected_otus], hna, cv=cv)"
   ]
  },
  {
   "cell_type": "code",
   "execution_count": 113,
   "metadata": {
    "collapsed": false
   },
   "outputs": [
    {
     "name": "stdout",
     "output_type": "stream",
     "text": [
      "R²_cv: 0.969336662488\n"
     ]
    }
   ],
   "source": [
    "r2_final = get_r2(pred,hna)   \n",
    "print('R²_cv: ' + str(r2_final) )"
   ]
  },
  {
   "cell_type": "code",
   "execution_count": 114,
   "metadata": {
    "collapsed": false,
    "scrolled": false
   },
   "outputs": [
    {
     "data": {
      "text/html": [
       "<div>\n",
       "<table border=\"1\" class=\"dataframe\">\n",
       "  <thead>\n",
       "    <tr style=\"text-align: right;\">\n",
       "      <th></th>\n",
       "      <th>score</th>\n",
       "      <th>abun_abs_mean</th>\n",
       "      <th>abun_abs_CV</th>\n",
       "      <th>abun_rel_mean</th>\n",
       "      <th>abun_rel_CV</th>\n",
       "    </tr>\n",
       "  </thead>\n",
       "  <tbody>\n",
       "    <tr>\n",
       "      <th>Otu000009</th>\n",
       "      <td>0.693333</td>\n",
       "      <td>150958.577254</td>\n",
       "      <td>0.788330</td>\n",
       "      <td>0.031635</td>\n",
       "      <td>0.507992</td>\n",
       "    </tr>\n",
       "    <tr>\n",
       "      <th>Otu000382</th>\n",
       "      <td>0.580000</td>\n",
       "      <td>102.601406</td>\n",
       "      <td>5.578846</td>\n",
       "      <td>0.000135</td>\n",
       "      <td>6.026530</td>\n",
       "    </tr>\n",
       "    <tr>\n",
       "      <th>Otu000344</th>\n",
       "      <td>0.576667</td>\n",
       "      <td>5017.330882</td>\n",
       "      <td>1.439002</td>\n",
       "      <td>0.000888</td>\n",
       "      <td>1.275341</td>\n",
       "    </tr>\n",
       "    <tr>\n",
       "      <th>Otu000123</th>\n",
       "      <td>0.570000</td>\n",
       "      <td>14449.881929</td>\n",
       "      <td>1.521067</td>\n",
       "      <td>0.002315</td>\n",
       "      <td>1.307041</td>\n",
       "    </tr>\n",
       "    <tr>\n",
       "      <th>Otu000176</th>\n",
       "      <td>0.560000</td>\n",
       "      <td>7582.179430</td>\n",
       "      <td>1.454066</td>\n",
       "      <td>0.001477</td>\n",
       "      <td>1.095974</td>\n",
       "    </tr>\n",
       "    <tr>\n",
       "      <th>Otu000227</th>\n",
       "      <td>0.550000</td>\n",
       "      <td>2468.550148</td>\n",
       "      <td>1.373379</td>\n",
       "      <td>0.000494</td>\n",
       "      <td>1.177623</td>\n",
       "    </tr>\n",
       "    <tr>\n",
       "      <th>Otu000067</th>\n",
       "      <td>0.546667</td>\n",
       "      <td>14365.114339</td>\n",
       "      <td>1.395872</td>\n",
       "      <td>0.004392</td>\n",
       "      <td>1.384364</td>\n",
       "    </tr>\n",
       "    <tr>\n",
       "      <th>Otu007625</th>\n",
       "      <td>0.543333</td>\n",
       "      <td>73.509481</td>\n",
       "      <td>9.868519</td>\n",
       "      <td>0.000020</td>\n",
       "      <td>8.768991</td>\n",
       "    </tr>\n",
       "    <tr>\n",
       "      <th>Otu000011</th>\n",
       "      <td>0.533333</td>\n",
       "      <td>168900.635115</td>\n",
       "      <td>1.016108</td>\n",
       "      <td>0.034066</td>\n",
       "      <td>0.641350</td>\n",
       "    </tr>\n",
       "    <tr>\n",
       "      <th>Otu000025</th>\n",
       "      <td>0.530000</td>\n",
       "      <td>77605.710439</td>\n",
       "      <td>1.012949</td>\n",
       "      <td>0.014966</td>\n",
       "      <td>0.755597</td>\n",
       "    </tr>\n",
       "  </tbody>\n",
       "</table>\n",
       "</div>"
      ],
      "text/plain": [
       "              score  abun_abs_mean  abun_abs_CV  abun_rel_mean  abun_rel_CV\n",
       "Otu000009  0.693333  150958.577254     0.788330       0.031635     0.507992\n",
       "Otu000382  0.580000     102.601406     5.578846       0.000135     6.026530\n",
       "Otu000344  0.576667    5017.330882     1.439002       0.000888     1.275341\n",
       "Otu000123  0.570000   14449.881929     1.521067       0.002315     1.307041\n",
       "Otu000176  0.560000    7582.179430     1.454066       0.001477     1.095974\n",
       "Otu000227  0.550000    2468.550148     1.373379       0.000494     1.177623\n",
       "Otu000067  0.546667   14365.114339     1.395872       0.004392     1.384364\n",
       "Otu007625  0.543333      73.509481     9.868519       0.000020     8.768991\n",
       "Otu000011  0.533333  168900.635115     1.016108       0.034066     0.641350\n",
       "Otu000025  0.530000   77605.710439     1.012949       0.014966     0.755597"
      ]
     },
     "metadata": {},
     "output_type": "display_data"
    }
   ],
   "source": [
    "hna_scores = optimal_scores\n",
    "hna_scores = hna_scores.assign(abun_abs_mean = data_abs.loc[:,selected_otus].mean())\n",
    "hna_scores = hna_scores.assign(abun_abs_CV = data_abs.loc[:,selected_otus].std()/data_abs.loc[:,selected_otus].mean())\n",
    "hna_scores = hna_scores.assign(abun_rel_mean = data_rel.loc[:,selected_otus].mean())\n",
    "hna_scores = hna_scores.assign(abun_rel_CV = data_rel.loc[:,selected_otus].std()/data_rel.loc[:,selected_otus].mean())\n",
    "hna_scores.to_csv('hna_scores_abun0.001.csv')\n",
    "display(hna_scores.head(10))"
   ]
  },
  {
   "cell_type": "markdown",
   "metadata": {},
   "source": [
    "Is there a relationship between mean abundance and standardeviation? "
   ]
  },
  {
   "cell_type": "code",
   "execution_count": 115,
   "metadata": {
    "collapsed": false
   },
   "outputs": [
    {
     "data": {
      "image/png": "[encoded data removed]",
      "text/plain": [
       "<matplotlib.figure.Figure at 0x7efbd47e2cc0>"
      ]
     },
     "metadata": {},
     "output_type": "display_data"
    }
   ],
   "source": [
    "plt.figure()\n",
    "sns.regplot(x='abun_abs_mean',y='abun_abs_CV', data=hna_scores)\n",
    "plt.xlabel('mean(abs)', size=22)\n",
    "plt.xticks(size=10)\n",
    "plt.ylabel('CV(abs)', size=22)\n",
    "plt.yticks(size=10)\n",
    "plt.show()"
   ]
  },
  {
   "cell_type": "code",
   "execution_count": 116,
   "metadata": {
    "collapsed": true
   },
   "outputs": [],
   "source": [
    "#optimal_scores.to_csv('HNA_selectedOTUs_stand_abun_remov' + str(abun)+'_R2'+str(r2_final)+'.csv')"
   ]
  },
  {
   "cell_type": "markdown",
   "metadata": {},
   "source": [
    "**Second goal**: Can we use the same pipeline to predict the _LNA_-counts? "
   ]
  },
  {
   "cell_type": "code",
   "execution_count": 117,
   "metadata": {
    "collapsed": false
   },
   "outputs": [],
   "source": [
    "lassoCV = get_lassoCV(cv)\n",
    "\n",
    "lassoCV.fit(data_stand.loc[:,otus], lna)\n",
    "mse = np.sum(lassoCV.mse_path_, axis=1)\n",
    "mse_min = np.min(mse)\n",
    "alpha = lassoCV.alpha_\n",
    "    \n",
    "otu_scores = pd.DataFrame(perform_randomizedLasso(data_stand.loc[:,otus], lna, alpha), index=otus, columns=['score'])\n",
    "otu_scores.sort_values(ascending=False,inplace=True,by='score')\n",
    "        \n",
    "mse_scores = np.zeros(len(thresholds))\n",
    "dummy=0\n",
    "scores = otu_scores\n",
    "    \n",
    "for thr in thresholds: \n",
    "    scores = otu_scores[otu_scores.values > thr]\n",
    "    features_new = scores.index\n",
    "    if(len(features_new) > 0): \n",
    "        lassoCV = get_lassoCV(cv)\n",
    "        lassoCV.fit(data_stand.loc[:,features_new],lna)\n",
    "        #alphas, preds = perform_nested_ridge_cv(data_abs[features_new],lna) #We could use this if we want a different evaluation model\n",
    "        mse = np.sum(lassoCV.mse_path_, axis=1)\n",
    "        mse_scores[dummy] = np.min(mse)\n",
    "    dummy+=1\n",
    "        \n",
    "mse_scores = mse_scores[np.nonzero(mse_scores)]\n",
    "mse_min_idx = mse_scores.argmin()\n",
    "thresh_max = thresholds[mse_min_idx]\n",
    "optimal_scores = otu_scores[otu_scores.values>thresh_max]\n",
    "selected_otus = optimal_scores.index\n",
    "    \n",
    "lassoCV = get_lassoCV(cv)\n",
    "lassoCV.fit(data_stand.loc[:, selected_otus], lna)\n",
    "alpha = lassoCV.alpha_\n",
    "lasso = Lasso(alpha,max_iter=20000,normalize=False)\n",
    "pred = cross_val_predict(lasso, data_abs.loc[:, selected_otus], lna, cv=cv)"
   ]
  },
  {
   "cell_type": "code",
   "execution_count": 118,
   "metadata": {
    "collapsed": false
   },
   "outputs": [
    {
     "name": "stdout",
     "output_type": "stream",
     "text": [
      "R²_cv: 0.771303714773\n"
     ]
    }
   ],
   "source": [
    "r2_final_lna = get_r2(pred,lna)   \n",
    "print('R²_cv: ' + str(r2_final_lna) )"
   ]
  },
  {
   "cell_type": "markdown",
   "metadata": {},
   "source": [
    "This means that the LNA-dynamics can be predicted up to roughly the same precision. "
   ]
  },
  {
   "cell_type": "code",
   "execution_count": 122,
   "metadata": {
    "collapsed": false,
    "scrolled": true
   },
   "outputs": [
    {
     "data": {
      "text/html": [
       "<div>\n",
       "<table border=\"1\" class=\"dataframe\">\n",
       "  <thead>\n",
       "    <tr style=\"text-align: right;\">\n",
       "      <th></th>\n",
       "      <th>score</th>\n",
       "      <th>abun_abs_mean</th>\n",
       "      <th>abun_abs_CV</th>\n",
       "      <th>abun_rel_mean</th>\n",
       "      <th>abun_rel_CV</th>\n",
       "    </tr>\n",
       "  </thead>\n",
       "  <tbody>\n",
       "    <tr>\n",
       "      <th>Otu000009</th>\n",
       "      <td>0.693333</td>\n",
       "      <td>150958.577254</td>\n",
       "      <td>0.788330</td>\n",
       "      <td>0.031635</td>\n",
       "      <td>0.507992</td>\n",
       "    </tr>\n",
       "    <tr>\n",
       "      <th>Otu000382</th>\n",
       "      <td>0.580000</td>\n",
       "      <td>102.601406</td>\n",
       "      <td>5.578846</td>\n",
       "      <td>0.000135</td>\n",
       "      <td>6.026530</td>\n",
       "    </tr>\n",
       "    <tr>\n",
       "      <th>Otu000344</th>\n",
       "      <td>0.576667</td>\n",
       "      <td>5017.330882</td>\n",
       "      <td>1.439002</td>\n",
       "      <td>0.000888</td>\n",
       "      <td>1.275341</td>\n",
       "    </tr>\n",
       "    <tr>\n",
       "      <th>Otu000123</th>\n",
       "      <td>0.570000</td>\n",
       "      <td>14449.881929</td>\n",
       "      <td>1.521067</td>\n",
       "      <td>0.002315</td>\n",
       "      <td>1.307041</td>\n",
       "    </tr>\n",
       "    <tr>\n",
       "      <th>Otu000176</th>\n",
       "      <td>0.560000</td>\n",
       "      <td>7582.179430</td>\n",
       "      <td>1.454066</td>\n",
       "      <td>0.001477</td>\n",
       "      <td>1.095974</td>\n",
       "    </tr>\n",
       "    <tr>\n",
       "      <th>Otu000227</th>\n",
       "      <td>0.550000</td>\n",
       "      <td>2468.550148</td>\n",
       "      <td>1.373379</td>\n",
       "      <td>0.000494</td>\n",
       "      <td>1.177623</td>\n",
       "    </tr>\n",
       "    <tr>\n",
       "      <th>Otu000067</th>\n",
       "      <td>0.546667</td>\n",
       "      <td>14365.114339</td>\n",
       "      <td>1.395872</td>\n",
       "      <td>0.004392</td>\n",
       "      <td>1.384364</td>\n",
       "    </tr>\n",
       "    <tr>\n",
       "      <th>Otu007625</th>\n",
       "      <td>0.543333</td>\n",
       "      <td>73.509481</td>\n",
       "      <td>9.868519</td>\n",
       "      <td>0.000020</td>\n",
       "      <td>8.768991</td>\n",
       "    </tr>\n",
       "    <tr>\n",
       "      <th>Otu000011</th>\n",
       "      <td>0.533333</td>\n",
       "      <td>168900.635115</td>\n",
       "      <td>1.016108</td>\n",
       "      <td>0.034066</td>\n",
       "      <td>0.641350</td>\n",
       "    </tr>\n",
       "    <tr>\n",
       "      <th>Otu000025</th>\n",
       "      <td>0.530000</td>\n",
       "      <td>77605.710439</td>\n",
       "      <td>1.012949</td>\n",
       "      <td>0.014966</td>\n",
       "      <td>0.755597</td>\n",
       "    </tr>\n",
       "  </tbody>\n",
       "</table>\n",
       "</div>"
      ],
      "text/plain": [
       "              score  abun_abs_mean  abun_abs_CV  abun_rel_mean  abun_rel_CV\n",
       "Otu000009  0.693333  150958.577254     0.788330       0.031635     0.507992\n",
       "Otu000382  0.580000     102.601406     5.578846       0.000135     6.026530\n",
       "Otu000344  0.576667    5017.330882     1.439002       0.000888     1.275341\n",
       "Otu000123  0.570000   14449.881929     1.521067       0.002315     1.307041\n",
       "Otu000176  0.560000    7582.179430     1.454066       0.001477     1.095974\n",
       "Otu000227  0.550000    2468.550148     1.373379       0.000494     1.177623\n",
       "Otu000067  0.546667   14365.114339     1.395872       0.004392     1.384364\n",
       "Otu007625  0.543333      73.509481     9.868519       0.000020     8.768991\n",
       "Otu000011  0.533333  168900.635115     1.016108       0.034066     0.641350\n",
       "Otu000025  0.530000   77605.710439     1.012949       0.014966     0.755597"
      ]
     },
     "metadata": {},
     "output_type": "display_data"
    }
   ],
   "source": [
    "lna_scores = optimal_scores\n",
    "lna_scores.to_csv('lna_scores_abun0.001.csv')\n",
    "lna_scores = lna_scores.assign(abun_abs_mean = data_abs.loc[:,selected_otus].mean())\n",
    "lna_scores = lna_scores.assign(abun_abs_CV = data_abs.loc[:,selected_otus].std()/ data_abs.loc[:,selected_otus].mean())\n",
    "lna_scores = lna_scores.assign(abun_rel_mean = data_rel.loc[:,selected_otus].mean())\n",
    "lna_scores = lna_scores.assign(abun_rel_CV = data_rel.loc[:,selected_otus].std()/data_rel.loc[:,selected_otus].mean())\n",
    "lna_scores.to_csv('lna_scores_abun0.001.csv')\n",
    "display(hna_scores.head(10))"
   ]
  },
  {
   "cell_type": "markdown",
   "metadata": {},
   "source": [
    "Do we see the 'low'-abundance effect as in the HNA-counts also here? "
   ]
  },
  {
   "cell_type": "code",
   "execution_count": 123,
   "metadata": {
    "collapsed": false
   },
   "outputs": [
    {
     "data": {
      "text/plain": [
       "<matplotlib.figure.Figure at 0x7efbd47e22b0>"
      ]
     },
     "metadata": {},
     "output_type": "display_data"
    },
    {
     "data": {
      "text/plain": [
       "<matplotlib.figure.Figure at 0x7efbd48c1fd0>"
      ]
     },
     "metadata": {},
     "output_type": "display_data"
    },
    {
     "data": {
      "image/png": "[encoded data removed]",
      "text/plain": [
       "<matplotlib.figure.Figure at 0x7efbd3578940>"
      ]
     },
     "metadata": {},
     "output_type": "display_data"
    }
   ],
   "source": [
    "plt.figure()\n",
    "sns.regplot(x='abun_abs_mean',y='abun_abs_CV', data=lna_scores)\n",
    "plt.xlabel('mean(abs)', size=22)\n",
    "plt.xticks(size=10)\n",
    "plt.ylabel('CV(abs)', size=22)\n",
    "plt.yticks(size=10)\n",
    "plt.show()"
   ]
  },
  {
   "cell_type": "markdown",
   "metadata": {},
   "source": [
    "Let's compare the HNA- and LNA-lists, which OTU's are shared (_common_) and which are only part of the HNA- or LNA subset?: "
   ]
  },
  {
   "cell_type": "code",
   "execution_count": 135,
   "metadata": {
    "collapsed": false
   },
   "outputs": [
    {
     "name": "stdout",
     "output_type": "stream",
     "text": [
      "Size subset OTUs only related to HNA: 33; opposed to total size: 60\n",
      "Size subset OTUs only related to LNA: 166; opposed to total size: 193\n",
      "Size subset OTUs related to both: 27\n"
     ]
    },
    {
     "data": {
      "text/html": [
       "<div>\n",
       "<table border=\"1\" class=\"dataframe\">\n",
       "  <thead>\n",
       "    <tr style=\"text-align: right;\">\n",
       "      <th></th>\n",
       "      <th>score</th>\n",
       "      <th>abun_abs_mean</th>\n",
       "      <th>abun_abs_CV</th>\n",
       "      <th>abun_rel_mean</th>\n",
       "      <th>abun_rel_CV</th>\n",
       "    </tr>\n",
       "  </thead>\n",
       "  <tbody>\n",
       "    <tr>\n",
       "      <th>Otu000009</th>\n",
       "      <td>0.583333</td>\n",
       "      <td>150958.577254</td>\n",
       "      <td>0.788330</td>\n",
       "      <td>0.031635</td>\n",
       "      <td>0.507992</td>\n",
       "    </tr>\n",
       "    <tr>\n",
       "      <th>Otu000382</th>\n",
       "      <td>0.580000</td>\n",
       "      <td>102.601406</td>\n",
       "      <td>5.578846</td>\n",
       "      <td>0.000135</td>\n",
       "      <td>6.026530</td>\n",
       "    </tr>\n",
       "    <tr>\n",
       "      <th>Otu000227</th>\n",
       "      <td>0.200000</td>\n",
       "      <td>2468.550148</td>\n",
       "      <td>1.373379</td>\n",
       "      <td>0.000494</td>\n",
       "      <td>1.177623</td>\n",
       "    </tr>\n",
       "    <tr>\n",
       "      <th>Otu007625</th>\n",
       "      <td>0.540000</td>\n",
       "      <td>73.509481</td>\n",
       "      <td>9.868519</td>\n",
       "      <td>0.000020</td>\n",
       "      <td>8.768991</td>\n",
       "    </tr>\n",
       "    <tr>\n",
       "      <th>Otu000011</th>\n",
       "      <td>0.330000</td>\n",
       "      <td>168900.635115</td>\n",
       "      <td>1.016108</td>\n",
       "      <td>0.034066</td>\n",
       "      <td>0.641350</td>\n",
       "    </tr>\n",
       "    <tr>\n",
       "      <th>Otu000025</th>\n",
       "      <td>0.376667</td>\n",
       "      <td>77605.710439</td>\n",
       "      <td>1.012949</td>\n",
       "      <td>0.014966</td>\n",
       "      <td>0.755597</td>\n",
       "    </tr>\n",
       "    <tr>\n",
       "      <th>Otu000047</th>\n",
       "      <td>0.210000</td>\n",
       "      <td>19404.490287</td>\n",
       "      <td>2.128604</td>\n",
       "      <td>0.003984</td>\n",
       "      <td>1.963976</td>\n",
       "    </tr>\n",
       "    <tr>\n",
       "      <th>Otu000487</th>\n",
       "      <td>0.370000</td>\n",
       "      <td>3320.641086</td>\n",
       "      <td>1.464180</td>\n",
       "      <td>0.000575</td>\n",
       "      <td>1.318470</td>\n",
       "    </tr>\n",
       "    <tr>\n",
       "      <th>Otu000004</th>\n",
       "      <td>0.513333</td>\n",
       "      <td>315529.656001</td>\n",
       "      <td>0.929570</td>\n",
       "      <td>0.066357</td>\n",
       "      <td>0.586675</td>\n",
       "    </tr>\n",
       "    <tr>\n",
       "      <th>Otu000765</th>\n",
       "      <td>0.296667</td>\n",
       "      <td>119.842712</td>\n",
       "      <td>6.826912</td>\n",
       "      <td>0.000054</td>\n",
       "      <td>6.312812</td>\n",
       "    </tr>\n",
       "    <tr>\n",
       "      <th>Otu000050</th>\n",
       "      <td>0.440000</td>\n",
       "      <td>28528.909848</td>\n",
       "      <td>1.505118</td>\n",
       "      <td>0.005405</td>\n",
       "      <td>1.550679</td>\n",
       "    </tr>\n",
       "    <tr>\n",
       "      <th>Otu000106</th>\n",
       "      <td>0.216667</td>\n",
       "      <td>9614.581154</td>\n",
       "      <td>1.156890</td>\n",
       "      <td>0.002227</td>\n",
       "      <td>1.025411</td>\n",
       "    </tr>\n",
       "    <tr>\n",
       "      <th>Otu000016</th>\n",
       "      <td>0.440000</td>\n",
       "      <td>92478.486609</td>\n",
       "      <td>1.028990</td>\n",
       "      <td>0.018102</td>\n",
       "      <td>0.734115</td>\n",
       "    </tr>\n",
       "    <tr>\n",
       "      <th>Otu000057</th>\n",
       "      <td>0.273333</td>\n",
       "      <td>21448.566735</td>\n",
       "      <td>1.944616</td>\n",
       "      <td>0.004776</td>\n",
       "      <td>2.062793</td>\n",
       "    </tr>\n",
       "    <tr>\n",
       "      <th>Otu000007</th>\n",
       "      <td>0.636667</td>\n",
       "      <td>124358.796053</td>\n",
       "      <td>0.821328</td>\n",
       "      <td>0.027377</td>\n",
       "      <td>0.631862</td>\n",
       "    </tr>\n",
       "    <tr>\n",
       "      <th>Otu000319</th>\n",
       "      <td>0.360000</td>\n",
       "      <td>4909.207366</td>\n",
       "      <td>1.435473</td>\n",
       "      <td>0.000813</td>\n",
       "      <td>1.255270</td>\n",
       "    </tr>\n",
       "    <tr>\n",
       "      <th>Otu000124</th>\n",
       "      <td>0.336667</td>\n",
       "      <td>12708.096411</td>\n",
       "      <td>1.177056</td>\n",
       "      <td>0.002652</td>\n",
       "      <td>1.135283</td>\n",
       "    </tr>\n",
       "    <tr>\n",
       "      <th>Otu000030</th>\n",
       "      <td>0.243333</td>\n",
       "      <td>29296.790336</td>\n",
       "      <td>1.860538</td>\n",
       "      <td>0.007137</td>\n",
       "      <td>2.027226</td>\n",
       "    </tr>\n",
       "    <tr>\n",
       "      <th>Otu000005</th>\n",
       "      <td>0.453333</td>\n",
       "      <td>132973.287096</td>\n",
       "      <td>1.819804</td>\n",
       "      <td>0.020487</td>\n",
       "      <td>1.602101</td>\n",
       "    </tr>\n",
       "    <tr>\n",
       "      <th>Otu000139</th>\n",
       "      <td>0.193333</td>\n",
       "      <td>10858.662167</td>\n",
       "      <td>1.667759</td>\n",
       "      <td>0.001900</td>\n",
       "      <td>1.361802</td>\n",
       "    </tr>\n",
       "    <tr>\n",
       "      <th>Otu000104</th>\n",
       "      <td>0.256667</td>\n",
       "      <td>19966.747626</td>\n",
       "      <td>1.362998</td>\n",
       "      <td>0.003800</td>\n",
       "      <td>1.146814</td>\n",
       "    </tr>\n",
       "    <tr>\n",
       "      <th>Otu000048</th>\n",
       "      <td>0.220000</td>\n",
       "      <td>30478.882095</td>\n",
       "      <td>1.778752</td>\n",
       "      <td>0.004783</td>\n",
       "      <td>1.853944</td>\n",
       "    </tr>\n",
       "    <tr>\n",
       "      <th>Otu003229</th>\n",
       "      <td>0.216667</td>\n",
       "      <td>51.902433</td>\n",
       "      <td>7.137098</td>\n",
       "      <td>0.000028</td>\n",
       "      <td>6.969822</td>\n",
       "    </tr>\n",
       "    <tr>\n",
       "      <th>Otu000029</th>\n",
       "      <td>0.333333</td>\n",
       "      <td>55571.334794</td>\n",
       "      <td>1.315223</td>\n",
       "      <td>0.010049</td>\n",
       "      <td>0.990743</td>\n",
       "    </tr>\n",
       "    <tr>\n",
       "      <th>Otu000209</th>\n",
       "      <td>0.180000</td>\n",
       "      <td>729.390584</td>\n",
       "      <td>3.127674</td>\n",
       "      <td>0.000561</td>\n",
       "      <td>3.662505</td>\n",
       "    </tr>\n",
       "    <tr>\n",
       "      <th>Otu008167</th>\n",
       "      <td>0.280000</td>\n",
       "      <td>15.077090</td>\n",
       "      <td>11.132516</td>\n",
       "      <td>0.000009</td>\n",
       "      <td>11.252146</td>\n",
       "    </tr>\n",
       "    <tr>\n",
       "      <th>Otu000152</th>\n",
       "      <td>0.210000</td>\n",
       "      <td>11044.198509</td>\n",
       "      <td>2.331922</td>\n",
       "      <td>0.001538</td>\n",
       "      <td>1.938612</td>\n",
       "    </tr>\n",
       "  </tbody>\n",
       "</table>\n",
       "</div>"
      ],
      "text/plain": [
       "              score  abun_abs_mean  abun_abs_CV  abun_rel_mean  abun_rel_CV\n",
       "Otu000009  0.583333  150958.577254     0.788330       0.031635     0.507992\n",
       "Otu000382  0.580000     102.601406     5.578846       0.000135     6.026530\n",
       "Otu000227  0.200000    2468.550148     1.373379       0.000494     1.177623\n",
       "Otu007625  0.540000      73.509481     9.868519       0.000020     8.768991\n",
       "Otu000011  0.330000  168900.635115     1.016108       0.034066     0.641350\n",
       "Otu000025  0.376667   77605.710439     1.012949       0.014966     0.755597\n",
       "Otu000047  0.210000   19404.490287     2.128604       0.003984     1.963976\n",
       "Otu000487  0.370000    3320.641086     1.464180       0.000575     1.318470\n",
       "Otu000004  0.513333  315529.656001     0.929570       0.066357     0.586675\n",
       "Otu000765  0.296667     119.842712     6.826912       0.000054     6.312812\n",
       "Otu000050  0.440000   28528.909848     1.505118       0.005405     1.550679\n",
       "Otu000106  0.216667    9614.581154     1.156890       0.002227     1.025411\n",
       "Otu000016  0.440000   92478.486609     1.028990       0.018102     0.734115\n",
       "Otu000057  0.273333   21448.566735     1.944616       0.004776     2.062793\n",
       "Otu000007  0.636667  124358.796053     0.821328       0.027377     0.631862\n",
       "Otu000319  0.360000    4909.207366     1.435473       0.000813     1.255270\n",
       "Otu000124  0.336667   12708.096411     1.177056       0.002652     1.135283\n",
       "Otu000030  0.243333   29296.790336     1.860538       0.007137     2.027226\n",
       "Otu000005  0.453333  132973.287096     1.819804       0.020487     1.602101\n",
       "Otu000139  0.193333   10858.662167     1.667759       0.001900     1.361802\n",
       "Otu000104  0.256667   19966.747626     1.362998       0.003800     1.146814\n",
       "Otu000048  0.220000   30478.882095     1.778752       0.004783     1.853944\n",
       "Otu003229  0.216667      51.902433     7.137098       0.000028     6.969822\n",
       "Otu000029  0.333333   55571.334794     1.315223       0.010049     0.990743\n",
       "Otu000209  0.180000     729.390584     3.127674       0.000561     3.662505\n",
       "Otu008167  0.280000      15.077090    11.132516       0.000009    11.252146\n",
       "Otu000152  0.210000   11044.198509     2.331922       0.001538     1.938612"
      ]
     },
     "metadata": {},
     "output_type": "display_data"
    }
   ],
   "source": [
    "idx_hna = hna_scores.index.difference(lna_scores.index)\n",
    "idx_lna = lna_scores.index.difference(hna_scores.index)\n",
    "idx_common = hna_scores.drop(idx_hna).index\n",
    "pd.Series(idx_common).to_csv('commonOTU_HNALNA_abun.001.csv')\n",
    "print('Size subset OTUs only related to HNA: ' + str(len(idx_hna)) + '; opposed to total size: ' + str(len(hna_scores)))\n",
    "print('Size subset OTUs only related to LNA: ' + str(len(idx_lna)) + '; opposed to total size: ' + str(len(lna_scores)))\n",
    "print('Size subset OTUs related to both: ' + str(len(idx_common)))\n",
    "\n",
    "display(lna_scores.loc[idx_common,:])\n",
    "#data_abs_raw = pd.read_csv('data/Chloroplasts_removed/nochloro_absolute_otu.tsv', sep=' ', index_col=None, header=0)\n",
    "#data_abs_raw = data_abs_raw.loc[index,:]\n",
    "#display(data_abs_raw.loc[:,idx_hna].sum(axis=1).values/hna.values)"
   ]
  },
  {
   "cell_type": "code",
   "execution_count": 133,
   "metadata": {
    "collapsed": false
   },
   "outputs": [
    {
     "data": {
      "image/png": "[encoded data removed]",
      "text/plain": [
       "<matplotlib.figure.Figure at 0x7efbd4675be0>"
      ]
     },
     "metadata": {},
     "output_type": "display_data"
    }
   ],
   "source": [
    "plt.figure()\n",
    "sns.regplot(x=hna_scores.loc[idx_common,'score'],y=lna_scores.loc[idx_common,'score'])\n",
    "plt.xlabel('score(HNA)', size=22)\n",
    "plt.xticks(size=10)\n",
    "plt.ylabel('score(LNA)', size=22)\n",
    "plt.yticks(size=10)\n",
    "plt.show()"
   ]
  },
  {
   "cell_type": "markdown",
   "metadata": {},
   "source": [
    "This analysis shows that the HNA/LNA dynamics cannot solely be attributed to OTU's that are present in the respective cloud; I see two reasons for this: \n",
    "- Some OTU's are simply present in the two clouds; \n",
    "- Some HNA-OTU's interact with LNA-OTU's and vice versa. "
   ]
  }
 ],
 "metadata": {
  "anaconda-cloud": {},
  "kernelspec": {
   "display_name": "Python [conda root]",
   "language": "python",
   "name": "conda-root-py"
  },
  "language_info": {
   "codemirror_mode": {
    "name": "ipython",
    "version": 3
   },
   "file_extension": ".py",
   "mimetype": "text/x-python",
   "name": "python",
   "nbconvert_exporter": "python",
   "pygments_lexer": "ipython3",
   "version": "3.4.5"
  }
 },
 "nbformat": 4,
 "nbformat_minor": 1
}
