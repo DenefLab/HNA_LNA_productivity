{
 "cells": [
  {
   "cell_type": "code",
   "execution_count": 1,
   "metadata": {
    "scrolled": true
   },
   "outputs": [
    {
     "name": "stderr",
     "output_type": "stream",
     "text": [
      "/home/prubbens/miniconda3/lib/python3.6/site-packages/sklearn/cross_validation.py:41: DeprecationWarning: This module was deprecated in version 0.18 in favor of the model_selection module into which all the refactored classes and functions are moved. Also note that the interface of the new CV iterators are different from that of this module. This module will be removed in 0.20.\n",
      "  \"This module will be removed in 0.20.\", DeprecationWarning)\n"
     ]
    }
   ],
   "source": [
    "'''Import packages'''\n",
    "'''Requires numpy, pandas, scikit-learn, and matplotlib/seaborn'''\n",
    "import numpy as np\n",
    "import pandas as pd\n",
    "from skbio.stats import composition\n",
    "from sklearn.feature_selection import f_regression\n",
    "from sklearn.feature_selection import mutual_info_regression\n",
    "from sklearn.model_selection import KFold\n",
    "from sklearn.model_selection import cross_val_predict\n",
    "from sklearn.linear_model import Lasso\n",
    "from scipy.stats import kendalltau\n",
    "\n",
    "import matplotlib.pyplot as plt\n",
    "import seaborn as sns\n",
    "sns.set_style(\"ticks\")\n",
    "\n",
    "'''Import script which contains functions'''\n",
    "import analysis_functions\n",
    "from analysis_functions import get_r2\n",
    "from analysis_functions import get_lassoCV\n",
    "from analysis_functions import perform_randomizedLasso\n",
    "\n",
    "from IPython.display import display, HTML\n",
    "\n",
    "#If we want to time the implementation: \n",
    "#import time\n",
    "#start_time = time.time()"
   ]
  },
  {
   "cell_type": "markdown",
   "metadata": {},
   "source": [
    "Import the dataframes: "
   ]
  },
  {
   "cell_type": "code",
   "execution_count": 2,
   "metadata": {
    "scrolled": true
   },
   "outputs": [],
   "source": [
    "'''Import data'''\n",
    "data_abs = pd.read_csv('data/Chloroplasts_removed/ByLake_Filtering/1in3/muskegon/muskegon_absolute_otu_1in3.tsv', sep=' ', index_col=None, header=0, float_precision='high')\n",
    "data_rel = pd.read_csv('data/Chloroplasts_removed/ByLake_Filtering/1in3/muskegon/muskegon_relative_otu_1in3.tsv', sep=' ', index_col=None, header=0, float_precision='high')\n",
    "target = pd.read_csv('data/Chloroplasts_removed/ByLake_Filtering/1in3/muskegon/muskegon_sampledata_1in3.tsv', sep= ' ', index_col=0, header=0)"
   ]
  },
  {
   "cell_type": "markdown",
   "metadata": {},
   "source": [
    "**2)**: At 01-05-'17 @marschmi found that a few samples can be seen as outliers, as they represent the bottom waters of productive inland lakes, resulting in a big difference of the HNA percentage. These samples are the following: Z14055F, Z14003F, Z14007F, Z14023F, Z14011F. A code of line is added, in order to be able to run the pipeline without these samples; "
   ]
  },
  {
   "cell_type": "code",
   "execution_count": 3,
   "metadata": {},
   "outputs": [],
   "source": [
    "index = target.Lake[target.Lake == 'Muskegon'].index"
   ]
  },
  {
   "cell_type": "code",
   "execution_count": 4,
   "metadata": {},
   "outputs": [],
   "source": [
    "'''Set sample names as index and shuffle data'''\n",
    "\n",
    "#Remove outlier samples:\n",
    "data_abs = data_abs.loc[index,:] \n",
    "data_rel = data_rel.loc[index,:]\n",
    "target = target.loc[index,:]\n",
    "#productivity = productivity.loc[index,:]\n",
    "\n",
    "#Shuffle data: \n",
    "#data_abs = data_abs.sample(frac=1, random_state=3)\n",
    "#data_rel = data_rel.sample(frac=1, random_state=3)\n",
    "#target = target.sample(frac=1, random_state=3)\n",
    "#productivity = productivity.sample(frac=1, random_state=3) \n",
    "\n",
    "#Create target columns of HNA-values: \n",
    "hna = target.loc[:,'HNA.cells']\n",
    "hna_rel = hna/target.loc[:,'Total.cells']\n",
    "hna = pd.Series(hna, index=hna.index)\n",
    "hna_rel = pd.Series(hna_rel, index=hna.index)\n",
    "\n",
    "#Create target columns of LNA-values: \n",
    "lna = target.loc[:,'LNA.cells']\n",
    "lna_rel = lna/target.loc[:,'Total.cells']\n",
    "lna = pd.Series(lna, index=lna.index)\n",
    "lna_rel = pd.Series(lna_rel, index=lna.index)"
   ]
  },
  {
   "cell_type": "code",
   "execution_count": 5,
   "metadata": {},
   "outputs": [],
   "source": [
    "#Some variables to store information and to create inner and outer CV-folds\n",
    "otus = list(data_rel.columns)\n",
    "cv = 5"
   ]
  },
  {
   "cell_type": "code",
   "execution_count": 6,
   "metadata": {},
   "outputs": [],
   "source": [
    "''' Log-Ratio analyses '''\n",
    "data_rel_repl = composition.multiplicative_replacement(data_rel.loc[:,otus])\n",
    "data_rel_clr = pd.DataFrame(composition.clr(data_rel_repl), columns=otus)\n",
    "\n",
    "''' Standardize data '''\n",
    "from analysis_functions import standardize_df\n",
    "data_stand, scaler = standardize_df(data_rel_clr,otus)"
   ]
  },
  {
   "cell_type": "markdown",
   "metadata": {},
   "source": [
    "To do so, we use the **_Randomized Lasso_**: this method makes use of two kinds of randomization in order to select variables (i.e., OTU's) with a certain _stability_: (1) it fits a Lasso to various bootstrap subsamples and (2) it perturbs the initial weighting of certain variables. \n",
    "\n",
    "This results in a $score \\in [0,1]$ that is assigned to variables, with 0 denoting the case where a variable is never chosen by the Lasso, and 1 denoting the case where a variable always is chosen. In other words, the higher the score, the more important a variable can be considered to be. "
   ]
  },
  {
   "cell_type": "markdown",
   "metadata": {},
   "source": [
    "**First goal: ** try to pinpoint those OTU's for which we are sure they are present in the '_HNA-cloud_'. "
   ]
  },
  {
   "cell_type": "markdown",
   "metadata": {},
   "source": [
    "**Univariate Feature Selection**: \n",
    "\n",
    "Let's compare two methods: \n",
    "- f_regression (f-score pearson correlation), \n",
    "- Mutual information,  \n",
    "- (other methods can follow as well). "
   ]
  },
  {
   "cell_type": "code",
   "execution_count": 7,
   "metadata": {},
   "outputs": [
    {
     "data": {
      "text/html": [
       "<div>\n",
       "<style scoped>\n",
       "    .dataframe tbody tr th:only-of-type {\n",
       "        vertical-align: middle;\n",
       "    }\n",
       "\n",
       "    .dataframe tbody tr th {\n",
       "        vertical-align: top;\n",
       "    }\n",
       "\n",
       "    .dataframe thead th {\n",
       "        text-align: right;\n",
       "    }\n",
       "</style>\n",
       "<table border=\"1\" class=\"dataframe\">\n",
       "  <thead>\n",
       "    <tr style=\"text-align: right;\">\n",
       "      <th></th>\n",
       "      <th>f_regr</th>\n",
       "      <th>p-value</th>\n",
       "      <th>kendall</th>\n",
       "      <th>p_kendall</th>\n",
       "    </tr>\n",
       "  </thead>\n",
       "  <tbody>\n",
       "    <tr>\n",
       "      <th>Otu000001</th>\n",
       "      <td>1.432639</td>\n",
       "      <td>0.236042</td>\n",
       "      <td>-0.088313</td>\n",
       "      <td>0.310405</td>\n",
       "    </tr>\n",
       "    <tr>\n",
       "      <th>Otu000004</th>\n",
       "      <td>0.322152</td>\n",
       "      <td>0.572435</td>\n",
       "      <td>0.033316</td>\n",
       "      <td>0.701967</td>\n",
       "    </tr>\n",
       "    <tr>\n",
       "      <th>Otu000005</th>\n",
       "      <td>2.407750</td>\n",
       "      <td>0.125995</td>\n",
       "      <td>0.219461</td>\n",
       "      <td>0.011711</td>\n",
       "    </tr>\n",
       "    <tr>\n",
       "      <th>Otu000006</th>\n",
       "      <td>0.043832</td>\n",
       "      <td>0.834875</td>\n",
       "      <td>-0.031200</td>\n",
       "      <td>0.720066</td>\n",
       "    </tr>\n",
       "    <tr>\n",
       "      <th>Otu000007</th>\n",
       "      <td>2.594916</td>\n",
       "      <td>0.112456</td>\n",
       "      <td>0.142253</td>\n",
       "      <td>0.102274</td>\n",
       "    </tr>\n",
       "    <tr>\n",
       "      <th>Otu000009</th>\n",
       "      <td>1.800903</td>\n",
       "      <td>0.184660</td>\n",
       "      <td>0.111581</td>\n",
       "      <td>0.199972</td>\n",
       "    </tr>\n",
       "    <tr>\n",
       "      <th>Otu000010</th>\n",
       "      <td>2.886798</td>\n",
       "      <td>0.094488</td>\n",
       "      <td>-0.077737</td>\n",
       "      <td>0.371916</td>\n",
       "    </tr>\n",
       "    <tr>\n",
       "      <th>Otu000011</th>\n",
       "      <td>0.286005</td>\n",
       "      <td>0.594769</td>\n",
       "      <td>0.030143</td>\n",
       "      <td>0.729175</td>\n",
       "    </tr>\n",
       "    <tr>\n",
       "      <th>Otu000012</th>\n",
       "      <td>3.772816</td>\n",
       "      <td>0.056790</td>\n",
       "      <td>-0.298784</td>\n",
       "      <td>0.000599</td>\n",
       "    </tr>\n",
       "    <tr>\n",
       "      <th>Otu000014</th>\n",
       "      <td>0.084713</td>\n",
       "      <td>0.772014</td>\n",
       "      <td>-0.070333</td>\n",
       "      <td>0.419175</td>\n",
       "    </tr>\n",
       "  </tbody>\n",
       "</table>\n",
       "</div>"
      ],
      "text/plain": [
       "             f_regr   p-value   kendall  p_kendall\n",
       "Otu000001  1.432639  0.236042 -0.088313   0.310405\n",
       "Otu000004  0.322152  0.572435  0.033316   0.701967\n",
       "Otu000005  2.407750  0.125995  0.219461   0.011711\n",
       "Otu000006  0.043832  0.834875 -0.031200   0.720066\n",
       "Otu000007  2.594916  0.112456  0.142253   0.102274\n",
       "Otu000009  1.800903  0.184660  0.111581   0.199972\n",
       "Otu000010  2.886798  0.094488 -0.077737   0.371916\n",
       "Otu000011  0.286005  0.594769  0.030143   0.729175\n",
       "Otu000012  3.772816  0.056790 -0.298784   0.000599\n",
       "Otu000014  0.084713  0.772014 -0.070333   0.419175"
      ]
     },
     "metadata": {},
     "output_type": "display_data"
    }
   ],
   "source": [
    "f_regr, f_regr_p = f_regression(data_stand.loc[:,otus],hna)\n",
    "kendall = np.zeros(len(otus))\n",
    "p_kendall = np.zeros(len(otus))\n",
    "for i in np.arange(0,len(otus)):\n",
    "    kendall[i], p_kendall[i] = kendalltau(data_stand.loc[:,otus[i]],hna)\n",
    "uni_fs = pd.DataFrame(f_regr, index=otus, columns = ['f_regr'])\n",
    "uni_fs['p-value'] = f_regr_p\n",
    "uni_fs['kendall'] = kendall\n",
    "uni_fs['p_kendall'] = p_kendall\n",
    "display(uni_fs.head(10))"
   ]
  },
  {
   "cell_type": "markdown",
   "metadata": {},
   "source": [
    "Select otu's based on $p < \\text{thr}$: "
   ]
  },
  {
   "cell_type": "code",
   "execution_count": 8,
   "metadata": {
    "scrolled": false
   },
   "outputs": [
    {
     "name": "stdout",
     "output_type": "stream",
     "text": [
      "Total OTUs: 1723\n",
      "Number of selected OTUs using Kendall tau with p < 0.05: 226\n",
      "Number of selected OTUs using Kendall tau with p < 0.01: 112\n"
     ]
    }
   ],
   "source": [
    "print('Total OTUs: ' + str(len(otus)))\n",
    "uni_fs_selected_f = uni_fs[uni_fs.loc[:,'p_kendall'].values < 0.05]\n",
    "print('Number of selected OTUs using Kendall tau with p < 0.05: ' + str(len(uni_fs_selected_f)))\n",
    "uni_fs_selected_f = uni_fs[uni_fs.loc[:,'p_kendall'].values < 0.01]\n",
    "print('Number of selected OTUs using Kendall tau with p < 0.01: ' + str(len(uni_fs_selected_f)))"
   ]
  },
  {
   "cell_type": "markdown",
   "metadata": {},
   "source": [
    "What happens when we tune a threshold in function of the f_score: "
   ]
  },
  {
   "cell_type": "code",
   "execution_count": 9,
   "metadata": {},
   "outputs": [],
   "source": [
    "from analysis_functions import get_r2_scores\n",
    "thr_otu_kendall_hna, r2_otu_kendall_hna = get_r2_scores(data_stand.loc[:,otus], hna, otus, np.abs(uni_fs['kendall']), cv)\n",
    "thr_otu_kendall_lna, r2_otu_kendall_lna = get_r2_scores(data_stand.loc[:,otus], lna, otus, np.abs(uni_fs['kendall']), cv)"
   ]
  },
  {
   "cell_type": "code",
   "execution_count": 10,
   "metadata": {},
   "outputs": [
    {
     "data": {
      "image/png": "[encoded data removed]",
      "text/plain": [
       "<matplotlib.figure.Figure at 0x7fb9f136f2b0>"
      ]
     },
     "metadata": {},
     "output_type": "display_data"
    }
   ],
   "source": [
    "plt.figure()\n",
    "sns.regplot(x=thr_otu_kendall_hna,y=r2_otu_kendall_hna, fit_reg=False, label='HNA')\n",
    "sns.regplot(x=thr_otu_kendall_lna,y=r2_otu_kendall_lna, fit_reg=False, label='LNA')\n",
    "plt.xlabel('Kendall Tau score', size=22)\n",
    "plt.xticks(size=10)\n",
    "plt.ylabel(r'$R^2$', size=22)\n",
    "plt.yticks(size=10)\n",
    "#plt.title('F-test', size=24)\n",
    "plt.legend()\n",
    "plt.show()"
   ]
  },
  {
   "cell_type": "code",
   "execution_count": 11,
   "metadata": {},
   "outputs": [
    {
     "name": "stderr",
     "output_type": "stream",
     "text": [
      "/home/prubbens/miniconda3/lib/python3.6/site-packages/sklearn/utils/deprecation.py:58: DeprecationWarning: Class RandomizedLasso is deprecated; The class RandomizedLasso is deprecated in 0.19 and will be removed in 0.21.\n",
      "  warnings.warn(msg, category=DeprecationWarning)\n"
     ]
    }
   ],
   "source": [
    "from analysis_functions import get_lassoCV_alpha\n",
    "\n",
    "alpha = get_lassoCV_alpha(data_stand.loc[:,otus],hna,otus,cv)\n",
    "    \n",
    "otu_scores = pd.DataFrame(perform_randomizedLasso(data_stand.loc[:,otus], hna, alpha), index=otus, columns=['score'])\n",
    "otu_scores.sort_values(ascending=False,inplace=True, by='score')\n",
    "\n",
    "thr_otu_scores_hna, r2_otu_scores_hna = get_r2_scores(data_stand.loc[:,otus], hna, otus, otu_scores, cv)\n",
    "thr_otu_scores_lna, r2_otu_scores_lna = get_r2_scores(data_stand.loc[:,otus], lna, otus, otu_scores, cv)"
   ]
  },
  {
   "cell_type": "code",
   "execution_count": 12,
   "metadata": {},
   "outputs": [
    {
     "data": {
      "image/png": "[encoded data removed]",
      "text/plain": [
       "<matplotlib.figure.Figure at 0x7fb9f1236400>"
      ]
     },
     "metadata": {},
     "output_type": "display_data"
    }
   ],
   "source": [
    "plt.figure()\n",
    "sns.regplot(x=thr_otu_scores_hna,y=r2_otu_scores_hna, fit_reg=False, label='HNA')\n",
    "sns.regplot(x=thr_otu_scores_lna,y=r2_otu_scores_lna, fit_reg=False, label='LNA')\n",
    "plt.axis([-0.005,1.005,0,1])\n",
    "plt.xlabel('Score', size=22)\n",
    "plt.xticks(size=10)\n",
    "plt.ylabel(r'$R^2$', size=22)\n",
    "plt.yticks(size=10)\n",
    "plt.legend()\n",
    "plt.title('Stability Selection HNA', size=24)\n",
    "plt.show()"
   ]
  },
  {
   "cell_type": "code",
   "execution_count": 13,
   "metadata": {},
   "outputs": [
    {
     "name": "stdout",
     "output_type": "stream",
     "text": [
      "R²_cv(hna): 0.853161309125\n",
      "Threshold score: 0.23\n"
     ]
    }
   ],
   "source": [
    "r2_final = r2_otu_scores_hna.max()\n",
    "thr = thr_otu_scores_hna[r2_otu_scores_hna.argmax()]\n",
    "print('R²_cv(hna): ' + str(r2_final) )\n",
    "print('Threshold score: ' + str(thr))"
   ]
  },
  {
   "cell_type": "code",
   "execution_count": 14,
   "metadata": {},
   "outputs": [],
   "source": [
    "otu_scores = otu_scores.assign(abun_abs_mean = data_abs.loc[:,otus].mean())\n",
    "otu_scores = otu_scores.assign(abun_abs_CV = data_abs.loc[:,otus].std()/data_abs.loc[:,otus].mean())\n",
    "otu_scores =  otu_scores.assign(abun_rel_mean = data_rel.loc[:,otus].mean())\n",
    "otu_scores = otu_scores.assign(abun_rel_CV = data_rel.loc[:,otus].std()/data_rel.loc[:,otus].mean())\n",
    "otu_scores['kendall'] = uni_fs.loc[otu_scores.index,'kendall']\n",
    "otu_scores['p_kendall'] = uni_fs.loc[otu_scores.index,'p_kendall']\n",
    "otu_scores.to_csv('Final/hnascores_otus_1seq3_rel_Muskegon.csv')"
   ]
  },
  {
   "cell_type": "code",
   "execution_count": 15,
   "metadata": {},
   "outputs": [
    {
     "data": {
      "text/html": [
       "<div>\n",
       "<style scoped>\n",
       "    .dataframe tbody tr th:only-of-type {\n",
       "        vertical-align: middle;\n",
       "    }\n",
       "\n",
       "    .dataframe tbody tr th {\n",
       "        vertical-align: top;\n",
       "    }\n",
       "\n",
       "    .dataframe thead th {\n",
       "        text-align: right;\n",
       "    }\n",
       "</style>\n",
       "<table border=\"1\" class=\"dataframe\">\n",
       "  <thead>\n",
       "    <tr style=\"text-align: right;\">\n",
       "      <th></th>\n",
       "      <th>score</th>\n",
       "      <th>abun_abs_mean</th>\n",
       "      <th>abun_abs_CV</th>\n",
       "      <th>abun_rel_mean</th>\n",
       "      <th>abun_rel_CV</th>\n",
       "      <th>kendall</th>\n",
       "      <th>p_kendall</th>\n",
       "    </tr>\n",
       "  </thead>\n",
       "  <tbody>\n",
       "    <tr>\n",
       "      <th>Otu000173</th>\n",
       "      <td>0.514</td>\n",
       "      <td>17982.674014</td>\n",
       "      <td>1.283752</td>\n",
       "      <td>0.002493</td>\n",
       "      <td>1.133719</td>\n",
       "      <td>0.555791</td>\n",
       "      <td>1.726790e-10</td>\n",
       "    </tr>\n",
       "    <tr>\n",
       "      <th>Otu000271</th>\n",
       "      <td>0.470</td>\n",
       "      <td>11451.572755</td>\n",
       "      <td>1.573856</td>\n",
       "      <td>0.001448</td>\n",
       "      <td>1.328281</td>\n",
       "      <td>0.322052</td>\n",
       "      <td>2.163519e-04</td>\n",
       "    </tr>\n",
       "    <tr>\n",
       "      <th>Otu000409</th>\n",
       "      <td>0.396</td>\n",
       "      <td>901.523111</td>\n",
       "      <td>2.513040</td>\n",
       "      <td>0.000276</td>\n",
       "      <td>2.860081</td>\n",
       "      <td>-0.364357</td>\n",
       "      <td>2.851129e-05</td>\n",
       "    </tr>\n",
       "    <tr>\n",
       "      <th>Otu001267</th>\n",
       "      <td>0.388</td>\n",
       "      <td>789.642454</td>\n",
       "      <td>2.467331</td>\n",
       "      <td>0.000090</td>\n",
       "      <td>2.500946</td>\n",
       "      <td>0.206769</td>\n",
       "      <td>1.755057e-02</td>\n",
       "    </tr>\n",
       "    <tr>\n",
       "      <th>Otu000403</th>\n",
       "      <td>0.370</td>\n",
       "      <td>3252.630417</td>\n",
       "      <td>2.340936</td>\n",
       "      <td>0.000476</td>\n",
       "      <td>1.866503</td>\n",
       "      <td>-0.246959</td>\n",
       "      <td>4.559724e-03</td>\n",
       "    </tr>\n",
       "    <tr>\n",
       "      <th>Otu001663</th>\n",
       "      <td>0.370</td>\n",
       "      <td>149.332153</td>\n",
       "      <td>3.612738</td>\n",
       "      <td>0.000021</td>\n",
       "      <td>3.603783</td>\n",
       "      <td>0.066103</td>\n",
       "      <td>4.476969e-01</td>\n",
       "    </tr>\n",
       "    <tr>\n",
       "      <th>Otu000614</th>\n",
       "      <td>0.344</td>\n",
       "      <td>1520.965162</td>\n",
       "      <td>1.589291</td>\n",
       "      <td>0.000245</td>\n",
       "      <td>1.657208</td>\n",
       "      <td>0.123215</td>\n",
       "      <td>1.569920e-01</td>\n",
       "    </tr>\n",
       "    <tr>\n",
       "      <th>Otu000274</th>\n",
       "      <td>0.336</td>\n",
       "      <td>284.552149</td>\n",
       "      <td>5.283941</td>\n",
       "      <td>0.000024</td>\n",
       "      <td>4.839270</td>\n",
       "      <td>0.022739</td>\n",
       "      <td>7.939494e-01</td>\n",
       "    </tr>\n",
       "    <tr>\n",
       "      <th>Otu004486</th>\n",
       "      <td>0.336</td>\n",
       "      <td>4.194974</td>\n",
       "      <td>7.874008</td>\n",
       "      <td>0.000003</td>\n",
       "      <td>7.874008</td>\n",
       "      <td>-0.077737</td>\n",
       "      <td>3.719161e-01</td>\n",
       "    </tr>\n",
       "    <tr>\n",
       "      <th>Otu000267</th>\n",
       "      <td>0.334</td>\n",
       "      <td>7267.049909</td>\n",
       "      <td>1.549653</td>\n",
       "      <td>0.001655</td>\n",
       "      <td>1.898633</td>\n",
       "      <td>-0.236383</td>\n",
       "      <td>6.625285e-03</td>\n",
       "    </tr>\n",
       "  </tbody>\n",
       "</table>\n",
       "</div>"
      ],
      "text/plain": [
       "           score  abun_abs_mean  abun_abs_CV  abun_rel_mean  abun_rel_CV  \\\n",
       "Otu000173  0.514   17982.674014     1.283752       0.002493     1.133719   \n",
       "Otu000271  0.470   11451.572755     1.573856       0.001448     1.328281   \n",
       "Otu000409  0.396     901.523111     2.513040       0.000276     2.860081   \n",
       "Otu001267  0.388     789.642454     2.467331       0.000090     2.500946   \n",
       "Otu000403  0.370    3252.630417     2.340936       0.000476     1.866503   \n",
       "Otu001663  0.370     149.332153     3.612738       0.000021     3.603783   \n",
       "Otu000614  0.344    1520.965162     1.589291       0.000245     1.657208   \n",
       "Otu000274  0.336     284.552149     5.283941       0.000024     4.839270   \n",
       "Otu004486  0.336       4.194974     7.874008       0.000003     7.874008   \n",
       "Otu000267  0.334    7267.049909     1.549653       0.001655     1.898633   \n",
       "\n",
       "            kendall     p_kendall  \n",
       "Otu000173  0.555791  1.726790e-10  \n",
       "Otu000271  0.322052  2.163519e-04  \n",
       "Otu000409 -0.364357  2.851129e-05  \n",
       "Otu001267  0.206769  1.755057e-02  \n",
       "Otu000403 -0.246959  4.559724e-03  \n",
       "Otu001663  0.066103  4.476969e-01  \n",
       "Otu000614  0.123215  1.569920e-01  \n",
       "Otu000274  0.022739  7.939494e-01  \n",
       "Otu004486 -0.077737  3.719161e-01  \n",
       "Otu000267 -0.236383  6.625285e-03  "
      ]
     },
     "metadata": {},
     "output_type": "display_data"
    },
    {
     "name": "stdout",
     "output_type": "stream",
     "text": [
      "Size list selected OTUs: 30\n"
     ]
    }
   ],
   "source": [
    "otu_scores_selected = otu_scores[otu_scores.score.values>thr]\n",
    "selected_otus = otu_scores_selected.index\n",
    "otu_scores_selected.to_csv('Final/hnascores_otus_tuned_thr_'+str(thr)+'_1seq3_rel_Muskegon.csv')\n",
    "display(otu_scores_selected.head(10))\n",
    "print('Size list selected OTUs: ' + str(len(selected_otus)))"
   ]
  },
  {
   "cell_type": "code",
   "execution_count": 16,
   "metadata": {},
   "outputs": [
    {
     "name": "stdout",
     "output_type": "stream",
     "text": [
      "R²_cv of HNA-selected OTUs in function of LNA: 0.68738551496\n"
     ]
    }
   ],
   "source": [
    "print('R²_cv of HNA-selected OTUs in function of LNA: ' + str(r2_otu_scores_lna[r2_otu_scores_hna.argmax()]) )"
   ]
  },
  {
   "cell_type": "code",
   "execution_count": 17,
   "metadata": {},
   "outputs": [
    {
     "data": {
      "image/png": "[encoded data removed]",
      "text/plain": [
       "<matplotlib.figure.Figure at 0x7fb9f1196780>"
      ]
     },
     "metadata": {},
     "output_type": "display_data"
    }
   ],
   "source": [
    "plt.figure()\n",
    "sns.regplot(x='abun_rel_mean',y='abun_rel_CV', data=otu_scores_selected)\n",
    "plt.axis([-0.005,0.1,-5,5])\n",
    "plt.xlabel('Avg. Relative Abundance', size=22)\n",
    "plt.xticks(size=10)\n",
    "plt.ylabel('CV(abs)', size=22)\n",
    "plt.yticks(size=10)\n",
    "plt.title('Selected OTUs', size=24)\n",
    "plt.show()"
   ]
  },
  {
   "cell_type": "code",
   "execution_count": 18,
   "metadata": {},
   "outputs": [],
   "source": [
    "#optimal_scores.to_csv('HNA_selectedOTUs_stand_abun_remov' + str(abun)+'_R2'+str(r2_final)+'.csv')"
   ]
  },
  {
   "cell_type": "markdown",
   "metadata": {},
   "source": [
    "**Second goal**: Can we use the same pipeline to predict the _LNA_-counts? "
   ]
  },
  {
   "cell_type": "code",
   "execution_count": 19,
   "metadata": {},
   "outputs": [
    {
     "data": {
      "text/html": [
       "<div>\n",
       "<style scoped>\n",
       "    .dataframe tbody tr th:only-of-type {\n",
       "        vertical-align: middle;\n",
       "    }\n",
       "\n",
       "    .dataframe tbody tr th {\n",
       "        vertical-align: top;\n",
       "    }\n",
       "\n",
       "    .dataframe thead th {\n",
       "        text-align: right;\n",
       "    }\n",
       "</style>\n",
       "<table border=\"1\" class=\"dataframe\">\n",
       "  <thead>\n",
       "    <tr style=\"text-align: right;\">\n",
       "      <th></th>\n",
       "      <th>f_regr</th>\n",
       "      <th>p-value</th>\n",
       "      <th>kendall</th>\n",
       "      <th>p_kendall</th>\n",
       "    </tr>\n",
       "  </thead>\n",
       "  <tbody>\n",
       "    <tr>\n",
       "      <th>Otu000001</th>\n",
       "      <td>17.472090</td>\n",
       "      <td>0.236042</td>\n",
       "      <td>0.303014</td>\n",
       "      <td>5.005744e-04</td>\n",
       "    </tr>\n",
       "    <tr>\n",
       "      <th>Otu000004</th>\n",
       "      <td>4.556656</td>\n",
       "      <td>0.572435</td>\n",
       "      <td>0.168694</td>\n",
       "      <td>5.266812e-02</td>\n",
       "    </tr>\n",
       "    <tr>\n",
       "      <th>Otu000005</th>\n",
       "      <td>46.682912</td>\n",
       "      <td>0.125995</td>\n",
       "      <td>0.576943</td>\n",
       "      <td>3.429880e-11</td>\n",
       "    </tr>\n",
       "    <tr>\n",
       "      <th>Otu000006</th>\n",
       "      <td>11.725646</td>\n",
       "      <td>0.834875</td>\n",
       "      <td>0.250132</td>\n",
       "      <td>4.065418e-03</td>\n",
       "    </tr>\n",
       "    <tr>\n",
       "      <th>Otu000007</th>\n",
       "      <td>1.899885</td>\n",
       "      <td>0.112456</td>\n",
       "      <td>0.074564</td>\n",
       "      <td>3.917514e-01</td>\n",
       "    </tr>\n",
       "    <tr>\n",
       "      <th>Otu000009</th>\n",
       "      <td>2.006814</td>\n",
       "      <td>0.184660</td>\n",
       "      <td>0.103120</td>\n",
       "      <td>2.362366e-01</td>\n",
       "    </tr>\n",
       "    <tr>\n",
       "      <th>Otu000010</th>\n",
       "      <td>9.674437</td>\n",
       "      <td>0.094488</td>\n",
       "      <td>0.248017</td>\n",
       "      <td>4.389213e-03</td>\n",
       "    </tr>\n",
       "    <tr>\n",
       "      <th>Otu000011</th>\n",
       "      <td>0.176119</td>\n",
       "      <td>0.594769</td>\n",
       "      <td>0.036489</td>\n",
       "      <td>6.751345e-01</td>\n",
       "    </tr>\n",
       "    <tr>\n",
       "      <th>Otu000012</th>\n",
       "      <td>0.218377</td>\n",
       "      <td>0.056790</td>\n",
       "      <td>-0.110524</td>\n",
       "      <td>2.042688e-01</td>\n",
       "    </tr>\n",
       "    <tr>\n",
       "      <th>Otu000014</th>\n",
       "      <td>3.480942</td>\n",
       "      <td>0.772014</td>\n",
       "      <td>0.149656</td>\n",
       "      <td>8.562072e-02</td>\n",
       "    </tr>\n",
       "  </tbody>\n",
       "</table>\n",
       "</div>"
      ],
      "text/plain": [
       "              f_regr   p-value   kendall     p_kendall\n",
       "Otu000001  17.472090  0.236042  0.303014  5.005744e-04\n",
       "Otu000004   4.556656  0.572435  0.168694  5.266812e-02\n",
       "Otu000005  46.682912  0.125995  0.576943  3.429880e-11\n",
       "Otu000006  11.725646  0.834875  0.250132  4.065418e-03\n",
       "Otu000007   1.899885  0.112456  0.074564  3.917514e-01\n",
       "Otu000009   2.006814  0.184660  0.103120  2.362366e-01\n",
       "Otu000010   9.674437  0.094488  0.248017  4.389213e-03\n",
       "Otu000011   0.176119  0.594769  0.036489  6.751345e-01\n",
       "Otu000012   0.218377  0.056790 -0.110524  2.042688e-01\n",
       "Otu000014   3.480942  0.772014  0.149656  8.562072e-02"
      ]
     },
     "metadata": {},
     "output_type": "display_data"
    }
   ],
   "source": [
    "f_regr_lna, f_regr_p_lna = f_regression(data_stand.loc[:,otus],lna)\n",
    "uni_fs_lna = pd.DataFrame(f_regr_lna, index=otus, columns = ['f_regr'])\n",
    "uni_fs_lna['p-value'] = f_regr_p_lna\n",
    "kendall = np.zeros(len(otus))\n",
    "p_kendall = np.zeros(len(otus))\n",
    "for i in np.arange(0,len(otus)):\n",
    "    kendall[i], p_kendall[i] = kendalltau(data_stand.loc[:,otus[i]],lna)\n",
    "uni_fs_lna = pd.DataFrame(f_regr_lna, index=otus, columns = ['f_regr'])\n",
    "uni_fs_lna['p-value'] = f_regr_p\n",
    "uni_fs_lna['kendall'] = kendall\n",
    "uni_fs_lna['p_kendall'] = p_kendall\n",
    "#uni_fs_lna['mi'] = mutual_info_regression(data_stand.loc[:,otus],lna)\n",
    "#uni_fs_lna.sort_values(ascending=False,inplace=True, by='f_regr')\n",
    "display(uni_fs_lna.head(10))"
   ]
  },
  {
   "cell_type": "code",
   "execution_count": 20,
   "metadata": {},
   "outputs": [
    {
     "name": "stdout",
     "output_type": "stream",
     "text": [
      "Number of selected OTUs using kendall tau with p < 0.05: 212\n",
      "Number of selected OTUs using kendall tau with p < 0.01: 125\n"
     ]
    }
   ],
   "source": [
    "uni_fs_selected_f = uni_fs_lna[uni_fs_lna.loc[:,'p_kendall'].values < 0.05]\n",
    "print('Number of selected OTUs using kendall tau with p < 0.05: ' + str(len(uni_fs_selected_f)))\n",
    "uni_fs_selected_f = uni_fs_lna[uni_fs_lna.loc[:,'p_kendall'].values < 0.01]\n",
    "print('Number of selected OTUs using kendall tau with p < 0.01: ' + str(len(uni_fs_selected_f)))"
   ]
  },
  {
   "cell_type": "code",
   "execution_count": 21,
   "metadata": {},
   "outputs": [],
   "source": [
    "thr_otu_kendall_lna, r2_otu_kendall_lna = get_r2_scores(data_stand.loc[:,otus], lna, otus, np.absolute(uni_fs_lna['kendall']), cv)\n",
    "thr_otu_kendall_hna, r2_otu_kendall_hna = get_r2_scores(data_stand.loc[:,otus], hna, otus, np.absolute(uni_fs_lna['kendall']), cv)"
   ]
  },
  {
   "cell_type": "code",
   "execution_count": 22,
   "metadata": {},
   "outputs": [
    {
     "data": {
      "image/png": "[encoded data removed]",
      "text/plain": [
       "<matplotlib.figure.Figure at 0x7fb9f11c8978>"
      ]
     },
     "metadata": {},
     "output_type": "display_data"
    }
   ],
   "source": [
    "plt.figure()\n",
    "sns.regplot(x=thr_otu_kendall_hna,y=r2_otu_kendall_hna, fit_reg=False, label='HNA')\n",
    "sns.regplot(x=thr_otu_kendall_lna,y=r2_otu_kendall_lna, fit_reg=False, label='LNA')\n",
    "plt.xlabel('Kendall tau', size=22)\n",
    "plt.xticks(size=10)\n",
    "plt.ylabel(r'$R^2$', size=22)\n",
    "plt.yticks(size=10)\n",
    "#plt.title('Spearman correlation', size=24)\n",
    "plt.legend()\n",
    "plt.show()"
   ]
  },
  {
   "cell_type": "code",
   "execution_count": 23,
   "metadata": {},
   "outputs": [
    {
     "name": "stderr",
     "output_type": "stream",
     "text": [
      "/home/prubbens/miniconda3/lib/python3.6/site-packages/sklearn/utils/deprecation.py:58: DeprecationWarning: Class RandomizedLasso is deprecated; The class RandomizedLasso is deprecated in 0.19 and will be removed in 0.21.\n",
      "  warnings.warn(msg, category=DeprecationWarning)\n"
     ]
    }
   ],
   "source": [
    "#alpha = get_lassoCV_alpha(data_stand.loc[:,otus],lna,otus,cv)\n",
    "otu_scores_lna = pd.DataFrame(perform_randomizedLasso(data_stand.loc[:,otus], lna, 'bic'), index=otus, columns=['score'])\n",
    "otu_scores_lna.sort_values(ascending=False, inplace=True, by='score')\n",
    "\n",
    "thr_otu_scores_lna, r2_otu_scores_lna = get_r2_scores(data_stand.loc[:,otus], lna, otus, otu_scores_lna, cv)\n",
    "thr_otu_scores_hna, r2_otu_scores_hna = get_r2_scores(data_stand.loc[:,otus], hna, otus, otu_scores_lna, cv)"
   ]
  },
  {
   "cell_type": "code",
   "execution_count": 24,
   "metadata": {},
   "outputs": [
    {
     "data": {
      "image/png": "[encoded data removed]",
      "text/plain": [
       "<matplotlib.figure.Figure at 0x7fb9f1200400>"
      ]
     },
     "metadata": {},
     "output_type": "display_data"
    }
   ],
   "source": [
    "plt.figure()\n",
    "sns.regplot(x=thr_otu_scores_hna,y=r2_otu_scores_hna, fit_reg=False, label='HNA')\n",
    "sns.regplot(x=thr_otu_scores_lna,y=r2_otu_scores_lna, fit_reg=False, label='LNA')\n",
    "plt.axis([-0.005,1.005,0,1])\n",
    "plt.xlabel('Score', size=22)\n",
    "plt.xticks(size=10)\n",
    "plt.ylabel(r'$R^2$', size=22)\n",
    "plt.yticks(size=10)\n",
    "plt.legend()\n",
    "plt.title('Stability Selection LNA', size=24)\n",
    "plt.show()"
   ]
  },
  {
   "cell_type": "code",
   "execution_count": 25,
   "metadata": {},
   "outputs": [
    {
     "name": "stdout",
     "output_type": "stream",
     "text": [
      "R²_cv(lna): 0.930575621905\n",
      "Threshold score: 0.25\n"
     ]
    }
   ],
   "source": [
    "r2_final = r2_otu_scores_lna.max()\n",
    "thr_lna = thr_otu_scores_lna[r2_otu_scores_lna.argmax()]\n",
    "print('R²_cv(lna): ' + str(r2_final) )\n",
    "print('Threshold score: ' + str(thr_lna))"
   ]
  },
  {
   "cell_type": "code",
   "execution_count": 26,
   "metadata": {},
   "outputs": [],
   "source": [
    "otu_scores_lna = otu_scores_lna.assign(abun_abs_mean = data_abs.loc[:,otus].mean())\n",
    "otu_scores_lna = otu_scores_lna.assign(abun_abs_CV = data_abs.loc[:,otus].std()/data_abs.loc[:,otus].mean())\n",
    "otu_scores_lna =  otu_scores_lna.assign(abun_rel_mean = data_rel.loc[:,otus].mean())\n",
    "otu_scores_lna = otu_scores_lna.assign(abun_rel_CV = data_rel.loc[:,otus].std()/data_rel.loc[:,otus].mean())\n",
    "otu_scores_lna['kendall'] = uni_fs_lna.loc[otu_scores.index,'kendall']\n",
    "otu_scores_lna['p_kendall'] = uni_fs_lna.loc[otu_scores.index,'p_kendall']\n",
    "otu_scores_lna.to_csv('Final/lnascores_otus_1seq3_rel_Muskegon.csv')"
   ]
  },
  {
   "cell_type": "code",
   "execution_count": 27,
   "metadata": {},
   "outputs": [
    {
     "name": "stdout",
     "output_type": "stream",
     "text": [
      "Size list selected OTUs: 28\n"
     ]
    },
    {
     "data": {
      "text/html": [
       "<div>\n",
       "<style scoped>\n",
       "    .dataframe tbody tr th:only-of-type {\n",
       "        vertical-align: middle;\n",
       "    }\n",
       "\n",
       "    .dataframe tbody tr th {\n",
       "        vertical-align: top;\n",
       "    }\n",
       "\n",
       "    .dataframe thead th {\n",
       "        text-align: right;\n",
       "    }\n",
       "</style>\n",
       "<table border=\"1\" class=\"dataframe\">\n",
       "  <thead>\n",
       "    <tr style=\"text-align: right;\">\n",
       "      <th></th>\n",
       "      <th>score</th>\n",
       "      <th>abun_abs_mean</th>\n",
       "      <th>abun_abs_CV</th>\n",
       "      <th>abun_rel_mean</th>\n",
       "      <th>abun_rel_CV</th>\n",
       "      <th>kendall</th>\n",
       "      <th>p_kendall</th>\n",
       "    </tr>\n",
       "  </thead>\n",
       "  <tbody>\n",
       "    <tr>\n",
       "      <th>Otu000060</th>\n",
       "      <td>0.466</td>\n",
       "      <td>42735.699821</td>\n",
       "      <td>1.064030</td>\n",
       "      <td>0.005951</td>\n",
       "      <td>0.655716</td>\n",
       "      <td>0.401375</td>\n",
       "      <td>4.022274e-06</td>\n",
       "    </tr>\n",
       "    <tr>\n",
       "      <th>Otu000271</th>\n",
       "      <td>0.454</td>\n",
       "      <td>11451.572755</td>\n",
       "      <td>1.573856</td>\n",
       "      <td>0.001448</td>\n",
       "      <td>1.328281</td>\n",
       "      <td>0.472237</td>\n",
       "      <td>5.822933e-08</td>\n",
       "    </tr>\n",
       "    <tr>\n",
       "      <th>Otu000005</th>\n",
       "      <td>0.446</td>\n",
       "      <td>133132.588456</td>\n",
       "      <td>1.944657</td>\n",
       "      <td>0.015391</td>\n",
       "      <td>1.685016</td>\n",
       "      <td>0.576943</td>\n",
       "      <td>3.429880e-11</td>\n",
       "    </tr>\n",
       "    <tr>\n",
       "      <th>Otu000267</th>\n",
       "      <td>0.440</td>\n",
       "      <td>7267.049909</td>\n",
       "      <td>1.549653</td>\n",
       "      <td>0.001655</td>\n",
       "      <td>1.898633</td>\n",
       "      <td>-0.348493</td>\n",
       "      <td>6.259195e-05</td>\n",
       "    </tr>\n",
       "    <tr>\n",
       "      <th>Otu000317</th>\n",
       "      <td>0.414</td>\n",
       "      <td>4226.417472</td>\n",
       "      <td>2.008818</td>\n",
       "      <td>0.000503</td>\n",
       "      <td>1.768709</td>\n",
       "      <td>0.436277</td>\n",
       "      <td>5.411487e-07</td>\n",
       "    </tr>\n",
       "    <tr>\n",
       "      <th>Otu000029</th>\n",
       "      <td>0.406</td>\n",
       "      <td>58926.415433</td>\n",
       "      <td>1.184778</td>\n",
       "      <td>0.008233</td>\n",
       "      <td>0.882255</td>\n",
       "      <td>0.466949</td>\n",
       "      <td>8.166344e-08</td>\n",
       "    </tr>\n",
       "    <tr>\n",
       "      <th>Otu003520</th>\n",
       "      <td>0.378</td>\n",
       "      <td>487.205575</td>\n",
       "      <td>2.418685</td>\n",
       "      <td>0.000062</td>\n",
       "      <td>2.365679</td>\n",
       "      <td>0.234268</td>\n",
       "      <td>7.127702e-03</td>\n",
       "    </tr>\n",
       "    <tr>\n",
       "      <th>Otu000099</th>\n",
       "      <td>0.376</td>\n",
       "      <td>537.687200</td>\n",
       "      <td>2.641558</td>\n",
       "      <td>0.000165</td>\n",
       "      <td>2.980708</td>\n",
       "      <td>-0.241671</td>\n",
       "      <td>5.505669e-03</td>\n",
       "    </tr>\n",
       "    <tr>\n",
       "      <th>Otu000120</th>\n",
       "      <td>0.374</td>\n",
       "      <td>3982.414187</td>\n",
       "      <td>1.699386</td>\n",
       "      <td>0.000965</td>\n",
       "      <td>1.722540</td>\n",
       "      <td>-0.384453</td>\n",
       "      <td>1.006104e-05</td>\n",
       "    </tr>\n",
       "    <tr>\n",
       "      <th>Otu001267</th>\n",
       "      <td>0.370</td>\n",
       "      <td>789.642454</td>\n",
       "      <td>2.467331</td>\n",
       "      <td>0.000090</td>\n",
       "      <td>2.500946</td>\n",
       "      <td>0.301957</td>\n",
       "      <td>5.237609e-04</td>\n",
       "    </tr>\n",
       "  </tbody>\n",
       "</table>\n",
       "</div>"
      ],
      "text/plain": [
       "           score  abun_abs_mean  abun_abs_CV  abun_rel_mean  abun_rel_CV  \\\n",
       "Otu000060  0.466   42735.699821     1.064030       0.005951     0.655716   \n",
       "Otu000271  0.454   11451.572755     1.573856       0.001448     1.328281   \n",
       "Otu000005  0.446  133132.588456     1.944657       0.015391     1.685016   \n",
       "Otu000267  0.440    7267.049909     1.549653       0.001655     1.898633   \n",
       "Otu000317  0.414    4226.417472     2.008818       0.000503     1.768709   \n",
       "Otu000029  0.406   58926.415433     1.184778       0.008233     0.882255   \n",
       "Otu003520  0.378     487.205575     2.418685       0.000062     2.365679   \n",
       "Otu000099  0.376     537.687200     2.641558       0.000165     2.980708   \n",
       "Otu000120  0.374    3982.414187     1.699386       0.000965     1.722540   \n",
       "Otu001267  0.370     789.642454     2.467331       0.000090     2.500946   \n",
       "\n",
       "            kendall     p_kendall  \n",
       "Otu000060  0.401375  4.022274e-06  \n",
       "Otu000271  0.472237  5.822933e-08  \n",
       "Otu000005  0.576943  3.429880e-11  \n",
       "Otu000267 -0.348493  6.259195e-05  \n",
       "Otu000317  0.436277  5.411487e-07  \n",
       "Otu000029  0.466949  8.166344e-08  \n",
       "Otu003520  0.234268  7.127702e-03  \n",
       "Otu000099 -0.241671  5.505669e-03  \n",
       "Otu000120 -0.384453  1.006104e-05  \n",
       "Otu001267  0.301957  5.237609e-04  "
      ]
     },
     "metadata": {},
     "output_type": "display_data"
    }
   ],
   "source": [
    "otu_scores_selected_lna = otu_scores_lna[otu_scores_lna.score.values>thr_lna]\n",
    "selected_otus_lna = otu_scores_selected_lna.index\n",
    "print('Size list selected OTUs: ' + str(len(selected_otus_lna)))\n",
    "otu_scores_selected_lna.to_csv('Final/lnascores_otus_tuned_thr_'+str(thr_lna)+'_1seq3_rel_Muskegon.csv')\n",
    "display(otu_scores_selected_lna.head(10))"
   ]
  },
  {
   "cell_type": "code",
   "execution_count": 28,
   "metadata": {},
   "outputs": [
    {
     "name": "stdout",
     "output_type": "stream",
     "text": [
      "R²_cv of LNA-selected OTUs in function of HNA: 0.380078743299\n"
     ]
    }
   ],
   "source": [
    "print('R²_cv of LNA-selected OTUs in function of HNA: ' + str(r2_otu_scores_hna[r2_otu_scores_lna.argmax()]) )"
   ]
  },
  {
   "cell_type": "code",
   "execution_count": 29,
   "metadata": {},
   "outputs": [
    {
     "data": {
      "image/png": "[encoded data removed]",
      "text/plain": [
       "<matplotlib.figure.Figure at 0x7fb9f1317c88>"
      ]
     },
     "metadata": {},
     "output_type": "display_data"
    }
   ],
   "source": [
    "plt.figure()\n",
    "sns.regplot(x='abun_abs_mean',y='abun_abs_CV', data=otu_scores_selected_lna)\n",
    "plt.axis([0,400000,-5,5])\n",
    "plt.xlabel('mean(abs)', size=22)\n",
    "plt.xticks(size=10)\n",
    "plt.ylabel('CV(abs)', size=22)\n",
    "plt.yticks(size=10)\n",
    "plt.show()"
   ]
  },
  {
   "cell_type": "markdown",
   "metadata": {},
   "source": [
    "Let's compare the HNA- and LNA-lists, which OTU's are shared (_common_) and which are only part of the HNA- or LNA subset?: "
   ]
  },
  {
   "cell_type": "code",
   "execution_count": 30,
   "metadata": {},
   "outputs": [
    {
     "name": "stdout",
     "output_type": "stream",
     "text": [
      "Size subset OTUs only related to HNA: 19; opposed to total size: 30\n",
      "Size subset OTUs only related to LNA: 17; opposed to total size: 28\n",
      "Size subset OTUs related to both: 11\n"
     ]
    },
    {
     "data": {
      "text/html": [
       "<div>\n",
       "<style scoped>\n",
       "    .dataframe tbody tr th:only-of-type {\n",
       "        vertical-align: middle;\n",
       "    }\n",
       "\n",
       "    .dataframe tbody tr th {\n",
       "        vertical-align: top;\n",
       "    }\n",
       "\n",
       "    .dataframe thead th {\n",
       "        text-align: right;\n",
       "    }\n",
       "</style>\n",
       "<table border=\"1\" class=\"dataframe\">\n",
       "  <thead>\n",
       "    <tr style=\"text-align: right;\">\n",
       "      <th></th>\n",
       "      <th>score</th>\n",
       "      <th>abun_abs_mean</th>\n",
       "      <th>abun_abs_CV</th>\n",
       "      <th>abun_rel_mean</th>\n",
       "      <th>abun_rel_CV</th>\n",
       "      <th>kendall</th>\n",
       "      <th>p_kendall</th>\n",
       "    </tr>\n",
       "  </thead>\n",
       "  <tbody>\n",
       "    <tr>\n",
       "      <th>Otu000173</th>\n",
       "      <td>0.340</td>\n",
       "      <td>17982.674014</td>\n",
       "      <td>1.283752</td>\n",
       "      <td>0.002493</td>\n",
       "      <td>1.133719</td>\n",
       "      <td>0.282919</td>\n",
       "      <td>1.155537e-03</td>\n",
       "    </tr>\n",
       "    <tr>\n",
       "      <th>Otu000271</th>\n",
       "      <td>0.454</td>\n",
       "      <td>11451.572755</td>\n",
       "      <td>1.573856</td>\n",
       "      <td>0.001448</td>\n",
       "      <td>1.328281</td>\n",
       "      <td>0.472237</td>\n",
       "      <td>5.822933e-08</td>\n",
       "    </tr>\n",
       "    <tr>\n",
       "      <th>Otu000409</th>\n",
       "      <td>0.348</td>\n",
       "      <td>901.523111</td>\n",
       "      <td>2.513040</td>\n",
       "      <td>0.000276</td>\n",
       "      <td>2.860081</td>\n",
       "      <td>-0.326282</td>\n",
       "      <td>1.784575e-04</td>\n",
       "    </tr>\n",
       "    <tr>\n",
       "      <th>Otu001267</th>\n",
       "      <td>0.370</td>\n",
       "      <td>789.642454</td>\n",
       "      <td>2.467331</td>\n",
       "      <td>0.000090</td>\n",
       "      <td>2.500946</td>\n",
       "      <td>0.301957</td>\n",
       "      <td>5.237609e-04</td>\n",
       "    </tr>\n",
       "    <tr>\n",
       "      <th>Otu000274</th>\n",
       "      <td>0.264</td>\n",
       "      <td>284.552149</td>\n",
       "      <td>5.283941</td>\n",
       "      <td>0.000024</td>\n",
       "      <td>4.839270</td>\n",
       "      <td>0.158117</td>\n",
       "      <td>6.934730e-02</td>\n",
       "    </tr>\n",
       "    <tr>\n",
       "      <th>Otu000267</th>\n",
       "      <td>0.440</td>\n",
       "      <td>7267.049909</td>\n",
       "      <td>1.549653</td>\n",
       "      <td>0.001655</td>\n",
       "      <td>1.898633</td>\n",
       "      <td>-0.348493</td>\n",
       "      <td>6.259195e-05</td>\n",
       "    </tr>\n",
       "    <tr>\n",
       "      <th>Otu001503</th>\n",
       "      <td>0.278</td>\n",
       "      <td>255.934766</td>\n",
       "      <td>2.946415</td>\n",
       "      <td>0.000062</td>\n",
       "      <td>2.446513</td>\n",
       "      <td>-0.132734</td>\n",
       "      <td>1.273603e-01</td>\n",
       "    </tr>\n",
       "    <tr>\n",
       "      <th>Otu000058</th>\n",
       "      <td>0.364</td>\n",
       "      <td>34517.294498</td>\n",
       "      <td>1.428403</td>\n",
       "      <td>0.008396</td>\n",
       "      <td>1.958523</td>\n",
       "      <td>-0.227922</td>\n",
       "      <td>8.846515e-03</td>\n",
       "    </tr>\n",
       "    <tr>\n",
       "      <th>Otu001584</th>\n",
       "      <td>0.298</td>\n",
       "      <td>297.759000</td>\n",
       "      <td>3.041653</td>\n",
       "      <td>0.000090</td>\n",
       "      <td>3.331988</td>\n",
       "      <td>-0.246959</td>\n",
       "      <td>4.559724e-03</td>\n",
       "    </tr>\n",
       "    <tr>\n",
       "      <th>Otu000060</th>\n",
       "      <td>0.466</td>\n",
       "      <td>42735.699821</td>\n",
       "      <td>1.064030</td>\n",
       "      <td>0.005951</td>\n",
       "      <td>0.655716</td>\n",
       "      <td>0.401375</td>\n",
       "      <td>4.022274e-06</td>\n",
       "    </tr>\n",
       "    <tr>\n",
       "      <th>Otu001138</th>\n",
       "      <td>0.330</td>\n",
       "      <td>465.026413</td>\n",
       "      <td>3.100949</td>\n",
       "      <td>0.000052</td>\n",
       "      <td>3.147451</td>\n",
       "      <td>0.207827</td>\n",
       "      <td>1.698122e-02</td>\n",
       "    </tr>\n",
       "  </tbody>\n",
       "</table>\n",
       "</div>"
      ],
      "text/plain": [
       "           score  abun_abs_mean  abun_abs_CV  abun_rel_mean  abun_rel_CV  \\\n",
       "Otu000173  0.340   17982.674014     1.283752       0.002493     1.133719   \n",
       "Otu000271  0.454   11451.572755     1.573856       0.001448     1.328281   \n",
       "Otu000409  0.348     901.523111     2.513040       0.000276     2.860081   \n",
       "Otu001267  0.370     789.642454     2.467331       0.000090     2.500946   \n",
       "Otu000274  0.264     284.552149     5.283941       0.000024     4.839270   \n",
       "Otu000267  0.440    7267.049909     1.549653       0.001655     1.898633   \n",
       "Otu001503  0.278     255.934766     2.946415       0.000062     2.446513   \n",
       "Otu000058  0.364   34517.294498     1.428403       0.008396     1.958523   \n",
       "Otu001584  0.298     297.759000     3.041653       0.000090     3.331988   \n",
       "Otu000060  0.466   42735.699821     1.064030       0.005951     0.655716   \n",
       "Otu001138  0.330     465.026413     3.100949       0.000052     3.147451   \n",
       "\n",
       "            kendall     p_kendall  \n",
       "Otu000173  0.282919  1.155537e-03  \n",
       "Otu000271  0.472237  5.822933e-08  \n",
       "Otu000409 -0.326282  1.784575e-04  \n",
       "Otu001267  0.301957  5.237609e-04  \n",
       "Otu000274  0.158117  6.934730e-02  \n",
       "Otu000267 -0.348493  6.259195e-05  \n",
       "Otu001503 -0.132734  1.273603e-01  \n",
       "Otu000058 -0.227922  8.846515e-03  \n",
       "Otu001584 -0.246959  4.559724e-03  \n",
       "Otu000060  0.401375  4.022274e-06  \n",
       "Otu001138  0.207827  1.698122e-02  "
      ]
     },
     "metadata": {},
     "output_type": "display_data"
    }
   ],
   "source": [
    "idx_hna = otu_scores_selected.index.difference(otu_scores_selected_lna.index)\n",
    "idx_lna = otu_scores_selected_lna.index.difference(otu_scores_selected.index)\n",
    "idx_common = otu_scores_selected.drop(idx_hna).index\n",
    "pd.Series(idx_common).to_csv('commonOTU_HNALNA_rel.csv')\n",
    "print('Size subset OTUs only related to HNA: ' + str(len(idx_hna)) + '; opposed to total size: ' + str(len(otu_scores_selected)))\n",
    "print('Size subset OTUs only related to LNA: ' + str(len(idx_lna)) + '; opposed to total size: ' + str(len(otu_scores_selected_lna)))\n",
    "print('Size subset OTUs related to both: ' + str(len(idx_common)))\n",
    "\n",
    "display(otu_scores_selected_lna.loc[idx_common,:])\n",
    "#data_abs_raw = pd.read_csv('data/Chloroplasts_removed/nochloro_absolute_otu.tsv', sep=' ', index_col=None, header=0)\n",
    "#data_abs_raw = data_abs_raw.loc[index,:]\n",
    "#display(data_abs_raw.loc[:,idx_hna].sum(axis=1).values/hna.values)"
   ]
  },
  {
   "cell_type": "code",
   "execution_count": 31,
   "metadata": {},
   "outputs": [
    {
     "data": {
      "image/png": "[encoded data removed]",
      "text/plain": [
       "<matplotlib.figure.Figure at 0x7fb9f114a128>"
      ]
     },
     "metadata": {},
     "output_type": "display_data"
    }
   ],
   "source": [
    "plt.figure()\n",
    "sns.regplot(x=otu_scores.loc[:,'score'],y=otu_scores_lna.loc[otu_scores.index,'score'])\n",
    "plt.axis([-0.005,1.005,-0.005,1.005])\n",
    "plt.xlabel('score(HNA)', size=22)\n",
    "plt.xticks(size=10)\n",
    "plt.ylabel('score(LNA)', size=22)\n",
    "plt.yticks(size=10)\n",
    "plt.axhline(y=thr, linewidth=2, linestyle='--', color = 'k')\n",
    "plt.axvline(x=thr_lna, linewidth=2, linestyle='--', color = 'k')\n",
    "plt.show()"
   ]
  },
  {
   "cell_type": "markdown",
   "metadata": {},
   "source": [
    "This figure shows 4 area's: \n",
    "- (left top corner): OTU's selected solely in function of **LNA**-dynamics, \n",
    "- (right top corner): OTU's selected in function of both **HNA**- and **LNA**-dynamics, \n",
    "- (left bottom corner): OTU's that are _not_ selected, \n",
    "- (right bottom corner): OTU's selected solely in function of **HNA**-dynamics. "
   ]
  },
  {
   "cell_type": "markdown",
   "metadata": {},
   "source": [
    "Univariate vs. Stability selection"
   ]
  },
  {
   "cell_type": "code",
   "execution_count": 32,
   "metadata": {},
   "outputs": [
    {
     "data": {
      "image/png": "[encoded data removed]",
      "text/plain": [
       "<matplotlib.figure.Figure at 0x7fb9f111d2e8>"
      ]
     },
     "metadata": {},
     "output_type": "display_data"
    }
   ],
   "source": [
    "plt.figure()\n",
    "sns.regplot(x=otu_scores.loc[:,'score'],y=uni_fs.loc[otu_scores.index,'kendall'])\n",
    "plt.xlabel('score(HNA)', size=22)\n",
    "plt.xticks(size=10)\n",
    "plt.ylabel('Kendall tau', size=22)\n",
    "plt.yticks(size=10)\n",
    "#plt.yscale('log')\n",
    "plt.axhline(y=0.05, linewidth=2, linestyle='--', color = 'k')\n",
    "plt.axvline(x=thr, linewidth=2, linestyle='--', color = 'k')\n",
    "#plt.axis([-0.005,1.005,0.0000000000000000000001, 1])\n",
    "plt.show()"
   ]
  },
  {
   "cell_type": "code",
   "execution_count": 33,
   "metadata": {},
   "outputs": [
    {
     "data": {
      "image/png": "[encoded data removed]",
      "text/plain": [
       "<matplotlib.figure.Figure at 0x7fb9f11c8748>"
      ]
     },
     "metadata": {},
     "output_type": "display_data"
    }
   ],
   "source": [
    "plt.figure()\n",
    "sns.regplot(x=otu_scores_lna.loc[:,'score'],y=uni_fs_lna.loc[otu_scores.index,'kendall'])\n",
    "plt.xlabel('score(LNA)', size=22)\n",
    "plt.xticks(size=10)\n",
    "plt.ylabel('Kendall tau', size=22)\n",
    "plt.yticks(size=10)\n",
    "#plt.yscale('log')\n",
    "plt.axhline(y=0.05, linewidth=2, linestyle='--', color = 'k')\n",
    "plt.axvline(x=thr_lna, linewidth=2, linestyle='--', color = 'k')\n",
    "#plt.axis([-0.005,1.005,0.0000000000000000000001, 1])\n",
    "plt.show()"
   ]
  },
  {
   "cell_type": "markdown",
   "metadata": {},
   "source": [
    "This analysis shows that the HNA/LNA dynamics cannot solely be attributed to OTU's that are present in the respective cloud; this is also clear from the mutual correlation between HNA- and LNA-counts ( $\\rho(\\text{HNA,LNA}) = 0.75$ ). \n",
    "\n",
    "I see two reasons for this: \n",
    "- Some OTU's are simply present in the two clouds; \n",
    "- Some HNA-OTU's interact with LNA-OTU's and vice versa. "
   ]
  }
 ],
 "metadata": {
  "anaconda-cloud": {},
  "kernelspec": {
   "display_name": "Python 3",
   "language": "python",
   "name": "python3"
  },
  "language_info": {
   "codemirror_mode": {
    "name": "ipython",
    "version": 3
   },
   "file_extension": ".py",
   "mimetype": "text/x-python",
   "name": "python",
   "nbconvert_exporter": "python",
   "pygments_lexer": "ipython3",
   "version": "3.6.3"
  }
 },
 "nbformat": 4,
 "nbformat_minor": 1
}
