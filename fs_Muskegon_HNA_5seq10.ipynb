{
 "cells": [
  {
   "cell_type": "code",
   "execution_count": 1,
   "metadata": {
    "scrolled": true
   },
   "outputs": [],
   "source": [
    "'''Import packages'''\n",
    "'''Requires numpy, pandas, scikit-learn, and matplotlib/seaborn'''\n",
    "import numpy as np\n",
    "import pandas as pd\n",
    "from skbio.stats import composition\n",
    "from sklearn.model_selection import LeaveOneGroupOut\n",
    "#from sklearn.model_selection import cross_val_predict\n",
    "from sklearn.preprocessing import LabelEncoder\n",
    "from scipy.stats import kendalltau\n",
    "#from scipy.stats import pearsonr\n",
    "\n",
    "import matplotlib.pyplot as plt\n",
    "import seaborn as sns\n",
    "sns.set_style(\"ticks\")\n",
    "\n",
    "#If we want to time the implementation: \n",
    "#import time\n",
    "#start_time = time.time()"
   ]
  },
  {
   "cell_type": "markdown",
   "metadata": {},
   "source": [
    "Import the dataframes: "
   ]
  },
  {
   "cell_type": "code",
   "execution_count": 2,
   "metadata": {
    "scrolled": true
   },
   "outputs": [],
   "source": [
    "'''Import data'''\n",
    "data_rel = pd.read_csv('data/Chloroplasts_removed/ByLake_Filtering/5in10/muskegon/muskegon_relative_otu_5in10.tsv', sep=' ', index_col=None, header=0, float_precision='high')\n",
    "target = pd.read_csv('data/Chloroplasts_removed/ByLake_Filtering/5in10/muskegon/muskegon_sampledata_5in10.tsv', sep= ' ', index_col=0, header=0)"
   ]
  },
  {
   "cell_type": "markdown",
   "metadata": {},
   "source": [
    "Set `index`: "
   ]
  },
  {
   "cell_type": "code",
   "execution_count": 3,
   "metadata": {},
   "outputs": [],
   "source": [
    "index = target.Lake[target.Lake == 'Muskegon'].index"
   ]
  },
  {
   "cell_type": "markdown",
   "metadata": {},
   "source": [
    "Create target variables and store as Pandas `Series` object: "
   ]
  },
  {
   "cell_type": "code",
   "execution_count": 4,
   "metadata": {},
   "outputs": [],
   "source": [
    "'''Set sample names as index and shuffle data'''\n",
    "\n",
    "#Remove outlier samples:\n",
    "data_rel = data_rel.loc[index,:]\n",
    "target = target.loc[index,:]\n",
    "\n",
    "#Create target columns of HNA-values: \n",
    "hna = target.loc[index,'HNA.cells']\n",
    "hna_rel = hna/target.loc[index,'Total.cells']\n",
    "hna = pd.Series(hna, index=hna.index)\n",
    "hna_rel = pd.Series(hna_rel, index=hna.index)\n",
    "\n",
    "#Create target columns of LNA-values: \n",
    "#lna = target.loc[index,'LNA.cells']\n",
    "#lna_rel = lna/target.loc[index,'Total.cells']\n",
    "#lna = pd.Series(lna, index=lna.index)\n",
    "#lna_rel = pd.Series(lna_rel, index=lna.index)"
   ]
  },
  {
   "cell_type": "markdown",
   "metadata": {},
   "source": [
    "Perform Centered Log-Ratio (CLR) transformation to abundance data: "
   ]
  },
  {
   "cell_type": "code",
   "execution_count": 5,
   "metadata": {},
   "outputs": [],
   "source": [
    "otus = list(data_rel.columns) #otus are the variables\n",
    "\n",
    "data_rel_repl = composition.multiplicative_replacement(data_rel.loc[index,otus])\n",
    "data_rel_clr = pd.DataFrame(composition.clr(data_rel_repl), index=index, columns=otus)\n",
    "data_rel_clr.to_csv('muskegon_otu_5in10_clr.csv')"
   ]
  },
  {
   "cell_type": "markdown",
   "metadata": {},
   "source": [
    "Standardize data with mean 0 and standard deviation of 1: "
   ]
  },
  {
   "cell_type": "code",
   "execution_count": 6,
   "metadata": {},
   "outputs": [
    {
     "name": "stderr",
     "output_type": "stream",
     "text": [
      "/home/prubbens/miniconda3/lib/python3.6/site-packages/sklearn/cross_validation.py:41: DeprecationWarning: This module was deprecated in version 0.18 in favor of the model_selection module into which all the refactored classes and functions are moved. Also note that the interface of the new CV iterators are different from that of this module. This module will be removed in 0.20.\n",
      "  \"This module will be removed in 0.20.\", DeprecationWarning)\n"
     ]
    }
   ],
   "source": [
    "from analysis_functions import standardize_df\n",
    "data_stand, scaler = standardize_df(data_rel_clr,otus)"
   ]
  },
  {
   "cell_type": "markdown",
   "metadata": {},
   "source": [
    "Create dummy variable to encode samples according to `Year` and `Site`; `cv` denotes cross-validation object. "
   ]
  },
  {
   "cell_type": "code",
   "execution_count": 7,
   "metadata": {},
   "outputs": [],
   "source": [
    "target.loc[index,'spatiotemporal'] = target.loc[index,'Year'].astype(str) + target.loc[index,'Site']\n",
    "le = LabelEncoder()\n",
    "le_values = le.fit_transform(target.loc[index,'spatiotemporal'].values)\n",
    "cv = LeaveOneGroupOut().split(data_stand, groups=le_values)"
   ]
  },
  {
   "cell_type": "markdown",
   "metadata": {},
   "source": [
    "First, calculate kendall tau correlation coefficient between OTU's and HNAcc: "
   ]
  },
  {
   "cell_type": "code",
   "execution_count": 8,
   "metadata": {},
   "outputs": [],
   "source": [
    "kendall = np.zeros(len(otus))\n",
    "p_kendall = np.zeros(len(otus))\n",
    "for i in np.arange(0,len(otus)):\n",
    "    kendall[i], p_kendall[i] = kendalltau(data_rel_clr.loc[:,otus[i]],hna)\n",
    "fs = pd.DataFrame(kendall, index=otus, columns = ['kendall_HNA'])\n",
    "fs['p_kendall_HNA'] = p_kendall\n",
    "fs['kendall significant HNA'] = np.where(fs.loc[otus,'p_kendall_HNA']<0.05,'yes','no')"
   ]
  },
  {
   "cell_type": "markdown",
   "metadata": {},
   "source": [
    "Determine amount of OTU's that are significantly correlated with $P < 0.05$ or $P < 0.01$: "
   ]
  },
  {
   "cell_type": "code",
   "execution_count": 9,
   "metadata": {
    "scrolled": false
   },
   "outputs": [
    {
     "name": "stdout",
     "output_type": "stream",
     "text": [
      "Total OTUs: 482\n",
      "Number of selected HNA OTUs using Kendall tau with p < 0.05: 103\n",
      "Number of selected HNA OTUs using Kendall tau with p < 0.01: 54\n"
     ]
    }
   ],
   "source": [
    "print('Total OTUs: ' + str(len(otus)))\n",
    "fs_selected_f = fs[fs.loc[:,'p_kendall_HNA'].values < 0.05]\n",
    "print('Number of selected HNA OTUs using Kendall tau with p < 0.05: ' + str(len(fs_selected_f)))\n",
    "fs_selected_f = fs[fs.loc[:,'p_kendall_HNA'].values < 0.01]\n",
    "print('Number of selected HNA OTUs using Kendall tau with p < 0.01: ' + str(len(fs_selected_f)))"
   ]
  },
  {
   "cell_type": "markdown",
   "metadata": {},
   "source": [
    "Show OTU's with highest correlation: "
   ]
  },
  {
   "cell_type": "code",
   "execution_count": 10,
   "metadata": {},
   "outputs": [
    {
     "data": {
      "text/html": [
       "<div>\n",
       "<style scoped>\n",
       "    .dataframe tbody tr th:only-of-type {\n",
       "        vertical-align: middle;\n",
       "    }\n",
       "\n",
       "    .dataframe tbody tr th {\n",
       "        vertical-align: top;\n",
       "    }\n",
       "\n",
       "    .dataframe thead th {\n",
       "        text-align: right;\n",
       "    }\n",
       "</style>\n",
       "<table border=\"1\" class=\"dataframe\">\n",
       "  <thead>\n",
       "    <tr style=\"text-align: right;\">\n",
       "      <th></th>\n",
       "      <th>kendall_HNA</th>\n",
       "      <th>p_kendall_HNA</th>\n",
       "      <th>kendall significant HNA</th>\n",
       "    </tr>\n",
       "  </thead>\n",
       "  <tbody>\n",
       "    <tr>\n",
       "      <th>Otu000173</th>\n",
       "      <td>0.501851</td>\n",
       "      <td>8.199569e-09</td>\n",
       "      <td>yes</td>\n",
       "    </tr>\n",
       "    <tr>\n",
       "      <th>Otu000187</th>\n",
       "      <td>0.351666</td>\n",
       "      <td>5.361910e-05</td>\n",
       "      <td>yes</td>\n",
       "    </tr>\n",
       "    <tr>\n",
       "      <th>Otu000317</th>\n",
       "      <td>0.343205</td>\n",
       "      <td>8.077833e-05</td>\n",
       "      <td>yes</td>\n",
       "    </tr>\n",
       "    <tr>\n",
       "      <th>Otu000060</th>\n",
       "      <td>0.342147</td>\n",
       "      <td>8.497027e-05</td>\n",
       "      <td>yes</td>\n",
       "    </tr>\n",
       "    <tr>\n",
       "      <th>Otu000175</th>\n",
       "      <td>0.290323</td>\n",
       "      <td>8.540041e-04</td>\n",
       "      <td>yes</td>\n",
       "    </tr>\n",
       "    <tr>\n",
       "      <th>Otu001267</th>\n",
       "      <td>0.286092</td>\n",
       "      <td>1.015928e-03</td>\n",
       "      <td>yes</td>\n",
       "    </tr>\n",
       "    <tr>\n",
       "      <th>Otu000279</th>\n",
       "      <td>0.283977</td>\n",
       "      <td>1.107143e-03</td>\n",
       "      <td>yes</td>\n",
       "    </tr>\n",
       "    <tr>\n",
       "      <th>Otu000038</th>\n",
       "      <td>0.279746</td>\n",
       "      <td>1.312698e-03</td>\n",
       "      <td>yes</td>\n",
       "    </tr>\n",
       "    <tr>\n",
       "      <th>Otu000073</th>\n",
       "      <td>0.279746</td>\n",
       "      <td>1.312698e-03</td>\n",
       "      <td>yes</td>\n",
       "    </tr>\n",
       "    <tr>\n",
       "      <th>Otu000614</th>\n",
       "      <td>0.278689</td>\n",
       "      <td>1.369320e-03</td>\n",
       "      <td>yes</td>\n",
       "    </tr>\n",
       "  </tbody>\n",
       "</table>\n",
       "</div>"
      ],
      "text/plain": [
       "           kendall_HNA  p_kendall_HNA kendall significant HNA\n",
       "Otu000173     0.501851   8.199569e-09                     yes\n",
       "Otu000187     0.351666   5.361910e-05                     yes\n",
       "Otu000317     0.343205   8.077833e-05                     yes\n",
       "Otu000060     0.342147   8.497027e-05                     yes\n",
       "Otu000175     0.290323   8.540041e-04                     yes\n",
       "Otu001267     0.286092   1.015928e-03                     yes\n",
       "Otu000279     0.283977   1.107143e-03                     yes\n",
       "Otu000038     0.279746   1.312698e-03                     yes\n",
       "Otu000073     0.279746   1.312698e-03                     yes\n",
       "Otu000614     0.278689   1.369320e-03                     yes"
      ]
     },
     "metadata": {},
     "output_type": "display_data"
    }
   ],
   "source": [
    "fs.sort_values('kendall_HNA', inplace=True, ascending=False)\n",
    "display(fs.head(10))"
   ]
  },
  {
   "cell_type": "markdown",
   "metadata": {},
   "source": [
    "Perform Randomized Lasso (RL) with HNAcc as output: "
   ]
  },
  {
   "cell_type": "code",
   "execution_count": 11,
   "metadata": {},
   "outputs": [
    {
     "name": "stderr",
     "output_type": "stream",
     "text": [
      "/home/prubbens/miniconda3/lib/python3.6/site-packages/sklearn/utils/deprecation.py:58: DeprecationWarning: Class RandomizedLasso is deprecated; The class RandomizedLasso is deprecated in 0.19 and will be removed in 0.21.\n",
      "  warnings.warn(msg, category=DeprecationWarning)\n"
     ]
    }
   ],
   "source": [
    "from analysis_functions import perform_randomizedLasso\n",
    "fs.loc[otus,'RL score'] = perform_randomizedLasso(data_stand.loc[index,otus], hna)\n",
    "fs.loc[otus,'RL ranking'] = fs.loc[otus,'RL score'].rank(method='min', ascending=False)\n",
    "fs.sort_values('RL score', inplace=True, ascending=False)"
   ]
  },
  {
   "cell_type": "markdown",
   "metadata": {},
   "source": [
    "Show RL scores: "
   ]
  },
  {
   "cell_type": "code",
   "execution_count": 12,
   "metadata": {},
   "outputs": [
    {
     "data": {
      "text/html": [
       "<div>\n",
       "<style scoped>\n",
       "    .dataframe tbody tr th:only-of-type {\n",
       "        vertical-align: middle;\n",
       "    }\n",
       "\n",
       "    .dataframe tbody tr th {\n",
       "        vertical-align: top;\n",
       "    }\n",
       "\n",
       "    .dataframe thead th {\n",
       "        text-align: right;\n",
       "    }\n",
       "</style>\n",
       "<table border=\"1\" class=\"dataframe\">\n",
       "  <thead>\n",
       "    <tr style=\"text-align: right;\">\n",
       "      <th></th>\n",
       "      <th>kendall_HNA</th>\n",
       "      <th>p_kendall_HNA</th>\n",
       "      <th>kendall significant HNA</th>\n",
       "      <th>RL score</th>\n",
       "      <th>RL ranking</th>\n",
       "    </tr>\n",
       "  </thead>\n",
       "  <tbody>\n",
       "    <tr>\n",
       "      <th>Otu000173</th>\n",
       "      <td>0.501851</td>\n",
       "      <td>8.199569e-09</td>\n",
       "      <td>yes</td>\n",
       "      <td>0.462</td>\n",
       "      <td>1.0</td>\n",
       "    </tr>\n",
       "    <tr>\n",
       "      <th>Otu000038</th>\n",
       "      <td>0.279746</td>\n",
       "      <td>1.312698e-03</td>\n",
       "      <td>yes</td>\n",
       "      <td>0.378</td>\n",
       "      <td>2.0</td>\n",
       "    </tr>\n",
       "    <tr>\n",
       "      <th>Otu000029</th>\n",
       "      <td>0.259651</td>\n",
       "      <td>2.860222e-03</td>\n",
       "      <td>yes</td>\n",
       "      <td>0.346</td>\n",
       "      <td>3.0</td>\n",
       "    </tr>\n",
       "    <tr>\n",
       "      <th>Otu000614</th>\n",
       "      <td>0.278689</td>\n",
       "      <td>1.369320e-03</td>\n",
       "      <td>yes</td>\n",
       "      <td>0.336</td>\n",
       "      <td>4.0</td>\n",
       "    </tr>\n",
       "    <tr>\n",
       "      <th>Otu000264</th>\n",
       "      <td>0.278689</td>\n",
       "      <td>1.369320e-03</td>\n",
       "      <td>yes</td>\n",
       "      <td>0.332</td>\n",
       "      <td>5.0</td>\n",
       "    </tr>\n",
       "    <tr>\n",
       "      <th>Otu000412</th>\n",
       "      <td>-0.296668</td>\n",
       "      <td>6.554652e-04</td>\n",
       "      <td>yes</td>\n",
       "      <td>0.312</td>\n",
       "      <td>6.0</td>\n",
       "    </tr>\n",
       "    <tr>\n",
       "      <th>Otu000088</th>\n",
       "      <td>-0.240613</td>\n",
       "      <td>5.714879e-03</td>\n",
       "      <td>yes</td>\n",
       "      <td>0.310</td>\n",
       "      <td>7.0</td>\n",
       "    </tr>\n",
       "    <tr>\n",
       "      <th>Otu000487</th>\n",
       "      <td>-0.207827</td>\n",
       "      <td>1.698122e-02</td>\n",
       "      <td>yes</td>\n",
       "      <td>0.310</td>\n",
       "      <td>7.0</td>\n",
       "    </tr>\n",
       "    <tr>\n",
       "      <th>Otu000244</th>\n",
       "      <td>-0.455315</td>\n",
       "      <td>1.697078e-07</td>\n",
       "      <td>yes</td>\n",
       "      <td>0.306</td>\n",
       "      <td>9.0</td>\n",
       "    </tr>\n",
       "    <tr>\n",
       "      <th>Otu000242</th>\n",
       "      <td>0.195135</td>\n",
       "      <td>2.500431e-02</td>\n",
       "      <td>yes</td>\n",
       "      <td>0.304</td>\n",
       "      <td>10.0</td>\n",
       "    </tr>\n",
       "  </tbody>\n",
       "</table>\n",
       "</div>"
      ],
      "text/plain": [
       "           kendall_HNA  p_kendall_HNA kendall significant HNA  RL score  \\\n",
       "Otu000173     0.501851   8.199569e-09                     yes     0.462   \n",
       "Otu000038     0.279746   1.312698e-03                     yes     0.378   \n",
       "Otu000029     0.259651   2.860222e-03                     yes     0.346   \n",
       "Otu000614     0.278689   1.369320e-03                     yes     0.336   \n",
       "Otu000264     0.278689   1.369320e-03                     yes     0.332   \n",
       "Otu000412    -0.296668   6.554652e-04                     yes     0.312   \n",
       "Otu000088    -0.240613   5.714879e-03                     yes     0.310   \n",
       "Otu000487    -0.207827   1.698122e-02                     yes     0.310   \n",
       "Otu000244    -0.455315   1.697078e-07                     yes     0.306   \n",
       "Otu000242     0.195135   2.500431e-02                     yes     0.304   \n",
       "\n",
       "           RL ranking  \n",
       "Otu000173         1.0  \n",
       "Otu000038         2.0  \n",
       "Otu000029         3.0  \n",
       "Otu000614         4.0  \n",
       "Otu000264         5.0  \n",
       "Otu000412         6.0  \n",
       "Otu000088         7.0  \n",
       "Otu000487         7.0  \n",
       "Otu000244         9.0  \n",
       "Otu000242        10.0  "
      ]
     },
     "metadata": {},
     "output_type": "display_data"
    }
   ],
   "source": [
    "display(fs.head(10))"
   ]
  },
  {
   "cell_type": "code",
   "execution_count": 13,
   "metadata": {},
   "outputs": [],
   "source": [
    "from analysis_functions import perform_Boruta\n",
    "\n",
    "fs_boruta = perform_Boruta(200, 1/3, 5, data_stand, hna, otus)"
   ]
  },
  {
   "cell_type": "markdown",
   "metadata": {},
   "source": [
    "Concat Boruta selection results with previous ones: "
   ]
  },
  {
   "cell_type": "code",
   "execution_count": 14,
   "metadata": {},
   "outputs": [],
   "source": [
    "fs = pd.concat([fs,fs_boruta], axis=1, ignore_index=False)"
   ]
  },
  {
   "cell_type": "code",
   "execution_count": 15,
   "metadata": {},
   "outputs": [
    {
     "data": {
      "text/html": [
       "<div>\n",
       "<style scoped>\n",
       "    .dataframe tbody tr th:only-of-type {\n",
       "        vertical-align: middle;\n",
       "    }\n",
       "\n",
       "    .dataframe tbody tr th {\n",
       "        vertical-align: top;\n",
       "    }\n",
       "\n",
       "    .dataframe thead th {\n",
       "        text-align: right;\n",
       "    }\n",
       "</style>\n",
       "<table border=\"1\" class=\"dataframe\">\n",
       "  <thead>\n",
       "    <tr style=\"text-align: right;\">\n",
       "      <th></th>\n",
       "      <th>kendall_HNA</th>\n",
       "      <th>p_kendall_HNA</th>\n",
       "      <th>kendall significant HNA</th>\n",
       "      <th>RL score</th>\n",
       "      <th>RL ranking</th>\n",
       "      <th>Boruta ranking</th>\n",
       "      <th>Boruta score</th>\n",
       "    </tr>\n",
       "  </thead>\n",
       "  <tbody>\n",
       "    <tr>\n",
       "      <th>Otu000005</th>\n",
       "      <td>0.248017</td>\n",
       "      <td>4.389213e-03</td>\n",
       "      <td>yes</td>\n",
       "      <td>0.030</td>\n",
       "      <td>306.0</td>\n",
       "      <td>1</td>\n",
       "      <td>0.075054</td>\n",
       "    </tr>\n",
       "    <tr>\n",
       "      <th>Otu000244</th>\n",
       "      <td>-0.455315</td>\n",
       "      <td>1.697078e-07</td>\n",
       "      <td>yes</td>\n",
       "      <td>0.306</td>\n",
       "      <td>9.0</td>\n",
       "      <td>1</td>\n",
       "      <td>0.171064</td>\n",
       "    </tr>\n",
       "    <tr>\n",
       "      <th>Otu000173</th>\n",
       "      <td>0.501851</td>\n",
       "      <td>8.199569e-09</td>\n",
       "      <td>yes</td>\n",
       "      <td>0.462</td>\n",
       "      <td>1.0</td>\n",
       "      <td>1</td>\n",
       "      <td>0.258015</td>\n",
       "    </tr>\n",
       "    <tr>\n",
       "      <th>Otu000012</th>\n",
       "      <td>-0.292438</td>\n",
       "      <td>7.823435e-04</td>\n",
       "      <td>yes</td>\n",
       "      <td>0.076</td>\n",
       "      <td>129.0</td>\n",
       "      <td>1</td>\n",
       "      <td>0.061089</td>\n",
       "    </tr>\n",
       "    <tr>\n",
       "      <th>Otu000187</th>\n",
       "      <td>0.351666</td>\n",
       "      <td>5.361910e-05</td>\n",
       "      <td>yes</td>\n",
       "      <td>0.122</td>\n",
       "      <td>66.0</td>\n",
       "      <td>2</td>\n",
       "      <td>0.074209</td>\n",
       "    </tr>\n",
       "    <tr>\n",
       "      <th>Otu000016</th>\n",
       "      <td>0.153887</td>\n",
       "      <td>7.713486e-02</td>\n",
       "      <td>no</td>\n",
       "      <td>0.000</td>\n",
       "      <td>461.0</td>\n",
       "      <td>2</td>\n",
       "      <td>0.079004</td>\n",
       "    </tr>\n",
       "    <tr>\n",
       "      <th>Otu000313</th>\n",
       "      <td>0.245902</td>\n",
       "      <td>4.736213e-03</td>\n",
       "      <td>yes</td>\n",
       "      <td>0.270</td>\n",
       "      <td>11.0</td>\n",
       "      <td>4</td>\n",
       "      <td>0.033098</td>\n",
       "    </tr>\n",
       "    <tr>\n",
       "      <th>Otu000517</th>\n",
       "      <td>-0.358012</td>\n",
       "      <td>3.919857e-05</td>\n",
       "      <td>yes</td>\n",
       "      <td>0.076</td>\n",
       "      <td>129.0</td>\n",
       "      <td>4</td>\n",
       "      <td>0.032553</td>\n",
       "    </tr>\n",
       "    <tr>\n",
       "      <th>Otu000060</th>\n",
       "      <td>0.342147</td>\n",
       "      <td>8.497027e-05</td>\n",
       "      <td>yes</td>\n",
       "      <td>0.184</td>\n",
       "      <td>24.0</td>\n",
       "      <td>5</td>\n",
       "      <td>0.029043</td>\n",
       "    </tr>\n",
       "    <tr>\n",
       "      <th>Otu000521</th>\n",
       "      <td>-0.332628</td>\n",
       "      <td>1.331288e-04</td>\n",
       "      <td>yes</td>\n",
       "      <td>0.122</td>\n",
       "      <td>66.0</td>\n",
       "      <td>6</td>\n",
       "      <td>0.022277</td>\n",
       "    </tr>\n",
       "  </tbody>\n",
       "</table>\n",
       "</div>"
      ],
      "text/plain": [
       "           kendall_HNA  p_kendall_HNA kendall significant HNA  RL score  \\\n",
       "Otu000005     0.248017   4.389213e-03                     yes     0.030   \n",
       "Otu000244    -0.455315   1.697078e-07                     yes     0.306   \n",
       "Otu000173     0.501851   8.199569e-09                     yes     0.462   \n",
       "Otu000012    -0.292438   7.823435e-04                     yes     0.076   \n",
       "Otu000187     0.351666   5.361910e-05                     yes     0.122   \n",
       "Otu000016     0.153887   7.713486e-02                      no     0.000   \n",
       "Otu000313     0.245902   4.736213e-03                     yes     0.270   \n",
       "Otu000517    -0.358012   3.919857e-05                     yes     0.076   \n",
       "Otu000060     0.342147   8.497027e-05                     yes     0.184   \n",
       "Otu000521    -0.332628   1.331288e-04                     yes     0.122   \n",
       "\n",
       "           RL ranking  Boruta ranking  Boruta score  \n",
       "Otu000005       306.0               1      0.075054  \n",
       "Otu000244         9.0               1      0.171064  \n",
       "Otu000173         1.0               1      0.258015  \n",
       "Otu000012       129.0               1      0.061089  \n",
       "Otu000187        66.0               2      0.074209  \n",
       "Otu000016       461.0               2      0.079004  \n",
       "Otu000313        11.0               4      0.033098  \n",
       "Otu000517       129.0               4      0.032553  \n",
       "Otu000060        24.0               5      0.029043  \n",
       "Otu000521        66.0               6      0.022277  "
      ]
     },
     "metadata": {},
     "output_type": "display_data"
    }
   ],
   "source": [
    "fs.sort_values('Boruta ranking', ascending=True, inplace=True)\n",
    "display(fs.head(10))"
   ]
  },
  {
   "cell_type": "markdown",
   "metadata": {},
   "source": [
    "Calculate kendall tau correlation coefficient between RL ranking and Boruta ranking: "
   ]
  },
  {
   "cell_type": "code",
   "execution_count": 16,
   "metadata": {},
   "outputs": [
    {
     "name": "stdout",
     "output_type": "stream",
     "text": [
      "Kendall tau: 0.14942423522\n",
      "P-value: 1.8564792777e-06\n"
     ]
    }
   ],
   "source": [
    "from scipy.stats import spearmanr\n",
    "r, p = kendalltau(fs.loc[otus,'RL ranking'], fs.loc[otus,'Boruta ranking'])\n",
    "print('Kendall tau: ' + str(r))\n",
    "print('P-value: ' + str(p))"
   ]
  },
  {
   "cell_type": "markdown",
   "metadata": {},
   "source": [
    "Save results if wanted: "
   ]
  },
  {
   "cell_type": "code",
   "execution_count": 17,
   "metadata": {},
   "outputs": [],
   "source": [
    "#fs.to_csv('FS_new/Muskegon_fs_scores_HNA_5in10.csv')"
   ]
  }
 ],
 "metadata": {
  "anaconda-cloud": {},
  "kernelspec": {
   "display_name": "Python 3",
   "language": "python",
   "name": "python3"
  },
  "language_info": {
   "codemirror_mode": {
    "name": "ipython",
    "version": 3
   },
   "file_extension": ".py",
   "mimetype": "text/x-python",
   "name": "python",
   "nbconvert_exporter": "python",
   "pygments_lexer": "ipython3",
   "version": "3.6.4"
  }
 },
 "nbformat": 4,
 "nbformat_minor": 1
}
