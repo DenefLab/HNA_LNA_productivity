{
 "cells": [
  {
   "cell_type": "code",
   "execution_count": 1,
   "metadata": {
    "scrolled": true
   },
   "outputs": [],
   "source": [
    "'''Import packages'''\n",
    "'''Requires numpy, pandas, scikit-learn, and matplotlib/seaborn'''\n",
    "import numpy as np\n",
    "import pandas as pd\n",
    "from skbio.stats import composition\n",
    "from sklearn.model_selection import LeaveOneGroupOut\n",
    "#from sklearn.model_selection import cross_val_predict\n",
    "from sklearn.preprocessing import LabelEncoder\n",
    "from scipy.stats import kendalltau\n",
    "#from scipy.stats import pearsonr\n",
    "\n",
    "import matplotlib.pyplot as plt\n",
    "import seaborn as sns\n",
    "sns.set_style(\"ticks\")\n",
    "\n",
    "#If we want to time the implementation: \n",
    "#import time\n",
    "#start_time = time.time()"
   ]
  },
  {
   "cell_type": "markdown",
   "metadata": {},
   "source": [
    "Import the dataframes: "
   ]
  },
  {
   "cell_type": "code",
   "execution_count": 2,
   "metadata": {
    "scrolled": true
   },
   "outputs": [],
   "source": [
    "'''Import data'''\n",
    "data_rel = pd.read_csv('data/Chloroplasts_removed/ByLake_Filtering/5in10/muskegon/muskegon_relative_otu_5in10.tsv', sep=' ', index_col=None, header=0, float_precision='high')\n",
    "target = pd.read_csv('data/Chloroplasts_removed/ByLake_Filtering/5in10/muskegon/muskegon_sampledata_5in10.tsv', sep= ' ', index_col=0, header=0)"
   ]
  },
  {
   "cell_type": "markdown",
   "metadata": {},
   "source": [
    "Set `index`: "
   ]
  },
  {
   "cell_type": "code",
   "execution_count": 3,
   "metadata": {},
   "outputs": [],
   "source": [
    "index = target.Lake[target.Lake == 'Muskegon'].index"
   ]
  },
  {
   "cell_type": "markdown",
   "metadata": {},
   "source": [
    "Create target variables and store as Pandas `Series` object: "
   ]
  },
  {
   "cell_type": "code",
   "execution_count": 4,
   "metadata": {},
   "outputs": [],
   "source": [
    "'''Set sample names as index and shuffle data'''\n",
    "\n",
    "#Remove outlier samples:\n",
    "data_rel = data_rel.loc[index,:]\n",
    "target = target.loc[index,:]\n",
    "\n",
    "#Create target columns of HNA-values: \n",
    "#hna = target.loc[index,'HNA.cells']\n",
    "#hna_rel = hna/target.loc[index,'Total.cells']\n",
    "#hna = pd.Series(hna, index=hna.index)\n",
    "#hna_rel = pd.Series(hna_rel, index=hna.index)\n",
    "\n",
    "#Create target columns of LNA-values: \n",
    "lna = target.loc[index,'LNA.cells']\n",
    "lna_rel = lna/target.loc[index,'Total.cells']\n",
    "lna = pd.Series(lna, index=lna.index)\n",
    "lna_rel = pd.Series(lna_rel, index=lna.index)"
   ]
  },
  {
   "cell_type": "markdown",
   "metadata": {},
   "source": [
    "Perform Centered Log-Ratio (CLR) transformation to abundance data: "
   ]
  },
  {
   "cell_type": "code",
   "execution_count": 5,
   "metadata": {},
   "outputs": [],
   "source": [
    "otus = list(data_rel.columns) #otus are the variables\n",
    "\n",
    "data_rel_repl = composition.multiplicative_replacement(data_rel.loc[index,otus])\n",
    "data_rel_clr = pd.DataFrame(composition.clr(data_rel_repl), index=index, columns=otus)"
   ]
  },
  {
   "cell_type": "markdown",
   "metadata": {},
   "source": [
    "If we want to save CLR-transformed file: "
   ]
  },
  {
   "cell_type": "code",
   "execution_count": 6,
   "metadata": {},
   "outputs": [],
   "source": [
    "#data_rel_clr.to_csv('muskegon_otu_5in10_clr.csv')"
   ]
  },
  {
   "cell_type": "markdown",
   "metadata": {},
   "source": [
    "Standardize data with mean 0 and standard deviation of 1: "
   ]
  },
  {
   "cell_type": "code",
   "execution_count": 7,
   "metadata": {},
   "outputs": [
    {
     "name": "stderr",
     "output_type": "stream",
     "text": [
      "/home/prubbens/miniconda3/lib/python3.6/site-packages/sklearn/cross_validation.py:41: DeprecationWarning: This module was deprecated in version 0.18 in favor of the model_selection module into which all the refactored classes and functions are moved. Also note that the interface of the new CV iterators are different from that of this module. This module will be removed in 0.20.\n",
      "  \"This module will be removed in 0.20.\", DeprecationWarning)\n"
     ]
    }
   ],
   "source": [
    "from analysis_functions import standardize_df\n",
    "data_stand, scaler = standardize_df(data_rel_clr,otus)"
   ]
  },
  {
   "cell_type": "markdown",
   "metadata": {},
   "source": [
    "Create dummy variable to encode samples according to `Year` and `Site`; `cv` denotes cross-validation object. "
   ]
  },
  {
   "cell_type": "code",
   "execution_count": 8,
   "metadata": {},
   "outputs": [],
   "source": [
    "target.loc[index,'spatiotemporal'] = target.loc[index,'Year'].astype(str) + target.loc[index,'Site']\n",
    "le = LabelEncoder()\n",
    "le_values = le.fit_transform(target.loc[index,'spatiotemporal'].values)\n",
    "cv = LeaveOneGroupOut().split(data_stand, groups=le_values)"
   ]
  },
  {
   "cell_type": "markdown",
   "metadata": {},
   "source": [
    "First, calculate kendall tau correlation coefficient between OTU's and HNAcc: "
   ]
  },
  {
   "cell_type": "code",
   "execution_count": 9,
   "metadata": {},
   "outputs": [],
   "source": [
    "kendall = np.zeros(len(otus))\n",
    "p_kendall = np.zeros(len(otus))\n",
    "for i in np.arange(0,len(otus)):\n",
    "    kendall[i], p_kendall[i] = kendalltau(data_rel_clr.loc[:,otus[i]],lna)\n",
    "fs = pd.DataFrame(kendall, index=otus, columns = ['kendall_LNA'])\n",
    "fs['p_kendall_LNA'] = p_kendall\n",
    "fs['kendall significant LNA'] = np.where(fs.loc[otus,'p_kendall_LNA']<0.05,'yes','no')"
   ]
  },
  {
   "cell_type": "markdown",
   "metadata": {},
   "source": [
    "Determine amount of OTU's that are significantly correlated with $P < 0.05$ or $P < 0.01$: "
   ]
  },
  {
   "cell_type": "code",
   "execution_count": 10,
   "metadata": {
    "scrolled": false
   },
   "outputs": [
    {
     "name": "stdout",
     "output_type": "stream",
     "text": [
      "Total OTUs: 482\n",
      "Number of selected LNA OTUs using Kendall tau with p < 0.05: 210\n",
      "Number of selected LNA OTUs using Kendall tau with p < 0.01: 121\n"
     ]
    }
   ],
   "source": [
    "print('Total OTUs: ' + str(len(otus)))\n",
    "fs_selected_f = fs[fs.loc[:,'p_kendall_LNA'].values < 0.05]\n",
    "print('Number of selected LNA OTUs using Kendall tau with p < 0.05: ' + str(len(fs_selected_f)))\n",
    "fs_selected_f = fs[fs.loc[:,'p_kendall_LNA'].values < 0.01]\n",
    "print('Number of selected LNA OTUs using Kendall tau with p < 0.01: ' + str(len(fs_selected_f)))"
   ]
  },
  {
   "cell_type": "markdown",
   "metadata": {},
   "source": [
    "Show OTU's with highest correlation: "
   ]
  },
  {
   "cell_type": "code",
   "execution_count": 11,
   "metadata": {},
   "outputs": [
    {
     "data": {
      "text/html": [
       "<div>\n",
       "<style scoped>\n",
       "    .dataframe tbody tr th:only-of-type {\n",
       "        vertical-align: middle;\n",
       "    }\n",
       "\n",
       "    .dataframe tbody tr th {\n",
       "        vertical-align: top;\n",
       "    }\n",
       "\n",
       "    .dataframe thead th {\n",
       "        text-align: right;\n",
       "    }\n",
       "</style>\n",
       "<table border=\"1\" class=\"dataframe\">\n",
       "  <thead>\n",
       "    <tr style=\"text-align: right;\">\n",
       "      <th></th>\n",
       "      <th>kendall_LNA</th>\n",
       "      <th>p_kendall_LNA</th>\n",
       "      <th>kendall significant LNA</th>\n",
       "    </tr>\n",
       "  </thead>\n",
       "  <tbody>\n",
       "    <tr>\n",
       "      <th>Otu000005</th>\n",
       "      <td>0.601269</td>\n",
       "      <td>4.976994e-12</td>\n",
       "      <td>yes</td>\n",
       "    </tr>\n",
       "    <tr>\n",
       "      <th>Otu000048</th>\n",
       "      <td>0.514543</td>\n",
       "      <td>3.419384e-09</td>\n",
       "      <td>yes</td>\n",
       "    </tr>\n",
       "    <tr>\n",
       "      <th>Otu000108</th>\n",
       "      <td>0.505024</td>\n",
       "      <td>6.601971e-09</td>\n",
       "      <td>yes</td>\n",
       "    </tr>\n",
       "    <tr>\n",
       "      <th>Otu000029</th>\n",
       "      <td>0.494447</td>\n",
       "      <td>1.352736e-08</td>\n",
       "      <td>yes</td>\n",
       "    </tr>\n",
       "    <tr>\n",
       "      <th>Otu000113</th>\n",
       "      <td>0.482813</td>\n",
       "      <td>2.928865e-08</td>\n",
       "      <td>yes</td>\n",
       "    </tr>\n",
       "    <tr>\n",
       "      <th>Otu000038</th>\n",
       "      <td>0.482813</td>\n",
       "      <td>2.928865e-08</td>\n",
       "      <td>yes</td>\n",
       "    </tr>\n",
       "    <tr>\n",
       "      <th>Otu000123</th>\n",
       "      <td>0.454257</td>\n",
       "      <td>1.812209e-07</td>\n",
       "      <td>yes</td>\n",
       "    </tr>\n",
       "    <tr>\n",
       "      <th>Otu000016</th>\n",
       "      <td>0.447911</td>\n",
       "      <td>2.678812e-07</td>\n",
       "      <td>yes</td>\n",
       "    </tr>\n",
       "    <tr>\n",
       "      <th>Otu000277</th>\n",
       "      <td>0.446854</td>\n",
       "      <td>2.857682e-07</td>\n",
       "      <td>yes</td>\n",
       "    </tr>\n",
       "    <tr>\n",
       "      <th>Otu000042</th>\n",
       "      <td>0.434162</td>\n",
       "      <td>6.138084e-07</td>\n",
       "      <td>yes</td>\n",
       "    </tr>\n",
       "  </tbody>\n",
       "</table>\n",
       "</div>"
      ],
      "text/plain": [
       "           kendall_LNA  p_kendall_LNA kendall significant LNA\n",
       "Otu000005     0.601269   4.976994e-12                     yes\n",
       "Otu000048     0.514543   3.419384e-09                     yes\n",
       "Otu000108     0.505024   6.601971e-09                     yes\n",
       "Otu000029     0.494447   1.352736e-08                     yes\n",
       "Otu000113     0.482813   2.928865e-08                     yes\n",
       "Otu000038     0.482813   2.928865e-08                     yes\n",
       "Otu000123     0.454257   1.812209e-07                     yes\n",
       "Otu000016     0.447911   2.678812e-07                     yes\n",
       "Otu000277     0.446854   2.857682e-07                     yes\n",
       "Otu000042     0.434162   6.138084e-07                     yes"
      ]
     },
     "metadata": {},
     "output_type": "display_data"
    }
   ],
   "source": [
    "fs.sort_values('kendall_LNA', inplace=True, ascending=False)\n",
    "display(fs.head(10))"
   ]
  },
  {
   "cell_type": "markdown",
   "metadata": {},
   "source": [
    "Perform Randomized Lasso (RL) with HNAcc as output: "
   ]
  },
  {
   "cell_type": "code",
   "execution_count": 12,
   "metadata": {},
   "outputs": [
    {
     "name": "stderr",
     "output_type": "stream",
     "text": [
      "/home/prubbens/miniconda3/lib/python3.6/site-packages/sklearn/utils/deprecation.py:58: DeprecationWarning: Class RandomizedLasso is deprecated; The class RandomizedLasso is deprecated in 0.19 and will be removed in 0.21.\n",
      "  warnings.warn(msg, category=DeprecationWarning)\n"
     ]
    }
   ],
   "source": [
    "from analysis_functions import perform_randomizedLasso\n",
    "fs.loc[otus,'RL score'] = perform_randomizedLasso(data_stand.loc[index,otus], lna)\n",
    "fs.loc[otus,'RL ranking'] = fs.loc[otus,'RL score'].rank(method='min', ascending=False)\n",
    "fs.sort_values('RL score', inplace=True, ascending=False)"
   ]
  },
  {
   "cell_type": "markdown",
   "metadata": {},
   "source": [
    "Show RL scores: "
   ]
  },
  {
   "cell_type": "code",
   "execution_count": 13,
   "metadata": {},
   "outputs": [
    {
     "data": {
      "text/html": [
       "<div>\n",
       "<style scoped>\n",
       "    .dataframe tbody tr th:only-of-type {\n",
       "        vertical-align: middle;\n",
       "    }\n",
       "\n",
       "    .dataframe tbody tr th {\n",
       "        vertical-align: top;\n",
       "    }\n",
       "\n",
       "    .dataframe thead th {\n",
       "        text-align: right;\n",
       "    }\n",
       "</style>\n",
       "<table border=\"1\" class=\"dataframe\">\n",
       "  <thead>\n",
       "    <tr style=\"text-align: right;\">\n",
       "      <th></th>\n",
       "      <th>kendall_LNA</th>\n",
       "      <th>p_kendall_LNA</th>\n",
       "      <th>kendall significant LNA</th>\n",
       "      <th>RL score</th>\n",
       "      <th>RL ranking</th>\n",
       "    </tr>\n",
       "  </thead>\n",
       "  <tbody>\n",
       "    <tr>\n",
       "      <th>Otu000029</th>\n",
       "      <td>0.494447</td>\n",
       "      <td>1.352736e-08</td>\n",
       "      <td>yes</td>\n",
       "      <td>0.568</td>\n",
       "      <td>1.0</td>\n",
       "    </tr>\n",
       "    <tr>\n",
       "      <th>Otu000244</th>\n",
       "      <td>-0.402433</td>\n",
       "      <td>3.793692e-06</td>\n",
       "      <td>yes</td>\n",
       "      <td>0.394</td>\n",
       "      <td>2.0</td>\n",
       "    </tr>\n",
       "    <tr>\n",
       "      <th>Otu000242</th>\n",
       "      <td>0.140137</td>\n",
       "      <td>1.074783e-01</td>\n",
       "      <td>no</td>\n",
       "      <td>0.372</td>\n",
       "      <td>3.0</td>\n",
       "    </tr>\n",
       "    <tr>\n",
       "      <th>Otu000030</th>\n",
       "      <td>0.429931</td>\n",
       "      <td>7.883544e-07</td>\n",
       "      <td>yes</td>\n",
       "      <td>0.366</td>\n",
       "      <td>4.0</td>\n",
       "    </tr>\n",
       "    <tr>\n",
       "      <th>Otu000038</th>\n",
       "      <td>0.482813</td>\n",
       "      <td>2.928865e-08</td>\n",
       "      <td>yes</td>\n",
       "      <td>0.306</td>\n",
       "      <td>5.0</td>\n",
       "    </tr>\n",
       "    <tr>\n",
       "      <th>Otu000136</th>\n",
       "      <td>-0.373876</td>\n",
       "      <td>1.751855e-05</td>\n",
       "      <td>yes</td>\n",
       "      <td>0.306</td>\n",
       "      <td>5.0</td>\n",
       "    </tr>\n",
       "    <tr>\n",
       "      <th>Otu000267</th>\n",
       "      <td>-0.372819</td>\n",
       "      <td>1.850315e-05</td>\n",
       "      <td>yes</td>\n",
       "      <td>0.294</td>\n",
       "      <td>7.0</td>\n",
       "    </tr>\n",
       "    <tr>\n",
       "      <th>Otu000905</th>\n",
       "      <td>0.294553</td>\n",
       "      <td>7.162986e-04</td>\n",
       "      <td>yes</td>\n",
       "      <td>0.256</td>\n",
       "      <td>8.0</td>\n",
       "    </tr>\n",
       "    <tr>\n",
       "      <th>Otu000210</th>\n",
       "      <td>-0.450026</td>\n",
       "      <td>2.352950e-07</td>\n",
       "      <td>yes</td>\n",
       "      <td>0.254</td>\n",
       "      <td>9.0</td>\n",
       "    </tr>\n",
       "    <tr>\n",
       "      <th>Otu000412</th>\n",
       "      <td>-0.186674</td>\n",
       "      <td>3.202080e-02</td>\n",
       "      <td>yes</td>\n",
       "      <td>0.252</td>\n",
       "      <td>10.0</td>\n",
       "    </tr>\n",
       "  </tbody>\n",
       "</table>\n",
       "</div>"
      ],
      "text/plain": [
       "           kendall_LNA  p_kendall_LNA kendall significant LNA  RL score  \\\n",
       "Otu000029     0.494447   1.352736e-08                     yes     0.568   \n",
       "Otu000244    -0.402433   3.793692e-06                     yes     0.394   \n",
       "Otu000242     0.140137   1.074783e-01                      no     0.372   \n",
       "Otu000030     0.429931   7.883544e-07                     yes     0.366   \n",
       "Otu000038     0.482813   2.928865e-08                     yes     0.306   \n",
       "Otu000136    -0.373876   1.751855e-05                     yes     0.306   \n",
       "Otu000267    -0.372819   1.850315e-05                     yes     0.294   \n",
       "Otu000905     0.294553   7.162986e-04                     yes     0.256   \n",
       "Otu000210    -0.450026   2.352950e-07                     yes     0.254   \n",
       "Otu000412    -0.186674   3.202080e-02                     yes     0.252   \n",
       "\n",
       "           RL ranking  \n",
       "Otu000029         1.0  \n",
       "Otu000244         2.0  \n",
       "Otu000242         3.0  \n",
       "Otu000030         4.0  \n",
       "Otu000038         5.0  \n",
       "Otu000136         5.0  \n",
       "Otu000267         7.0  \n",
       "Otu000905         8.0  \n",
       "Otu000210         9.0  \n",
       "Otu000412        10.0  "
      ]
     },
     "metadata": {},
     "output_type": "display_data"
    }
   ],
   "source": [
    "display(fs.head(10))"
   ]
  },
  {
   "cell_type": "code",
   "execution_count": 15,
   "metadata": {},
   "outputs": [],
   "source": [
    "from analysis_functions import perform_Boruta\n",
    "\n",
    "fs_boruta = perform_Boruta(200, 1/3, 5, data_stand, lna, otus)"
   ]
  },
  {
   "cell_type": "markdown",
   "metadata": {},
   "source": [
    "Concat Boruta selection results with previous ones: "
   ]
  },
  {
   "cell_type": "code",
   "execution_count": 16,
   "metadata": {},
   "outputs": [],
   "source": [
    "fs = pd.concat([fs,fs_boruta], axis=1, ignore_index=False)"
   ]
  },
  {
   "cell_type": "code",
   "execution_count": 17,
   "metadata": {},
   "outputs": [
    {
     "data": {
      "text/html": [
       "<div>\n",
       "<style scoped>\n",
       "    .dataframe tbody tr th:only-of-type {\n",
       "        vertical-align: middle;\n",
       "    }\n",
       "\n",
       "    .dataframe tbody tr th {\n",
       "        vertical-align: top;\n",
       "    }\n",
       "\n",
       "    .dataframe thead th {\n",
       "        text-align: right;\n",
       "    }\n",
       "</style>\n",
       "<table border=\"1\" class=\"dataframe\">\n",
       "  <thead>\n",
       "    <tr style=\"text-align: right;\">\n",
       "      <th></th>\n",
       "      <th>kendall_LNA</th>\n",
       "      <th>p_kendall_LNA</th>\n",
       "      <th>kendall significant LNA</th>\n",
       "      <th>RL score</th>\n",
       "      <th>RL ranking</th>\n",
       "      <th>Boruta ranking</th>\n",
       "      <th>Boruta score</th>\n",
       "    </tr>\n",
       "  </thead>\n",
       "  <tbody>\n",
       "    <tr>\n",
       "      <th>Otu000048</th>\n",
       "      <td>0.514543</td>\n",
       "      <td>3.419384e-09</td>\n",
       "      <td>yes</td>\n",
       "      <td>0.008</td>\n",
       "      <td>430.0</td>\n",
       "      <td>1</td>\n",
       "      <td>0.040885</td>\n",
       "    </tr>\n",
       "    <tr>\n",
       "      <th>Otu000005</th>\n",
       "      <td>0.601269</td>\n",
       "      <td>4.976994e-12</td>\n",
       "      <td>yes</td>\n",
       "      <td>0.172</td>\n",
       "      <td>44.0</td>\n",
       "      <td>1</td>\n",
       "      <td>0.185705</td>\n",
       "    </tr>\n",
       "    <tr>\n",
       "      <th>Otu000083</th>\n",
       "      <td>-0.403490</td>\n",
       "      <td>3.577590e-06</td>\n",
       "      <td>yes</td>\n",
       "      <td>0.008</td>\n",
       "      <td>430.0</td>\n",
       "      <td>1</td>\n",
       "      <td>0.039996</td>\n",
       "    </tr>\n",
       "    <tr>\n",
       "      <th>Otu000113</th>\n",
       "      <td>0.482813</td>\n",
       "      <td>2.928865e-08</td>\n",
       "      <td>yes</td>\n",
       "      <td>0.224</td>\n",
       "      <td>14.0</td>\n",
       "      <td>1</td>\n",
       "      <td>0.051869</td>\n",
       "    </tr>\n",
       "    <tr>\n",
       "      <th>Otu000027</th>\n",
       "      <td>-0.548387</td>\n",
       "      <td>2.999146e-10</td>\n",
       "      <td>yes</td>\n",
       "      <td>0.124</td>\n",
       "      <td>68.0</td>\n",
       "      <td>1</td>\n",
       "      <td>0.230685</td>\n",
       "    </tr>\n",
       "    <tr>\n",
       "      <th>Otu000060</th>\n",
       "      <td>0.240613</td>\n",
       "      <td>5.714879e-03</td>\n",
       "      <td>yes</td>\n",
       "      <td>0.250</td>\n",
       "      <td>11.0</td>\n",
       "      <td>1</td>\n",
       "      <td>0.018703</td>\n",
       "    </tr>\n",
       "    <tr>\n",
       "      <th>Otu000016</th>\n",
       "      <td>0.447911</td>\n",
       "      <td>2.678812e-07</td>\n",
       "      <td>yes</td>\n",
       "      <td>0.070</td>\n",
       "      <td>139.0</td>\n",
       "      <td>1</td>\n",
       "      <td>0.010861</td>\n",
       "    </tr>\n",
       "    <tr>\n",
       "      <th>Otu000017</th>\n",
       "      <td>-0.369646</td>\n",
       "      <td>2.178312e-05</td>\n",
       "      <td>yes</td>\n",
       "      <td>0.052</td>\n",
       "      <td>184.0</td>\n",
       "      <td>1</td>\n",
       "      <td>0.004633</td>\n",
       "    </tr>\n",
       "    <tr>\n",
       "      <th>Otu000058</th>\n",
       "      <td>-0.291380</td>\n",
       "      <td>8.174455e-04</td>\n",
       "      <td>yes</td>\n",
       "      <td>0.208</td>\n",
       "      <td>19.0</td>\n",
       "      <td>1</td>\n",
       "      <td>0.027559</td>\n",
       "    </tr>\n",
       "    <tr>\n",
       "      <th>Otu000042</th>\n",
       "      <td>0.434162</td>\n",
       "      <td>6.138084e-07</td>\n",
       "      <td>yes</td>\n",
       "      <td>0.016</td>\n",
       "      <td>383.0</td>\n",
       "      <td>1</td>\n",
       "      <td>0.021497</td>\n",
       "    </tr>\n",
       "  </tbody>\n",
       "</table>\n",
       "</div>"
      ],
      "text/plain": [
       "           kendall_LNA  p_kendall_LNA kendall significant LNA  RL score  \\\n",
       "Otu000048     0.514543   3.419384e-09                     yes     0.008   \n",
       "Otu000005     0.601269   4.976994e-12                     yes     0.172   \n",
       "Otu000083    -0.403490   3.577590e-06                     yes     0.008   \n",
       "Otu000113     0.482813   2.928865e-08                     yes     0.224   \n",
       "Otu000027    -0.548387   2.999146e-10                     yes     0.124   \n",
       "Otu000060     0.240613   5.714879e-03                     yes     0.250   \n",
       "Otu000016     0.447911   2.678812e-07                     yes     0.070   \n",
       "Otu000017    -0.369646   2.178312e-05                     yes     0.052   \n",
       "Otu000058    -0.291380   8.174455e-04                     yes     0.208   \n",
       "Otu000042     0.434162   6.138084e-07                     yes     0.016   \n",
       "\n",
       "           RL ranking  Boruta ranking  Boruta score  \n",
       "Otu000048       430.0               1      0.040885  \n",
       "Otu000005        44.0               1      0.185705  \n",
       "Otu000083       430.0               1      0.039996  \n",
       "Otu000113        14.0               1      0.051869  \n",
       "Otu000027        68.0               1      0.230685  \n",
       "Otu000060        11.0               1      0.018703  \n",
       "Otu000016       139.0               1      0.010861  \n",
       "Otu000017       184.0               1      0.004633  \n",
       "Otu000058        19.0               1      0.027559  \n",
       "Otu000042       383.0               1      0.021497  "
      ]
     },
     "metadata": {},
     "output_type": "display_data"
    }
   ],
   "source": [
    "fs.sort_values('Boruta ranking', ascending=True, inplace=True)\n",
    "display(fs.head(10))"
   ]
  },
  {
   "cell_type": "markdown",
   "metadata": {},
   "source": [
    "Calculate kendall tau correlation coefficient between RL ranking and Boruta ranking: "
   ]
  },
  {
   "cell_type": "code",
   "execution_count": 18,
   "metadata": {},
   "outputs": [
    {
     "name": "stdout",
     "output_type": "stream",
     "text": [
      "Kendall tau: 0.170948758023\n",
      "P-value: 4.59722856685e-08\n"
     ]
    }
   ],
   "source": [
    "from scipy.stats import spearmanr\n",
    "r, p = kendalltau(fs.loc[otus,'RL ranking'], fs.loc[otus,'Boruta ranking'])\n",
    "print('Kendall tau: ' + str(r))\n",
    "print('P-value: ' + str(p))"
   ]
  },
  {
   "cell_type": "markdown",
   "metadata": {},
   "source": [
    "Save results if wanted: "
   ]
  },
  {
   "cell_type": "code",
   "execution_count": null,
   "metadata": {},
   "outputs": [],
   "source": [
    "#fs.to_csv('FS_new/Muskegon_fs_scores_LNA_5in10.csv')"
   ]
  }
 ],
 "metadata": {
  "anaconda-cloud": {},
  "kernelspec": {
   "display_name": "Python 3",
   "language": "python",
   "name": "python3"
  },
  "language_info": {
   "codemirror_mode": {
    "name": "ipython",
    "version": 3
   },
   "file_extension": ".py",
   "mimetype": "text/x-python",
   "name": "python",
   "nbconvert_exporter": "python",
   "pygments_lexer": "ipython3",
   "version": "3.6.4"
  }
 },
 "nbformat": 4,
 "nbformat_minor": 1
}
