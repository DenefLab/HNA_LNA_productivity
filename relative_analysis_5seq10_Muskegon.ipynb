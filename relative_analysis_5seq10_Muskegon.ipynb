{
 "cells": [
  {
   "cell_type": "code",
   "execution_count": 1,
   "metadata": {
    "scrolled": true
   },
   "outputs": [
    {
     "name": "stderr",
     "output_type": "stream",
     "text": [
      "/home/prubbens/miniconda3/lib/python3.6/site-packages/sklearn/cross_validation.py:41: DeprecationWarning: This module was deprecated in version 0.18 in favor of the model_selection module into which all the refactored classes and functions are moved. Also note that the interface of the new CV iterators are different from that of this module. This module will be removed in 0.20.\n",
      "  \"This module will be removed in 0.20.\", DeprecationWarning)\n"
     ]
    }
   ],
   "source": [
    "'''Import packages'''\n",
    "'''Requires numpy, pandas, scikit-learn, and matplotlib/seaborn'''\n",
    "import numpy as np\n",
    "import pandas as pd\n",
    "from skbio.stats import composition\n",
    "from sklearn.feature_selection import f_regression\n",
    "from sklearn.feature_selection import mutual_info_regression\n",
    "from sklearn.model_selection import KFold\n",
    "from sklearn.model_selection import cross_val_predict\n",
    "from sklearn.linear_model import Lasso\n",
    "from scipy.stats import kendalltau\n",
    "\n",
    "import matplotlib.pyplot as plt\n",
    "import seaborn as sns\n",
    "sns.set_style(\"ticks\")\n",
    "\n",
    "'''Import script which contains functions'''\n",
    "import analysis_functions\n",
    "from analysis_functions import get_r2\n",
    "from analysis_functions import get_lassoCV\n",
    "from analysis_functions import perform_randomizedLasso\n",
    "\n",
    "from IPython.display import display, HTML\n",
    "\n",
    "#If we want to time the implementation: \n",
    "#import time\n",
    "#start_time = time.time()"
   ]
  },
  {
   "cell_type": "markdown",
   "metadata": {},
   "source": [
    "Import the dataframes: "
   ]
  },
  {
   "cell_type": "code",
   "execution_count": 2,
   "metadata": {
    "scrolled": true
   },
   "outputs": [],
   "source": [
    "'''Import data'''\n",
    "data_abs = pd.read_csv('data/Chloroplasts_removed/ByLake_Filtering/5in10/muskegon/muskegon_absolute_otu_5in10.tsv', sep=' ', index_col=None, header=0, float_precision='high')\n",
    "data_rel = pd.read_csv('data/Chloroplasts_removed/ByLake_Filtering/5in10/muskegon/muskegon_relative_otu_5in10.tsv', sep=' ', index_col=None, header=0, float_precision='high')\n",
    "target = pd.read_csv('data/Chloroplasts_removed/ByLake_Filtering/5in10/muskegon/muskegon_sampledata_5in10.tsv', sep= ' ', index_col=0, header=0)"
   ]
  },
  {
   "cell_type": "markdown",
   "metadata": {},
   "source": [
    "**2)**: At 01-05-'17 @marschmi found that a few samples can be seen as outliers, as they represent the bottom waters of productive inland lakes, resulting in a big difference of the HNA percentage. These samples are the following: Z14055F, Z14003F, Z14007F, Z14023F, Z14011F. A code of line is added, in order to be able to run the pipeline without these samples; "
   ]
  },
  {
   "cell_type": "code",
   "execution_count": 3,
   "metadata": {},
   "outputs": [],
   "source": [
    "index = target.Lake[target.Lake == 'Muskegon'].index"
   ]
  },
  {
   "cell_type": "code",
   "execution_count": 4,
   "metadata": {},
   "outputs": [],
   "source": [
    "'''Set sample names as index and shuffle data'''\n",
    "\n",
    "#Remove outlier samples:\n",
    "data_abs = data_abs.loc[index,:] \n",
    "data_rel = data_rel.loc[index,:]\n",
    "target = target.loc[index,:]\n",
    "#productivity = productivity.loc[index,:]\n",
    "\n",
    "#Shuffle data: \n",
    "#data_abs = data_abs.sample(frac=1, random_state=3)\n",
    "#data_rel = data_rel.sample(frac=1, random_state=3)\n",
    "#target = target.sample(frac=1, random_state=3)\n",
    "#productivity = productivity.sample(frac=1, random_state=3) \n",
    "\n",
    "#Create target columns of HNA-values: \n",
    "hna = target.loc[:,'HNA.cells']\n",
    "hna_rel = hna/target.loc[:,'Total.cells']\n",
    "hna = pd.Series(hna, index=hna.index)\n",
    "hna_rel = pd.Series(hna_rel, index=hna.index)\n",
    "\n",
    "#Create target columns of LNA-values: \n",
    "lna = target.loc[:,'LNA.cells']\n",
    "lna_rel = lna/target.loc[:,'Total.cells']\n",
    "lna = pd.Series(lna, index=lna.index)\n",
    "lna_rel = pd.Series(lna_rel, index=lna.index)"
   ]
  },
  {
   "cell_type": "code",
   "execution_count": 5,
   "metadata": {},
   "outputs": [],
   "source": [
    "#Some variables to store information and to create inner and outer CV-folds\n",
    "otus = list(data_rel.columns)\n",
    "cv = 5"
   ]
  },
  {
   "cell_type": "code",
   "execution_count": 6,
   "metadata": {},
   "outputs": [],
   "source": [
    "''' Log-Ratio analyses '''\n",
    "data_rel_repl = composition.multiplicative_replacement(data_rel.loc[:,otus])\n",
    "data_rel_clr = pd.DataFrame(composition.clr(data_rel_repl), columns=otus)\n",
    "\n",
    "''' Standardize data '''\n",
    "from analysis_functions import standardize_df\n",
    "data_stand, scaler = standardize_df(data_rel_clr,otus)"
   ]
  },
  {
   "cell_type": "markdown",
   "metadata": {},
   "source": [
    "To do so, we use the **_Randomized Lasso_**: this method makes use of two kinds of randomization in order to select variables (i.e., OTU's) with a certain _stability_: (1) it fits a Lasso to various bootstrap subsamples and (2) it perturbs the initial weighting of certain variables. \n",
    "\n",
    "This results in a $score \\in [0,1]$ that is assigned to variables, with 0 denoting the case where a variable is never chosen by the Lasso, and 1 denoting the case where a variable always is chosen. In other words, the higher the score, the more important a variable can be considered to be. "
   ]
  },
  {
   "cell_type": "markdown",
   "metadata": {},
   "source": [
    "**First goal: ** try to pinpoint those OTU's for which we are sure they are present in the '_HNA-cloud_'. "
   ]
  },
  {
   "cell_type": "markdown",
   "metadata": {},
   "source": [
    "**Univariate Feature Selection**: \n",
    "\n",
    "Let's compare two methods: \n",
    "- f_regression (f-score pearson correlation), \n",
    "- Mutual information,  \n",
    "- (other methods can follow as well). "
   ]
  },
  {
   "cell_type": "code",
   "execution_count": 7,
   "metadata": {},
   "outputs": [
    {
     "data": {
      "text/html": [
       "<div>\n",
       "<style scoped>\n",
       "    .dataframe tbody tr th:only-of-type {\n",
       "        vertical-align: middle;\n",
       "    }\n",
       "\n",
       "    .dataframe tbody tr th {\n",
       "        vertical-align: top;\n",
       "    }\n",
       "\n",
       "    .dataframe thead th {\n",
       "        text-align: right;\n",
       "    }\n",
       "</style>\n",
       "<table border=\"1\" class=\"dataframe\">\n",
       "  <thead>\n",
       "    <tr style=\"text-align: right;\">\n",
       "      <th></th>\n",
       "      <th>f_regr</th>\n",
       "      <th>p-value</th>\n",
       "      <th>kendall</th>\n",
       "      <th>p_kendall</th>\n",
       "    </tr>\n",
       "  </thead>\n",
       "  <tbody>\n",
       "    <tr>\n",
       "      <th>Otu000001</th>\n",
       "      <td>1.832735</td>\n",
       "      <td>0.180883</td>\n",
       "      <td>-0.093601</td>\n",
       "      <td>0.282324</td>\n",
       "    </tr>\n",
       "    <tr>\n",
       "      <th>Otu000004</th>\n",
       "      <td>0.385842</td>\n",
       "      <td>0.536846</td>\n",
       "      <td>0.051296</td>\n",
       "      <td>0.555737</td>\n",
       "    </tr>\n",
       "    <tr>\n",
       "      <th>Otu000005</th>\n",
       "      <td>3.646392</td>\n",
       "      <td>0.060975</td>\n",
       "      <td>0.248017</td>\n",
       "      <td>0.004389</td>\n",
       "    </tr>\n",
       "    <tr>\n",
       "      <th>Otu000006</th>\n",
       "      <td>0.330510</td>\n",
       "      <td>0.567509</td>\n",
       "      <td>-0.038604</td>\n",
       "      <td>0.657471</td>\n",
       "    </tr>\n",
       "    <tr>\n",
       "      <th>Otu000007</th>\n",
       "      <td>3.726215</td>\n",
       "      <td>0.058295</td>\n",
       "      <td>0.138022</td>\n",
       "      <td>0.112890</td>\n",
       "    </tr>\n",
       "    <tr>\n",
       "      <th>Otu000009</th>\n",
       "      <td>3.078418</td>\n",
       "      <td>0.084443</td>\n",
       "      <td>0.133792</td>\n",
       "      <td>0.124356</td>\n",
       "    </tr>\n",
       "    <tr>\n",
       "      <th>Otu000010</th>\n",
       "      <td>2.764069</td>\n",
       "      <td>0.101619</td>\n",
       "      <td>-0.063987</td>\n",
       "      <td>0.462361</td>\n",
       "    </tr>\n",
       "    <tr>\n",
       "      <th>Otu000011</th>\n",
       "      <td>0.460694</td>\n",
       "      <td>0.499910</td>\n",
       "      <td>0.059757</td>\n",
       "      <td>0.492479</td>\n",
       "    </tr>\n",
       "    <tr>\n",
       "      <th>Otu000012</th>\n",
       "      <td>6.328694</td>\n",
       "      <td>0.014575</td>\n",
       "      <td>-0.292438</td>\n",
       "      <td>0.000782</td>\n",
       "    </tr>\n",
       "    <tr>\n",
       "      <th>Otu000014</th>\n",
       "      <td>0.198389</td>\n",
       "      <td>0.657627</td>\n",
       "      <td>0.071391</td>\n",
       "      <td>0.412216</td>\n",
       "    </tr>\n",
       "  </tbody>\n",
       "</table>\n",
       "</div>"
      ],
      "text/plain": [
       "             f_regr   p-value   kendall  p_kendall\n",
       "Otu000001  1.832735  0.180883 -0.093601   0.282324\n",
       "Otu000004  0.385842  0.536846  0.051296   0.555737\n",
       "Otu000005  3.646392  0.060975  0.248017   0.004389\n",
       "Otu000006  0.330510  0.567509 -0.038604   0.657471\n",
       "Otu000007  3.726215  0.058295  0.138022   0.112890\n",
       "Otu000009  3.078418  0.084443  0.133792   0.124356\n",
       "Otu000010  2.764069  0.101619 -0.063987   0.462361\n",
       "Otu000011  0.460694  0.499910  0.059757   0.492479\n",
       "Otu000012  6.328694  0.014575 -0.292438   0.000782\n",
       "Otu000014  0.198389  0.657627  0.071391   0.412216"
      ]
     },
     "metadata": {},
     "output_type": "display_data"
    }
   ],
   "source": [
    "f_regr, f_regr_p = f_regression(data_stand.loc[:,otus],hna)\n",
    "kendall = np.zeros(len(otus))\n",
    "p_kendall = np.zeros(len(otus))\n",
    "for i in np.arange(0,len(otus)):\n",
    "    kendall[i], p_kendall[i] = kendalltau(data_stand.loc[:,otus[i]],hna)\n",
    "uni_fs = pd.DataFrame(f_regr, index=otus, columns = ['f_regr'])\n",
    "uni_fs['p-value'] = f_regr_p\n",
    "uni_fs['kendall'] = kendall\n",
    "uni_fs['p_kendall'] = p_kendall\n",
    "display(uni_fs.head(10))"
   ]
  },
  {
   "cell_type": "markdown",
   "metadata": {},
   "source": [
    "Select otu's based on $p < \\text{thr}$: "
   ]
  },
  {
   "cell_type": "code",
   "execution_count": 8,
   "metadata": {
    "scrolled": false
   },
   "outputs": [
    {
     "name": "stdout",
     "output_type": "stream",
     "text": [
      "Total OTUs: 482\n",
      "Number of selected OTUs using Kendall tau with p < 0.05: 103\n",
      "Number of selected OTUs using Kendall tau with p < 0.01: 54\n"
     ]
    }
   ],
   "source": [
    "print('Total OTUs: ' + str(len(otus)))\n",
    "uni_fs_selected_f = uni_fs[uni_fs.loc[:,'p_kendall'].values < 0.05]\n",
    "print('Number of selected OTUs using Kendall tau with p < 0.05: ' + str(len(uni_fs_selected_f)))\n",
    "uni_fs_selected_f = uni_fs[uni_fs.loc[:,'p_kendall'].values < 0.01]\n",
    "print('Number of selected OTUs using Kendall tau with p < 0.01: ' + str(len(uni_fs_selected_f)))"
   ]
  },
  {
   "cell_type": "markdown",
   "metadata": {},
   "source": [
    "What happens when we tune a threshold in function of the f_score: "
   ]
  },
  {
   "cell_type": "code",
   "execution_count": 9,
   "metadata": {},
   "outputs": [],
   "source": [
    "from analysis_functions import get_r2_scores\n",
    "thr_otu_kendall_hna, r2_otu_kendall_hna = get_r2_scores(data_stand.loc[:,otus], hna, otus, np.abs(uni_fs['kendall']), cv)\n",
    "thr_otu_kendall_lna, r2_otu_kendall_lna = get_r2_scores(data_stand.loc[:,otus], lna, otus, np.abs(uni_fs['kendall']), cv)"
   ]
  },
  {
   "cell_type": "code",
   "execution_count": 10,
   "metadata": {},
   "outputs": [
    {
     "data": {
      "image/png": "[encoded data removed]",
      "text/plain": [
       "<matplotlib.figure.Figure at 0x7f238b1c6710>"
      ]
     },
     "metadata": {},
     "output_type": "display_data"
    }
   ],
   "source": [
    "plt.figure()\n",
    "sns.regplot(x=thr_otu_kendall_hna,y=r2_otu_kendall_hna, fit_reg=False, label='HNA')\n",
    "sns.regplot(x=thr_otu_kendall_lna,y=r2_otu_kendall_lna, fit_reg=False, label='LNA')\n",
    "plt.xlabel('Kendall Tau score', size=22)\n",
    "plt.xticks(size=10)\n",
    "plt.ylabel(r'$R^2$', size=22)\n",
    "plt.yticks(size=10)\n",
    "#plt.title('F-test', size=24)\n",
    "plt.legend()\n",
    "plt.show()"
   ]
  },
  {
   "cell_type": "code",
   "execution_count": 11,
   "metadata": {},
   "outputs": [
    {
     "name": "stderr",
     "output_type": "stream",
     "text": [
      "/home/prubbens/miniconda3/lib/python3.6/site-packages/sklearn/utils/deprecation.py:58: DeprecationWarning: Class RandomizedLasso is deprecated; The class RandomizedLasso is deprecated in 0.19 and will be removed in 0.21.\n",
      "  warnings.warn(msg, category=DeprecationWarning)\n"
     ]
    }
   ],
   "source": [
    "from analysis_functions import get_lassoCV_alpha\n",
    "\n",
    "alpha = get_lassoCV_alpha(data_stand.loc[:,otus],hna,otus,cv)\n",
    "    \n",
    "otu_scores = pd.DataFrame(perform_randomizedLasso(data_stand.loc[:,otus], hna, alpha), index=otus, columns=['score'])\n",
    "otu_scores.sort_values(ascending=False,inplace=True, by='score')\n",
    "\n",
    "thr_otu_scores_hna, r2_otu_scores_hna = get_r2_scores(data_stand.loc[:,otus], hna, otus, otu_scores, cv)\n",
    "thr_otu_scores_lna, r2_otu_scores_lna = get_r2_scores(data_stand.loc[:,otus], lna, otus, otu_scores, cv)"
   ]
  },
  {
   "cell_type": "code",
   "execution_count": 12,
   "metadata": {},
   "outputs": [
    {
     "data": {
      "image/png": "[encoded data removed]",
      "text/plain": [
       "<matplotlib.figure.Figure at 0x7f238b168dd8>"
      ]
     },
     "metadata": {},
     "output_type": "display_data"
    }
   ],
   "source": [
    "plt.figure()\n",
    "sns.regplot(x=thr_otu_scores_hna,y=r2_otu_scores_hna, fit_reg=False, label='HNA')\n",
    "sns.regplot(x=thr_otu_scores_lna,y=r2_otu_scores_lna, fit_reg=False, label='LNA')\n",
    "plt.axis([-0.005,1.005,0,1])\n",
    "plt.xlabel('Score', size=22)\n",
    "plt.xticks(size=10)\n",
    "plt.ylabel(r'$R^2$', size=22)\n",
    "plt.yticks(size=10)\n",
    "plt.legend()\n",
    "plt.title('Stability Selection HNA', size=24)\n",
    "plt.show()"
   ]
  },
  {
   "cell_type": "code",
   "execution_count": 13,
   "metadata": {},
   "outputs": [
    {
     "name": "stdout",
     "output_type": "stream",
     "text": [
      "R²_cv(hna): 0.881094306969\n",
      "Threshold score: 0.26\n"
     ]
    }
   ],
   "source": [
    "r2_final = r2_otu_scores_hna.max()\n",
    "thr = thr_otu_scores_hna[r2_otu_scores_hna.argmax()]\n",
    "print('R²_cv(hna): ' + str(r2_final) )\n",
    "print('Threshold score: ' + str(thr))"
   ]
  },
  {
   "cell_type": "code",
   "execution_count": 14,
   "metadata": {},
   "outputs": [],
   "source": [
    "otu_scores = otu_scores.assign(abun_abs_mean = data_abs.loc[:,otus].mean())\n",
    "otu_scores = otu_scores.assign(abun_abs_CV = data_abs.loc[:,otus].std()/data_abs.loc[:,otus].mean())\n",
    "otu_scores =  otu_scores.assign(abun_rel_mean = data_rel.loc[:,otus].mean())\n",
    "otu_scores = otu_scores.assign(abun_rel_CV = data_rel.loc[:,otus].std()/data_rel.loc[:,otus].mean())\n",
    "otu_scores['kendall'] = uni_fs.loc[otu_scores.index,'kendall']\n",
    "otu_scores['p_kendall'] = uni_fs.loc[otu_scores.index,'p_kendall']\n",
    "otu_scores.to_csv('Final/hnascores_otus_5seq10_rel_Muskegon.csv')"
   ]
  },
  {
   "cell_type": "code",
   "execution_count": 15,
   "metadata": {},
   "outputs": [
    {
     "data": {
      "text/html": [
       "<div>\n",
       "<style scoped>\n",
       "    .dataframe tbody tr th:only-of-type {\n",
       "        vertical-align: middle;\n",
       "    }\n",
       "\n",
       "    .dataframe tbody tr th {\n",
       "        vertical-align: top;\n",
       "    }\n",
       "\n",
       "    .dataframe thead th {\n",
       "        text-align: right;\n",
       "    }\n",
       "</style>\n",
       "<table border=\"1\" class=\"dataframe\">\n",
       "  <thead>\n",
       "    <tr style=\"text-align: right;\">\n",
       "      <th></th>\n",
       "      <th>score</th>\n",
       "      <th>abun_abs_mean</th>\n",
       "      <th>abun_abs_CV</th>\n",
       "      <th>abun_rel_mean</th>\n",
       "      <th>abun_rel_CV</th>\n",
       "      <th>kendall</th>\n",
       "      <th>p_kendall</th>\n",
       "    </tr>\n",
       "  </thead>\n",
       "  <tbody>\n",
       "    <tr>\n",
       "      <th>Otu000029</th>\n",
       "      <td>0.618</td>\n",
       "      <td>61707.245500</td>\n",
       "      <td>1.200677</td>\n",
       "      <td>0.008522</td>\n",
       "      <td>0.878843</td>\n",
       "      <td>0.259651</td>\n",
       "      <td>2.860222e-03</td>\n",
       "    </tr>\n",
       "    <tr>\n",
       "      <th>Otu000173</th>\n",
       "      <td>0.588</td>\n",
       "      <td>19183.863568</td>\n",
       "      <td>1.389539</td>\n",
       "      <td>0.002640</td>\n",
       "      <td>1.213961</td>\n",
       "      <td>0.501851</td>\n",
       "      <td>8.199569e-09</td>\n",
       "    </tr>\n",
       "    <tr>\n",
       "      <th>Otu000038</th>\n",
       "      <td>0.554</td>\n",
       "      <td>51754.310417</td>\n",
       "      <td>1.307713</td>\n",
       "      <td>0.006845</td>\n",
       "      <td>1.065805</td>\n",
       "      <td>0.279746</td>\n",
       "      <td>1.312698e-03</td>\n",
       "    </tr>\n",
       "    <tr>\n",
       "      <th>Otu000242</th>\n",
       "      <td>0.506</td>\n",
       "      <td>4279.004838</td>\n",
       "      <td>1.331277</td>\n",
       "      <td>0.000632</td>\n",
       "      <td>1.054300</td>\n",
       "      <td>0.195135</td>\n",
       "      <td>2.500431e-02</td>\n",
       "    </tr>\n",
       "    <tr>\n",
       "      <th>Otu000088</th>\n",
       "      <td>0.506</td>\n",
       "      <td>7070.539859</td>\n",
       "      <td>1.127830</td>\n",
       "      <td>0.001325</td>\n",
       "      <td>1.105117</td>\n",
       "      <td>-0.240613</td>\n",
       "      <td>5.714879e-03</td>\n",
       "    </tr>\n",
       "    <tr>\n",
       "      <th>Otu000487</th>\n",
       "      <td>0.498</td>\n",
       "      <td>4687.135556</td>\n",
       "      <td>1.295638</td>\n",
       "      <td>0.000794</td>\n",
       "      <td>1.225094</td>\n",
       "      <td>-0.207827</td>\n",
       "      <td>1.698122e-02</td>\n",
       "    </tr>\n",
       "    <tr>\n",
       "      <th>Otu000264</th>\n",
       "      <td>0.482</td>\n",
       "      <td>3122.072440</td>\n",
       "      <td>1.997179</td>\n",
       "      <td>0.000517</td>\n",
       "      <td>1.921987</td>\n",
       "      <td>0.278689</td>\n",
       "      <td>1.369320e-03</td>\n",
       "    </tr>\n",
       "    <tr>\n",
       "      <th>Otu000614</th>\n",
       "      <td>0.476</td>\n",
       "      <td>1641.008636</td>\n",
       "      <td>1.355790</td>\n",
       "      <td>0.000255</td>\n",
       "      <td>1.430488</td>\n",
       "      <td>0.278689</td>\n",
       "      <td>1.369320e-03</td>\n",
       "    </tr>\n",
       "    <tr>\n",
       "      <th>Otu001267</th>\n",
       "      <td>0.434</td>\n",
       "      <td>1248.439540</td>\n",
       "      <td>2.161542</td>\n",
       "      <td>0.000151</td>\n",
       "      <td>2.083781</td>\n",
       "      <td>0.286092</td>\n",
       "      <td>1.015928e-03</td>\n",
       "    </tr>\n",
       "    <tr>\n",
       "      <th>Otu000244</th>\n",
       "      <td>0.430</td>\n",
       "      <td>5221.455116</td>\n",
       "      <td>2.520187</td>\n",
       "      <td>0.001433</td>\n",
       "      <td>2.554319</td>\n",
       "      <td>-0.455315</td>\n",
       "      <td>1.697078e-07</td>\n",
       "    </tr>\n",
       "  </tbody>\n",
       "</table>\n",
       "</div>"
      ],
      "text/plain": [
       "           score  abun_abs_mean  abun_abs_CV  abun_rel_mean  abun_rel_CV  \\\n",
       "Otu000029  0.618   61707.245500     1.200677       0.008522     0.878843   \n",
       "Otu000173  0.588   19183.863568     1.389539       0.002640     1.213961   \n",
       "Otu000038  0.554   51754.310417     1.307713       0.006845     1.065805   \n",
       "Otu000242  0.506    4279.004838     1.331277       0.000632     1.054300   \n",
       "Otu000088  0.506    7070.539859     1.127830       0.001325     1.105117   \n",
       "Otu000487  0.498    4687.135556     1.295638       0.000794     1.225094   \n",
       "Otu000264  0.482    3122.072440     1.997179       0.000517     1.921987   \n",
       "Otu000614  0.476    1641.008636     1.355790       0.000255     1.430488   \n",
       "Otu001267  0.434    1248.439540     2.161542       0.000151     2.083781   \n",
       "Otu000244  0.430    5221.455116     2.520187       0.001433     2.554319   \n",
       "\n",
       "            kendall     p_kendall  \n",
       "Otu000029  0.259651  2.860222e-03  \n",
       "Otu000173  0.501851  8.199569e-09  \n",
       "Otu000038  0.279746  1.312698e-03  \n",
       "Otu000242  0.195135  2.500431e-02  \n",
       "Otu000088 -0.240613  5.714879e-03  \n",
       "Otu000487 -0.207827  1.698122e-02  \n",
       "Otu000264  0.278689  1.369320e-03  \n",
       "Otu000614  0.278689  1.369320e-03  \n",
       "Otu001267  0.286092  1.015928e-03  \n",
       "Otu000244 -0.455315  1.697078e-07  "
      ]
     },
     "metadata": {},
     "output_type": "display_data"
    },
    {
     "name": "stdout",
     "output_type": "stream",
     "text": [
      "Size list selected OTUs: 31\n"
     ]
    }
   ],
   "source": [
    "otu_scores_selected = otu_scores[otu_scores.score.values>thr]\n",
    "selected_otus = otu_scores_selected.index\n",
    "otu_scores_selected.to_csv('Final/hnascores_otus_tuned_thr_'+str(thr)+'_5seq10_rel_Muskegon.csv')\n",
    "display(otu_scores_selected.head(10))\n",
    "print('Size list selected OTUs: ' + str(len(selected_otus)))"
   ]
  },
  {
   "cell_type": "code",
   "execution_count": 16,
   "metadata": {},
   "outputs": [
    {
     "name": "stdout",
     "output_type": "stream",
     "text": [
      "R²_cv of HNA-selected OTUs in function of LNA: 0.780507803728\n"
     ]
    }
   ],
   "source": [
    "print('R²_cv of HNA-selected OTUs in function of LNA: ' + str(r2_otu_scores_lna[r2_otu_scores_hna.argmax()]) )"
   ]
  },
  {
   "cell_type": "code",
   "execution_count": 17,
   "metadata": {},
   "outputs": [
    {
     "data": {
      "image/png": "[encoded data removed]",
      "text/plain": [
       "<matplotlib.figure.Figure at 0x7f238b03de10>"
      ]
     },
     "metadata": {},
     "output_type": "display_data"
    }
   ],
   "source": [
    "plt.figure()\n",
    "sns.regplot(x='abun_rel_mean',y='abun_rel_CV', data=otu_scores_selected)\n",
    "plt.axis([-0.005,0.1,-5,5])\n",
    "plt.xlabel('Avg. Relative Abundance', size=22)\n",
    "plt.xticks(size=10)\n",
    "plt.ylabel('CV(abs)', size=22)\n",
    "plt.yticks(size=10)\n",
    "plt.title('Selected OTUs', size=24)\n",
    "plt.show()"
   ]
  },
  {
   "cell_type": "code",
   "execution_count": 18,
   "metadata": {},
   "outputs": [],
   "source": [
    "#optimal_scores.to_csv('HNA_selectedOTUs_stand_abun_remov' + str(abun)+'_R2'+str(r2_final)+'.csv')"
   ]
  },
  {
   "cell_type": "markdown",
   "metadata": {},
   "source": [
    "**Second goal**: Can we use the same pipeline to predict the _LNA_-counts? "
   ]
  },
  {
   "cell_type": "code",
   "execution_count": 19,
   "metadata": {},
   "outputs": [
    {
     "data": {
      "text/html": [
       "<div>\n",
       "<style scoped>\n",
       "    .dataframe tbody tr th:only-of-type {\n",
       "        vertical-align: middle;\n",
       "    }\n",
       "\n",
       "    .dataframe tbody tr th {\n",
       "        vertical-align: top;\n",
       "    }\n",
       "\n",
       "    .dataframe thead th {\n",
       "        text-align: right;\n",
       "    }\n",
       "</style>\n",
       "<table border=\"1\" class=\"dataframe\">\n",
       "  <thead>\n",
       "    <tr style=\"text-align: right;\">\n",
       "      <th></th>\n",
       "      <th>f_regr</th>\n",
       "      <th>p-value</th>\n",
       "      <th>kendall</th>\n",
       "      <th>p_kendall</th>\n",
       "    </tr>\n",
       "  </thead>\n",
       "  <tbody>\n",
       "    <tr>\n",
       "      <th>Otu000001</th>\n",
       "      <td>10.033518</td>\n",
       "      <td>0.180883</td>\n",
       "      <td>0.223691</td>\n",
       "      <td>1.018934e-02</td>\n",
       "    </tr>\n",
       "    <tr>\n",
       "      <th>Otu000004</th>\n",
       "      <td>0.308245</td>\n",
       "      <td>0.536846</td>\n",
       "      <td>0.055526</td>\n",
       "      <td>5.236178e-01</td>\n",
       "    </tr>\n",
       "    <tr>\n",
       "      <th>Otu000005</th>\n",
       "      <td>62.372754</td>\n",
       "      <td>0.060975</td>\n",
       "      <td>0.601269</td>\n",
       "      <td>4.976994e-12</td>\n",
       "    </tr>\n",
       "    <tr>\n",
       "      <th>Otu000006</th>\n",
       "      <td>11.828722</td>\n",
       "      <td>0.567509</td>\n",
       "      <td>0.219461</td>\n",
       "      <td>1.171070e-02</td>\n",
       "    </tr>\n",
       "    <tr>\n",
       "      <th>Otu000007</th>\n",
       "      <td>0.013735</td>\n",
       "      <td>0.058295</td>\n",
       "      <td>-0.052353</td>\n",
       "      <td>5.476175e-01</td>\n",
       "    </tr>\n",
       "    <tr>\n",
       "      <th>Otu000009</th>\n",
       "      <td>0.230825</td>\n",
       "      <td>0.084443</td>\n",
       "      <td>-0.065045</td>\n",
       "      <td>4.549959e-01</td>\n",
       "    </tr>\n",
       "    <tr>\n",
       "      <th>Otu000010</th>\n",
       "      <td>6.167508</td>\n",
       "      <td>0.101619</td>\n",
       "      <td>0.187731</td>\n",
       "      <td>3.106032e-02</td>\n",
       "    </tr>\n",
       "    <tr>\n",
       "      <th>Otu000011</th>\n",
       "      <td>0.247834</td>\n",
       "      <td>0.499910</td>\n",
       "      <td>-0.033316</td>\n",
       "      <td>7.019666e-01</td>\n",
       "    </tr>\n",
       "    <tr>\n",
       "      <th>Otu000012</th>\n",
       "      <td>0.555688</td>\n",
       "      <td>0.014575</td>\n",
       "      <td>-0.180328</td>\n",
       "      <td>3.833433e-02</td>\n",
       "    </tr>\n",
       "    <tr>\n",
       "      <th>Otu000014</th>\n",
       "      <td>5.205885</td>\n",
       "      <td>0.657627</td>\n",
       "      <td>0.111581</td>\n",
       "      <td>1.999720e-01</td>\n",
       "    </tr>\n",
       "  </tbody>\n",
       "</table>\n",
       "</div>"
      ],
      "text/plain": [
       "              f_regr   p-value   kendall     p_kendall\n",
       "Otu000001  10.033518  0.180883  0.223691  1.018934e-02\n",
       "Otu000004   0.308245  0.536846  0.055526  5.236178e-01\n",
       "Otu000005  62.372754  0.060975  0.601269  4.976994e-12\n",
       "Otu000006  11.828722  0.567509  0.219461  1.171070e-02\n",
       "Otu000007   0.013735  0.058295 -0.052353  5.476175e-01\n",
       "Otu000009   0.230825  0.084443 -0.065045  4.549959e-01\n",
       "Otu000010   6.167508  0.101619  0.187731  3.106032e-02\n",
       "Otu000011   0.247834  0.499910 -0.033316  7.019666e-01\n",
       "Otu000012   0.555688  0.014575 -0.180328  3.833433e-02\n",
       "Otu000014   5.205885  0.657627  0.111581  1.999720e-01"
      ]
     },
     "metadata": {},
     "output_type": "display_data"
    }
   ],
   "source": [
    "f_regr_lna, f_regr_p_lna = f_regression(data_stand.loc[:,otus],lna)\n",
    "uni_fs_lna = pd.DataFrame(f_regr_lna, index=otus, columns = ['f_regr'])\n",
    "uni_fs_lna['p-value'] = f_regr_p_lna\n",
    "kendall = np.zeros(len(otus))\n",
    "p_kendall = np.zeros(len(otus))\n",
    "for i in np.arange(0,len(otus)):\n",
    "    kendall[i], p_kendall[i] = kendalltau(data_stand.loc[:,otus[i]],lna)\n",
    "uni_fs_lna = pd.DataFrame(f_regr_lna, index=otus, columns = ['f_regr'])\n",
    "uni_fs_lna['p-value'] = f_regr_p\n",
    "uni_fs_lna['kendall'] = kendall\n",
    "uni_fs_lna['p_kendall'] = p_kendall\n",
    "#uni_fs_lna['mi'] = mutual_info_regression(data_stand.loc[:,otus],lna)\n",
    "#uni_fs_lna.sort_values(ascending=False,inplace=True, by='f_regr')\n",
    "display(uni_fs_lna.head(10))"
   ]
  },
  {
   "cell_type": "code",
   "execution_count": 20,
   "metadata": {},
   "outputs": [
    {
     "name": "stdout",
     "output_type": "stream",
     "text": [
      "Number of selected OTUs using kendall tau with p < 0.05: 210\n",
      "Number of selected OTUs using kendall tau with p < 0.01: 121\n"
     ]
    }
   ],
   "source": [
    "uni_fs_selected_f = uni_fs_lna[uni_fs_lna.loc[:,'p_kendall'].values < 0.05]\n",
    "print('Number of selected OTUs using kendall tau with p < 0.05: ' + str(len(uni_fs_selected_f)))\n",
    "uni_fs_selected_f = uni_fs_lna[uni_fs_lna.loc[:,'p_kendall'].values < 0.01]\n",
    "print('Number of selected OTUs using kendall tau with p < 0.01: ' + str(len(uni_fs_selected_f)))"
   ]
  },
  {
   "cell_type": "code",
   "execution_count": 21,
   "metadata": {},
   "outputs": [],
   "source": [
    "thr_otu_kendall_lna, r2_otu_kendall_lna = get_r2_scores(data_stand.loc[:,otus], lna, otus, np.absolute(uni_fs_lna['kendall']), cv)\n",
    "thr_otu_kendall_hna, r2_otu_kendall_hna = get_r2_scores(data_stand.loc[:,otus], hna, otus, np.absolute(uni_fs_lna['kendall']), cv)"
   ]
  },
  {
   "cell_type": "code",
   "execution_count": 22,
   "metadata": {},
   "outputs": [
    {
     "data": {
      "image/png": "[encoded data removed]",
      "text/plain": [
       "<matplotlib.figure.Figure at 0x7f238b0c79b0>"
      ]
     },
     "metadata": {},
     "output_type": "display_data"
    }
   ],
   "source": [
    "plt.figure()\n",
    "sns.regplot(x=thr_otu_kendall_hna,y=r2_otu_kendall_hna, fit_reg=False, label='HNA')\n",
    "sns.regplot(x=thr_otu_kendall_lna,y=r2_otu_kendall_lna, fit_reg=False, label='LNA')\n",
    "plt.xlabel('Kendall tau', size=22)\n",
    "plt.xticks(size=10)\n",
    "plt.ylabel(r'$R^2$', size=22)\n",
    "plt.yticks(size=10)\n",
    "#plt.title('Spearman correlation', size=24)\n",
    "plt.legend()\n",
    "plt.show()"
   ]
  },
  {
   "cell_type": "code",
   "execution_count": 23,
   "metadata": {},
   "outputs": [
    {
     "name": "stderr",
     "output_type": "stream",
     "text": [
      "/home/prubbens/miniconda3/lib/python3.6/site-packages/sklearn/utils/deprecation.py:58: DeprecationWarning: Class RandomizedLasso is deprecated; The class RandomizedLasso is deprecated in 0.19 and will be removed in 0.21.\n",
      "  warnings.warn(msg, category=DeprecationWarning)\n"
     ]
    }
   ],
   "source": [
    "alpha = get_lassoCV_alpha(data_stand.loc[:,otus],lna,otus,cv)\n",
    "otu_scores_lna = pd.DataFrame(perform_randomizedLasso(data_stand.loc[:,otus], lna, alpha), index=otus, columns=['score'])\n",
    "otu_scores_lna.sort_values(ascending=False, inplace=True, by='score')\n",
    "\n",
    "thr_otu_scores_lna, r2_otu_scores_lna = get_r2_scores(data_stand.loc[:,otus], lna, otus, otu_scores_lna, cv)\n",
    "thr_otu_scores_hna, r2_otu_scores_hna = get_r2_scores(data_stand.loc[:,otus], hna, otus, otu_scores_lna, cv)"
   ]
  },
  {
   "cell_type": "code",
   "execution_count": 24,
   "metadata": {},
   "outputs": [
    {
     "data": {
      "image/png": "[encoded data removed]",
      "text/plain": [
       "<matplotlib.figure.Figure at 0x7f238b1299e8>"
      ]
     },
     "metadata": {},
     "output_type": "display_data"
    }
   ],
   "source": [
    "plt.figure()\n",
    "sns.regplot(x=thr_otu_scores_hna,y=r2_otu_scores_hna, fit_reg=False, label='HNA')\n",
    "sns.regplot(x=thr_otu_scores_lna,y=r2_otu_scores_lna, fit_reg=False, label='LNA')\n",
    "plt.axis([-0.005,1.005,0,1])\n",
    "plt.xlabel('Score', size=22)\n",
    "plt.xticks(size=10)\n",
    "plt.ylabel(r'$R^2$', size=22)\n",
    "plt.yticks(size=10)\n",
    "plt.legend()\n",
    "plt.title('Stability Selection LNA', size=24)\n",
    "plt.show()"
   ]
  },
  {
   "cell_type": "code",
   "execution_count": 25,
   "metadata": {},
   "outputs": [
    {
     "name": "stdout",
     "output_type": "stream",
     "text": [
      "R²_cv(lna): 0.924214483739\n",
      "Threshold score: 0.24\n"
     ]
    }
   ],
   "source": [
    "r2_final = r2_otu_scores_lna.max()\n",
    "thr_lna = thr_otu_scores_lna[r2_otu_scores_lna.argmax()]\n",
    "print('R²_cv(lna): ' + str(r2_final) )\n",
    "print('Threshold score: ' + str(thr_lna))"
   ]
  },
  {
   "cell_type": "code",
   "execution_count": 26,
   "metadata": {},
   "outputs": [],
   "source": [
    "otu_scores_lna = otu_scores_lna.assign(abun_abs_mean = data_abs.loc[:,otus].mean())\n",
    "otu_scores_lna = otu_scores_lna.assign(abun_abs_CV = data_abs.loc[:,otus].std()/data_abs.loc[:,otus].mean())\n",
    "otu_scores_lna =  otu_scores_lna.assign(abun_rel_mean = data_rel.loc[:,otus].mean())\n",
    "otu_scores_lna = otu_scores_lna.assign(abun_rel_CV = data_rel.loc[:,otus].std()/data_rel.loc[:,otus].mean())\n",
    "otu_scores_lna['kendall'] = uni_fs_lna.loc[otu_scores.index,'kendall']\n",
    "otu_scores_lna['p_kendall'] = uni_fs_lna.loc[otu_scores.index,'p_kendall']\n",
    "otu_scores_lna.to_csv('Final/lnascores_otus_5seq10_rel_Muskegon.csv')"
   ]
  },
  {
   "cell_type": "code",
   "execution_count": 27,
   "metadata": {},
   "outputs": [
    {
     "name": "stdout",
     "output_type": "stream",
     "text": [
      "Size list selected OTUs: 44\n"
     ]
    },
    {
     "data": {
      "text/html": [
       "<div>\n",
       "<style scoped>\n",
       "    .dataframe tbody tr th:only-of-type {\n",
       "        vertical-align: middle;\n",
       "    }\n",
       "\n",
       "    .dataframe tbody tr th {\n",
       "        vertical-align: top;\n",
       "    }\n",
       "\n",
       "    .dataframe thead th {\n",
       "        text-align: right;\n",
       "    }\n",
       "</style>\n",
       "<table border=\"1\" class=\"dataframe\">\n",
       "  <thead>\n",
       "    <tr style=\"text-align: right;\">\n",
       "      <th></th>\n",
       "      <th>score</th>\n",
       "      <th>abun_abs_mean</th>\n",
       "      <th>abun_abs_CV</th>\n",
       "      <th>abun_rel_mean</th>\n",
       "      <th>abun_rel_CV</th>\n",
       "      <th>kendall</th>\n",
       "      <th>p_kendall</th>\n",
       "    </tr>\n",
       "  </thead>\n",
       "  <tbody>\n",
       "    <tr>\n",
       "      <th>Otu000029</th>\n",
       "      <td>0.786</td>\n",
       "      <td>61707.245500</td>\n",
       "      <td>1.200677</td>\n",
       "      <td>0.008522</td>\n",
       "      <td>0.878843</td>\n",
       "      <td>0.494447</td>\n",
       "      <td>1.352736e-08</td>\n",
       "    </tr>\n",
       "    <tr>\n",
       "      <th>Otu000242</th>\n",
       "      <td>0.682</td>\n",
       "      <td>4279.004838</td>\n",
       "      <td>1.331277</td>\n",
       "      <td>0.000632</td>\n",
       "      <td>1.054300</td>\n",
       "      <td>0.140137</td>\n",
       "      <td>1.074783e-01</td>\n",
       "    </tr>\n",
       "    <tr>\n",
       "      <th>Otu000244</th>\n",
       "      <td>0.532</td>\n",
       "      <td>5221.455116</td>\n",
       "      <td>2.520187</td>\n",
       "      <td>0.001433</td>\n",
       "      <td>2.554319</td>\n",
       "      <td>-0.402433</td>\n",
       "      <td>3.793692e-06</td>\n",
       "    </tr>\n",
       "    <tr>\n",
       "      <th>Otu000030</th>\n",
       "      <td>0.502</td>\n",
       "      <td>14053.072785</td>\n",
       "      <td>2.083508</td>\n",
       "      <td>0.001631</td>\n",
       "      <td>1.803059</td>\n",
       "      <td>0.429931</td>\n",
       "      <td>7.883544e-07</td>\n",
       "    </tr>\n",
       "    <tr>\n",
       "      <th>Otu000267</th>\n",
       "      <td>0.462</td>\n",
       "      <td>7156.553804</td>\n",
       "      <td>1.444816</td>\n",
       "      <td>0.001595</td>\n",
       "      <td>1.751997</td>\n",
       "      <td>-0.372819</td>\n",
       "      <td>1.850315e-05</td>\n",
       "    </tr>\n",
       "    <tr>\n",
       "      <th>Otu000050</th>\n",
       "      <td>0.448</td>\n",
       "      <td>22103.535659</td>\n",
       "      <td>1.764990</td>\n",
       "      <td>0.003232</td>\n",
       "      <td>1.530967</td>\n",
       "      <td>0.170809</td>\n",
       "      <td>4.977082e-02</td>\n",
       "    </tr>\n",
       "    <tr>\n",
       "      <th>Otu000412</th>\n",
       "      <td>0.420</td>\n",
       "      <td>5089.330915</td>\n",
       "      <td>1.481879</td>\n",
       "      <td>0.000930</td>\n",
       "      <td>1.347561</td>\n",
       "      <td>-0.186674</td>\n",
       "      <td>3.202080e-02</td>\n",
       "    </tr>\n",
       "    <tr>\n",
       "      <th>Otu000038</th>\n",
       "      <td>0.416</td>\n",
       "      <td>51754.310417</td>\n",
       "      <td>1.307713</td>\n",
       "      <td>0.006845</td>\n",
       "      <td>1.065805</td>\n",
       "      <td>0.482813</td>\n",
       "      <td>2.928865e-08</td>\n",
       "    </tr>\n",
       "    <tr>\n",
       "      <th>Otu000060</th>\n",
       "      <td>0.402</td>\n",
       "      <td>45526.565552</td>\n",
       "      <td>1.078545</td>\n",
       "      <td>0.006393</td>\n",
       "      <td>0.679089</td>\n",
       "      <td>0.240613</td>\n",
       "      <td>5.714879e-03</td>\n",
       "    </tr>\n",
       "    <tr>\n",
       "      <th>Otu000210</th>\n",
       "      <td>0.392</td>\n",
       "      <td>1908.925643</td>\n",
       "      <td>1.718786</td>\n",
       "      <td>0.000460</td>\n",
       "      <td>1.551367</td>\n",
       "      <td>-0.450026</td>\n",
       "      <td>2.352950e-07</td>\n",
       "    </tr>\n",
       "  </tbody>\n",
       "</table>\n",
       "</div>"
      ],
      "text/plain": [
       "           score  abun_abs_mean  abun_abs_CV  abun_rel_mean  abun_rel_CV  \\\n",
       "Otu000029  0.786   61707.245500     1.200677       0.008522     0.878843   \n",
       "Otu000242  0.682    4279.004838     1.331277       0.000632     1.054300   \n",
       "Otu000244  0.532    5221.455116     2.520187       0.001433     2.554319   \n",
       "Otu000030  0.502   14053.072785     2.083508       0.001631     1.803059   \n",
       "Otu000267  0.462    7156.553804     1.444816       0.001595     1.751997   \n",
       "Otu000050  0.448   22103.535659     1.764990       0.003232     1.530967   \n",
       "Otu000412  0.420    5089.330915     1.481879       0.000930     1.347561   \n",
       "Otu000038  0.416   51754.310417     1.307713       0.006845     1.065805   \n",
       "Otu000060  0.402   45526.565552     1.078545       0.006393     0.679089   \n",
       "Otu000210  0.392    1908.925643     1.718786       0.000460     1.551367   \n",
       "\n",
       "            kendall     p_kendall  \n",
       "Otu000029  0.494447  1.352736e-08  \n",
       "Otu000242  0.140137  1.074783e-01  \n",
       "Otu000244 -0.402433  3.793692e-06  \n",
       "Otu000030  0.429931  7.883544e-07  \n",
       "Otu000267 -0.372819  1.850315e-05  \n",
       "Otu000050  0.170809  4.977082e-02  \n",
       "Otu000412 -0.186674  3.202080e-02  \n",
       "Otu000038  0.482813  2.928865e-08  \n",
       "Otu000060  0.240613  5.714879e-03  \n",
       "Otu000210 -0.450026  2.352950e-07  "
      ]
     },
     "metadata": {},
     "output_type": "display_data"
    }
   ],
   "source": [
    "otu_scores_selected_lna = otu_scores_lna[otu_scores_lna.score.values>thr_lna]\n",
    "selected_otus_lna = otu_scores_selected_lna.index\n",
    "print('Size list selected OTUs: ' + str(len(selected_otus_lna)))\n",
    "otu_scores_selected_lna.to_csv('Final/lnascores_otus_tuned_thr_'+str(thr_lna)+'_5seq10_rel_Muskegon.csv')\n",
    "display(otu_scores_selected_lna.head(10))"
   ]
  },
  {
   "cell_type": "code",
   "execution_count": 28,
   "metadata": {},
   "outputs": [
    {
     "name": "stdout",
     "output_type": "stream",
     "text": [
      "R²_cv of LNA-selected OTUs in function of HNA: 0.411941177101\n"
     ]
    }
   ],
   "source": [
    "print('R²_cv of LNA-selected OTUs in function of HNA: ' + str(r2_otu_scores_hna[r2_otu_scores_lna.argmax()]) )"
   ]
  },
  {
   "cell_type": "code",
   "execution_count": 29,
   "metadata": {},
   "outputs": [
    {
     "data": {
      "image/png": "[encoded data removed]",
      "text/plain": [
       "<matplotlib.figure.Figure at 0x7f238b03d1d0>"
      ]
     },
     "metadata": {},
     "output_type": "display_data"
    }
   ],
   "source": [
    "plt.figure()\n",
    "sns.regplot(x='abun_abs_mean',y='abun_abs_CV', data=otu_scores_selected_lna)\n",
    "plt.axis([0,400000,-5,5])\n",
    "plt.xlabel('mean(abs)', size=22)\n",
    "plt.xticks(size=10)\n",
    "plt.ylabel('CV(abs)', size=22)\n",
    "plt.yticks(size=10)\n",
    "plt.show()"
   ]
  },
  {
   "cell_type": "markdown",
   "metadata": {},
   "source": [
    "Let's compare the HNA- and LNA-lists, which OTU's are shared (_common_) and which are only part of the HNA- or LNA subset?: "
   ]
  },
  {
   "cell_type": "code",
   "execution_count": 30,
   "metadata": {},
   "outputs": [
    {
     "name": "stdout",
     "output_type": "stream",
     "text": [
      "Size subset OTUs only related to HNA: 14; opposed to total size: 31\n",
      "Size subset OTUs only related to LNA: 27; opposed to total size: 44\n",
      "Size subset OTUs related to both: 17\n"
     ]
    },
    {
     "data": {
      "text/html": [
       "<div>\n",
       "<style scoped>\n",
       "    .dataframe tbody tr th:only-of-type {\n",
       "        vertical-align: middle;\n",
       "    }\n",
       "\n",
       "    .dataframe tbody tr th {\n",
       "        vertical-align: top;\n",
       "    }\n",
       "\n",
       "    .dataframe thead th {\n",
       "        text-align: right;\n",
       "    }\n",
       "</style>\n",
       "<table border=\"1\" class=\"dataframe\">\n",
       "  <thead>\n",
       "    <tr style=\"text-align: right;\">\n",
       "      <th></th>\n",
       "      <th>score</th>\n",
       "      <th>abun_abs_mean</th>\n",
       "      <th>abun_abs_CV</th>\n",
       "      <th>abun_rel_mean</th>\n",
       "      <th>abun_rel_CV</th>\n",
       "      <th>kendall</th>\n",
       "      <th>p_kendall</th>\n",
       "    </tr>\n",
       "  </thead>\n",
       "  <tbody>\n",
       "    <tr>\n",
       "      <th>Otu000029</th>\n",
       "      <td>0.786</td>\n",
       "      <td>61707.245500</td>\n",
       "      <td>1.200677</td>\n",
       "      <td>0.008522</td>\n",
       "      <td>0.878843</td>\n",
       "      <td>0.494447</td>\n",
       "      <td>1.352736e-08</td>\n",
       "    </tr>\n",
       "    <tr>\n",
       "      <th>Otu000173</th>\n",
       "      <td>0.282</td>\n",
       "      <td>19183.863568</td>\n",
       "      <td>1.389539</td>\n",
       "      <td>0.002640</td>\n",
       "      <td>1.213961</td>\n",
       "      <td>0.203596</td>\n",
       "      <td>1.936021e-02</td>\n",
       "    </tr>\n",
       "    <tr>\n",
       "      <th>Otu000038</th>\n",
       "      <td>0.416</td>\n",
       "      <td>51754.310417</td>\n",
       "      <td>1.307713</td>\n",
       "      <td>0.006845</td>\n",
       "      <td>1.065805</td>\n",
       "      <td>0.482813</td>\n",
       "      <td>2.928865e-08</td>\n",
       "    </tr>\n",
       "    <tr>\n",
       "      <th>Otu000242</th>\n",
       "      <td>0.682</td>\n",
       "      <td>4279.004838</td>\n",
       "      <td>1.331277</td>\n",
       "      <td>0.000632</td>\n",
       "      <td>1.054300</td>\n",
       "      <td>0.140137</td>\n",
       "      <td>1.074783e-01</td>\n",
       "    </tr>\n",
       "    <tr>\n",
       "      <th>Otu000088</th>\n",
       "      <td>0.272</td>\n",
       "      <td>7070.539859</td>\n",
       "      <td>1.127830</td>\n",
       "      <td>0.001325</td>\n",
       "      <td>1.105117</td>\n",
       "      <td>-0.117927</td>\n",
       "      <td>1.755705e-01</td>\n",
       "    </tr>\n",
       "    <tr>\n",
       "      <th>Otu001267</th>\n",
       "      <td>0.296</td>\n",
       "      <td>1248.439540</td>\n",
       "      <td>2.161542</td>\n",
       "      <td>0.000151</td>\n",
       "      <td>2.083781</td>\n",
       "      <td>0.228979</td>\n",
       "      <td>8.536543e-03</td>\n",
       "    </tr>\n",
       "    <tr>\n",
       "      <th>Otu000244</th>\n",
       "      <td>0.532</td>\n",
       "      <td>5221.455116</td>\n",
       "      <td>2.520187</td>\n",
       "      <td>0.001433</td>\n",
       "      <td>2.554319</td>\n",
       "      <td>-0.402433</td>\n",
       "      <td>3.793692e-06</td>\n",
       "    </tr>\n",
       "    <tr>\n",
       "      <th>Otu000246</th>\n",
       "      <td>0.358</td>\n",
       "      <td>17512.149088</td>\n",
       "      <td>4.315471</td>\n",
       "      <td>0.001774</td>\n",
       "      <td>4.117530</td>\n",
       "      <td>0.071391</td>\n",
       "      <td>4.122155e-01</td>\n",
       "    </tr>\n",
       "    <tr>\n",
       "      <th>Otu000313</th>\n",
       "      <td>0.320</td>\n",
       "      <td>5248.612424</td>\n",
       "      <td>1.645363</td>\n",
       "      <td>0.000672</td>\n",
       "      <td>1.425096</td>\n",
       "      <td>0.360127</td>\n",
       "      <td>3.527206e-05</td>\n",
       "    </tr>\n",
       "    <tr>\n",
       "      <th>Otu000412</th>\n",
       "      <td>0.420</td>\n",
       "      <td>5089.330915</td>\n",
       "      <td>1.481879</td>\n",
       "      <td>0.000930</td>\n",
       "      <td>1.347561</td>\n",
       "      <td>-0.186674</td>\n",
       "      <td>3.202080e-02</td>\n",
       "    </tr>\n",
       "    <tr>\n",
       "      <th>Otu001124</th>\n",
       "      <td>0.330</td>\n",
       "      <td>544.603552</td>\n",
       "      <td>2.244882</td>\n",
       "      <td>0.000119</td>\n",
       "      <td>2.143977</td>\n",
       "      <td>-0.099947</td>\n",
       "      <td>2.509680e-01</td>\n",
       "    </tr>\n",
       "    <tr>\n",
       "      <th>Otu000279</th>\n",
       "      <td>0.268</td>\n",
       "      <td>7954.393048</td>\n",
       "      <td>4.219212</td>\n",
       "      <td>0.000822</td>\n",
       "      <td>3.085610</td>\n",
       "      <td>0.305130</td>\n",
       "      <td>4.570445e-04</td>\n",
       "    </tr>\n",
       "    <tr>\n",
       "      <th>Otu000319</th>\n",
       "      <td>0.266</td>\n",
       "      <td>9141.999764</td>\n",
       "      <td>1.020010</td>\n",
       "      <td>0.001490</td>\n",
       "      <td>0.991209</td>\n",
       "      <td>0.076679</td>\n",
       "      <td>3.784576e-01</td>\n",
       "    </tr>\n",
       "    <tr>\n",
       "      <th>Otu000182</th>\n",
       "      <td>0.294</td>\n",
       "      <td>3858.934125</td>\n",
       "      <td>0.868640</td>\n",
       "      <td>0.000747</td>\n",
       "      <td>0.887030</td>\n",
       "      <td>-0.312533</td>\n",
       "      <td>3.309542e-04</td>\n",
       "    </tr>\n",
       "    <tr>\n",
       "      <th>Otu000060</th>\n",
       "      <td>0.402</td>\n",
       "      <td>45526.565552</td>\n",
       "      <td>1.078545</td>\n",
       "      <td>0.006393</td>\n",
       "      <td>0.679089</td>\n",
       "      <td>0.240613</td>\n",
       "      <td>5.714879e-03</td>\n",
       "    </tr>\n",
       "    <tr>\n",
       "      <th>Otu000905</th>\n",
       "      <td>0.338</td>\n",
       "      <td>1722.747677</td>\n",
       "      <td>1.597538</td>\n",
       "      <td>0.000223</td>\n",
       "      <td>1.367060</td>\n",
       "      <td>0.294553</td>\n",
       "      <td>7.162986e-04</td>\n",
       "    </tr>\n",
       "    <tr>\n",
       "      <th>Otu001136</th>\n",
       "      <td>0.242</td>\n",
       "      <td>910.803949</td>\n",
       "      <td>2.443549</td>\n",
       "      <td>0.000119</td>\n",
       "      <td>2.223474</td>\n",
       "      <td>0.054469</td>\n",
       "      <td>5.315574e-01</td>\n",
       "    </tr>\n",
       "  </tbody>\n",
       "</table>\n",
       "</div>"
      ],
      "text/plain": [
       "           score  abun_abs_mean  abun_abs_CV  abun_rel_mean  abun_rel_CV  \\\n",
       "Otu000029  0.786   61707.245500     1.200677       0.008522     0.878843   \n",
       "Otu000173  0.282   19183.863568     1.389539       0.002640     1.213961   \n",
       "Otu000038  0.416   51754.310417     1.307713       0.006845     1.065805   \n",
       "Otu000242  0.682    4279.004838     1.331277       0.000632     1.054300   \n",
       "Otu000088  0.272    7070.539859     1.127830       0.001325     1.105117   \n",
       "Otu001267  0.296    1248.439540     2.161542       0.000151     2.083781   \n",
       "Otu000244  0.532    5221.455116     2.520187       0.001433     2.554319   \n",
       "Otu000246  0.358   17512.149088     4.315471       0.001774     4.117530   \n",
       "Otu000313  0.320    5248.612424     1.645363       0.000672     1.425096   \n",
       "Otu000412  0.420    5089.330915     1.481879       0.000930     1.347561   \n",
       "Otu001124  0.330     544.603552     2.244882       0.000119     2.143977   \n",
       "Otu000279  0.268    7954.393048     4.219212       0.000822     3.085610   \n",
       "Otu000319  0.266    9141.999764     1.020010       0.001490     0.991209   \n",
       "Otu000182  0.294    3858.934125     0.868640       0.000747     0.887030   \n",
       "Otu000060  0.402   45526.565552     1.078545       0.006393     0.679089   \n",
       "Otu000905  0.338    1722.747677     1.597538       0.000223     1.367060   \n",
       "Otu001136  0.242     910.803949     2.443549       0.000119     2.223474   \n",
       "\n",
       "            kendall     p_kendall  \n",
       "Otu000029  0.494447  1.352736e-08  \n",
       "Otu000173  0.203596  1.936021e-02  \n",
       "Otu000038  0.482813  2.928865e-08  \n",
       "Otu000242  0.140137  1.074783e-01  \n",
       "Otu000088 -0.117927  1.755705e-01  \n",
       "Otu001267  0.228979  8.536543e-03  \n",
       "Otu000244 -0.402433  3.793692e-06  \n",
       "Otu000246  0.071391  4.122155e-01  \n",
       "Otu000313  0.360127  3.527206e-05  \n",
       "Otu000412 -0.186674  3.202080e-02  \n",
       "Otu001124 -0.099947  2.509680e-01  \n",
       "Otu000279  0.305130  4.570445e-04  \n",
       "Otu000319  0.076679  3.784576e-01  \n",
       "Otu000182 -0.312533  3.309542e-04  \n",
       "Otu000060  0.240613  5.714879e-03  \n",
       "Otu000905  0.294553  7.162986e-04  \n",
       "Otu001136  0.054469  5.315574e-01  "
      ]
     },
     "metadata": {},
     "output_type": "display_data"
    }
   ],
   "source": [
    "idx_hna = otu_scores_selected.index.difference(otu_scores_selected_lna.index)\n",
    "idx_lna = otu_scores_selected_lna.index.difference(otu_scores_selected.index)\n",
    "idx_common = otu_scores_selected.drop(idx_hna).index\n",
    "pd.Series(idx_common).to_csv('commonOTU_HNALNA_rel.csv')\n",
    "print('Size subset OTUs only related to HNA: ' + str(len(idx_hna)) + '; opposed to total size: ' + str(len(otu_scores_selected)))\n",
    "print('Size subset OTUs only related to LNA: ' + str(len(idx_lna)) + '; opposed to total size: ' + str(len(otu_scores_selected_lna)))\n",
    "print('Size subset OTUs related to both: ' + str(len(idx_common)))\n",
    "\n",
    "display(otu_scores_selected_lna.loc[idx_common,:])\n",
    "#data_abs_raw = pd.read_csv('data/Chloroplasts_removed/nochloro_absolute_otu.tsv', sep=' ', index_col=None, header=0)\n",
    "#data_abs_raw = data_abs_raw.loc[index,:]\n",
    "#display(data_abs_raw.loc[:,idx_hna].sum(axis=1).values/hna.values)"
   ]
  },
  {
   "cell_type": "code",
   "execution_count": 31,
   "metadata": {},
   "outputs": [
    {
     "data": {
      "image/png": "[encoded data removed]",
      "text/plain": [
       "<matplotlib.figure.Figure at 0x7f238afe2e80>"
      ]
     },
     "metadata": {},
     "output_type": "display_data"
    }
   ],
   "source": [
    "plt.figure()\n",
    "sns.regplot(x=otu_scores.loc[:,'score'],y=otu_scores_lna.loc[otu_scores.index,'score'])\n",
    "plt.axis([-0.005,1.005,-0.005,1.005])\n",
    "plt.xlabel('score(HNA)', size=22)\n",
    "plt.xticks(size=10)\n",
    "plt.ylabel('score(LNA)', size=22)\n",
    "plt.yticks(size=10)\n",
    "plt.axhline(y=thr, linewidth=2, linestyle='--', color = 'k')\n",
    "plt.axvline(x=thr_lna, linewidth=2, linestyle='--', color = 'k')\n",
    "plt.show()"
   ]
  },
  {
   "cell_type": "markdown",
   "metadata": {},
   "source": [
    "This figure shows 4 area's: \n",
    "- (left top corner): OTU's selected solely in function of **LNA**-dynamics, \n",
    "- (right top corner): OTU's selected in function of both **HNA**- and **LNA**-dynamics, \n",
    "- (left bottom corner): OTU's that are _not_ selected, \n",
    "- (right bottom corner): OTU's selected solely in function of **HNA**-dynamics. "
   ]
  },
  {
   "cell_type": "markdown",
   "metadata": {},
   "source": [
    "Univariate vs. Stability selection"
   ]
  },
  {
   "cell_type": "code",
   "execution_count": 32,
   "metadata": {},
   "outputs": [
    {
     "data": {
      "image/png": "[encoded data removed]",
      "text/plain": [
       "<matplotlib.figure.Figure at 0x7f238b008ef0>"
      ]
     },
     "metadata": {},
     "output_type": "display_data"
    }
   ],
   "source": [
    "plt.figure()\n",
    "sns.regplot(x=otu_scores.loc[:,'score'],y=uni_fs.loc[otu_scores.index,'kendall'])\n",
    "plt.xlabel('score(HNA)', size=22)\n",
    "plt.xticks(size=10)\n",
    "plt.ylabel('Kendall tau', size=22)\n",
    "plt.yticks(size=10)\n",
    "#plt.yscale('log')\n",
    "plt.axhline(y=0.05, linewidth=2, linestyle='--', color = 'k')\n",
    "plt.axvline(x=thr, linewidth=2, linestyle='--', color = 'k')\n",
    "#plt.axis([-0.005,1.005,0.0000000000000000000001, 1])\n",
    "plt.show()"
   ]
  },
  {
   "cell_type": "code",
   "execution_count": 33,
   "metadata": {},
   "outputs": [
    {
     "data": {
      "image/png": "[encoded data removed]",
      "text/plain": [
       "<matplotlib.figure.Figure at 0x7f238b01ff98>"
      ]
     },
     "metadata": {},
     "output_type": "display_data"
    }
   ],
   "source": [
    "plt.figure()\n",
    "sns.regplot(x=otu_scores_lna.loc[:,'score'],y=uni_fs_lna.loc[otu_scores.index,'kendall'])\n",
    "plt.xlabel('score(LNA)', size=22)\n",
    "plt.xticks(size=10)\n",
    "plt.ylabel('Kendall tau', size=22)\n",
    "plt.yticks(size=10)\n",
    "#plt.yscale('log')\n",
    "plt.axhline(y=0.05, linewidth=2, linestyle='--', color = 'k')\n",
    "plt.axvline(x=thr_lna, linewidth=2, linestyle='--', color = 'k')\n",
    "#plt.axis([-0.005,1.005,0.0000000000000000000001, 1])\n",
    "plt.show()"
   ]
  },
  {
   "cell_type": "markdown",
   "metadata": {},
   "source": [
    "This analysis shows that the HNA/LNA dynamics cannot solely be attributed to OTU's that are present in the respective cloud; this is also clear from the mutual correlation between HNA- and LNA-counts ( $\\rho(\\text{HNA,LNA}) = 0.75$ ). \n",
    "\n",
    "I see two reasons for this: \n",
    "- Some OTU's are simply present in the two clouds; \n",
    "- Some HNA-OTU's interact with LNA-OTU's and vice versa. "
   ]
  }
 ],
 "metadata": {
  "anaconda-cloud": {},
  "kernelspec": {
   "display_name": "Python 3",
   "language": "python",
   "name": "python3"
  },
  "language_info": {
   "codemirror_mode": {
    "name": "ipython",
    "version": 3
   },
   "file_extension": ".py",
   "mimetype": "text/x-python",
   "name": "python",
   "nbconvert_exporter": "python",
   "pygments_lexer": "ipython3",
   "version": "3.6.3"
  }
 },
 "nbformat": 4,
 "nbformat_minor": 1
}
