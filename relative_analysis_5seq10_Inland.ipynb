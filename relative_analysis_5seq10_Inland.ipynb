{
 "cells": [
  {
   "cell_type": "code",
   "execution_count": 53,
   "metadata": {
    "scrolled": true
   },
   "outputs": [],
   "source": [
    "'''Import packages'''\n",
    "'''Requires numpy, pandas, scikit-learn, and matplotlib/seaborn'''\n",
    "import numpy as np\n",
    "import pandas as pd\n",
    "from skbio.stats import composition\n",
    "from sklearn.feature_selection import f_regression\n",
    "from sklearn.feature_selection import mutual_info_regression\n",
    "from sklearn.model_selection import KFold\n",
    "from sklearn.model_selection import cross_val_predict\n",
    "from sklearn.linear_model import Lasso\n",
    "from scipy.stats import kendalltau\n",
    "\n",
    "import matplotlib.pyplot as plt\n",
    "import seaborn as sns\n",
    "sns.set_style(\"ticks\")\n",
    "\n",
    "'''Import script which contains functions'''\n",
    "import analysis_functions\n",
    "from analysis_functions import get_r2\n",
    "from analysis_functions import get_lassoCV\n",
    "from analysis_functions import perform_randomizedLasso\n",
    "\n",
    "from IPython.display import display, HTML\n",
    "\n",
    "#If we want to time the implementation: \n",
    "#import time\n",
    "#start_time = time.time()"
   ]
  },
  {
   "cell_type": "markdown",
   "metadata": {},
   "source": [
    "Import the dataframes: "
   ]
  },
  {
   "cell_type": "code",
   "execution_count": 54,
   "metadata": {
    "scrolled": true
   },
   "outputs": [],
   "source": [
    "'''Import data'''\n",
    "data_abs = pd.read_csv('data/Chloroplasts_removed/ByLake_Filtering/5in10/inland/inland_absolute_otu_5in10.tsv', sep=' ', index_col=None, header=0, float_precision='high')\n",
    "data_rel = pd.read_csv('data/Chloroplasts_removed/ByLake_Filtering/5in10/inland/inland_relative_otu_5in10.tsv', sep=' ', index_col=None, header=0, float_precision='high')\n",
    "target = pd.read_csv('data/Chloroplasts_removed/ByLake_Filtering/5in10/inland/inland_sampledata_5in10.tsv', sep= ' ', index_col=0, header=0)"
   ]
  },
  {
   "cell_type": "markdown",
   "metadata": {},
   "source": [
    "**2)**: At 01-05-'17 @marschmi found that a few samples can be seen as outliers, as they represent the bottom waters of productive inland lakes, resulting in a big difference of the HNA percentage. These samples are the following: Z14055F, Z14003F, Z14007F, Z14023F, Z14011F. A code of line is added, in order to be able to run the pipeline without these samples; "
   ]
  },
  {
   "cell_type": "code",
   "execution_count": 55,
   "metadata": {},
   "outputs": [],
   "source": [
    "index = target.Lake[target.Lake == 'Inland'].index"
   ]
  },
  {
   "cell_type": "code",
   "execution_count": 56,
   "metadata": {},
   "outputs": [],
   "source": [
    "'''Set sample names as index and shuffle data'''\n",
    "\n",
    "#Remove outlier samples:\n",
    "data_abs = data_abs.loc[index,:] \n",
    "data_rel = data_rel.loc[index,:]\n",
    "target = target.loc[index,:]\n",
    "#productivity = productivity.loc[index,:]\n",
    "\n",
    "#Shuffle data: \n",
    "#data_abs = data_abs.sample(frac=1, random_state=3)\n",
    "#data_rel = data_rel.sample(frac=1, random_state=3)\n",
    "#target = target.sample(frac=1, random_state=3)\n",
    "#productivity = productivity.sample(frac=1, random_state=3) \n",
    "\n",
    "#Create target columns of HNA-values: \n",
    "hna = target.loc[:,'HNA.cells']\n",
    "hna_rel = hna/target.loc[:,'Total.cells']\n",
    "hna = pd.Series(hna, index=hna.index)\n",
    "hna_rel = pd.Series(hna_rel, index=hna.index)\n",
    "\n",
    "#Create target columns of LNA-values: \n",
    "lna = target.loc[:,'LNA.cells']\n",
    "lna_rel = lna/target.loc[:,'Total.cells']\n",
    "lna = pd.Series(lna, index=lna.index)\n",
    "lna_rel = pd.Series(lna_rel, index=lna.index)"
   ]
  },
  {
   "cell_type": "code",
   "execution_count": 57,
   "metadata": {},
   "outputs": [],
   "source": [
    "#Some variables to store information and to create inner and outer CV-folds\n",
    "otus = list(data_rel.columns)\n",
    "cv = 5"
   ]
  },
  {
   "cell_type": "code",
   "execution_count": 58,
   "metadata": {},
   "outputs": [],
   "source": [
    "''' Log-Ratio analyses '''\n",
    "data_rel_repl = composition.multiplicative_replacement(data_rel.loc[index,otus])\n",
    "data_rel_clr = pd.DataFrame(composition.clr(data_rel_repl), columns=otus)\n",
    "\n",
    "''' Standardize data '''\n",
    "from analysis_functions import standardize_df\n",
    "data_stand, scaler = standardize_df(data_rel_clr,otus)"
   ]
  },
  {
   "cell_type": "markdown",
   "metadata": {},
   "source": [
    "To do so, we use the **_Randomized Lasso_**: this method makes use of two kinds of randomization in order to select variables (i.e., OTU's) with a certain _stability_: (1) it fits a Lasso to various bootstrap subsamples and (2) it perturbs the initial weighting of certain variables. \n",
    "\n",
    "This results in a $score \\in [0,1]$ that is assigned to variables, with 0 denoting the case where a variable is never chosen by the Lasso, and 1 denoting the case where a variable always is chosen. In other words, the higher the score, the more important a variable can be considered to be. "
   ]
  },
  {
   "cell_type": "markdown",
   "metadata": {},
   "source": [
    "**First goal: ** try to pinpoint those OTU's for which we are sure they are present in the '_HNA-cloud_'. "
   ]
  },
  {
   "cell_type": "markdown",
   "metadata": {},
   "source": [
    "**Univariate Feature Selection**: \n",
    "\n",
    "Let's compare two methods: \n",
    "- f_regression (f-score pearson correlation), \n",
    "- Mutual information,  \n",
    "- (other methods can follow as well). "
   ]
  },
  {
   "cell_type": "code",
   "execution_count": 59,
   "metadata": {},
   "outputs": [
    {
     "data": {
      "text/html": [
       "<div>\n",
       "<style scoped>\n",
       "    .dataframe tbody tr th:only-of-type {\n",
       "        vertical-align: middle;\n",
       "    }\n",
       "\n",
       "    .dataframe tbody tr th {\n",
       "        vertical-align: top;\n",
       "    }\n",
       "\n",
       "    .dataframe thead th {\n",
       "        text-align: right;\n",
       "    }\n",
       "</style>\n",
       "<table border=\"1\" class=\"dataframe\">\n",
       "  <thead>\n",
       "    <tr style=\"text-align: right;\">\n",
       "      <th></th>\n",
       "      <th>f_regr</th>\n",
       "      <th>p-value</th>\n",
       "      <th>kendall</th>\n",
       "      <th>p_kendall</th>\n",
       "    </tr>\n",
       "  </thead>\n",
       "  <tbody>\n",
       "    <tr>\n",
       "      <th>Otu000001</th>\n",
       "      <td>25.351152</td>\n",
       "      <td>0.000005</td>\n",
       "      <td>-0.340032</td>\n",
       "      <td>0.000094</td>\n",
       "    </tr>\n",
       "    <tr>\n",
       "      <th>Otu000004</th>\n",
       "      <td>3.822965</td>\n",
       "      <td>0.055217</td>\n",
       "      <td>-0.222634</td>\n",
       "      <td>0.010552</td>\n",
       "    </tr>\n",
       "    <tr>\n",
       "      <th>Otu000005</th>\n",
       "      <td>0.051022</td>\n",
       "      <td>0.822062</td>\n",
       "      <td>0.058699</td>\n",
       "      <td>0.500169</td>\n",
       "    </tr>\n",
       "    <tr>\n",
       "      <th>Otu000006</th>\n",
       "      <td>7.550889</td>\n",
       "      <td>0.007910</td>\n",
       "      <td>-0.212057</td>\n",
       "      <td>0.014863</td>\n",
       "    </tr>\n",
       "    <tr>\n",
       "      <th>Otu000007</th>\n",
       "      <td>8.537158</td>\n",
       "      <td>0.004899</td>\n",
       "      <td>-0.152829</td>\n",
       "      <td>0.079189</td>\n",
       "    </tr>\n",
       "    <tr>\n",
       "      <th>Otu000009</th>\n",
       "      <td>0.316488</td>\n",
       "      <td>0.575822</td>\n",
       "      <td>0.058699</td>\n",
       "      <td>0.500169</td>\n",
       "    </tr>\n",
       "    <tr>\n",
       "      <th>Otu000010</th>\n",
       "      <td>4.151004</td>\n",
       "      <td>0.046027</td>\n",
       "      <td>0.004759</td>\n",
       "      <td>0.956404</td>\n",
       "    </tr>\n",
       "    <tr>\n",
       "      <th>Otu000011</th>\n",
       "      <td>10.547735</td>\n",
       "      <td>0.001907</td>\n",
       "      <td>-0.182443</td>\n",
       "      <td>0.036121</td>\n",
       "    </tr>\n",
       "    <tr>\n",
       "      <th>Otu000012</th>\n",
       "      <td>4.331026</td>\n",
       "      <td>0.041700</td>\n",
       "      <td>-0.071391</td>\n",
       "      <td>0.412216</td>\n",
       "    </tr>\n",
       "    <tr>\n",
       "      <th>Otu000016</th>\n",
       "      <td>13.153447</td>\n",
       "      <td>0.000594</td>\n",
       "      <td>-0.117927</td>\n",
       "      <td>0.175570</td>\n",
       "    </tr>\n",
       "  </tbody>\n",
       "</table>\n",
       "</div>"
      ],
      "text/plain": [
       "              f_regr   p-value   kendall  p_kendall\n",
       "Otu000001  25.351152  0.000005 -0.340032   0.000094\n",
       "Otu000004   3.822965  0.055217 -0.222634   0.010552\n",
       "Otu000005   0.051022  0.822062  0.058699   0.500169\n",
       "Otu000006   7.550889  0.007910 -0.212057   0.014863\n",
       "Otu000007   8.537158  0.004899 -0.152829   0.079189\n",
       "Otu000009   0.316488  0.575822  0.058699   0.500169\n",
       "Otu000010   4.151004  0.046027  0.004759   0.956404\n",
       "Otu000011  10.547735  0.001907 -0.182443   0.036121\n",
       "Otu000012   4.331026  0.041700 -0.071391   0.412216\n",
       "Otu000016  13.153447  0.000594 -0.117927   0.175570"
      ]
     },
     "metadata": {},
     "output_type": "display_data"
    }
   ],
   "source": [
    "f_regr, f_regr_p = f_regression(data_stand.loc[:,otus],hna)\n",
    "kendall = np.zeros(len(otus))\n",
    "p_kendall = np.zeros(len(otus))\n",
    "for i in np.arange(0,len(otus)):\n",
    "    kendall[i], p_kendall[i] = kendalltau(data_stand.loc[:,otus[i]],hna)\n",
    "uni_fs = pd.DataFrame(f_regr, index=otus, columns = ['f_regr'])\n",
    "uni_fs['p-value'] = f_regr_p\n",
    "uni_fs['kendall'] = kendall\n",
    "uni_fs['p_kendall'] = p_kendall\n",
    "display(uni_fs.head(10))"
   ]
  },
  {
   "cell_type": "markdown",
   "metadata": {},
   "source": [
    "Select otu's based on $p < \\text{thr}$: "
   ]
  },
  {
   "cell_type": "code",
   "execution_count": 60,
   "metadata": {
    "scrolled": false
   },
   "outputs": [
    {
     "name": "stdout",
     "output_type": "stream",
     "text": [
      "Total OTUs: 548\n",
      "Number of selected OTUs using Kendall tau with p < 0.05: 112\n",
      "Number of selected OTUs using Kendall tau with p < 0.01: 50\n"
     ]
    }
   ],
   "source": [
    "print('Total OTUs: ' + str(len(otus)))\n",
    "uni_fs_selected_f = uni_fs[uni_fs.loc[:,'p_kendall'].values < 0.05]\n",
    "print('Number of selected OTUs using Kendall tau with p < 0.05: ' + str(len(uni_fs_selected_f)))\n",
    "uni_fs_selected_f = uni_fs[uni_fs.loc[:,'p_kendall'].values < 0.01]\n",
    "print('Number of selected OTUs using Kendall tau with p < 0.01: ' + str(len(uni_fs_selected_f)))"
   ]
  },
  {
   "cell_type": "markdown",
   "metadata": {},
   "source": [
    "What happens when we tune a threshold in function of the f_score: "
   ]
  },
  {
   "cell_type": "code",
   "execution_count": 61,
   "metadata": {},
   "outputs": [],
   "source": [
    "from analysis_functions import get_r2_scores\n",
    "thr_otu_kendall_hna, r2_otu_kendall_hna = get_r2_scores(data_stand.loc[:,otus], hna, otus, np.abs(uni_fs['kendall']), cv)\n",
    "thr_otu_kendall_lna, r2_otu_kendall_lna = get_r2_scores(data_stand.loc[:,otus], lna, otus, np.abs(uni_fs['kendall']), cv)"
   ]
  },
  {
   "cell_type": "code",
   "execution_count": 62,
   "metadata": {},
   "outputs": [
    {
     "data": {
      "image/png": "[encoded data removed]",
      "text/plain": [
       "<matplotlib.figure.Figure at 0x7fbe1c526b38>"
      ]
     },
     "metadata": {},
     "output_type": "display_data"
    }
   ],
   "source": [
    "plt.figure()\n",
    "sns.regplot(x=thr_otu_kendall_hna,y=r2_otu_kendall_hna, fit_reg=False, label='HNA')\n",
    "sns.regplot(x=thr_otu_kendall_lna,y=r2_otu_kendall_lna, fit_reg=False, label='LNA')\n",
    "plt.xlabel('Kendall Tau score', size=22)\n",
    "plt.xticks(size=10)\n",
    "plt.ylabel(r'$R^2$', size=22)\n",
    "plt.yticks(size=10)\n",
    "#plt.title('F-test', size=24)\n",
    "plt.legend()\n",
    "plt.show()"
   ]
  },
  {
   "cell_type": "code",
   "execution_count": 63,
   "metadata": {},
   "outputs": [
    {
     "name": "stderr",
     "output_type": "stream",
     "text": [
      "/home/prubbens/miniconda3/lib/python3.6/site-packages/sklearn/utils/deprecation.py:58: DeprecationWarning: Class RandomizedLasso is deprecated; The class RandomizedLasso is deprecated in 0.19 and will be removed in 0.21.\n",
      "  warnings.warn(msg, category=DeprecationWarning)\n"
     ]
    }
   ],
   "source": [
    "from analysis_functions import get_lassoCV_alpha\n",
    "\n",
    "alpha = get_lassoCV_alpha(data_stand.loc[:,otus],hna,otus,cv)\n",
    "    \n",
    "otu_scores = pd.DataFrame(perform_randomizedLasso(data_stand.loc[:,otus], hna, alpha), index=otus, columns=['score'])\n",
    "otu_scores.sort_values(ascending=False,inplace=True, by='score')\n",
    "\n",
    "thr_otu_scores_hna, r2_otu_scores_hna = get_r2_scores(data_stand.loc[:,otus], hna, otus, otu_scores, cv)\n",
    "thr_otu_scores_lna, r2_otu_scores_lna = get_r2_scores(data_stand.loc[:,otus], lna, otus, otu_scores, cv)"
   ]
  },
  {
   "cell_type": "code",
   "execution_count": 64,
   "metadata": {},
   "outputs": [
    {
     "data": {
      "image/png": "[encoded data removed]",
      "text/plain": [
       "<matplotlib.figure.Figure at 0x7fbe1c5bdf60>"
      ]
     },
     "metadata": {},
     "output_type": "display_data"
    }
   ],
   "source": [
    "plt.figure()\n",
    "sns.regplot(x=thr_otu_scores_hna,y=r2_otu_scores_hna, fit_reg=False, label='HNA')\n",
    "sns.regplot(x=thr_otu_scores_lna,y=r2_otu_scores_lna, fit_reg=False, label='LNA')\n",
    "plt.axis([-0.005,1.005,0,1])\n",
    "plt.xlabel('Score', size=22)\n",
    "plt.xticks(size=10)\n",
    "plt.ylabel(r'$R^2$', size=22)\n",
    "plt.yticks(size=10)\n",
    "plt.legend()\n",
    "plt.title('Stability Selection HNA', size=24)\n",
    "plt.show()"
   ]
  },
  {
   "cell_type": "code",
   "execution_count": 65,
   "metadata": {},
   "outputs": [
    {
     "name": "stdout",
     "output_type": "stream",
     "text": [
      "R²_cv(hna): 0.910397783538\n",
      "Threshold score: 0.21\n"
     ]
    }
   ],
   "source": [
    "r2_final = r2_otu_scores_hna.max()\n",
    "thr = thr_otu_scores_hna[r2_otu_scores_hna.argmax()]\n",
    "print('R²_cv(hna): ' + str(r2_final) )\n",
    "print('Threshold score: ' + str(thr))"
   ]
  },
  {
   "cell_type": "code",
   "execution_count": 66,
   "metadata": {},
   "outputs": [],
   "source": [
    "otu_scores = otu_scores.assign(abun_abs_mean = data_abs.loc[:,otus].mean())\n",
    "otu_scores = otu_scores.assign(abun_abs_CV = data_abs.loc[:,otus].std()/data_abs.loc[:,otus].mean())\n",
    "otu_scores =  otu_scores.assign(abun_rel_mean = data_rel.loc[:,otus].mean())\n",
    "otu_scores = otu_scores.assign(abun_rel_CV = data_rel.loc[:,otus].std()/data_rel.loc[:,otus].mean())\n",
    "otu_scores['kendall'] = uni_fs.loc[otu_scores.index,'kendall']\n",
    "otu_scores['p_kendall'] = uni_fs.loc[otu_scores.index,'p_kendall']\n",
    "otu_scores.to_csv('Final/hnascores_otus_5seq10_rel_Inland.csv')"
   ]
  },
  {
   "cell_type": "code",
   "execution_count": 67,
   "metadata": {},
   "outputs": [
    {
     "data": {
      "text/html": [
       "<div>\n",
       "<style scoped>\n",
       "    .dataframe tbody tr th:only-of-type {\n",
       "        vertical-align: middle;\n",
       "    }\n",
       "\n",
       "    .dataframe tbody tr th {\n",
       "        vertical-align: top;\n",
       "    }\n",
       "\n",
       "    .dataframe thead th {\n",
       "        text-align: right;\n",
       "    }\n",
       "</style>\n",
       "<table border=\"1\" class=\"dataframe\">\n",
       "  <thead>\n",
       "    <tr style=\"text-align: right;\">\n",
       "      <th></th>\n",
       "      <th>score</th>\n",
       "      <th>abun_abs_mean</th>\n",
       "      <th>abun_abs_CV</th>\n",
       "      <th>abun_rel_mean</th>\n",
       "      <th>abun_rel_CV</th>\n",
       "      <th>kendall</th>\n",
       "      <th>p_kendall</th>\n",
       "    </tr>\n",
       "  </thead>\n",
       "  <tbody>\n",
       "    <tr>\n",
       "      <th>Otu000792</th>\n",
       "      <td>0.558</td>\n",
       "      <td>506.523233</td>\n",
       "      <td>2.368797</td>\n",
       "      <td>0.000111</td>\n",
       "      <td>2.415795</td>\n",
       "      <td>-0.318879</td>\n",
       "      <td>2.495987e-04</td>\n",
       "    </tr>\n",
       "    <tr>\n",
       "      <th>Otu000246</th>\n",
       "      <td>0.546</td>\n",
       "      <td>882.324661</td>\n",
       "      <td>4.091344</td>\n",
       "      <td>0.000209</td>\n",
       "      <td>4.376214</td>\n",
       "      <td>-0.208884</td>\n",
       "      <td>1.642814e-02</td>\n",
       "    </tr>\n",
       "    <tr>\n",
       "      <th>Otu000511</th>\n",
       "      <td>0.546</td>\n",
       "      <td>2019.949037</td>\n",
       "      <td>1.510920</td>\n",
       "      <td>0.000414</td>\n",
       "      <td>1.684587</td>\n",
       "      <td>-0.138022</td>\n",
       "      <td>1.128902e-01</td>\n",
       "    </tr>\n",
       "    <tr>\n",
       "      <th>Otu000369</th>\n",
       "      <td>0.510</td>\n",
       "      <td>3351.829403</td>\n",
       "      <td>2.025124</td>\n",
       "      <td>0.000692</td>\n",
       "      <td>1.912484</td>\n",
       "      <td>-0.429931</td>\n",
       "      <td>7.883544e-07</td>\n",
       "    </tr>\n",
       "    <tr>\n",
       "      <th>Otu000346</th>\n",
       "      <td>0.494</td>\n",
       "      <td>2008.754634</td>\n",
       "      <td>2.245665</td>\n",
       "      <td>0.000421</td>\n",
       "      <td>2.056438</td>\n",
       "      <td>-0.156002</td>\n",
       "      <td>7.315634e-02</td>\n",
       "    </tr>\n",
       "    <tr>\n",
       "      <th>Otu001668</th>\n",
       "      <td>0.470</td>\n",
       "      <td>1465.961945</td>\n",
       "      <td>4.324713</td>\n",
       "      <td>0.000164</td>\n",
       "      <td>3.966783</td>\n",
       "      <td>0.108408</td>\n",
       "      <td>2.130631e-01</td>\n",
       "    </tr>\n",
       "    <tr>\n",
       "      <th>Otu000664</th>\n",
       "      <td>0.468</td>\n",
       "      <td>2788.491583</td>\n",
       "      <td>3.358102</td>\n",
       "      <td>0.000368</td>\n",
       "      <td>3.218465</td>\n",
       "      <td>0.225806</td>\n",
       "      <td>9.496782e-03</td>\n",
       "    </tr>\n",
       "    <tr>\n",
       "      <th>Otu000022</th>\n",
       "      <td>0.446</td>\n",
       "      <td>36017.531964</td>\n",
       "      <td>1.425019</td>\n",
       "      <td>0.005162</td>\n",
       "      <td>1.205689</td>\n",
       "      <td>-0.226864</td>\n",
       "      <td>9.166503e-03</td>\n",
       "    </tr>\n",
       "    <tr>\n",
       "      <th>Otu001092</th>\n",
       "      <td>0.446</td>\n",
       "      <td>2272.928423</td>\n",
       "      <td>4.728914</td>\n",
       "      <td>0.000293</td>\n",
       "      <td>4.984972</td>\n",
       "      <td>0.115812</td>\n",
       "      <td>1.834445e-01</td>\n",
       "    </tr>\n",
       "    <tr>\n",
       "      <th>Otu001288</th>\n",
       "      <td>0.416</td>\n",
       "      <td>630.826223</td>\n",
       "      <td>2.094955</td>\n",
       "      <td>0.000193</td>\n",
       "      <td>3.025124</td>\n",
       "      <td>-0.350608</td>\n",
       "      <td>5.646513e-05</td>\n",
       "    </tr>\n",
       "  </tbody>\n",
       "</table>\n",
       "</div>"
      ],
      "text/plain": [
       "           score  abun_abs_mean  abun_abs_CV  abun_rel_mean  abun_rel_CV  \\\n",
       "Otu000792  0.558     506.523233     2.368797       0.000111     2.415795   \n",
       "Otu000246  0.546     882.324661     4.091344       0.000209     4.376214   \n",
       "Otu000511  0.546    2019.949037     1.510920       0.000414     1.684587   \n",
       "Otu000369  0.510    3351.829403     2.025124       0.000692     1.912484   \n",
       "Otu000346  0.494    2008.754634     2.245665       0.000421     2.056438   \n",
       "Otu001668  0.470    1465.961945     4.324713       0.000164     3.966783   \n",
       "Otu000664  0.468    2788.491583     3.358102       0.000368     3.218465   \n",
       "Otu000022  0.446   36017.531964     1.425019       0.005162     1.205689   \n",
       "Otu001092  0.446    2272.928423     4.728914       0.000293     4.984972   \n",
       "Otu001288  0.416     630.826223     2.094955       0.000193     3.025124   \n",
       "\n",
       "            kendall     p_kendall  \n",
       "Otu000792 -0.318879  2.495987e-04  \n",
       "Otu000246 -0.208884  1.642814e-02  \n",
       "Otu000511 -0.138022  1.128902e-01  \n",
       "Otu000369 -0.429931  7.883544e-07  \n",
       "Otu000346 -0.156002  7.315634e-02  \n",
       "Otu001668  0.108408  2.130631e-01  \n",
       "Otu000664  0.225806  9.496782e-03  \n",
       "Otu000022 -0.226864  9.166503e-03  \n",
       "Otu001092  0.115812  1.834445e-01  \n",
       "Otu001288 -0.350608  5.646513e-05  "
      ]
     },
     "metadata": {},
     "output_type": "display_data"
    },
    {
     "name": "stdout",
     "output_type": "stream",
     "text": [
      "Size list selected OTUs: 52\n"
     ]
    }
   ],
   "source": [
    "otu_scores_selected = otu_scores[otu_scores.score.values>thr]\n",
    "selected_otus = otu_scores_selected.index\n",
    "otu_scores_selected.to_csv('Final/hnascores_otus_tuned_thr_'+str(thr)+'_5seq10_rel_Inland.csv')\n",
    "display(otu_scores_selected.head(10))\n",
    "print('Size list selected OTUs: ' + str(len(selected_otus)))"
   ]
  },
  {
   "cell_type": "code",
   "execution_count": 68,
   "metadata": {},
   "outputs": [
    {
     "name": "stdout",
     "output_type": "stream",
     "text": [
      "R²_cv of HNA-selected OTUs in function of LNA: 0.0431488848177\n"
     ]
    }
   ],
   "source": [
    "print('R²_cv of HNA-selected OTUs in function of LNA: ' + str(r2_otu_scores_lna[r2_otu_scores_hna.argmax()]) )"
   ]
  },
  {
   "cell_type": "code",
   "execution_count": 69,
   "metadata": {},
   "outputs": [
    {
     "data": {
      "image/png": "[encoded data removed]",
      "text/plain": [
       "<matplotlib.figure.Figure at 0x7fbe1c6a7470>"
      ]
     },
     "metadata": {},
     "output_type": "display_data"
    }
   ],
   "source": [
    "plt.figure()\n",
    "sns.regplot(x='abun_rel_mean',y='abun_rel_CV', data=otu_scores_selected)\n",
    "plt.axis([-0.005,0.1,-5,5])\n",
    "plt.xlabel('Avg. Relative Abundance', size=22)\n",
    "plt.xticks(size=10)\n",
    "plt.ylabel('CV(abs)', size=22)\n",
    "plt.yticks(size=10)\n",
    "plt.title('Selected OTUs', size=24)\n",
    "plt.show()"
   ]
  },
  {
   "cell_type": "code",
   "execution_count": 70,
   "metadata": {},
   "outputs": [],
   "source": [
    "#optimal_scores.to_csv('HNA_selectedOTUs_stand_abun_remov' + str(abun)+'_R2'+str(r2_final)+'.csv')"
   ]
  },
  {
   "cell_type": "markdown",
   "metadata": {},
   "source": [
    "**Second goal**: Can we use the same pipeline to predict the _LNA_-counts? "
   ]
  },
  {
   "cell_type": "code",
   "execution_count": 71,
   "metadata": {},
   "outputs": [
    {
     "data": {
      "text/html": [
       "<div>\n",
       "<style scoped>\n",
       "    .dataframe tbody tr th:only-of-type {\n",
       "        vertical-align: middle;\n",
       "    }\n",
       "\n",
       "    .dataframe tbody tr th {\n",
       "        vertical-align: top;\n",
       "    }\n",
       "\n",
       "    .dataframe thead th {\n",
       "        text-align: right;\n",
       "    }\n",
       "</style>\n",
       "<table border=\"1\" class=\"dataframe\">\n",
       "  <thead>\n",
       "    <tr style=\"text-align: right;\">\n",
       "      <th></th>\n",
       "      <th>f_regr</th>\n",
       "      <th>p-value</th>\n",
       "      <th>kendall</th>\n",
       "      <th>p_kendall</th>\n",
       "    </tr>\n",
       "  </thead>\n",
       "  <tbody>\n",
       "    <tr>\n",
       "      <th>Otu000001</th>\n",
       "      <td>0.670285</td>\n",
       "      <td>0.000005</td>\n",
       "      <td>0.019566</td>\n",
       "      <td>0.822181</td>\n",
       "    </tr>\n",
       "    <tr>\n",
       "      <th>Otu000004</th>\n",
       "      <td>1.963934</td>\n",
       "      <td>0.055217</td>\n",
       "      <td>-0.099947</td>\n",
       "      <td>0.250968</td>\n",
       "    </tr>\n",
       "    <tr>\n",
       "      <th>Otu000005</th>\n",
       "      <td>9.962614</td>\n",
       "      <td>0.822062</td>\n",
       "      <td>0.227922</td>\n",
       "      <td>0.008847</td>\n",
       "    </tr>\n",
       "    <tr>\n",
       "      <th>Otu000006</th>\n",
       "      <td>8.523520</td>\n",
       "      <td>0.007910</td>\n",
       "      <td>-0.239556</td>\n",
       "      <td>0.005931</td>\n",
       "    </tr>\n",
       "    <tr>\n",
       "      <th>Otu000007</th>\n",
       "      <td>0.995362</td>\n",
       "      <td>0.004899</td>\n",
       "      <td>0.081967</td>\n",
       "      <td>0.346458</td>\n",
       "    </tr>\n",
       "    <tr>\n",
       "      <th>Otu000009</th>\n",
       "      <td>0.041154</td>\n",
       "      <td>0.575822</td>\n",
       "      <td>0.048123</td>\n",
       "      <td>0.580440</td>\n",
       "    </tr>\n",
       "    <tr>\n",
       "      <th>Otu000010</th>\n",
       "      <td>3.766151</td>\n",
       "      <td>0.046027</td>\n",
       "      <td>0.135907</td>\n",
       "      <td>0.118515</td>\n",
       "    </tr>\n",
       "    <tr>\n",
       "      <th>Otu000011</th>\n",
       "      <td>0.020557</td>\n",
       "      <td>0.001907</td>\n",
       "      <td>0.041777</td>\n",
       "      <td>0.631332</td>\n",
       "    </tr>\n",
       "    <tr>\n",
       "      <th>Otu000012</th>\n",
       "      <td>0.228808</td>\n",
       "      <td>0.041700</td>\n",
       "      <td>-0.016393</td>\n",
       "      <td>0.850644</td>\n",
       "    </tr>\n",
       "    <tr>\n",
       "      <th>Otu000016</th>\n",
       "      <td>8.264419</td>\n",
       "      <td>0.000594</td>\n",
       "      <td>0.146483</td>\n",
       "      <td>0.092468</td>\n",
       "    </tr>\n",
       "  </tbody>\n",
       "</table>\n",
       "</div>"
      ],
      "text/plain": [
       "             f_regr   p-value   kendall  p_kendall\n",
       "Otu000001  0.670285  0.000005  0.019566   0.822181\n",
       "Otu000004  1.963934  0.055217 -0.099947   0.250968\n",
       "Otu000005  9.962614  0.822062  0.227922   0.008847\n",
       "Otu000006  8.523520  0.007910 -0.239556   0.005931\n",
       "Otu000007  0.995362  0.004899  0.081967   0.346458\n",
       "Otu000009  0.041154  0.575822  0.048123   0.580440\n",
       "Otu000010  3.766151  0.046027  0.135907   0.118515\n",
       "Otu000011  0.020557  0.001907  0.041777   0.631332\n",
       "Otu000012  0.228808  0.041700 -0.016393   0.850644\n",
       "Otu000016  8.264419  0.000594  0.146483   0.092468"
      ]
     },
     "metadata": {},
     "output_type": "display_data"
    }
   ],
   "source": [
    "f_regr_lna, f_regr_p_lna = f_regression(data_stand.loc[:,otus],lna)\n",
    "uni_fs_lna = pd.DataFrame(f_regr_lna, index=otus, columns = ['f_regr'])\n",
    "uni_fs_lna['p-value'] = f_regr_p_lna\n",
    "kendall = np.zeros(len(otus))\n",
    "p_kendall = np.zeros(len(otus))\n",
    "for i in np.arange(0,len(otus)):\n",
    "    kendall[i], p_kendall[i] = kendalltau(data_stand.loc[:,otus[i]],lna)\n",
    "uni_fs_lna = pd.DataFrame(f_regr_lna, index=otus, columns = ['f_regr'])\n",
    "uni_fs_lna['p-value'] = f_regr_p\n",
    "uni_fs_lna['kendall'] = kendall\n",
    "uni_fs_lna['p_kendall'] = p_kendall\n",
    "#uni_fs_lna['mi'] = mutual_info_regression(data_stand.loc[:,otus],lna)\n",
    "#uni_fs_lna.sort_values(ascending=False,inplace=True, by='f_regr')\n",
    "display(uni_fs_lna.head(10))"
   ]
  },
  {
   "cell_type": "code",
   "execution_count": 72,
   "metadata": {},
   "outputs": [
    {
     "name": "stdout",
     "output_type": "stream",
     "text": [
      "Number of selected OTUs using kendall tau with p < 0.05: 222\n",
      "Number of selected OTUs using kendall tau with p < 0.01: 140\n"
     ]
    }
   ],
   "source": [
    "uni_fs_selected_f = uni_fs_lna[uni_fs_lna.loc[:,'p_kendall'].values < 0.05]\n",
    "print('Number of selected OTUs using kendall tau with p < 0.05: ' + str(len(uni_fs_selected_f)))\n",
    "uni_fs_selected_f = uni_fs_lna[uni_fs_lna.loc[:,'p_kendall'].values < 0.01]\n",
    "print('Number of selected OTUs using kendall tau with p < 0.01: ' + str(len(uni_fs_selected_f)))"
   ]
  },
  {
   "cell_type": "code",
   "execution_count": 73,
   "metadata": {},
   "outputs": [],
   "source": [
    "thr_otu_kendall_lna, r2_otu_kendall_lna = get_r2_scores(data_stand.loc[:,otus], lna, otus, np.absolute(uni_fs_lna['kendall']), cv)\n",
    "thr_otu_kendall_hna, r2_otu_kendall_hna = get_r2_scores(data_stand.loc[:,otus], hna, otus, np.absolute(uni_fs_lna['kendall']), cv)"
   ]
  },
  {
   "cell_type": "code",
   "execution_count": 74,
   "metadata": {},
   "outputs": [
    {
     "data": {
      "image/png": "[encoded data removed]",
      "text/plain": [
       "<matplotlib.figure.Figure at 0x7fbe1c5b92e8>"
      ]
     },
     "metadata": {},
     "output_type": "display_data"
    }
   ],
   "source": [
    "plt.figure()\n",
    "sns.regplot(x=thr_otu_kendall_hna,y=r2_otu_kendall_hna, fit_reg=False, label='HNA')\n",
    "sns.regplot(x=thr_otu_kendall_lna,y=r2_otu_kendall_lna, fit_reg=False, label='LNA')\n",
    "plt.xlabel('Kendall tau', size=22)\n",
    "plt.xticks(size=10)\n",
    "plt.ylabel(r'$R^2$', size=22)\n",
    "plt.yticks(size=10)\n",
    "#plt.title('Spearman correlation', size=24)\n",
    "plt.legend()\n",
    "plt.show()"
   ]
  },
  {
   "cell_type": "code",
   "execution_count": 75,
   "metadata": {},
   "outputs": [
    {
     "name": "stderr",
     "output_type": "stream",
     "text": [
      "/home/prubbens/miniconda3/lib/python3.6/site-packages/sklearn/utils/deprecation.py:58: DeprecationWarning: Class RandomizedLasso is deprecated; The class RandomizedLasso is deprecated in 0.19 and will be removed in 0.21.\n",
      "  warnings.warn(msg, category=DeprecationWarning)\n"
     ]
    }
   ],
   "source": [
    "alpha = get_lassoCV_alpha(data_stand.loc[:,otus],lna,otus,cv)\n",
    "otu_scores_lna = pd.DataFrame(perform_randomizedLasso(data_stand.loc[:,otus], lna, alpha), index=otus, columns=['score'])\n",
    "otu_scores_lna.sort_values(ascending=False, inplace=True, by='score')\n",
    "\n",
    "thr_otu_scores_lna, r2_otu_scores_lna = get_r2_scores(data_stand.loc[:,otus], lna, otus, otu_scores_lna, cv)\n",
    "thr_otu_scores_hna, r2_otu_scores_hna = get_r2_scores(data_stand.loc[:,otus], hna, otus, otu_scores_lna, cv)"
   ]
  },
  {
   "cell_type": "code",
   "execution_count": 76,
   "metadata": {},
   "outputs": [
    {
     "data": {
      "image/png": "[encoded data removed]",
      "text/plain": [
       "<matplotlib.figure.Figure at 0x7fbe1c5e59e8>"
      ]
     },
     "metadata": {},
     "output_type": "display_data"
    }
   ],
   "source": [
    "plt.figure()\n",
    "sns.regplot(x=thr_otu_scores_hna,y=r2_otu_scores_hna, fit_reg=False, label='HNA')\n",
    "sns.regplot(x=thr_otu_scores_lna,y=r2_otu_scores_lna, fit_reg=False, label='LNA')\n",
    "plt.axis([-0.005,1.005,0,1])\n",
    "plt.xlabel('Score', size=22)\n",
    "plt.xticks(size=10)\n",
    "plt.ylabel(r'$R^2$', size=22)\n",
    "plt.yticks(size=10)\n",
    "plt.legend()\n",
    "plt.title('Stability Selection LNA', size=24)\n",
    "plt.show()"
   ]
  },
  {
   "cell_type": "code",
   "execution_count": 77,
   "metadata": {},
   "outputs": [
    {
     "name": "stdout",
     "output_type": "stream",
     "text": [
      "R²_cv(lna): 0.870565680436\n",
      "Threshold score: 0.24\n"
     ]
    }
   ],
   "source": [
    "r2_final = r2_otu_scores_lna.max()\n",
    "thr_lna = thr_otu_scores_lna[r2_otu_scores_lna.argmax()]\n",
    "print('R²_cv(lna): ' + str(r2_final) )\n",
    "print('Threshold score: ' + str(thr_lna))"
   ]
  },
  {
   "cell_type": "code",
   "execution_count": 78,
   "metadata": {},
   "outputs": [],
   "source": [
    "otu_scores_lna = otu_scores_lna.assign(abun_abs_mean = data_abs.loc[:,otus].mean())\n",
    "otu_scores_lna = otu_scores_lna.assign(abun_abs_CV = data_abs.loc[:,otus].std()/data_abs.loc[:,otus].mean())\n",
    "otu_scores_lna =  otu_scores_lna.assign(abun_rel_mean = data_rel.loc[:,otus].mean())\n",
    "otu_scores_lna = otu_scores_lna.assign(abun_rel_CV = data_rel.loc[:,otus].std()/data_rel.loc[:,otus].mean())\n",
    "otu_scores_lna['kendall'] = uni_fs_lna.loc[otu_scores.index,'kendall']\n",
    "otu_scores_lna['p_kendall'] = uni_fs_lna.loc[otu_scores.index,'p_kendall']\n",
    "otu_scores_lna.to_csv('Final/lnascores_otus_5seq10_rel_Inland.csv')"
   ]
  },
  {
   "cell_type": "code",
   "execution_count": 79,
   "metadata": {},
   "outputs": [
    {
     "name": "stdout",
     "output_type": "stream",
     "text": [
      "Size list selected OTUs: 43\n"
     ]
    },
    {
     "data": {
      "text/html": [
       "<div>\n",
       "<style scoped>\n",
       "    .dataframe tbody tr th:only-of-type {\n",
       "        vertical-align: middle;\n",
       "    }\n",
       "\n",
       "    .dataframe tbody tr th {\n",
       "        vertical-align: top;\n",
       "    }\n",
       "\n",
       "    .dataframe thead th {\n",
       "        text-align: right;\n",
       "    }\n",
       "</style>\n",
       "<table border=\"1\" class=\"dataframe\">\n",
       "  <thead>\n",
       "    <tr style=\"text-align: right;\">\n",
       "      <th></th>\n",
       "      <th>score</th>\n",
       "      <th>abun_abs_mean</th>\n",
       "      <th>abun_abs_CV</th>\n",
       "      <th>abun_rel_mean</th>\n",
       "      <th>abun_rel_CV</th>\n",
       "      <th>kendall</th>\n",
       "      <th>p_kendall</th>\n",
       "    </tr>\n",
       "  </thead>\n",
       "  <tbody>\n",
       "    <tr>\n",
       "      <th>Otu001533</th>\n",
       "      <td>0.542</td>\n",
       "      <td>719.726980</td>\n",
       "      <td>2.923818</td>\n",
       "      <td>0.000275</td>\n",
       "      <td>3.725514</td>\n",
       "      <td>-0.257536</td>\n",
       "      <td>0.003096</td>\n",
       "    </tr>\n",
       "    <tr>\n",
       "      <th>Otu000555</th>\n",
       "      <td>0.530</td>\n",
       "      <td>650.888140</td>\n",
       "      <td>2.848690</td>\n",
       "      <td>0.000075</td>\n",
       "      <td>2.813272</td>\n",
       "      <td>0.220518</td>\n",
       "      <td>0.011313</td>\n",
       "    </tr>\n",
       "    <tr>\n",
       "      <th>Otu001086</th>\n",
       "      <td>0.488</td>\n",
       "      <td>800.699525</td>\n",
       "      <td>3.498429</td>\n",
       "      <td>0.000093</td>\n",
       "      <td>3.394353</td>\n",
       "      <td>0.130619</td>\n",
       "      <td>0.133537</td>\n",
       "    </tr>\n",
       "    <tr>\n",
       "      <th>Otu000282</th>\n",
       "      <td>0.450</td>\n",
       "      <td>4480.692271</td>\n",
       "      <td>5.301315</td>\n",
       "      <td>0.000562</td>\n",
       "      <td>5.229088</td>\n",
       "      <td>-0.054469</td>\n",
       "      <td>0.531557</td>\n",
       "    </tr>\n",
       "    <tr>\n",
       "      <th>Otu000315</th>\n",
       "      <td>0.430</td>\n",
       "      <td>4591.796119</td>\n",
       "      <td>2.724251</td>\n",
       "      <td>0.000828</td>\n",
       "      <td>2.891644</td>\n",
       "      <td>-0.056584</td>\n",
       "      <td>0.515740</td>\n",
       "    </tr>\n",
       "    <tr>\n",
       "      <th>Otu001643</th>\n",
       "      <td>0.426</td>\n",
       "      <td>1066.553524</td>\n",
       "      <td>3.782039</td>\n",
       "      <td>0.000178</td>\n",
       "      <td>4.125397</td>\n",
       "      <td>0.051296</td>\n",
       "      <td>0.555737</td>\n",
       "    </tr>\n",
       "    <tr>\n",
       "      <th>Otu000073</th>\n",
       "      <td>0.424</td>\n",
       "      <td>28554.444490</td>\n",
       "      <td>1.213223</td>\n",
       "      <td>0.004735</td>\n",
       "      <td>0.957877</td>\n",
       "      <td>-0.120042</td>\n",
       "      <td>0.167951</td>\n",
       "    </tr>\n",
       "    <tr>\n",
       "      <th>Otu000044</th>\n",
       "      <td>0.412</td>\n",
       "      <td>9854.258149</td>\n",
       "      <td>1.166410</td>\n",
       "      <td>0.001801</td>\n",
       "      <td>1.305204</td>\n",
       "      <td>-0.090428</td>\n",
       "      <td>0.298959</td>\n",
       "    </tr>\n",
       "    <tr>\n",
       "      <th>Otu000093</th>\n",
       "      <td>0.410</td>\n",
       "      <td>14037.264914</td>\n",
       "      <td>3.038395</td>\n",
       "      <td>0.005353</td>\n",
       "      <td>3.884363</td>\n",
       "      <td>-0.191962</td>\n",
       "      <td>0.027462</td>\n",
       "    </tr>\n",
       "    <tr>\n",
       "      <th>Otu001118</th>\n",
       "      <td>0.406</td>\n",
       "      <td>423.113104</td>\n",
       "      <td>2.177672</td>\n",
       "      <td>0.000079</td>\n",
       "      <td>2.155753</td>\n",
       "      <td>-0.220518</td>\n",
       "      <td>0.011313</td>\n",
       "    </tr>\n",
       "  </tbody>\n",
       "</table>\n",
       "</div>"
      ],
      "text/plain": [
       "           score  abun_abs_mean  abun_abs_CV  abun_rel_mean  abun_rel_CV  \\\n",
       "Otu001533  0.542     719.726980     2.923818       0.000275     3.725514   \n",
       "Otu000555  0.530     650.888140     2.848690       0.000075     2.813272   \n",
       "Otu001086  0.488     800.699525     3.498429       0.000093     3.394353   \n",
       "Otu000282  0.450    4480.692271     5.301315       0.000562     5.229088   \n",
       "Otu000315  0.430    4591.796119     2.724251       0.000828     2.891644   \n",
       "Otu001643  0.426    1066.553524     3.782039       0.000178     4.125397   \n",
       "Otu000073  0.424   28554.444490     1.213223       0.004735     0.957877   \n",
       "Otu000044  0.412    9854.258149     1.166410       0.001801     1.305204   \n",
       "Otu000093  0.410   14037.264914     3.038395       0.005353     3.884363   \n",
       "Otu001118  0.406     423.113104     2.177672       0.000079     2.155753   \n",
       "\n",
       "            kendall  p_kendall  \n",
       "Otu001533 -0.257536   0.003096  \n",
       "Otu000555  0.220518   0.011313  \n",
       "Otu001086  0.130619   0.133537  \n",
       "Otu000282 -0.054469   0.531557  \n",
       "Otu000315 -0.056584   0.515740  \n",
       "Otu001643  0.051296   0.555737  \n",
       "Otu000073 -0.120042   0.167951  \n",
       "Otu000044 -0.090428   0.298959  \n",
       "Otu000093 -0.191962   0.027462  \n",
       "Otu001118 -0.220518   0.011313  "
      ]
     },
     "metadata": {},
     "output_type": "display_data"
    }
   ],
   "source": [
    "otu_scores_selected_lna = otu_scores_lna[otu_scores_lna.score.values>thr_lna]\n",
    "selected_otus_lna = otu_scores_selected_lna.index\n",
    "print('Size list selected OTUs: ' + str(len(selected_otus_lna)))\n",
    "otu_scores_selected_lna.to_csv('Final/lnascores_otus_tuned_thr_'+str(thr_lna)+'_5seq10_rel_Inland.csv')\n",
    "display(otu_scores_selected_lna.head(10))"
   ]
  },
  {
   "cell_type": "code",
   "execution_count": 80,
   "metadata": {},
   "outputs": [
    {
     "name": "stdout",
     "output_type": "stream",
     "text": [
      "R²_cv of LNA-selected OTUs in function of HNA: 0.10998437347\n"
     ]
    }
   ],
   "source": [
    "print('R²_cv of LNA-selected OTUs in function of HNA: ' + str(r2_otu_scores_hna[r2_otu_scores_lna.argmax()]) )"
   ]
  },
  {
   "cell_type": "code",
   "execution_count": 81,
   "metadata": {},
   "outputs": [
    {
     "data": {
      "image/png": "[encoded data removed]",
      "text/plain": [
       "<matplotlib.figure.Figure at 0x7fbe1c6250f0>"
      ]
     },
     "metadata": {},
     "output_type": "display_data"
    }
   ],
   "source": [
    "plt.figure()\n",
    "sns.regplot(x='abun_abs_mean',y='abun_abs_CV', data=otu_scores_selected_lna)\n",
    "plt.axis([0,400000,-5,5])\n",
    "plt.xlabel('mean(abs)', size=22)\n",
    "plt.xticks(size=10)\n",
    "plt.ylabel('CV(abs)', size=22)\n",
    "plt.yticks(size=10)\n",
    "plt.show()"
   ]
  },
  {
   "cell_type": "markdown",
   "metadata": {},
   "source": [
    "Let's compare the HNA- and LNA-lists, which OTU's are shared (_common_) and which are only part of the HNA- or LNA subset?: "
   ]
  },
  {
   "cell_type": "code",
   "execution_count": 82,
   "metadata": {},
   "outputs": [
    {
     "name": "stdout",
     "output_type": "stream",
     "text": [
      "Size subset OTUs only related to HNA: 41; opposed to total size: 52\n",
      "Size subset OTUs only related to LNA: 32; opposed to total size: 43\n",
      "Size subset OTUs related to both: 11\n"
     ]
    },
    {
     "data": {
      "text/html": [
       "<div>\n",
       "<style scoped>\n",
       "    .dataframe tbody tr th:only-of-type {\n",
       "        vertical-align: middle;\n",
       "    }\n",
       "\n",
       "    .dataframe tbody tr th {\n",
       "        vertical-align: top;\n",
       "    }\n",
       "\n",
       "    .dataframe thead th {\n",
       "        text-align: right;\n",
       "    }\n",
       "</style>\n",
       "<table border=\"1\" class=\"dataframe\">\n",
       "  <thead>\n",
       "    <tr style=\"text-align: right;\">\n",
       "      <th></th>\n",
       "      <th>score</th>\n",
       "      <th>abun_abs_mean</th>\n",
       "      <th>abun_abs_CV</th>\n",
       "      <th>abun_rel_mean</th>\n",
       "      <th>abun_rel_CV</th>\n",
       "      <th>kendall</th>\n",
       "      <th>p_kendall</th>\n",
       "    </tr>\n",
       "  </thead>\n",
       "  <tbody>\n",
       "    <tr>\n",
       "      <th>Otu000369</th>\n",
       "      <td>0.378</td>\n",
       "      <td>3351.829403</td>\n",
       "      <td>2.025124</td>\n",
       "      <td>0.000692</td>\n",
       "      <td>1.912484</td>\n",
       "      <td>-0.281861</td>\n",
       "      <td>0.001206</td>\n",
       "    </tr>\n",
       "    <tr>\n",
       "      <th>Otu000346</th>\n",
       "      <td>0.360</td>\n",
       "      <td>2008.754634</td>\n",
       "      <td>2.245665</td>\n",
       "      <td>0.000421</td>\n",
       "      <td>2.056438</td>\n",
       "      <td>-0.369646</td>\n",
       "      <td>0.000022</td>\n",
       "    </tr>\n",
       "    <tr>\n",
       "      <th>Otu001533</th>\n",
       "      <td>0.542</td>\n",
       "      <td>719.726980</td>\n",
       "      <td>2.923818</td>\n",
       "      <td>0.000275</td>\n",
       "      <td>3.725514</td>\n",
       "      <td>-0.257536</td>\n",
       "      <td>0.003096</td>\n",
       "    </tr>\n",
       "    <tr>\n",
       "      <th>Otu000044</th>\n",
       "      <td>0.412</td>\n",
       "      <td>9854.258149</td>\n",
       "      <td>1.166410</td>\n",
       "      <td>0.001801</td>\n",
       "      <td>1.305204</td>\n",
       "      <td>-0.090428</td>\n",
       "      <td>0.298959</td>\n",
       "    </tr>\n",
       "    <tr>\n",
       "      <th>Otu001087</th>\n",
       "      <td>0.386</td>\n",
       "      <td>1300.119159</td>\n",
       "      <td>1.894410</td>\n",
       "      <td>0.000311</td>\n",
       "      <td>2.270910</td>\n",
       "      <td>-0.198308</td>\n",
       "      <td>0.022740</td>\n",
       "    </tr>\n",
       "    <tr>\n",
       "      <th>Otu000282</th>\n",
       "      <td>0.450</td>\n",
       "      <td>4480.692271</td>\n",
       "      <td>5.301315</td>\n",
       "      <td>0.000562</td>\n",
       "      <td>5.229088</td>\n",
       "      <td>-0.054469</td>\n",
       "      <td>0.531557</td>\n",
       "    </tr>\n",
       "    <tr>\n",
       "      <th>Otu000029</th>\n",
       "      <td>0.338</td>\n",
       "      <td>78561.003301</td>\n",
       "      <td>1.169139</td>\n",
       "      <td>0.010721</td>\n",
       "      <td>1.095085</td>\n",
       "      <td>0.413009</td>\n",
       "      <td>0.000002</td>\n",
       "    </tr>\n",
       "    <tr>\n",
       "      <th>Otu000619</th>\n",
       "      <td>0.274</td>\n",
       "      <td>9186.996115</td>\n",
       "      <td>4.003710</td>\n",
       "      <td>0.001158</td>\n",
       "      <td>4.036332</td>\n",
       "      <td>0.090428</td>\n",
       "      <td>0.298959</td>\n",
       "    </tr>\n",
       "    <tr>\n",
       "      <th>Otu000745</th>\n",
       "      <td>0.366</td>\n",
       "      <td>1402.842764</td>\n",
       "      <td>4.484654</td>\n",
       "      <td>0.000294</td>\n",
       "      <td>4.327806</td>\n",
       "      <td>-0.330513</td>\n",
       "      <td>0.000147</td>\n",
       "    </tr>\n",
       "    <tr>\n",
       "      <th>Otu000680</th>\n",
       "      <td>0.242</td>\n",
       "      <td>948.058193</td>\n",
       "      <td>2.555687</td>\n",
       "      <td>0.000262</td>\n",
       "      <td>3.011773</td>\n",
       "      <td>-0.256478</td>\n",
       "      <td>0.003220</td>\n",
       "    </tr>\n",
       "    <tr>\n",
       "      <th>Otu000120</th>\n",
       "      <td>0.398</td>\n",
       "      <td>2744.639794</td>\n",
       "      <td>3.280728</td>\n",
       "      <td>0.000687</td>\n",
       "      <td>3.321649</td>\n",
       "      <td>-0.363300</td>\n",
       "      <td>0.000030</td>\n",
       "    </tr>\n",
       "  </tbody>\n",
       "</table>\n",
       "</div>"
      ],
      "text/plain": [
       "           score  abun_abs_mean  abun_abs_CV  abun_rel_mean  abun_rel_CV  \\\n",
       "Otu000369  0.378    3351.829403     2.025124       0.000692     1.912484   \n",
       "Otu000346  0.360    2008.754634     2.245665       0.000421     2.056438   \n",
       "Otu001533  0.542     719.726980     2.923818       0.000275     3.725514   \n",
       "Otu000044  0.412    9854.258149     1.166410       0.001801     1.305204   \n",
       "Otu001087  0.386    1300.119159     1.894410       0.000311     2.270910   \n",
       "Otu000282  0.450    4480.692271     5.301315       0.000562     5.229088   \n",
       "Otu000029  0.338   78561.003301     1.169139       0.010721     1.095085   \n",
       "Otu000619  0.274    9186.996115     4.003710       0.001158     4.036332   \n",
       "Otu000745  0.366    1402.842764     4.484654       0.000294     4.327806   \n",
       "Otu000680  0.242     948.058193     2.555687       0.000262     3.011773   \n",
       "Otu000120  0.398    2744.639794     3.280728       0.000687     3.321649   \n",
       "\n",
       "            kendall  p_kendall  \n",
       "Otu000369 -0.281861   0.001206  \n",
       "Otu000346 -0.369646   0.000022  \n",
       "Otu001533 -0.257536   0.003096  \n",
       "Otu000044 -0.090428   0.298959  \n",
       "Otu001087 -0.198308   0.022740  \n",
       "Otu000282 -0.054469   0.531557  \n",
       "Otu000029  0.413009   0.000002  \n",
       "Otu000619  0.090428   0.298959  \n",
       "Otu000745 -0.330513   0.000147  \n",
       "Otu000680 -0.256478   0.003220  \n",
       "Otu000120 -0.363300   0.000030  "
      ]
     },
     "metadata": {},
     "output_type": "display_data"
    }
   ],
   "source": [
    "idx_hna = otu_scores_selected.index.difference(otu_scores_selected_lna.index)\n",
    "idx_lna = otu_scores_selected_lna.index.difference(otu_scores_selected.index)\n",
    "idx_common = otu_scores_selected.drop(idx_hna).index\n",
    "pd.Series(idx_common).to_csv('commonOTU_HNALNA_rel.csv')\n",
    "print('Size subset OTUs only related to HNA: ' + str(len(idx_hna)) + '; opposed to total size: ' + str(len(otu_scores_selected)))\n",
    "print('Size subset OTUs only related to LNA: ' + str(len(idx_lna)) + '; opposed to total size: ' + str(len(otu_scores_selected_lna)))\n",
    "print('Size subset OTUs related to both: ' + str(len(idx_common)))\n",
    "\n",
    "display(otu_scores_selected_lna.loc[idx_common,:])\n",
    "#data_abs_raw = pd.read_csv('data/Chloroplasts_removed/nochloro_absolute_otu.tsv', sep=' ', index_col=None, header=0)\n",
    "#data_abs_raw = data_abs_raw.loc[index,:]\n",
    "#display(data_abs_raw.loc[:,idx_hna].sum(axis=1).values/hna.values)"
   ]
  },
  {
   "cell_type": "code",
   "execution_count": 83,
   "metadata": {},
   "outputs": [
    {
     "data": {
      "image/png": "[encoded data removed]",
      "text/plain": [
       "<matplotlib.figure.Figure at 0x7fbe1c7991d0>"
      ]
     },
     "metadata": {},
     "output_type": "display_data"
    }
   ],
   "source": [
    "plt.figure()\n",
    "sns.regplot(x=otu_scores.loc[:,'score'],y=otu_scores_lna.loc[otu_scores.index,'score'])\n",
    "plt.axis([-0.005,1.005,-0.005,1.005])\n",
    "plt.xlabel('score(HNA)', size=22)\n",
    "plt.xticks(size=10)\n",
    "plt.ylabel('score(LNA)', size=22)\n",
    "plt.yticks(size=10)\n",
    "plt.axhline(y=thr, linewidth=2, linestyle='--', color = 'k')\n",
    "plt.axvline(x=thr_lna, linewidth=2, linestyle='--', color = 'k')\n",
    "plt.show()"
   ]
  },
  {
   "cell_type": "markdown",
   "metadata": {},
   "source": [
    "This figure shows 4 area's: \n",
    "- (left top corner): OTU's selected solely in function of **LNA**-dynamics, \n",
    "- (right top corner): OTU's selected in function of both **HNA**- and **LNA**-dynamics, \n",
    "- (left bottom corner): OTU's that are _not_ selected, \n",
    "- (right bottom corner): OTU's selected solely in function of **HNA**-dynamics. "
   ]
  },
  {
   "cell_type": "markdown",
   "metadata": {},
   "source": [
    "Univariate vs. Stability selection"
   ]
  },
  {
   "cell_type": "code",
   "execution_count": 84,
   "metadata": {},
   "outputs": [
    {
     "data": {
      "image/png": "[encoded data removed]",
      "text/plain": [
       "<matplotlib.figure.Figure at 0x7fbe1e92b4e0>"
      ]
     },
     "metadata": {},
     "output_type": "display_data"
    }
   ],
   "source": [
    "plt.figure()\n",
    "sns.regplot(x=otu_scores.loc[:,'score'],y=uni_fs.loc[otu_scores.index,'kendall'])\n",
    "plt.xlabel('score(HNA)', size=22)\n",
    "plt.xticks(size=10)\n",
    "plt.ylabel('Kendall tau', size=22)\n",
    "plt.yticks(size=10)\n",
    "#plt.yscale('log')\n",
    "plt.axhline(y=0.05, linewidth=2, linestyle='--', color = 'k')\n",
    "plt.axvline(x=thr, linewidth=2, linestyle='--', color = 'k')\n",
    "#plt.axis([-0.005,1.005,0.0000000000000000000001, 1])\n",
    "plt.show()"
   ]
  },
  {
   "cell_type": "code",
   "execution_count": 85,
   "metadata": {},
   "outputs": [
    {
     "data": {
      "image/png": "[encoded data removed]",
      "text/plain": [
       "<matplotlib.figure.Figure at 0x7fbe1c7a09b0>"
      ]
     },
     "metadata": {},
     "output_type": "display_data"
    }
   ],
   "source": [
    "plt.figure()\n",
    "sns.regplot(x=otu_scores_lna.loc[:,'score'],y=uni_fs_lna.loc[otu_scores.index,'kendall'])\n",
    "plt.xlabel('score(LNA)', size=22)\n",
    "plt.xticks(size=10)\n",
    "plt.ylabel('Kendall tau', size=22)\n",
    "plt.yticks(size=10)\n",
    "#plt.yscale('log')\n",
    "plt.axhline(y=0.05, linewidth=2, linestyle='--', color = 'k')\n",
    "plt.axvline(x=thr_lna, linewidth=2, linestyle='--', color = 'k')\n",
    "#plt.axis([-0.005,1.005,0.0000000000000000000001, 1])\n",
    "plt.show()"
   ]
  },
  {
   "cell_type": "markdown",
   "metadata": {},
   "source": [
    "This analysis shows that the HNA/LNA dynamics cannot solely be attributed to OTU's that are present in the respective cloud; this is also clear from the mutual correlation between HNA- and LNA-counts ( $\\rho(\\text{HNA,LNA}) = 0.75$ ). \n",
    "\n",
    "I see two reasons for this: \n",
    "- Some OTU's are simply present in the two clouds; \n",
    "- Some HNA-OTU's interact with LNA-OTU's and vice versa. "
   ]
  }
 ],
 "metadata": {
  "anaconda-cloud": {},
  "kernelspec": {
   "display_name": "Python 3",
   "language": "python",
   "name": "python3"
  },
  "language_info": {
   "codemirror_mode": {
    "name": "ipython",
    "version": 3
   },
   "file_extension": ".py",
   "mimetype": "text/x-python",
   "name": "python",
   "nbconvert_exporter": "python",
   "pygments_lexer": "ipython3",
   "version": "3.6.3"
  }
 },
 "nbformat": 4,
 "nbformat_minor": 1
}
